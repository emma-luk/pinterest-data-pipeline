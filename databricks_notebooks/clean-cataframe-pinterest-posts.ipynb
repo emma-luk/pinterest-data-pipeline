{
 "cells": [
  {
   "cell_type": "code",
   "execution_count": null,
   "metadata": {
    "application/vnd.databricks.v1+cell": {
     "cellMetadata": {
      "byteLimit": 2048000,
      "rowLimit": 10000
     },
     "inputWidgets": {},
     "nuid": "9b08ec3f-0826-4dc2-8499-c453008e0c28",
     "showTitle": false,
     "title": ""
    }
   },
   "outputs": [
    {
     "data": {
      "text/html": [
       "<style scoped>\n",
       "  .ansiout {\n",
       "    display: block;\n",
       "    unicode-bidi: embed;\n",
       "    white-space: pre-wrap;\n",
       "    word-wrap: break-word;\n",
       "    word-break: break-all;\n",
       "    font-family: \"Menlo\", \"Monaco\", \"Consolas\", \"Ubuntu Mono\", \"Source Code Pro\", monospace;\n",
       "    font-size: 13px;\n",
       "    color: #555;\n",
       "    margin-left: 4px;\n",
       "    line-height: 19px;\n",
       "  }\n",
       "</style>\n",
       "<div class=\"ansiout\"></div>"
      ]
     },
     "metadata": {
      "application/vnd.databricks.v1+output": {
       "addedWidgets": {},
       "arguments": {},
       "data": "<div class=\"ansiout\"></div>",
       "datasetInfos": [],
       "metadata": {},
       "removedWidgets": [],
       "type": "html"
      }
     },
     "output_type": "display_data"
    }
   ],
   "source": [
    "from pyspark.sql import SparkSession\n",
    "from pyspark.sql.functions import col, regexp_extract, when\n",
    "from pyspark.sql.types import IntegerType\n",
    "\n"
   ]
  },
  {
   "cell_type": "code",
   "execution_count": null,
   "metadata": {
    "application/vnd.databricks.v1+cell": {
     "cellMetadata": {
      "byteLimit": 2048000,
      "rowLimit": 10000
     },
     "inputWidgets": {},
     "nuid": "5462341d-290b-4c97-8081-7fdc6fad6997",
     "showTitle": false,
     "title": ""
    }
   },
   "outputs": [
    {
     "data": {
      "text/html": [
       "<style scoped>\n",
       "  .ansiout {\n",
       "    display: block;\n",
       "    unicode-bidi: embed;\n",
       "    white-space: pre-wrap;\n",
       "    word-wrap: break-word;\n",
       "    word-break: break-all;\n",
       "    font-family: \"Menlo\", \"Monaco\", \"Consolas\", \"Ubuntu Mono\", \"Source Code Pro\", monospace;\n",
       "    font-size: 13px;\n",
       "    color: #555;\n",
       "    margin-left: 4px;\n",
       "    line-height: 19px;\n",
       "  }\n",
       "</style>\n",
       "<div class=\"ansiout\"></div>"
      ]
     },
     "metadata": {
      "application/vnd.databricks.v1+output": {
       "addedWidgets": {},
       "arguments": {},
       "data": "<div class=\"ansiout\"></div>",
       "datasetInfos": [],
       "metadata": {},
       "removedWidgets": [],
       "type": "html"
      }
     },
     "output_type": "display_data"
    }
   ],
   "source": [
    "# Define file locations\n",
    "pin_file_location = \"dbfs:/mnt/mount_name/topics/topics/1209b9ad90a5.pin/partition=0/*.json\"\n",
    "geo_file_location = \"dbfs:/mnt/mount_name/topics/topics/1209b9ad90a5.geo/partition=0/*.json\"\n",
    "user_file_location = \"dbfs:/mnt/mount_name/topics/topics/1209b9ad90a5.user/partition=0/*.json\"\n",
    "\n",
    "# Read JSON files into DataFrames\n",
    "df_pin = spark.read.json(pin_file_location)\n",
    "df_geo = spark.read.json(geo_file_location)\n",
    "df_user = spark.read.json(user_file_location)"
   ]
  },
  {
   "cell_type": "markdown",
   "metadata": {
    "application/vnd.databricks.v1+cell": {
     "cellMetadata": {
      "byteLimit": 2048000,
      "rowLimit": 10000
     },
     "inputWidgets": {},
     "nuid": "8587a554-1cee-420f-adaa-d38ec6093b90",
     "showTitle": false,
     "title": ""
    }
   },
   "source": [
    "## Task 1: Clean the DataFrame that contains information about Pinterest posts"
   ]
  },
  {
   "cell_type": "markdown",
   "metadata": {
    "application/vnd.databricks.v1+cell": {
     "cellMetadata": {
      "byteLimit": 2048000,
      "rowLimit": 10000
     },
     "inputWidgets": {},
     "nuid": "6a025fa1-3aab-4d10-9f9c-42f5d42b8f77",
     "showTitle": false,
     "title": ""
    }
   },
   "source": [
    "#### To clean the df_pin DataFrame you should perform the following transformations:\n",
    "\n",
    "- Replace empty entries and entries with no relevant data in each column with Nones\n",
    "- Perform the necessary transformations on the follower_count to ensure every entry is a number. Make sure the data type of this column is an int.\n",
    "- Ensure that each column containing numeric data has a numeric data type\n",
    "- Clean the data in the save_location column to include only the save location path\n",
    "- Rename the index column to ind.\n",
    "- Reorder the DataFrame columns to have the following column order:\n",
    "  - ind\n",
    "  - unique_id\n",
    "  - title\n",
    "  - description\n",
    "  - follower_count\n",
    "  - poster_name\n",
    "  - tag_list\n",
    "  - is_image_or_video\n",
    "  - image_src\n",
    "  - save_location\n",
    "  - category"
   ]
  },
  {
   "cell_type": "code",
   "execution_count": null,
   "metadata": {
    "application/vnd.databricks.v1+cell": {
     "cellMetadata": {
      "byteLimit": 2048000,
      "rowLimit": 10000
     },
     "inputWidgets": {},
     "nuid": "eb479d68-2f82-4e09-b0b2-1e6a90a84596",
     "showTitle": false,
     "title": ""
    }
   },
   "outputs": [
    {
     "data": {
      "text/html": [
       "<style scoped>\n",
       "  .ansiout {\n",
       "    display: block;\n",
       "    unicode-bidi: embed;\n",
       "    white-space: pre-wrap;\n",
       "    word-wrap: break-word;\n",
       "    word-break: break-all;\n",
       "    font-family: \"Menlo\", \"Monaco\", \"Consolas\", \"Ubuntu Mono\", \"Source Code Pro\", monospace;\n",
       "    font-size: 13px;\n",
       "    color: #555;\n",
       "    margin-left: 4px;\n",
       "    line-height: 19px;\n",
       "  }\n",
       "</style>\n",
       "<div class=\"ansiout\">+--------------+--------------------+----------+--------------+--------------------+-----+-----------------+--------------------+--------------------+--------------------+--------------------+--------------------+\n",
       "      category|         description|downloaded|follower_count|           image_src|index|is_image_or_video|         poster_name|       save_location|            tag_list|               title|           unique_id|\n",
       "+--------------+--------------------+----------+--------------+--------------------+-----+-----------------+--------------------+--------------------+--------------------+--------------------+--------------------+\n",
       "        travel|This Costa Rica i...|         1|           10k|https://i.pinimg....|10138|            image|Wanderlust Chloe ...|Local save in /da...|Costa Rica Travel...|14 Amazing Things...|927c4658-cc3f-4b9...|\n",
       "diy-and-crafts|This post may con...|         1|          892k|https://i.pinimg....| 3156|            image|Michelle {CraftyM...|Local save in /da...|Christmas Gifts F...|Handprint Reindee...|fa6e31a4-18c2-4ec...|\n",
       "       finance|Der #Vermögensauf...|         1|            3k|https://i.pinimg....| 5395|            image|DIVDepot – Geld s...|Local save in /da...|Money Saving Chal...|So startest du mi...|71f72304-3708-45f...|\n",
       "       finance|If you love budge...|         1|           26k|https://i.pinimg....| 5494|            image|Living Low Key | ...|Local save in /da...|Financial Peace,F...|Dave Ramsey&#39;s 7 B...|8fb2af68-543b-463...|\n",
       "     christmas|Here are the best...|         1|          500k|https://i.pinimg....| 2418|            image|            HikenDip|Local save in /da...|Farmhouse Christm...|100 DIY Christmas...|da8745a6-5160-46c...|\n",
       "        beauty|[PaidLink] It&#39;s m...|         1|            22|https://i.pinimg....| 1611|            image|    Hair Accessories|Local save in /da...|Natural Beauty Ti...|Over The Years, P...|051e231c-7509-437...|\n",
       "     education|Tired of Google C...|         1|            9k|https://i.pinimg....| 3813|            image|Science of Curiosity|Local save in /da...|Google Classroom,...|Fun Interactive D...|49f7dfe7-2e5a-403...|\n",
       "        quotes|summcoco gives yo...|         1|          306k|https://i.pinimg....| 7922|            image|Sumcoco | Decor I...|Local save in /da...|Life Quotes Love,...|45 Top Life Quote...|a584581c-1b38-473...|\n",
       "     christmas|Connecticut life ...|         1|           84k|https://i.pinimg....| 1643|            image|      Lauren McBride|Local save in /da...|Christmas Dining ...|White and Gold Ch...|41be1bcd-1ead-476...|\n",
       "       finance|Buying your first...|         1|           223|https://i.pinimg....| 5091|            image|Edwin | Cash The ...|Local save in /da...|Paying Off Car Lo...|Buying Your First...|43459535-64e9-48a...|\n",
       "        travel|Are you traveling...|         1|            3k|https://i.pinimg....| 9979|            image|     Petite in Paris|Local save in /da...|Torre Eiffel Pari...|Paris in the Summ...|2b2abc85-fc51-481...|\n",
       "diy-and-crafts|This ghost craft ...|         1|           56k|https://i.pinimg....| 3032|            video|       Thriving Home|Local save in /da...|Halloween Arts An...|   Puffy Ghost Craft|208b07bc-e042-4e8...|\n",
       "  mens-fashion|It&#39;s safe to assu...|         1|          383k|https://i.pinimg....| 6809|            image|        Suburban Men|Local save in /da...|Business Casual D...|It&#39;s Time to Ditc...|f8ca698f-abfc-4b6...|\n",
       "     education|Amazon is a teach...|         1|           41k|https://i.pinimg....| 3644|            image|Teach Create Moti...|Local save in /da...|Classroom Hacks,5...|More Amazon Must ...|cde2b4e2-7711-4a8...|\n",
       "    home-decor|Believe it or not...|         1|           31k|https://i.pinimg....| 6575|            image| Maria Louise Design|Local save in /da...|Farmhouse Remodel...|Affordable Farmho...|15c45907-657e-439...|\n",
       "    home-decor|Holiday mantle de...|         1|           83k|https://i.pinimg....| 6145|            image|     Stylin by Aylin|Local save in /da...|Winter Home Decor...|HOLIDAY MANTLE DE...|82e13a07-db99-43a...|\n",
       "    home-decor|Holiday mantle de...|         1|           83k|https://i.pinimg....| 6145|            image|     Stylin by Aylin|Local save in /da...|Winter Home Decor...|HOLIDAY MANTLE DE...|82e13a07-db99-43a...|\n",
       "           art|Mexican artist En...|         1|            2M|https://i.pinimg....|    4|            image|         Bored Panda|Local save in /da...|Girl Drawing Sket...|Mexican Artist Us...|55abcd28-bda1-445...|\n",
       "     education|Podcasts for Teac...|         1|           25k|https://i.pinimg....| 4315|            image|        Math Giraffe|Local save in /da...|Middle School Cla...|Podcasts for Teac...|21b59ba9-829d-4c3...|\n",
       "event-planning|Sacramento Califo...|         1|            6M|https://i.pinimg....| 5069|            image|     Style Me Pretty|Local save in /da...|60th Anniversary ...|The Vault: Curate...|b75b6f87-deb3-444...|\n",
       "+--------------+--------------------+----------+--------------+--------------------+-----+-----------------+--------------------+--------------------+--------------------+--------------------+--------------------+\n",
       "only showing top 20 rows\n",
       "\n",
       "+--------------------+-----+--------+---------+-------------------+\n",
       "             country|  ind|latitude|longitude|          timestamp|\n",
       "+--------------------+-----+--------+---------+-------------------+\n",
       "Antarctica (the t...| 2418|-88.4642| -171.061|2022-05-27 11:30:59|\n",
       "Bouvet Island (Bo...| 9270|-84.3984| -144.933|2022-05-23 03:24:24|\n",
       "Cocos (Keeling) I...|10794|-89.5236| -154.567|2022-01-01 02:26:50|\n",
       "British Virgin Is...| 5395|-6.93422| -24.9989|2020-08-15 19:30:19|\n",
       "Central African R...| 2074|-52.3213|   -50.11|2019-11-03 05:41:59|\n",
       "Libyan Arab Jamah...| 1170| 56.1198|  20.2963|2019-08-07 22:17:07|\n",
       "British Virgin Is...| 9550| -84.918|  7.23235|2022-03-23 00:25:45|\n",
       " Antigua and Barbuda| 7922|-88.0974| -172.052|2021-01-27 09:14:19|\n",
       "  Dominican Republic| 9979| 14.9967| -120.682|2018-07-18 19:01:46|\n",
       "  Dominican Republic| 6575| 81.7192|  61.5152|2020-12-29 22:59:37|\n",
       "      American Samoa| 3032|-66.7253| -122.489|2018-04-14 09:28:18|\n",
       "      American Samoa|  637|-41.2244| -158.022|2018-06-06 01:25:58|\n",
       "        Burkina Faso|10321|-89.1005| -151.255|2022-10-09 08:06:50|\n",
       "       Cote d&#39;Ivoire| 2923|-84.6302| -164.507|2019-09-08 22:53:09|\n",
       "       French Guiana| 8304|-28.8852|  -164.87|2019-09-13 04:50:29|\n",
       "       Cote d&#39;Ivoire| 4315|-45.8508|  66.1003|2019-12-15 03:51:28|\n",
       "         Afghanistan| 4249|-88.5478| -174.971|2021-09-01 11:10:02|\n",
       "          Bangladesh| 6809|-89.4254| -161.818|2020-04-17 13:20:43|\n",
       "          Azerbaijan| 5069|-63.0063| -157.474|2021-03-20 09:32:44|\n",
       "          Mozambique| 6145|-65.9079| -143.845|2019-12-05 02:09:44|\n",
       "+--------------------+-----+--------+---------+-------------------+\n",
       "only showing top 20 rows\n",
       "\n",
       "+---+-------------------+----------+-----+---------+\n",
       "age|        date_joined|first_name|  ind|last_name|\n",
       "+---+-------------------+----------+-----+---------+\n",
       " 20|2015-10-23 04:13:23|Alexandria| 4249| Alvarado|\n",
       " 21|2015-11-10 09:27:42|    Andrea| 8731|Alexander|\n",
       " 21|2015-11-10 09:27:42|    Andrea| 8731|Alexander|\n",
       " 21|2015-11-10 09:27:42|    Andrea| 8731|Alexander|\n",
       " 34|2016-01-23 03:59:37|    Daniel|10137| Matthews|\n",
       " 21|2015-11-10 09:27:42|    Andrea| 8731|Alexander|\n",
       " 24|2016-03-31 20:56:39|    Austin| 8887|Rodriguez|\n",
       " 36|2015-12-20 16:38:13|  Michelle| 4315|   Prince|\n",
       " 32|2017-10-10 20:09:33| Christian|10625|     Lang|\n",
       " 36|2015-12-20 16:38:13|  Michelle| 4315|   Prince|\n",
       " 40|2017-06-28 16:17:39|   Michael| 1514|  Perkins|\n",
       " 36|2015-12-20 16:38:13|  Michelle| 4315|   Prince|\n",
       " 32|2017-10-10 20:09:33| Christian|10625|     Lang|\n",
       " 32|2017-10-10 20:09:33| Christian|10625|     Lang|\n",
       " 22|2016-02-11 20:46:04|  Jennifer| 9672|   Hudson|\n",
       " 32|2016-04-02 03:51:23|  Brittany| 1313|    Jones|\n",
       " 32|2016-04-02 03:51:23|  Brittany| 1313|    Jones|\n",
       " 34|2016-12-22 00:02:02|    Thomas|10794|   Turner|\n",
       " 32|2016-04-02 03:51:23|  Brittany| 1313|    Jones|\n",
       " 34|2016-12-22 00:02:02|    Thomas|10794|   Turner|\n",
       "+---+-------------------+----------+-----+---------+\n",
       "only showing top 20 rows\n",
       "\n",
       "</div>"
      ]
     },
     "metadata": {
      "application/vnd.databricks.v1+output": {
       "addedWidgets": {},
       "arguments": {},
       "data": "<div class=\"ansiout\">+--------------+--------------------+----------+--------------+--------------------+-----+-----------------+--------------------+--------------------+--------------------+--------------------+--------------------+\n|      category|         description|downloaded|follower_count|           image_src|index|is_image_or_video|         poster_name|       save_location|            tag_list|               title|           unique_id|\n+--------------+--------------------+----------+--------------+--------------------+-----+-----------------+--------------------+--------------------+--------------------+--------------------+--------------------+\n|        travel|This Costa Rica i...|         1|           10k|https://i.pinimg....|10138|            image|Wanderlust Chloe ...|Local save in /da...|Costa Rica Travel...|14 Amazing Things...|927c4658-cc3f-4b9...|\n|diy-and-crafts|This post may con...|         1|          892k|https://i.pinimg....| 3156|            image|Michelle {CraftyM...|Local save in /da...|Christmas Gifts F...|Handprint Reindee...|fa6e31a4-18c2-4ec...|\n|       finance|Der #Vermögensauf...|         1|            3k|https://i.pinimg....| 5395|            image|DIVDepot – Geld s...|Local save in /da...|Money Saving Chal...|So startest du mi...|71f72304-3708-45f...|\n|       finance|If you love budge...|         1|           26k|https://i.pinimg....| 5494|            image|Living Low Key | ...|Local save in /da...|Financial Peace,F...|Dave Ramsey&#39;s 7 B...|8fb2af68-543b-463...|\n|     christmas|Here are the best...|         1|          500k|https://i.pinimg....| 2418|            image|            HikenDip|Local save in /da...|Farmhouse Christm...|100 DIY Christmas...|da8745a6-5160-46c...|\n|        beauty|[PaidLink] It&#39;s m...|         1|            22|https://i.pinimg....| 1611|            image|    Hair Accessories|Local save in /da...|Natural Beauty Ti...|Over The Years, P...|051e231c-7509-437...|\n|     education|Tired of Google C...|         1|            9k|https://i.pinimg....| 3813|            image|Science of Curiosity|Local save in /da...|Google Classroom,...|Fun Interactive D...|49f7dfe7-2e5a-403...|\n|        quotes|summcoco gives yo...|         1|          306k|https://i.pinimg....| 7922|            image|Sumcoco | Decor I...|Local save in /da...|Life Quotes Love,...|45 Top Life Quote...|a584581c-1b38-473...|\n|     christmas|Connecticut life ...|         1|           84k|https://i.pinimg....| 1643|            image|      Lauren McBride|Local save in /da...|Christmas Dining ...|White and Gold Ch...|41be1bcd-1ead-476...|\n|       finance|Buying your first...|         1|           223|https://i.pinimg....| 5091|            image|Edwin | Cash The ...|Local save in /da...|Paying Off Car Lo...|Buying Your First...|43459535-64e9-48a...|\n|        travel|Are you traveling...|         1|            3k|https://i.pinimg....| 9979|            image|     Petite in Paris|Local save in /da...|Torre Eiffel Pari...|Paris in the Summ...|2b2abc85-fc51-481...|\n|diy-and-crafts|This ghost craft ...|         1|           56k|https://i.pinimg....| 3032|            video|       Thriving Home|Local save in /da...|Halloween Arts An...|   Puffy Ghost Craft|208b07bc-e042-4e8...|\n|  mens-fashion|It&#39;s safe to assu...|         1|          383k|https://i.pinimg....| 6809|            image|        Suburban Men|Local save in /da...|Business Casual D...|It&#39;s Time to Ditc...|f8ca698f-abfc-4b6...|\n|     education|Amazon is a teach...|         1|           41k|https://i.pinimg....| 3644|            image|Teach Create Moti...|Local save in /da...|Classroom Hacks,5...|More Amazon Must ...|cde2b4e2-7711-4a8...|\n|    home-decor|Believe it or not...|         1|           31k|https://i.pinimg....| 6575|            image| Maria Louise Design|Local save in /da...|Farmhouse Remodel...|Affordable Farmho...|15c45907-657e-439...|\n|    home-decor|Holiday mantle de...|         1|           83k|https://i.pinimg....| 6145|            image|     Stylin by Aylin|Local save in /da...|Winter Home Decor...|HOLIDAY MANTLE DE...|82e13a07-db99-43a...|\n|    home-decor|Holiday mantle de...|         1|           83k|https://i.pinimg....| 6145|            image|     Stylin by Aylin|Local save in /da...|Winter Home Decor...|HOLIDAY MANTLE DE...|82e13a07-db99-43a...|\n|           art|Mexican artist En...|         1|            2M|https://i.pinimg....|    4|            image|         Bored Panda|Local save in /da...|Girl Drawing Sket...|Mexican Artist Us...|55abcd28-bda1-445...|\n|     education|Podcasts for Teac...|         1|           25k|https://i.pinimg....| 4315|            image|        Math Giraffe|Local save in /da...|Middle School Cla...|Podcasts for Teac...|21b59ba9-829d-4c3...|\n|event-planning|Sacramento Califo...|         1|            6M|https://i.pinimg....| 5069|            image|     Style Me Pretty|Local save in /da...|60th Anniversary ...|The Vault: Curate...|b75b6f87-deb3-444...|\n+--------------+--------------------+----------+--------------+--------------------+-----+-----------------+--------------------+--------------------+--------------------+--------------------+--------------------+\nonly showing top 20 rows\n\n+--------------------+-----+--------+---------+-------------------+\n|             country|  ind|latitude|longitude|          timestamp|\n+--------------------+-----+--------+---------+-------------------+\n|Antarctica (the t...| 2418|-88.4642| -171.061|2022-05-27 11:30:59|\n|Bouvet Island (Bo...| 9270|-84.3984| -144.933|2022-05-23 03:24:24|\n|Cocos (Keeling) I...|10794|-89.5236| -154.567|2022-01-01 02:26:50|\n|British Virgin Is...| 5395|-6.93422| -24.9989|2020-08-15 19:30:19|\n|Central African R...| 2074|-52.3213|   -50.11|2019-11-03 05:41:59|\n|Libyan Arab Jamah...| 1170| 56.1198|  20.2963|2019-08-07 22:17:07|\n|British Virgin Is...| 9550| -84.918|  7.23235|2022-03-23 00:25:45|\n| Antigua and Barbuda| 7922|-88.0974| -172.052|2021-01-27 09:14:19|\n|  Dominican Republic| 9979| 14.9967| -120.682|2018-07-18 19:01:46|\n|  Dominican Republic| 6575| 81.7192|  61.5152|2020-12-29 22:59:37|\n|      American Samoa| 3032|-66.7253| -122.489|2018-04-14 09:28:18|\n|      American Samoa|  637|-41.2244| -158.022|2018-06-06 01:25:58|\n|        Burkina Faso|10321|-89.1005| -151.255|2022-10-09 08:06:50|\n|       Cote d&#39;Ivoire| 2923|-84.6302| -164.507|2019-09-08 22:53:09|\n|       French Guiana| 8304|-28.8852|  -164.87|2019-09-13 04:50:29|\n|       Cote d&#39;Ivoire| 4315|-45.8508|  66.1003|2019-12-15 03:51:28|\n|         Afghanistan| 4249|-88.5478| -174.971|2021-09-01 11:10:02|\n|          Bangladesh| 6809|-89.4254| -161.818|2020-04-17 13:20:43|\n|          Azerbaijan| 5069|-63.0063| -157.474|2021-03-20 09:32:44|\n|          Mozambique| 6145|-65.9079| -143.845|2019-12-05 02:09:44|\n+--------------------+-----+--------+---------+-------------------+\nonly showing top 20 rows\n\n+---+-------------------+----------+-----+---------+\n|age|        date_joined|first_name|  ind|last_name|\n+---+-------------------+----------+-----+---------+\n| 20|2015-10-23 04:13:23|Alexandria| 4249| Alvarado|\n| 21|2015-11-10 09:27:42|    Andrea| 8731|Alexander|\n| 21|2015-11-10 09:27:42|    Andrea| 8731|Alexander|\n| 21|2015-11-10 09:27:42|    Andrea| 8731|Alexander|\n| 34|2016-01-23 03:59:37|    Daniel|10137| Matthews|\n| 21|2015-11-10 09:27:42|    Andrea| 8731|Alexander|\n| 24|2016-03-31 20:56:39|    Austin| 8887|Rodriguez|\n| 36|2015-12-20 16:38:13|  Michelle| 4315|   Prince|\n| 32|2017-10-10 20:09:33| Christian|10625|     Lang|\n| 36|2015-12-20 16:38:13|  Michelle| 4315|   Prince|\n| 40|2017-06-28 16:17:39|   Michael| 1514|  Perkins|\n| 36|2015-12-20 16:38:13|  Michelle| 4315|   Prince|\n| 32|2017-10-10 20:09:33| Christian|10625|     Lang|\n| 32|2017-10-10 20:09:33| Christian|10625|     Lang|\n| 22|2016-02-11 20:46:04|  Jennifer| 9672|   Hudson|\n| 32|2016-04-02 03:51:23|  Brittany| 1313|    Jones|\n| 32|2016-04-02 03:51:23|  Brittany| 1313|    Jones|\n| 34|2016-12-22 00:02:02|    Thomas|10794|   Turner|\n| 32|2016-04-02 03:51:23|  Brittany| 1313|    Jones|\n| 34|2016-12-22 00:02:02|    Thomas|10794|   Turner|\n+---+-------------------+----------+-----+---------+\nonly showing top 20 rows\n\n</div>",
       "datasetInfos": [],
       "metadata": {},
       "removedWidgets": [],
       "type": "html"
      }
     },
     "output_type": "display_data"
    }
   ],
   "source": [
    "# Show the DataFrames\n",
    "df_pin.show()\n",
    "df_geo.show()\n",
    "df_user.show()"
   ]
  },
  {
   "cell_type": "code",
   "execution_count": null,
   "metadata": {
    "application/vnd.databricks.v1+cell": {
     "cellMetadata": {
      "byteLimit": 2048000,
      "rowLimit": 10000
     },
     "inputWidgets": {},
     "nuid": "0b62b693-6814-4e2c-95ed-2b5555b19186",
     "showTitle": false,
     "title": ""
    }
   },
   "outputs": [
    {
     "data": {
      "text/html": [
       "<style scoped>\n",
       "  .ansiout {\n",
       "    display: block;\n",
       "    unicode-bidi: embed;\n",
       "    white-space: pre-wrap;\n",
       "    word-wrap: break-word;\n",
       "    word-break: break-all;\n",
       "    font-family: \"Menlo\", \"Monaco\", \"Consolas\", \"Ubuntu Mono\", \"Source Code Pro\", monospace;\n",
       "    font-size: 13px;\n",
       "    color: #555;\n",
       "    margin-left: 4px;\n",
       "    line-height: 19px;\n",
       "  }\n",
       "</style>\n",
       "<div class=\"ansiout\">+-------+--------+--------------------+-------------------+-----------------+--------------------+-----------------+-----------------+-------------+--------------------+--------------------+--------------------+--------------------+\n",
       "summary|category|         description|         downloaded|   follower_count|           image_src|            index|is_image_or_video|  poster_name|       save_location|            tag_list|               title|           unique_id|\n",
       "+-------+--------+--------------------+-------------------+-----------------+--------------------+-----------------+-----------------+-------------+--------------------+--------------------+--------------------+--------------------+\n",
       "  count|      65|                  65|                 65|               65|                  65|               65|               65|           65|                  65|                  65|                  65|                  65|\n",
       "   mean|    null|                null| 0.9538461538461539|387.7142857142857|                null|5666.861538461539|             null|         null|                null|                null|                null|                null|\n",
       " stddev|    null|                null|0.21145103088313016|393.8793022766045|                null|3363.418963072226|             null|         null|                null|                null|                null|                null|\n",
       "    min|     art|#lovequotes #matc...|                  0|                0|    Image src error.|                4|            image|ALL FOR WOMAN|Local save in /da...|60th Anniversary ...|100 DIY Christmas...|051e231c-7509-437...|\n",
       "    max|vehicles|summcoco gives yo...|                  1|  User Info Error|https://i.pinimg....|            10883|            video|      wikiHow|Local save in /da...|Wise Quotes,Quota...|mix and match - H...|fbe53c66-3442-477...|\n",
       "+-------+--------+--------------------+-------------------+-----------------+--------------------+-----------------+-----------------+-------------+--------------------+--------------------+--------------------+--------------------+\n",
       "\n",
       "+-------+-----------+-----------------+------------------+-------------------+-------------------+\n",
       "summary|    country|              ind|          latitude|          longitude|          timestamp|\n",
       "+-------+-----------+-----------------+------------------+-------------------+-------------------+\n",
       "  count|         65|               65|                65|                 65|                 65|\n",
       "   mean|       null|5666.861538461539|-47.95451683076923|-110.52550615384615|               null|\n",
       " stddev|       null|3363.418963072226| 49.96288705461774|   73.4911784661402|               null|\n",
       "    min|Afghanistan|                4|          -89.9787|           -179.779|2018-01-13 19:33:49|\n",
       "    max|     Uganda|            10883|           88.2631|            96.2413|2022-10-09 08:06:50|\n",
       "+-------+-----------+-----------------+------------------+-------------------+-------------------+\n",
       "\n",
       "+-------+-----------------+-------------------+----------+-----------------+---------+\n",
       "summary|              age|        date_joined|first_name|              ind|last_name|\n",
       "+-------+-----------------+-------------------+----------+-----------------+---------+\n",
       "  count|              100|                100|       100|              100|      100|\n",
       "   mean|            28.14|               null|      null|          5810.16|     null|\n",
       " stddev|7.877881066696177|               null|      null|3168.080506450797|     null|\n",
       "    min|               20|2015-10-21 08:27:36|     Aaron|                4|   Abbott|\n",
       "    max|               53|2017-10-10 20:09:33|    Thomas|            10883|   Waller|\n",
       "+-------+-----------------+-------------------+----------+-----------------+---------+\n",
       "\n",
       "</div>"
      ]
     },
     "metadata": {
      "application/vnd.databricks.v1+output": {
       "addedWidgets": {},
       "arguments": {},
       "data": "<div class=\"ansiout\">+-------+--------+--------------------+-------------------+-----------------+--------------------+-----------------+-----------------+-------------+--------------------+--------------------+--------------------+--------------------+\n|summary|category|         description|         downloaded|   follower_count|           image_src|            index|is_image_or_video|  poster_name|       save_location|            tag_list|               title|           unique_id|\n+-------+--------+--------------------+-------------------+-----------------+--------------------+-----------------+-----------------+-------------+--------------------+--------------------+--------------------+--------------------+\n|  count|      65|                  65|                 65|               65|                  65|               65|               65|           65|                  65|                  65|                  65|                  65|\n|   mean|    null|                null| 0.9538461538461539|387.7142857142857|                null|5666.861538461539|             null|         null|                null|                null|                null|                null|\n| stddev|    null|                null|0.21145103088313016|393.8793022766045|                null|3363.418963072226|             null|         null|                null|                null|                null|                null|\n|    min|     art|#lovequotes #matc...|                  0|                0|    Image src error.|                4|            image|ALL FOR WOMAN|Local save in /da...|60th Anniversary ...|100 DIY Christmas...|051e231c-7509-437...|\n|    max|vehicles|summcoco gives yo...|                  1|  User Info Error|https://i.pinimg....|            10883|            video|      wikiHow|Local save in /da...|Wise Quotes,Quota...|mix and match - H...|fbe53c66-3442-477...|\n+-------+--------+--------------------+-------------------+-----------------+--------------------+-----------------+-----------------+-------------+--------------------+--------------------+--------------------+--------------------+\n\n+-------+-----------+-----------------+------------------+-------------------+-------------------+\n|summary|    country|              ind|          latitude|          longitude|          timestamp|\n+-------+-----------+-----------------+------------------+-------------------+-------------------+\n|  count|         65|               65|                65|                 65|                 65|\n|   mean|       null|5666.861538461539|-47.95451683076923|-110.52550615384615|               null|\n| stddev|       null|3363.418963072226| 49.96288705461774|   73.4911784661402|               null|\n|    min|Afghanistan|                4|          -89.9787|           -179.779|2018-01-13 19:33:49|\n|    max|     Uganda|            10883|           88.2631|            96.2413|2022-10-09 08:06:50|\n+-------+-----------+-----------------+------------------+-------------------+-------------------+\n\n+-------+-----------------+-------------------+----------+-----------------+---------+\n|summary|              age|        date_joined|first_name|              ind|last_name|\n+-------+-----------------+-------------------+----------+-----------------+---------+\n|  count|              100|                100|       100|              100|      100|\n|   mean|            28.14|               null|      null|          5810.16|     null|\n| stddev|7.877881066696177|               null|      null|3168.080506450797|     null|\n|    min|               20|2015-10-21 08:27:36|     Aaron|                4|   Abbott|\n|    max|               53|2017-10-10 20:09:33|    Thomas|            10883|   Waller|\n+-------+-----------------+-------------------+----------+-----------------+---------+\n\n</div>",
       "datasetInfos": [],
       "metadata": {},
       "removedWidgets": [],
       "type": "html"
      }
     },
     "output_type": "display_data"
    }
   ],
   "source": [
    "df_pin.describe().show()\n",
    "df_geo.describe().show()\n",
    "df_user.describe().show()"
   ]
  },
  {
   "cell_type": "code",
   "execution_count": null,
   "metadata": {
    "application/vnd.databricks.v1+cell": {
     "cellMetadata": {
      "byteLimit": 2048000,
      "rowLimit": 10000
     },
     "inputWidgets": {},
     "nuid": "fbeb807f-08e8-4c4e-8fa3-eefe420771b8",
     "showTitle": false,
     "title": ""
    }
   },
   "outputs": [
    {
     "data": {
      "text/html": [
       "<style scoped>\n",
       "  .ansiout {\n",
       "    display: block;\n",
       "    unicode-bidi: embed;\n",
       "    white-space: pre-wrap;\n",
       "    word-wrap: break-word;\n",
       "    word-break: break-all;\n",
       "    font-family: \"Menlo\", \"Monaco\", \"Consolas\", \"Ubuntu Mono\", \"Source Code Pro\", monospace;\n",
       "    font-size: 13px;\n",
       "    color: #555;\n",
       "    margin-left: 4px;\n",
       "    line-height: 19px;\n",
       "  }\n",
       "</style>\n",
       "<div class=\"ansiout\">[&#39;category&#39;, &#39;description&#39;, &#39;downloaded&#39;, &#39;follower_count&#39;, &#39;image_src&#39;, &#39;index&#39;, &#39;is_image_or_video&#39;, &#39;poster_name&#39;, &#39;save_location&#39;, &#39;tag_list&#39;, &#39;title&#39;, &#39;unique_id&#39;]\n",
       "[&#39;country&#39;, &#39;ind&#39;, &#39;latitude&#39;, &#39;longitude&#39;, &#39;timestamp&#39;]\n",
       "[&#39;age&#39;, &#39;date_joined&#39;, &#39;first_name&#39;, &#39;ind&#39;, &#39;last_name&#39;]\n",
       "</div>"
      ]
     },
     "metadata": {
      "application/vnd.databricks.v1+output": {
       "addedWidgets": {},
       "arguments": {},
       "data": "<div class=\"ansiout\">[&#39;category&#39;, &#39;description&#39;, &#39;downloaded&#39;, &#39;follower_count&#39;, &#39;image_src&#39;, &#39;index&#39;, &#39;is_image_or_video&#39;, &#39;poster_name&#39;, &#39;save_location&#39;, &#39;tag_list&#39;, &#39;title&#39;, &#39;unique_id&#39;]\n[&#39;country&#39;, &#39;ind&#39;, &#39;latitude&#39;, &#39;longitude&#39;, &#39;timestamp&#39;]\n[&#39;age&#39;, &#39;date_joined&#39;, &#39;first_name&#39;, &#39;ind&#39;, &#39;last_name&#39;]\n</div>",
       "datasetInfos": [],
       "metadata": {},
       "removedWidgets": [],
       "type": "html"
      }
     },
     "output_type": "display_data"
    }
   ],
   "source": [
    "print(df_pin.columns)\n",
    "print(df_geo.columns)\n",
    "print(df_user.columns)"
   ]
  },
  {
   "cell_type": "code",
   "execution_count": null,
   "metadata": {
    "application/vnd.databricks.v1+cell": {
     "cellMetadata": {
      "byteLimit": 2048000,
      "rowLimit": 10000
     },
     "inputWidgets": {},
     "nuid": "9eb56d08-f7ef-4609-a396-1e3e48f2ac23",
     "showTitle": false,
     "title": ""
    }
   },
   "outputs": [
    {
     "data": {
      "text/html": [
       "<style scoped>\n",
       "  .ansiout {\n",
       "    display: block;\n",
       "    unicode-bidi: embed;\n",
       "    white-space: pre-wrap;\n",
       "    word-wrap: break-word;\n",
       "    word-break: break-all;\n",
       "    font-family: \"Menlo\", \"Monaco\", \"Consolas\", \"Ubuntu Mono\", \"Source Code Pro\", monospace;\n",
       "    font-size: 13px;\n",
       "    color: #555;\n",
       "    margin-left: 4px;\n",
       "    line-height: 19px;\n",
       "  }\n",
       "</style>\n",
       "<div class=\"ansiout\">[(&#39;category&#39;, &#39;string&#39;), (&#39;description&#39;, &#39;string&#39;), (&#39;downloaded&#39;, &#39;bigint&#39;), (&#39;follower_count&#39;, &#39;string&#39;), (&#39;image_src&#39;, &#39;string&#39;), (&#39;index&#39;, &#39;bigint&#39;), (&#39;is_image_or_video&#39;, &#39;string&#39;), (&#39;poster_name&#39;, &#39;string&#39;), (&#39;save_location&#39;, &#39;string&#39;), (&#39;tag_list&#39;, &#39;string&#39;), (&#39;title&#39;, &#39;string&#39;), (&#39;unique_id&#39;, &#39;string&#39;)]\n",
       "[(&#39;country&#39;, &#39;string&#39;), (&#39;ind&#39;, &#39;bigint&#39;), (&#39;latitude&#39;, &#39;double&#39;), (&#39;longitude&#39;, &#39;double&#39;), (&#39;timestamp&#39;, &#39;string&#39;)]\n",
       "[(&#39;age&#39;, &#39;bigint&#39;), (&#39;date_joined&#39;, &#39;string&#39;), (&#39;first_name&#39;, &#39;string&#39;), (&#39;ind&#39;, &#39;bigint&#39;), (&#39;last_name&#39;, &#39;string&#39;)]\n",
       "</div>"
      ]
     },
     "metadata": {
      "application/vnd.databricks.v1+output": {
       "addedWidgets": {},
       "arguments": {},
       "data": "<div class=\"ansiout\">[(&#39;category&#39;, &#39;string&#39;), (&#39;description&#39;, &#39;string&#39;), (&#39;downloaded&#39;, &#39;bigint&#39;), (&#39;follower_count&#39;, &#39;string&#39;), (&#39;image_src&#39;, &#39;string&#39;), (&#39;index&#39;, &#39;bigint&#39;), (&#39;is_image_or_video&#39;, &#39;string&#39;), (&#39;poster_name&#39;, &#39;string&#39;), (&#39;save_location&#39;, &#39;string&#39;), (&#39;tag_list&#39;, &#39;string&#39;), (&#39;title&#39;, &#39;string&#39;), (&#39;unique_id&#39;, &#39;string&#39;)]\n[(&#39;country&#39;, &#39;string&#39;), (&#39;ind&#39;, &#39;bigint&#39;), (&#39;latitude&#39;, &#39;double&#39;), (&#39;longitude&#39;, &#39;double&#39;), (&#39;timestamp&#39;, &#39;string&#39;)]\n[(&#39;age&#39;, &#39;bigint&#39;), (&#39;date_joined&#39;, &#39;string&#39;), (&#39;first_name&#39;, &#39;string&#39;), (&#39;ind&#39;, &#39;bigint&#39;), (&#39;last_name&#39;, &#39;string&#39;)]\n</div>",
       "datasetInfos": [],
       "metadata": {},
       "removedWidgets": [],
       "type": "html"
      }
     },
     "output_type": "display_data"
    }
   ],
   "source": [
    "#Check data types\n",
    "print(df_pin.dtypes)\n",
    "print(df_geo.dtypes)\n",
    "print(df_user.dtypes)"
   ]
  },
  {
   "cell_type": "code",
   "execution_count": null,
   "metadata": {
    "application/vnd.databricks.v1+cell": {
     "cellMetadata": {
      "byteLimit": 2048000,
      "rowLimit": 10000
     },
     "inputWidgets": {},
     "nuid": "1ab1dce4-3c05-4890-963e-c29118aa8098",
     "showTitle": false,
     "title": ""
    }
   },
   "outputs": [
    {
     "data": {
      "text/html": [
       "<style scoped>\n",
       "  .ansiout {\n",
       "    display: block;\n",
       "    unicode-bidi: embed;\n",
       "    white-space: pre-wrap;\n",
       "    word-wrap: break-word;\n",
       "    word-break: break-all;\n",
       "    font-family: \"Menlo\", \"Monaco\", \"Consolas\", \"Ubuntu Mono\", \"Source Code Pro\", monospace;\n",
       "    font-size: 13px;\n",
       "    color: #555;\n",
       "    margin-left: 4px;\n",
       "    line-height: 19px;\n",
       "  }\n",
       "</style>\n",
       "<div class=\"ansiout\"></div>"
      ]
     },
     "metadata": {
      "application/vnd.databricks.v1+output": {
       "addedWidgets": {},
       "arguments": {},
       "data": "<div class=\"ansiout\"></div>",
       "datasetInfos": [],
       "metadata": {},
       "removedWidgets": [],
       "type": "html"
      }
     },
     "output_type": "display_data"
    }
   ],
   "source": [
    "# Replace empty entries and entries with no relevant data in each column with None for df_pin DataFrame\n",
    "from pyspark.sql.functions import col\n",
    "df_pin = df_pin.fillna(\"None\")"
   ]
  },
  {
   "cell_type": "code",
   "execution_count": null,
   "metadata": {
    "application/vnd.databricks.v1+cell": {
     "cellMetadata": {
      "byteLimit": 2048000,
      "rowLimit": 10000
     },
     "inputWidgets": {},
     "nuid": "0f85df0e-ab1a-410b-98ab-387c560ea059",
     "showTitle": false,
     "title": ""
    }
   },
   "outputs": [
    {
     "data": {
      "text/html": [
       "<style scoped>\n",
       "  .ansiout {\n",
       "    display: block;\n",
       "    unicode-bidi: embed;\n",
       "    white-space: pre-wrap;\n",
       "    word-wrap: break-word;\n",
       "    word-break: break-all;\n",
       "    font-family: \"Menlo\", \"Monaco\", \"Consolas\", \"Ubuntu Mono\", \"Source Code Pro\", monospace;\n",
       "    font-size: 13px;\n",
       "    color: #555;\n",
       "    margin-left: 4px;\n",
       "    line-height: 19px;\n",
       "  }\n",
       "</style>\n",
       "<div class=\"ansiout\">+--------------+--------------------+----------+--------------+--------------------+-----+-----------------+--------------------+--------------------+--------------------+--------------------+--------------------+\n",
       "      category|         description|downloaded|follower_count|           image_src|index|is_image_or_video|         poster_name|       save_location|            tag_list|               title|           unique_id|\n",
       "+--------------+--------------------+----------+--------------+--------------------+-----+-----------------+--------------------+--------------------+--------------------+--------------------+--------------------+\n",
       "        travel|This Costa Rica i...|         1|           10k|https://i.pinimg....|10138|            image|Wanderlust Chloe ...|Local save in /da...|Costa Rica Travel...|14 Amazing Things...|927c4658-cc3f-4b9...|\n",
       "diy-and-crafts|This post may con...|         1|          892k|https://i.pinimg....| 3156|            image|Michelle {CraftyM...|Local save in /da...|Christmas Gifts F...|Handprint Reindee...|fa6e31a4-18c2-4ec...|\n",
       "       finance|Der #Vermögensauf...|         1|            3k|https://i.pinimg....| 5395|            image|DIVDepot – Geld s...|Local save in /da...|Money Saving Chal...|So startest du mi...|71f72304-3708-45f...|\n",
       "       finance|If you love budge...|         1|           26k|https://i.pinimg....| 5494|            image|Living Low Key | ...|Local save in /da...|Financial Peace,F...|Dave Ramsey&#39;s 7 B...|8fb2af68-543b-463...|\n",
       "     christmas|Here are the best...|         1|          500k|https://i.pinimg....| 2418|            image|            HikenDip|Local save in /da...|Farmhouse Christm...|100 DIY Christmas...|da8745a6-5160-46c...|\n",
       "        beauty|[PaidLink] It&#39;s m...|         1|            22|https://i.pinimg....| 1611|            image|    Hair Accessories|Local save in /da...|Natural Beauty Ti...|Over The Years, P...|051e231c-7509-437...|\n",
       "     education|Tired of Google C...|         1|            9k|https://i.pinimg....| 3813|            image|Science of Curiosity|Local save in /da...|Google Classroom,...|Fun Interactive D...|49f7dfe7-2e5a-403...|\n",
       "        quotes|summcoco gives yo...|         1|          306k|https://i.pinimg....| 7922|            image|Sumcoco | Decor I...|Local save in /da...|Life Quotes Love,...|45 Top Life Quote...|a584581c-1b38-473...|\n",
       "     christmas|Connecticut life ...|         1|           84k|https://i.pinimg....| 1643|            image|      Lauren McBride|Local save in /da...|Christmas Dining ...|White and Gold Ch...|41be1bcd-1ead-476...|\n",
       "       finance|Buying your first...|         1|           223|https://i.pinimg....| 5091|            image|Edwin | Cash The ...|Local save in /da...|Paying Off Car Lo...|Buying Your First...|43459535-64e9-48a...|\n",
       "        travel|Are you traveling...|         1|            3k|https://i.pinimg....| 9979|            image|     Petite in Paris|Local save in /da...|Torre Eiffel Pari...|Paris in the Summ...|2b2abc85-fc51-481...|\n",
       "diy-and-crafts|This ghost craft ...|         1|           56k|https://i.pinimg....| 3032|            video|       Thriving Home|Local save in /da...|Halloween Arts An...|   Puffy Ghost Craft|208b07bc-e042-4e8...|\n",
       "  mens-fashion|It&#39;s safe to assu...|         1|          383k|https://i.pinimg....| 6809|            image|        Suburban Men|Local save in /da...|Business Casual D...|It&#39;s Time to Ditc...|f8ca698f-abfc-4b6...|\n",
       "     education|Amazon is a teach...|         1|           41k|https://i.pinimg....| 3644|            image|Teach Create Moti...|Local save in /da...|Classroom Hacks,5...|More Amazon Must ...|cde2b4e2-7711-4a8...|\n",
       "    home-decor|Believe it or not...|         1|           31k|https://i.pinimg....| 6575|            image| Maria Louise Design|Local save in /da...|Farmhouse Remodel...|Affordable Farmho...|15c45907-657e-439...|\n",
       "    home-decor|Holiday mantle de...|         1|           83k|https://i.pinimg....| 6145|            image|     Stylin by Aylin|Local save in /da...|Winter Home Decor...|HOLIDAY MANTLE DE...|82e13a07-db99-43a...|\n",
       "    home-decor|Holiday mantle de...|         1|           83k|https://i.pinimg....| 6145|            image|     Stylin by Aylin|Local save in /da...|Winter Home Decor...|HOLIDAY MANTLE DE...|82e13a07-db99-43a...|\n",
       "           art|Mexican artist En...|         1|            2M|https://i.pinimg....|    4|            image|         Bored Panda|Local save in /da...|Girl Drawing Sket...|Mexican Artist Us...|55abcd28-bda1-445...|\n",
       "     education|Podcasts for Teac...|         1|           25k|https://i.pinimg....| 4315|            image|        Math Giraffe|Local save in /da...|Middle School Cla...|Podcasts for Teac...|21b59ba9-829d-4c3...|\n",
       "event-planning|Sacramento Califo...|         1|            6M|https://i.pinimg....| 5069|            image|     Style Me Pretty|Local save in /da...|60th Anniversary ...|The Vault: Curate...|b75b6f87-deb3-444...|\n",
       "+--------------+--------------------+----------+--------------+--------------------+-----+-----------------+--------------------+--------------------+--------------------+--------------------+--------------------+\n",
       "only showing top 20 rows\n",
       "\n",
       "</div>"
      ]
     },
     "metadata": {
      "application/vnd.databricks.v1+output": {
       "addedWidgets": {},
       "arguments": {},
       "data": "<div class=\"ansiout\">+--------------+--------------------+----------+--------------+--------------------+-----+-----------------+--------------------+--------------------+--------------------+--------------------+--------------------+\n|      category|         description|downloaded|follower_count|           image_src|index|is_image_or_video|         poster_name|       save_location|            tag_list|               title|           unique_id|\n+--------------+--------------------+----------+--------------+--------------------+-----+-----------------+--------------------+--------------------+--------------------+--------------------+--------------------+\n|        travel|This Costa Rica i...|         1|           10k|https://i.pinimg....|10138|            image|Wanderlust Chloe ...|Local save in /da...|Costa Rica Travel...|14 Amazing Things...|927c4658-cc3f-4b9...|\n|diy-and-crafts|This post may con...|         1|          892k|https://i.pinimg....| 3156|            image|Michelle {CraftyM...|Local save in /da...|Christmas Gifts F...|Handprint Reindee...|fa6e31a4-18c2-4ec...|\n|       finance|Der #Vermögensauf...|         1|            3k|https://i.pinimg....| 5395|            image|DIVDepot – Geld s...|Local save in /da...|Money Saving Chal...|So startest du mi...|71f72304-3708-45f...|\n|       finance|If you love budge...|         1|           26k|https://i.pinimg....| 5494|            image|Living Low Key | ...|Local save in /da...|Financial Peace,F...|Dave Ramsey&#39;s 7 B...|8fb2af68-543b-463...|\n|     christmas|Here are the best...|         1|          500k|https://i.pinimg....| 2418|            image|            HikenDip|Local save in /da...|Farmhouse Christm...|100 DIY Christmas...|da8745a6-5160-46c...|\n|        beauty|[PaidLink] It&#39;s m...|         1|            22|https://i.pinimg....| 1611|            image|    Hair Accessories|Local save in /da...|Natural Beauty Ti...|Over The Years, P...|051e231c-7509-437...|\n|     education|Tired of Google C...|         1|            9k|https://i.pinimg....| 3813|            image|Science of Curiosity|Local save in /da...|Google Classroom,...|Fun Interactive D...|49f7dfe7-2e5a-403...|\n|        quotes|summcoco gives yo...|         1|          306k|https://i.pinimg....| 7922|            image|Sumcoco | Decor I...|Local save in /da...|Life Quotes Love,...|45 Top Life Quote...|a584581c-1b38-473...|\n|     christmas|Connecticut life ...|         1|           84k|https://i.pinimg....| 1643|            image|      Lauren McBride|Local save in /da...|Christmas Dining ...|White and Gold Ch...|41be1bcd-1ead-476...|\n|       finance|Buying your first...|         1|           223|https://i.pinimg....| 5091|            image|Edwin | Cash The ...|Local save in /da...|Paying Off Car Lo...|Buying Your First...|43459535-64e9-48a...|\n|        travel|Are you traveling...|         1|            3k|https://i.pinimg....| 9979|            image|     Petite in Paris|Local save in /da...|Torre Eiffel Pari...|Paris in the Summ...|2b2abc85-fc51-481...|\n|diy-and-crafts|This ghost craft ...|         1|           56k|https://i.pinimg....| 3032|            video|       Thriving Home|Local save in /da...|Halloween Arts An...|   Puffy Ghost Craft|208b07bc-e042-4e8...|\n|  mens-fashion|It&#39;s safe to assu...|         1|          383k|https://i.pinimg....| 6809|            image|        Suburban Men|Local save in /da...|Business Casual D...|It&#39;s Time to Ditc...|f8ca698f-abfc-4b6...|\n|     education|Amazon is a teach...|         1|           41k|https://i.pinimg....| 3644|            image|Teach Create Moti...|Local save in /da...|Classroom Hacks,5...|More Amazon Must ...|cde2b4e2-7711-4a8...|\n|    home-decor|Believe it or not...|         1|           31k|https://i.pinimg....| 6575|            image| Maria Louise Design|Local save in /da...|Farmhouse Remodel...|Affordable Farmho...|15c45907-657e-439...|\n|    home-decor|Holiday mantle de...|         1|           83k|https://i.pinimg....| 6145|            image|     Stylin by Aylin|Local save in /da...|Winter Home Decor...|HOLIDAY MANTLE DE...|82e13a07-db99-43a...|\n|    home-decor|Holiday mantle de...|         1|           83k|https://i.pinimg....| 6145|            image|     Stylin by Aylin|Local save in /da...|Winter Home Decor...|HOLIDAY MANTLE DE...|82e13a07-db99-43a...|\n|           art|Mexican artist En...|         1|            2M|https://i.pinimg....|    4|            image|         Bored Panda|Local save in /da...|Girl Drawing Sket...|Mexican Artist Us...|55abcd28-bda1-445...|\n|     education|Podcasts for Teac...|         1|           25k|https://i.pinimg....| 4315|            image|        Math Giraffe|Local save in /da...|Middle School Cla...|Podcasts for Teac...|21b59ba9-829d-4c3...|\n|event-planning|Sacramento Califo...|         1|            6M|https://i.pinimg....| 5069|            image|     Style Me Pretty|Local save in /da...|60th Anniversary ...|The Vault: Curate...|b75b6f87-deb3-444...|\n+--------------+--------------------+----------+--------------+--------------------+-----+-----------------+--------------------+--------------------+--------------------+--------------------+--------------------+\nonly showing top 20 rows\n\n</div>",
       "datasetInfos": [],
       "metadata": {},
       "removedWidgets": [],
       "type": "html"
      }
     },
     "output_type": "display_data"
    }
   ],
   "source": [
    "df_pin.show()"
   ]
  },
  {
   "cell_type": "code",
   "execution_count": null,
   "metadata": {
    "application/vnd.databricks.v1+cell": {
     "cellMetadata": {
      "byteLimit": 2048000,
      "rowLimit": 10000
     },
     "inputWidgets": {},
     "nuid": "7f44f13e-8de4-4f3e-874f-b11970514181",
     "showTitle": false,
     "title": ""
    }
   },
   "outputs": [
    {
     "data": {
      "text/html": [
       "<style scoped>\n",
       "  .ansiout {\n",
       "    display: block;\n",
       "    unicode-bidi: embed;\n",
       "    white-space: pre-wrap;\n",
       "    word-wrap: break-word;\n",
       "    word-break: break-all;\n",
       "    font-family: \"Menlo\", \"Monaco\", \"Consolas\", \"Ubuntu Mono\", \"Source Code Pro\", monospace;\n",
       "    font-size: 13px;\n",
       "    color: #555;\n",
       "    margin-left: 4px;\n",
       "    line-height: 19px;\n",
       "  }\n",
       "</style>\n",
       "<div class=\"ansiout\"></div>"
      ]
     },
     "metadata": {
      "application/vnd.databricks.v1+output": {
       "addedWidgets": {},
       "arguments": {},
       "data": "<div class=\"ansiout\"></div>",
       "datasetInfos": [],
       "metadata": {},
       "removedWidgets": [],
       "type": "html"
      }
     },
     "output_type": "display_data"
    }
   ],
   "source": [
    "from pyspark.sql.functions import col, regexp_replace\n",
    "from pyspark.sql.types import IntegerType\n",
    "\n",
    "# Replace \"k\" with \"000\" and cast to integer\n",
    "df_pin = df_pin.withColumn(\"follower_count\", \n",
    "                           regexp_replace(col(\"follower_count\"), \"k\", \"000\").cast(IntegerType())\n",
    "                          )\n"
   ]
  },
  {
   "cell_type": "code",
   "execution_count": null,
   "metadata": {
    "application/vnd.databricks.v1+cell": {
     "cellMetadata": {
      "byteLimit": 2048000,
      "rowLimit": 10000
     },
     "inputWidgets": {},
     "nuid": "4702d5fa-4c2a-46ee-89ff-7ec04a924a91",
     "showTitle": false,
     "title": ""
    }
   },
   "outputs": [
    {
     "data": {
      "text/html": [
       "<style scoped>\n",
       "  .ansiout {\n",
       "    display: block;\n",
       "    unicode-bidi: embed;\n",
       "    white-space: pre-wrap;\n",
       "    word-wrap: break-word;\n",
       "    word-break: break-all;\n",
       "    font-family: \"Menlo\", \"Monaco\", \"Consolas\", \"Ubuntu Mono\", \"Source Code Pro\", monospace;\n",
       "    font-size: 13px;\n",
       "    color: #555;\n",
       "    margin-left: 4px;\n",
       "    line-height: 19px;\n",
       "  }\n",
       "</style>\n",
       "<div class=\"ansiout\">DataFrame[ind: bigint, unique_id: string, title: string, description: string, follower_count: int, poster_name: string, tag_list: string, is_image_or_video: string, image_src: string, save_location: string, category: string]\n",
       "</div>"
      ]
     },
     "metadata": {
      "application/vnd.databricks.v1+output": {
       "addedWidgets": {},
       "arguments": {},
       "data": "<div class=\"ansiout\">DataFrame[ind: bigint, unique_id: string, title: string, description: string, follower_count: int, poster_name: string, tag_list: string, is_image_or_video: string, image_src: string, save_location: string, category: string]\n</div>",
       "datasetInfos": [],
       "metadata": {},
       "removedWidgets": [],
       "type": "html"
      }
     },
     "output_type": "display_data"
    }
   ],
   "source": [
    "print(df_pin)"
   ]
  },
  {
   "cell_type": "code",
   "execution_count": null,
   "metadata": {
    "application/vnd.databricks.v1+cell": {
     "cellMetadata": {
      "byteLimit": 2048000,
      "rowLimit": 10000
     },
     "inputWidgets": {},
     "nuid": "812cb250-e01e-43a6-9737-5f248ad5325b",
     "showTitle": false,
     "title": ""
    }
   },
   "outputs": [
    {
     "data": {
      "text/html": [
       "<style scoped>\n",
       "  .ansiout {\n",
       "    display: block;\n",
       "    unicode-bidi: embed;\n",
       "    white-space: pre-wrap;\n",
       "    word-wrap: break-word;\n",
       "    word-break: break-all;\n",
       "    font-family: \"Menlo\", \"Monaco\", \"Consolas\", \"Ubuntu Mono\", \"Source Code Pro\", monospace;\n",
       "    font-size: 13px;\n",
       "    color: #555;\n",
       "    margin-left: 4px;\n",
       "    line-height: 19px;\n",
       "  }\n",
       "</style>\n",
       "<div class=\"ansiout\"></div>"
      ]
     },
     "metadata": {
      "application/vnd.databricks.v1+output": {
       "addedWidgets": {},
       "arguments": {},
       "data": "<div class=\"ansiout\"></div>",
       "datasetInfos": [],
       "metadata": {},
       "removedWidgets": [],
       "type": "html"
      }
     },
     "output_type": "display_data"
    }
   ],
   "source": [
    "from pyspark.sql.types import IntegerType, LongType\n",
    "\n",
    "# Cast downloaded column to IntegerType\n",
    "df_pin = df_pin.withColumn(\"downloaded\", df_pin[\"downloaded\"].cast(IntegerType()))\n",
    "\n",
    "# Cast index column to LongType\n",
    "df_pin = df_pin.withColumn(\"index\", df_pin[\"index\"].cast(LongType()))\n"
   ]
  },
  {
   "cell_type": "code",
   "execution_count": null,
   "metadata": {
    "application/vnd.databricks.v1+cell": {
     "cellMetadata": {
      "byteLimit": 2048000,
      "rowLimit": 10000
     },
     "inputWidgets": {},
     "nuid": "79b51a21-c2c9-4a1c-9fe6-a6e4ac97502d",
     "showTitle": false,
     "title": ""
    }
   },
   "outputs": [
    {
     "data": {
      "text/html": [
       "<style scoped>\n",
       "  .ansiout {\n",
       "    display: block;\n",
       "    unicode-bidi: embed;\n",
       "    white-space: pre-wrap;\n",
       "    word-wrap: break-word;\n",
       "    word-break: break-all;\n",
       "    font-family: \"Menlo\", \"Monaco\", \"Consolas\", \"Ubuntu Mono\", \"Source Code Pro\", monospace;\n",
       "    font-size: 13px;\n",
       "    color: #555;\n",
       "    margin-left: 4px;\n",
       "    line-height: 19px;\n",
       "  }\n",
       "</style>\n",
       "<div class=\"ansiout\"></div>"
      ]
     },
     "metadata": {
      "application/vnd.databricks.v1+output": {
       "addedWidgets": {},
       "arguments": {},
       "data": "<div class=\"ansiout\"></div>",
       "datasetInfos": [],
       "metadata": {},
       "removedWidgets": [],
       "type": "html"
      }
     },
     "output_type": "display_data"
    }
   ],
   "source": [
    "# Rename index column to ind\n",
    "df_pin = df_pin.withColumnRenamed(\"index\", \"ind\")\n"
   ]
  },
  {
   "cell_type": "code",
   "execution_count": null,
   "metadata": {
    "application/vnd.databricks.v1+cell": {
     "cellMetadata": {
      "byteLimit": 2048000,
      "rowLimit": 10000
     },
     "inputWidgets": {},
     "nuid": "5ea0057e-a3ff-4483-88bf-44be885df10d",
     "showTitle": false,
     "title": ""
    }
   },
   "outputs": [
    {
     "data": {
      "text/html": [
       "<style scoped>\n",
       "  .ansiout {\n",
       "    display: block;\n",
       "    unicode-bidi: embed;\n",
       "    white-space: pre-wrap;\n",
       "    word-wrap: break-word;\n",
       "    word-break: break-all;\n",
       "    font-family: \"Menlo\", \"Monaco\", \"Consolas\", \"Ubuntu Mono\", \"Source Code Pro\", monospace;\n",
       "    font-size: 13px;\n",
       "    color: #555;\n",
       "    margin-left: 4px;\n",
       "    line-height: 19px;\n",
       "  }\n",
       "</style>\n",
       "<div class=\"ansiout\">+--------------+--------------------+----------+--------------+--------------------+-----+-----------------+--------------------+--------------------+--------------------+--------------------+--------------------+\n",
       "      category|         description|downloaded|follower_count|           image_src|  ind|is_image_or_video|         poster_name|       save_location|            tag_list|               title|           unique_id|\n",
       "+--------------+--------------------+----------+--------------+--------------------+-----+-----------------+--------------------+--------------------+--------------------+--------------------+--------------------+\n",
       "        travel|This Costa Rica i...|         1|         10000|https://i.pinimg....|10138|            image|Wanderlust Chloe ...|        /data/travel|Costa Rica Travel...|14 Amazing Things...|927c4658-cc3f-4b9...|\n",
       "diy-and-crafts|This post may con...|         1|        892000|https://i.pinimg....| 3156|            image|Michelle {CraftyM...|/data/diy-and-crafts|Christmas Gifts F...|Handprint Reindee...|fa6e31a4-18c2-4ec...|\n",
       "       finance|Der #Vermögensauf...|         1|          3000|https://i.pinimg....| 5395|            image|DIVDepot – Geld s...|       /data/finance|Money Saving Chal...|So startest du mi...|71f72304-3708-45f...|\n",
       "       finance|If you love budge...|         1|         26000|https://i.pinimg....| 5494|            image|Living Low Key | ...|       /data/finance|Financial Peace,F...|Dave Ramsey&#39;s 7 B...|8fb2af68-543b-463...|\n",
       "     christmas|Here are the best...|         1|        500000|https://i.pinimg....| 2418|            image|            HikenDip|     /data/christmas|Farmhouse Christm...|100 DIY Christmas...|da8745a6-5160-46c...|\n",
       "        beauty|[PaidLink] It&#39;s m...|         1|            22|https://i.pinimg....| 1611|            image|    Hair Accessories|        /data/beauty|Natural Beauty Ti...|Over The Years, P...|051e231c-7509-437...|\n",
       "     education|Tired of Google C...|         1|          9000|https://i.pinimg....| 3813|            image|Science of Curiosity|     /data/education|Google Classroom,...|Fun Interactive D...|49f7dfe7-2e5a-403...|\n",
       "        quotes|summcoco gives yo...|         1|        306000|https://i.pinimg....| 7922|            image|Sumcoco | Decor I...|        /data/quotes|Life Quotes Love,...|45 Top Life Quote...|a584581c-1b38-473...|\n",
       "     christmas|Connecticut life ...|         1|         84000|https://i.pinimg....| 1643|            image|      Lauren McBride|     /data/christmas|Christmas Dining ...|White and Gold Ch...|41be1bcd-1ead-476...|\n",
       "       finance|Buying your first...|         1|           223|https://i.pinimg....| 5091|            image|Edwin | Cash The ...|       /data/finance|Paying Off Car Lo...|Buying Your First...|43459535-64e9-48a...|\n",
       "        travel|Are you traveling...|         1|          3000|https://i.pinimg....| 9979|            image|     Petite in Paris|        /data/travel|Torre Eiffel Pari...|Paris in the Summ...|2b2abc85-fc51-481...|\n",
       "diy-and-crafts|This ghost craft ...|         1|         56000|https://i.pinimg....| 3032|            video|       Thriving Home|/data/diy-and-crafts|Halloween Arts An...|   Puffy Ghost Craft|208b07bc-e042-4e8...|\n",
       "  mens-fashion|It&#39;s safe to assu...|         1|        383000|https://i.pinimg....| 6809|            image|        Suburban Men|  /data/mens-fashion|Business Casual D...|It&#39;s Time to Ditc...|f8ca698f-abfc-4b6...|\n",
       "     education|Amazon is a teach...|         1|         41000|https://i.pinimg....| 3644|            image|Teach Create Moti...|     /data/education|Classroom Hacks,5...|More Amazon Must ...|cde2b4e2-7711-4a8...|\n",
       "    home-decor|Believe it or not...|         1|         31000|https://i.pinimg....| 6575|            image| Maria Louise Design|    /data/home-decor|Farmhouse Remodel...|Affordable Farmho...|15c45907-657e-439...|\n",
       "    home-decor|Holiday mantle de...|         1|         83000|https://i.pinimg....| 6145|            image|     Stylin by Aylin|    /data/home-decor|Winter Home Decor...|HOLIDAY MANTLE DE...|82e13a07-db99-43a...|\n",
       "    home-decor|Holiday mantle de...|         1|         83000|https://i.pinimg....| 6145|            image|     Stylin by Aylin|    /data/home-decor|Winter Home Decor...|HOLIDAY MANTLE DE...|82e13a07-db99-43a...|\n",
       "           art|Mexican artist En...|         1|          null|https://i.pinimg....|    4|            image|         Bored Panda|           /data/art|Girl Drawing Sket...|Mexican Artist Us...|55abcd28-bda1-445...|\n",
       "     education|Podcasts for Teac...|         1|         25000|https://i.pinimg....| 4315|            image|        Math Giraffe|     /data/education|Middle School Cla...|Podcasts for Teac...|21b59ba9-829d-4c3...|\n",
       "event-planning|Sacramento Califo...|         1|          null|https://i.pinimg....| 5069|            image|     Style Me Pretty|/data/event-planning|60th Anniversary ...|The Vault: Curate...|b75b6f87-deb3-444...|\n",
       "+--------------+--------------------+----------+--------------+--------------------+-----+-----------------+--------------------+--------------------+--------------------+--------------------+--------------------+\n",
       "only showing top 20 rows\n",
       "\n",
       "</div>"
      ]
     },
     "metadata": {
      "application/vnd.databricks.v1+output": {
       "addedWidgets": {},
       "arguments": {},
       "data": "<div class=\"ansiout\">+--------------+--------------------+----------+--------------+--------------------+-----+-----------------+--------------------+--------------------+--------------------+--------------------+--------------------+\n|      category|         description|downloaded|follower_count|           image_src|  ind|is_image_or_video|         poster_name|       save_location|            tag_list|               title|           unique_id|\n+--------------+--------------------+----------+--------------+--------------------+-----+-----------------+--------------------+--------------------+--------------------+--------------------+--------------------+\n|        travel|This Costa Rica i...|         1|         10000|https://i.pinimg....|10138|            image|Wanderlust Chloe ...|        /data/travel|Costa Rica Travel...|14 Amazing Things...|927c4658-cc3f-4b9...|\n|diy-and-crafts|This post may con...|         1|        892000|https://i.pinimg....| 3156|            image|Michelle {CraftyM...|/data/diy-and-crafts|Christmas Gifts F...|Handprint Reindee...|fa6e31a4-18c2-4ec...|\n|       finance|Der #Vermögensauf...|         1|          3000|https://i.pinimg....| 5395|            image|DIVDepot – Geld s...|       /data/finance|Money Saving Chal...|So startest du mi...|71f72304-3708-45f...|\n|       finance|If you love budge...|         1|         26000|https://i.pinimg....| 5494|            image|Living Low Key | ...|       /data/finance|Financial Peace,F...|Dave Ramsey&#39;s 7 B...|8fb2af68-543b-463...|\n|     christmas|Here are the best...|         1|        500000|https://i.pinimg....| 2418|            image|            HikenDip|     /data/christmas|Farmhouse Christm...|100 DIY Christmas...|da8745a6-5160-46c...|\n|        beauty|[PaidLink] It&#39;s m...|         1|            22|https://i.pinimg....| 1611|            image|    Hair Accessories|        /data/beauty|Natural Beauty Ti...|Over The Years, P...|051e231c-7509-437...|\n|     education|Tired of Google C...|         1|          9000|https://i.pinimg....| 3813|            image|Science of Curiosity|     /data/education|Google Classroom,...|Fun Interactive D...|49f7dfe7-2e5a-403...|\n|        quotes|summcoco gives yo...|         1|        306000|https://i.pinimg....| 7922|            image|Sumcoco | Decor I...|        /data/quotes|Life Quotes Love,...|45 Top Life Quote...|a584581c-1b38-473...|\n|     christmas|Connecticut life ...|         1|         84000|https://i.pinimg....| 1643|            image|      Lauren McBride|     /data/christmas|Christmas Dining ...|White and Gold Ch...|41be1bcd-1ead-476...|\n|       finance|Buying your first...|         1|           223|https://i.pinimg....| 5091|            image|Edwin | Cash The ...|       /data/finance|Paying Off Car Lo...|Buying Your First...|43459535-64e9-48a...|\n|        travel|Are you traveling...|         1|          3000|https://i.pinimg....| 9979|            image|     Petite in Paris|        /data/travel|Torre Eiffel Pari...|Paris in the Summ...|2b2abc85-fc51-481...|\n|diy-and-crafts|This ghost craft ...|         1|         56000|https://i.pinimg....| 3032|            video|       Thriving Home|/data/diy-and-crafts|Halloween Arts An...|   Puffy Ghost Craft|208b07bc-e042-4e8...|\n|  mens-fashion|It&#39;s safe to assu...|         1|        383000|https://i.pinimg....| 6809|            image|        Suburban Men|  /data/mens-fashion|Business Casual D...|It&#39;s Time to Ditc...|f8ca698f-abfc-4b6...|\n|     education|Amazon is a teach...|         1|         41000|https://i.pinimg....| 3644|            image|Teach Create Moti...|     /data/education|Classroom Hacks,5...|More Amazon Must ...|cde2b4e2-7711-4a8...|\n|    home-decor|Believe it or not...|         1|         31000|https://i.pinimg....| 6575|            image| Maria Louise Design|    /data/home-decor|Farmhouse Remodel...|Affordable Farmho...|15c45907-657e-439...|\n|    home-decor|Holiday mantle de...|         1|         83000|https://i.pinimg....| 6145|            image|     Stylin by Aylin|    /data/home-decor|Winter Home Decor...|HOLIDAY MANTLE DE...|82e13a07-db99-43a...|\n|    home-decor|Holiday mantle de...|         1|         83000|https://i.pinimg....| 6145|            image|     Stylin by Aylin|    /data/home-decor|Winter Home Decor...|HOLIDAY MANTLE DE...|82e13a07-db99-43a...|\n|           art|Mexican artist En...|         1|          null|https://i.pinimg....|    4|            image|         Bored Panda|           /data/art|Girl Drawing Sket...|Mexican Artist Us...|55abcd28-bda1-445...|\n|     education|Podcasts for Teac...|         1|         25000|https://i.pinimg....| 4315|            image|        Math Giraffe|     /data/education|Middle School Cla...|Podcasts for Teac...|21b59ba9-829d-4c3...|\n|event-planning|Sacramento Califo...|         1|          null|https://i.pinimg....| 5069|            image|     Style Me Pretty|/data/event-planning|60th Anniversary ...|The Vault: Curate...|b75b6f87-deb3-444...|\n+--------------+--------------------+----------+--------------+--------------------+-----+-----------------+--------------------+--------------------+--------------------+--------------------+--------------------+\nonly showing top 20 rows\n\n</div>",
       "datasetInfos": [],
       "metadata": {},
       "removedWidgets": [],
       "type": "html"
      }
     },
     "output_type": "display_data"
    }
   ],
   "source": [
    "from pyspark.sql.types import IntegerType, LongType\n",
    "\n",
    "# Cast downloaded column to IntegerType\n",
    "df_pin = df_pin.withColumn(\"downloaded\", df_pin[\"downloaded\"].cast(IntegerType()))\n",
    "\n",
    "# Cast index column to LongType\n",
    "df_pin = df_pin.withColumn(\"index\", df_pin[\"index\"].cast(LongType()))\n"
   ]
  },
  {
   "cell_type": "code",
   "execution_count": null,
   "metadata": {
    "application/vnd.databricks.v1+cell": {
     "cellMetadata": {
      "byteLimit": 2048000,
      "rowLimit": 10000
     },
     "inputWidgets": {},
     "nuid": "8d45688e-9f38-42a4-b200-c272ec89a8ba",
     "showTitle": false,
     "title": ""
    }
   },
   "outputs": [
    {
     "data": {
      "text/html": [
       "<style scoped>\n",
       "  .ansiout {\n",
       "    display: block;\n",
       "    unicode-bidi: embed;\n",
       "    white-space: pre-wrap;\n",
       "    word-wrap: break-word;\n",
       "    word-break: break-all;\n",
       "    font-family: \"Menlo\", \"Monaco\", \"Consolas\", \"Ubuntu Mono\", \"Source Code Pro\", monospace;\n",
       "    font-size: 13px;\n",
       "    color: #555;\n",
       "    margin-left: 4px;\n",
       "    line-height: 19px;\n",
       "  }\n",
       "</style>\n",
       "<div class=\"ansiout\">+-----+--------------------+--------------------+--------------------+--------------+--------------------+--------------------+-----------------+--------------------+--------------------+--------------+\n",
       "  ind|           unique_id|               title|         description|follower_count|         poster_name|            tag_list|is_image_or_video|           image_src|       save_location|      category|\n",
       "+-----+--------------------+--------------------+--------------------+--------------+--------------------+--------------------+-----------------+--------------------+--------------------+--------------+\n",
       "10138|927c4658-cc3f-4b9...|14 Amazing Things...|This Costa Rica i...|         10000|Wanderlust Chloe ...|Costa Rica Travel...|            image|https://i.pinimg....|        /data/travel|        travel|\n",
       " 3156|fa6e31a4-18c2-4ec...|Handprint Reindee...|This post may con...|        892000|Michelle {CraftyM...|Christmas Gifts F...|            image|https://i.pinimg....|/data/diy-and-crafts|diy-and-crafts|\n",
       " 5395|71f72304-3708-45f...|So startest du mi...|Der #Vermögensauf...|          3000|DIVDepot – Geld s...|Money Saving Chal...|            image|https://i.pinimg....|       /data/finance|       finance|\n",
       " 5494|8fb2af68-543b-463...|Dave Ramsey&#39;s 7 B...|If you love budge...|         26000|Living Low Key | ...|Financial Peace,F...|            image|https://i.pinimg....|       /data/finance|       finance|\n",
       " 2418|da8745a6-5160-46c...|100 DIY Christmas...|Here are the best...|        500000|            HikenDip|Farmhouse Christm...|            image|https://i.pinimg....|     /data/christmas|     christmas|\n",
       " 1611|051e231c-7509-437...|Over The Years, P...|[PaidLink] It&#39;s m...|            22|    Hair Accessories|Natural Beauty Ti...|            image|https://i.pinimg....|        /data/beauty|        beauty|\n",
       " 3813|49f7dfe7-2e5a-403...|Fun Interactive D...|Tired of Google C...|          9000|Science of Curiosity|Google Classroom,...|            image|https://i.pinimg....|     /data/education|     education|\n",
       " 7922|a584581c-1b38-473...|45 Top Life Quote...|summcoco gives yo...|        306000|Sumcoco | Decor I...|Life Quotes Love,...|            image|https://i.pinimg....|        /data/quotes|        quotes|\n",
       " 1643|41be1bcd-1ead-476...|White and Gold Ch...|Connecticut life ...|         84000|      Lauren McBride|Christmas Dining ...|            image|https://i.pinimg....|     /data/christmas|     christmas|\n",
       " 5091|43459535-64e9-48a...|Buying Your First...|Buying your first...|           223|Edwin | Cash The ...|Paying Off Car Lo...|            image|https://i.pinimg....|       /data/finance|       finance|\n",
       " 9979|2b2abc85-fc51-481...|Paris in the Summ...|Are you traveling...|          3000|     Petite in Paris|Torre Eiffel Pari...|            image|https://i.pinimg....|        /data/travel|        travel|\n",
       " 3032|208b07bc-e042-4e8...|   Puffy Ghost Craft|This ghost craft ...|         56000|       Thriving Home|Halloween Arts An...|            video|https://i.pinimg....|/data/diy-and-crafts|diy-and-crafts|\n",
       " 6809|f8ca698f-abfc-4b6...|It&#39;s Time to Ditc...|It&#39;s safe to assu...|        383000|        Suburban Men|Business Casual D...|            image|https://i.pinimg....|  /data/mens-fashion|  mens-fashion|\n",
       " 3644|cde2b4e2-7711-4a8...|More Amazon Must ...|Amazon is a teach...|         41000|Teach Create Moti...|Classroom Hacks,5...|            image|https://i.pinimg....|     /data/education|     education|\n",
       " 6575|15c45907-657e-439...|Affordable Farmho...|Believe it or not...|         31000| Maria Louise Design|Farmhouse Remodel...|            image|https://i.pinimg....|    /data/home-decor|    home-decor|\n",
       " 6145|82e13a07-db99-43a...|HOLIDAY MANTLE DE...|Holiday mantle de...|         83000|     Stylin by Aylin|Winter Home Decor...|            image|https://i.pinimg....|    /data/home-decor|    home-decor|\n",
       " 6145|82e13a07-db99-43a...|HOLIDAY MANTLE DE...|Holiday mantle de...|         83000|     Stylin by Aylin|Winter Home Decor...|            image|https://i.pinimg....|    /data/home-decor|    home-decor|\n",
       "    4|55abcd28-bda1-445...|Mexican Artist Us...|Mexican artist En...|          null|         Bored Panda|Girl Drawing Sket...|            image|https://i.pinimg....|           /data/art|           art|\n",
       " 4315|21b59ba9-829d-4c3...|Podcasts for Teac...|Podcasts for Teac...|         25000|        Math Giraffe|Middle School Cla...|            image|https://i.pinimg....|     /data/education|     education|\n",
       " 5069|b75b6f87-deb3-444...|The Vault: Curate...|Sacramento Califo...|          null|     Style Me Pretty|60th Anniversary ...|            image|https://i.pinimg....|/data/event-planning|event-planning|\n",
       "+-----+--------------------+--------------------+--------------------+--------------+--------------------+--------------------+-----------------+--------------------+--------------------+--------------+\n",
       "only showing top 20 rows\n",
       "\n",
       "</div>"
      ]
     },
     "metadata": {
      "application/vnd.databricks.v1+output": {
       "addedWidgets": {},
       "arguments": {},
       "data": "<div class=\"ansiout\">+-----+--------------------+--------------------+--------------------+--------------+--------------------+--------------------+-----------------+--------------------+--------------------+--------------+\n|  ind|           unique_id|               title|         description|follower_count|         poster_name|            tag_list|is_image_or_video|           image_src|       save_location|      category|\n+-----+--------------------+--------------------+--------------------+--------------+--------------------+--------------------+-----------------+--------------------+--------------------+--------------+\n|10138|927c4658-cc3f-4b9...|14 Amazing Things...|This Costa Rica i...|         10000|Wanderlust Chloe ...|Costa Rica Travel...|            image|https://i.pinimg....|        /data/travel|        travel|\n| 3156|fa6e31a4-18c2-4ec...|Handprint Reindee...|This post may con...|        892000|Michelle {CraftyM...|Christmas Gifts F...|            image|https://i.pinimg....|/data/diy-and-crafts|diy-and-crafts|\n| 5395|71f72304-3708-45f...|So startest du mi...|Der #Vermögensauf...|          3000|DIVDepot – Geld s...|Money Saving Chal...|            image|https://i.pinimg....|       /data/finance|       finance|\n| 5494|8fb2af68-543b-463...|Dave Ramsey&#39;s 7 B...|If you love budge...|         26000|Living Low Key | ...|Financial Peace,F...|            image|https://i.pinimg....|       /data/finance|       finance|\n| 2418|da8745a6-5160-46c...|100 DIY Christmas...|Here are the best...|        500000|            HikenDip|Farmhouse Christm...|            image|https://i.pinimg....|     /data/christmas|     christmas|\n| 1611|051e231c-7509-437...|Over The Years, P...|[PaidLink] It&#39;s m...|            22|    Hair Accessories|Natural Beauty Ti...|            image|https://i.pinimg....|        /data/beauty|        beauty|\n| 3813|49f7dfe7-2e5a-403...|Fun Interactive D...|Tired of Google C...|          9000|Science of Curiosity|Google Classroom,...|            image|https://i.pinimg....|     /data/education|     education|\n| 7922|a584581c-1b38-473...|45 Top Life Quote...|summcoco gives yo...|        306000|Sumcoco | Decor I...|Life Quotes Love,...|            image|https://i.pinimg....|        /data/quotes|        quotes|\n| 1643|41be1bcd-1ead-476...|White and Gold Ch...|Connecticut life ...|         84000|      Lauren McBride|Christmas Dining ...|            image|https://i.pinimg....|     /data/christmas|     christmas|\n| 5091|43459535-64e9-48a...|Buying Your First...|Buying your first...|           223|Edwin | Cash The ...|Paying Off Car Lo...|            image|https://i.pinimg....|       /data/finance|       finance|\n| 9979|2b2abc85-fc51-481...|Paris in the Summ...|Are you traveling...|          3000|     Petite in Paris|Torre Eiffel Pari...|            image|https://i.pinimg....|        /data/travel|        travel|\n| 3032|208b07bc-e042-4e8...|   Puffy Ghost Craft|This ghost craft ...|         56000|       Thriving Home|Halloween Arts An...|            video|https://i.pinimg....|/data/diy-and-crafts|diy-and-crafts|\n| 6809|f8ca698f-abfc-4b6...|It&#39;s Time to Ditc...|It&#39;s safe to assu...|        383000|        Suburban Men|Business Casual D...|            image|https://i.pinimg....|  /data/mens-fashion|  mens-fashion|\n| 3644|cde2b4e2-7711-4a8...|More Amazon Must ...|Amazon is a teach...|         41000|Teach Create Moti...|Classroom Hacks,5...|            image|https://i.pinimg....|     /data/education|     education|\n| 6575|15c45907-657e-439...|Affordable Farmho...|Believe it or not...|         31000| Maria Louise Design|Farmhouse Remodel...|            image|https://i.pinimg....|    /data/home-decor|    home-decor|\n| 6145|82e13a07-db99-43a...|HOLIDAY MANTLE DE...|Holiday mantle de...|         83000|     Stylin by Aylin|Winter Home Decor...|            image|https://i.pinimg....|    /data/home-decor|    home-decor|\n| 6145|82e13a07-db99-43a...|HOLIDAY MANTLE DE...|Holiday mantle de...|         83000|     Stylin by Aylin|Winter Home Decor...|            image|https://i.pinimg....|    /data/home-decor|    home-decor|\n|    4|55abcd28-bda1-445...|Mexican Artist Us...|Mexican artist En...|          null|         Bored Panda|Girl Drawing Sket...|            image|https://i.pinimg....|           /data/art|           art|\n| 4315|21b59ba9-829d-4c3...|Podcasts for Teac...|Podcasts for Teac...|         25000|        Math Giraffe|Middle School Cla...|            image|https://i.pinimg....|     /data/education|     education|\n| 5069|b75b6f87-deb3-444...|The Vault: Curate...|Sacramento Califo...|          null|     Style Me Pretty|60th Anniversary ...|            image|https://i.pinimg....|/data/event-planning|event-planning|\n+-----+--------------------+--------------------+--------------------+--------------+--------------------+--------------------+-----------------+--------------------+--------------------+--------------+\nonly showing top 20 rows\n\n</div>",
       "datasetInfos": [],
       "metadata": {},
       "removedWidgets": [],
       "type": "html"
      }
     },
     "output_type": "display_data"
    }
   ],
   "source": [
    "# Reorder the DataFrame columns\n",
    "df_pin = df_pin.select(\"ind\", \"unique_id\", \"title\", \"description\", \"follower_count\", \n",
    "                       \"poster_name\", \"tag_list\", \"is_image_or_video\", \"image_src\", \n",
    "                       \"save_location\", \"category\")\n",
    "\n",
    "# Show the DataFrame after reordering\n",
    "df_pin.show()\n",
    "display(df_pin.head())"
   ]
  },
  {
   "cell_type": "markdown",
   "metadata": {
    "application/vnd.databricks.v1+cell": {
     "cellMetadata": {
      "byteLimit": 2048000,
      "rowLimit": 10000
     },
     "inputWidgets": {},
     "nuid": "db087075-eaf8-4e92-9044-9d1dc60def14",
     "showTitle": false,
     "title": ""
    }
   },
   "source": [
    "## Task 2:"
   ]
  },
  {
   "cell_type": "markdown",
   "metadata": {
    "application/vnd.databricks.v1+cell": {
     "cellMetadata": {
      "byteLimit": 2048000,
      "rowLimit": 10000
     },
     "inputWidgets": {},
     "nuid": "3d2c8ce4-d984-4cfe-8a5f-e3b9d4565f6d",
     "showTitle": false,
     "title": ""
    }
   },
   "source": [
    "#### To clean the df_geo DataFrame you should perform the following transformations:\n",
    "\n",
    "- Create a new column coordinates that contains an array based on the latitude and longitude columns\n",
    "- Drop the latitude and longitude columns from the DataFrame\n",
    "- Convert the timestamp column from a string to a timestamp data type\n",
    "- Reorder the DataFrame columns to have the following column order:\n",
    "  - ind\n",
    "  - country\n",
    "  - coordinates\n",
    "  - timestamp"
   ]
  },
  {
   "cell_type": "code",
   "execution_count": null,
   "metadata": {
    "application/vnd.databricks.v1+cell": {
     "cellMetadata": {
      "byteLimit": 2048000,
      "rowLimit": 10000
     },
     "inputWidgets": {},
     "nuid": "222eb65b-8a3f-423c-b826-00bd64d6b53a",
     "showTitle": false,
     "title": ""
    }
   },
   "outputs": [
    {
     "data": {
      "text/html": [
       "<style scoped>\n",
       "  .ansiout {\n",
       "    display: block;\n",
       "    unicode-bidi: embed;\n",
       "    white-space: pre-wrap;\n",
       "    word-wrap: break-word;\n",
       "    word-break: break-all;\n",
       "    font-family: \"Menlo\", \"Monaco\", \"Consolas\", \"Ubuntu Mono\", \"Source Code Pro\", monospace;\n",
       "    font-size: 13px;\n",
       "    color: #555;\n",
       "    margin-left: 4px;\n",
       "    line-height: 19px;\n",
       "  }\n",
       "</style>\n",
       "<div class=\"ansiout\">+--------------------+-----+--------+---------+-------------------+--------------------+\n",
       "             country|  ind|latitude|longitude|          timestamp|         coordinates|\n",
       "+--------------------+-----+--------+---------+-------------------+--------------------+\n",
       "Antarctica (the t...| 2418|-88.4642| -171.061|2022-05-27 11:30:59|[-88.4642, -171.061]|\n",
       "Bouvet Island (Bo...| 9270|-84.3984| -144.933|2022-05-23 03:24:24|[-84.3984, -144.933]|\n",
       "Cocos (Keeling) I...|10794|-89.5236| -154.567|2022-01-01 02:26:50|[-89.5236, -154.567]|\n",
       "British Virgin Is...| 5395|-6.93422| -24.9989|2020-08-15 19:30:19|[-6.93422, -24.9989]|\n",
       "Central African R...| 2074|-52.3213|   -50.11|2019-11-03 05:41:59|  [-52.3213, -50.11]|\n",
       "Libyan Arab Jamah...| 1170| 56.1198|  20.2963|2019-08-07 22:17:07|  [56.1198, 20.2963]|\n",
       "British Virgin Is...| 9550| -84.918|  7.23235|2022-03-23 00:25:45|  [-84.918, 7.23235]|\n",
       " Antigua and Barbuda| 7922|-88.0974| -172.052|2021-01-27 09:14:19|[-88.0974, -172.052]|\n",
       "  Dominican Republic| 9979| 14.9967| -120.682|2018-07-18 19:01:46| [14.9967, -120.682]|\n",
       "  Dominican Republic| 6575| 81.7192|  61.5152|2020-12-29 22:59:37|  [81.7192, 61.5152]|\n",
       "      American Samoa| 3032|-66.7253| -122.489|2018-04-14 09:28:18|[-66.7253, -122.489]|\n",
       "      American Samoa|  637|-41.2244| -158.022|2018-06-06 01:25:58|[-41.2244, -158.022]|\n",
       "        Burkina Faso|10321|-89.1005| -151.255|2022-10-09 08:06:50|[-89.1005, -151.255]|\n",
       "       Cote d&#39;Ivoire| 2923|-84.6302| -164.507|2019-09-08 22:53:09|[-84.6302, -164.507]|\n",
       "       French Guiana| 8304|-28.8852|  -164.87|2019-09-13 04:50:29| [-28.8852, -164.87]|\n",
       "       Cote d&#39;Ivoire| 4315|-45.8508|  66.1003|2019-12-15 03:51:28| [-45.8508, 66.1003]|\n",
       "         Afghanistan| 4249|-88.5478| -174.971|2021-09-01 11:10:02|[-88.5478, -174.971]|\n",
       "          Bangladesh| 6809|-89.4254| -161.818|2020-04-17 13:20:43|[-89.4254, -161.818]|\n",
       "          Azerbaijan| 5069|-63.0063| -157.474|2021-03-20 09:32:44|[-63.0063, -157.474]|\n",
       "          Mozambique| 6145|-65.9079| -143.845|2019-12-05 02:09:44|[-65.9079, -143.845]|\n",
       "+--------------------+-----+--------+---------+-------------------+--------------------+\n",
       "only showing top 20 rows\n",
       "\n",
       "</div>"
      ]
     },
     "metadata": {
      "application/vnd.databricks.v1+output": {
       "addedWidgets": {},
       "arguments": {},
       "data": "<div class=\"ansiout\">+--------------------+-----+--------+---------+-------------------+--------------------+\n|             country|  ind|latitude|longitude|          timestamp|         coordinates|\n+--------------------+-----+--------+---------+-------------------+--------------------+\n|Antarctica (the t...| 2418|-88.4642| -171.061|2022-05-27 11:30:59|[-88.4642, -171.061]|\n|Bouvet Island (Bo...| 9270|-84.3984| -144.933|2022-05-23 03:24:24|[-84.3984, -144.933]|\n|Cocos (Keeling) I...|10794|-89.5236| -154.567|2022-01-01 02:26:50|[-89.5236, -154.567]|\n|British Virgin Is...| 5395|-6.93422| -24.9989|2020-08-15 19:30:19|[-6.93422, -24.9989]|\n|Central African R...| 2074|-52.3213|   -50.11|2019-11-03 05:41:59|  [-52.3213, -50.11]|\n|Libyan Arab Jamah...| 1170| 56.1198|  20.2963|2019-08-07 22:17:07|  [56.1198, 20.2963]|\n|British Virgin Is...| 9550| -84.918|  7.23235|2022-03-23 00:25:45|  [-84.918, 7.23235]|\n| Antigua and Barbuda| 7922|-88.0974| -172.052|2021-01-27 09:14:19|[-88.0974, -172.052]|\n|  Dominican Republic| 9979| 14.9967| -120.682|2018-07-18 19:01:46| [14.9967, -120.682]|\n|  Dominican Republic| 6575| 81.7192|  61.5152|2020-12-29 22:59:37|  [81.7192, 61.5152]|\n|      American Samoa| 3032|-66.7253| -122.489|2018-04-14 09:28:18|[-66.7253, -122.489]|\n|      American Samoa|  637|-41.2244| -158.022|2018-06-06 01:25:58|[-41.2244, -158.022]|\n|        Burkina Faso|10321|-89.1005| -151.255|2022-10-09 08:06:50|[-89.1005, -151.255]|\n|       Cote d&#39;Ivoire| 2923|-84.6302| -164.507|2019-09-08 22:53:09|[-84.6302, -164.507]|\n|       French Guiana| 8304|-28.8852|  -164.87|2019-09-13 04:50:29| [-28.8852, -164.87]|\n|       Cote d&#39;Ivoire| 4315|-45.8508|  66.1003|2019-12-15 03:51:28| [-45.8508, 66.1003]|\n|         Afghanistan| 4249|-88.5478| -174.971|2021-09-01 11:10:02|[-88.5478, -174.971]|\n|          Bangladesh| 6809|-89.4254| -161.818|2020-04-17 13:20:43|[-89.4254, -161.818]|\n|          Azerbaijan| 5069|-63.0063| -157.474|2021-03-20 09:32:44|[-63.0063, -157.474]|\n|          Mozambique| 6145|-65.9079| -143.845|2019-12-05 02:09:44|[-65.9079, -143.845]|\n+--------------------+-----+--------+---------+-------------------+--------------------+\nonly showing top 20 rows\n\n</div>",
       "datasetInfos": [],
       "metadata": {},
       "removedWidgets": [],
       "type": "html"
      }
     },
     "output_type": "display_data"
    }
   ],
   "source": [
    "# MuiTypography-root MuiTypography-body2 css-15fqxqr\n",
    "from pyspark.sql.functions import array, col\n",
    "\n",
    "# Create a new column coordinates containing an array of latitude and longitude\n",
    "df_geo = df_geo.withColumn(\"coordinates\", array(col(\"latitude\"), col(\"longitude\")))\n",
    "\n",
    "# Show the DataFrame after creating the coordinates column\n",
    "df_geo.show()\n"
   ]
  },
  {
   "cell_type": "code",
   "execution_count": null,
   "metadata": {
    "application/vnd.databricks.v1+cell": {
     "cellMetadata": {
      "byteLimit": 2048000,
      "rowLimit": 10000
     },
     "inputWidgets": {},
     "nuid": "7385fe46-d5e9-4550-9a86-7114fee5d127",
     "showTitle": false,
     "title": ""
    }
   },
   "outputs": [
    {
     "data": {
      "text/html": [
       "<style scoped>\n",
       "  .ansiout {\n",
       "    display: block;\n",
       "    unicode-bidi: embed;\n",
       "    white-space: pre-wrap;\n",
       "    word-wrap: break-word;\n",
       "    word-break: break-all;\n",
       "    font-family: \"Menlo\", \"Monaco\", \"Consolas\", \"Ubuntu Mono\", \"Source Code Pro\", monospace;\n",
       "    font-size: 13px;\n",
       "    color: #555;\n",
       "    margin-left: 4px;\n",
       "    line-height: 19px;\n",
       "  }\n",
       "</style>\n",
       "<div class=\"ansiout\">+--------------------+-----+-------------------+--------------------+\n",
       "             country|  ind|          timestamp|         coordinates|\n",
       "+--------------------+-----+-------------------+--------------------+\n",
       "Antarctica (the t...| 2418|2022-05-27 11:30:59|[-88.4642, -171.061]|\n",
       "Bouvet Island (Bo...| 9270|2022-05-23 03:24:24|[-84.3984, -144.933]|\n",
       "Cocos (Keeling) I...|10794|2022-01-01 02:26:50|[-89.5236, -154.567]|\n",
       "British Virgin Is...| 5395|2020-08-15 19:30:19|[-6.93422, -24.9989]|\n",
       "Central African R...| 2074|2019-11-03 05:41:59|  [-52.3213, -50.11]|\n",
       "Libyan Arab Jamah...| 1170|2019-08-07 22:17:07|  [56.1198, 20.2963]|\n",
       "British Virgin Is...| 9550|2022-03-23 00:25:45|  [-84.918, 7.23235]|\n",
       " Antigua and Barbuda| 7922|2021-01-27 09:14:19|[-88.0974, -172.052]|\n",
       "  Dominican Republic| 9979|2018-07-18 19:01:46| [14.9967, -120.682]|\n",
       "  Dominican Republic| 6575|2020-12-29 22:59:37|  [81.7192, 61.5152]|\n",
       "      American Samoa| 3032|2018-04-14 09:28:18|[-66.7253, -122.489]|\n",
       "      American Samoa|  637|2018-06-06 01:25:58|[-41.2244, -158.022]|\n",
       "        Burkina Faso|10321|2022-10-09 08:06:50|[-89.1005, -151.255]|\n",
       "       Cote d&#39;Ivoire| 2923|2019-09-08 22:53:09|[-84.6302, -164.507]|\n",
       "       French Guiana| 8304|2019-09-13 04:50:29| [-28.8852, -164.87]|\n",
       "       Cote d&#39;Ivoire| 4315|2019-12-15 03:51:28| [-45.8508, 66.1003]|\n",
       "         Afghanistan| 4249|2021-09-01 11:10:02|[-88.5478, -174.971]|\n",
       "          Bangladesh| 6809|2020-04-17 13:20:43|[-89.4254, -161.818]|\n",
       "          Azerbaijan| 5069|2021-03-20 09:32:44|[-63.0063, -157.474]|\n",
       "          Mozambique| 6145|2019-12-05 02:09:44|[-65.9079, -143.845]|\n",
       "+--------------------+-----+-------------------+--------------------+\n",
       "only showing top 20 rows\n",
       "\n",
       "</div>"
      ]
     },
     "metadata": {
      "application/vnd.databricks.v1+output": {
       "addedWidgets": {},
       "arguments": {},
       "data": "<div class=\"ansiout\">+--------------------+-----+-------------------+--------------------+\n|             country|  ind|          timestamp|         coordinates|\n+--------------------+-----+-------------------+--------------------+\n|Antarctica (the t...| 2418|2022-05-27 11:30:59|[-88.4642, -171.061]|\n|Bouvet Island (Bo...| 9270|2022-05-23 03:24:24|[-84.3984, -144.933]|\n|Cocos (Keeling) I...|10794|2022-01-01 02:26:50|[-89.5236, -154.567]|\n|British Virgin Is...| 5395|2020-08-15 19:30:19|[-6.93422, -24.9989]|\n|Central African R...| 2074|2019-11-03 05:41:59|  [-52.3213, -50.11]|\n|Libyan Arab Jamah...| 1170|2019-08-07 22:17:07|  [56.1198, 20.2963]|\n|British Virgin Is...| 9550|2022-03-23 00:25:45|  [-84.918, 7.23235]|\n| Antigua and Barbuda| 7922|2021-01-27 09:14:19|[-88.0974, -172.052]|\n|  Dominican Republic| 9979|2018-07-18 19:01:46| [14.9967, -120.682]|\n|  Dominican Republic| 6575|2020-12-29 22:59:37|  [81.7192, 61.5152]|\n|      American Samoa| 3032|2018-04-14 09:28:18|[-66.7253, -122.489]|\n|      American Samoa|  637|2018-06-06 01:25:58|[-41.2244, -158.022]|\n|        Burkina Faso|10321|2022-10-09 08:06:50|[-89.1005, -151.255]|\n|       Cote d&#39;Ivoire| 2923|2019-09-08 22:53:09|[-84.6302, -164.507]|\n|       French Guiana| 8304|2019-09-13 04:50:29| [-28.8852, -164.87]|\n|       Cote d&#39;Ivoire| 4315|2019-12-15 03:51:28| [-45.8508, 66.1003]|\n|         Afghanistan| 4249|2021-09-01 11:10:02|[-88.5478, -174.971]|\n|          Bangladesh| 6809|2020-04-17 13:20:43|[-89.4254, -161.818]|\n|          Azerbaijan| 5069|2021-03-20 09:32:44|[-63.0063, -157.474]|\n|          Mozambique| 6145|2019-12-05 02:09:44|[-65.9079, -143.845]|\n+--------------------+-----+-------------------+--------------------+\nonly showing top 20 rows\n\n</div>",
       "datasetInfos": [],
       "metadata": {},
       "removedWidgets": [],
       "type": "html"
      }
     },
     "output_type": "display_data"
    }
   ],
   "source": [
    "# Drop the latitude and longitude columns\n",
    "df_geo = df_geo.drop(\"latitude\", \"longitude\")\n",
    "\n",
    "# Show the DataFrame after dropping the columns\n",
    "df_geo.show()\n"
   ]
  },
  {
   "cell_type": "code",
   "execution_count": null,
   "metadata": {
    "application/vnd.databricks.v1+cell": {
     "cellMetadata": {
      "byteLimit": 2048000,
      "rowLimit": 10000
     },
     "inputWidgets": {},
     "nuid": "342633c9-684a-4f23-a22f-5a06bca762d0",
     "showTitle": false,
     "title": ""
    }
   },
   "outputs": [
    {
     "data": {
      "text/html": [
       "<style scoped>\n",
       "  .ansiout {\n",
       "    display: block;\n",
       "    unicode-bidi: embed;\n",
       "    white-space: pre-wrap;\n",
       "    word-wrap: break-word;\n",
       "    word-break: break-all;\n",
       "    font-family: \"Menlo\", \"Monaco\", \"Consolas\", \"Ubuntu Mono\", \"Source Code Pro\", monospace;\n",
       "    font-size: 13px;\n",
       "    color: #555;\n",
       "    margin-left: 4px;\n",
       "    line-height: 19px;\n",
       "  }\n",
       "</style>\n",
       "<div class=\"ansiout\">+--------------------+-----+-------------------+--------------------+\n",
       "             country|  ind|          timestamp|         coordinates|\n",
       "+--------------------+-----+-------------------+--------------------+\n",
       "Antarctica (the t...| 2418|2022-05-27 11:30:59|[-88.4642, -171.061]|\n",
       "Bouvet Island (Bo...| 9270|2022-05-23 03:24:24|[-84.3984, -144.933]|\n",
       "Cocos (Keeling) I...|10794|2022-01-01 02:26:50|[-89.5236, -154.567]|\n",
       "British Virgin Is...| 5395|2020-08-15 19:30:19|[-6.93422, -24.9989]|\n",
       "Central African R...| 2074|2019-11-03 05:41:59|  [-52.3213, -50.11]|\n",
       "Libyan Arab Jamah...| 1170|2019-08-07 22:17:07|  [56.1198, 20.2963]|\n",
       "British Virgin Is...| 9550|2022-03-23 00:25:45|  [-84.918, 7.23235]|\n",
       " Antigua and Barbuda| 7922|2021-01-27 09:14:19|[-88.0974, -172.052]|\n",
       "  Dominican Republic| 9979|2018-07-18 19:01:46| [14.9967, -120.682]|\n",
       "  Dominican Republic| 6575|2020-12-29 22:59:37|  [81.7192, 61.5152]|\n",
       "      American Samoa| 3032|2018-04-14 09:28:18|[-66.7253, -122.489]|\n",
       "      American Samoa|  637|2018-06-06 01:25:58|[-41.2244, -158.022]|\n",
       "        Burkina Faso|10321|2022-10-09 08:06:50|[-89.1005, -151.255]|\n",
       "       Cote d&#39;Ivoire| 2923|2019-09-08 22:53:09|[-84.6302, -164.507]|\n",
       "       French Guiana| 8304|2019-09-13 04:50:29| [-28.8852, -164.87]|\n",
       "       Cote d&#39;Ivoire| 4315|2019-12-15 03:51:28| [-45.8508, 66.1003]|\n",
       "         Afghanistan| 4249|2021-09-01 11:10:02|[-88.5478, -174.971]|\n",
       "          Bangladesh| 6809|2020-04-17 13:20:43|[-89.4254, -161.818]|\n",
       "          Azerbaijan| 5069|2021-03-20 09:32:44|[-63.0063, -157.474]|\n",
       "          Mozambique| 6145|2019-12-05 02:09:44|[-65.9079, -143.845]|\n",
       "+--------------------+-----+-------------------+--------------------+\n",
       "only showing top 20 rows\n",
       "\n",
       "</div>"
      ]
     },
     "metadata": {
      "application/vnd.databricks.v1+output": {
       "addedWidgets": {},
       "arguments": {},
       "data": "<div class=\"ansiout\">+--------------------+-----+-------------------+--------------------+\n|             country|  ind|          timestamp|         coordinates|\n+--------------------+-----+-------------------+--------------------+\n|Antarctica (the t...| 2418|2022-05-27 11:30:59|[-88.4642, -171.061]|\n|Bouvet Island (Bo...| 9270|2022-05-23 03:24:24|[-84.3984, -144.933]|\n|Cocos (Keeling) I...|10794|2022-01-01 02:26:50|[-89.5236, -154.567]|\n|British Virgin Is...| 5395|2020-08-15 19:30:19|[-6.93422, -24.9989]|\n|Central African R...| 2074|2019-11-03 05:41:59|  [-52.3213, -50.11]|\n|Libyan Arab Jamah...| 1170|2019-08-07 22:17:07|  [56.1198, 20.2963]|\n|British Virgin Is...| 9550|2022-03-23 00:25:45|  [-84.918, 7.23235]|\n| Antigua and Barbuda| 7922|2021-01-27 09:14:19|[-88.0974, -172.052]|\n|  Dominican Republic| 9979|2018-07-18 19:01:46| [14.9967, -120.682]|\n|  Dominican Republic| 6575|2020-12-29 22:59:37|  [81.7192, 61.5152]|\n|      American Samoa| 3032|2018-04-14 09:28:18|[-66.7253, -122.489]|\n|      American Samoa|  637|2018-06-06 01:25:58|[-41.2244, -158.022]|\n|        Burkina Faso|10321|2022-10-09 08:06:50|[-89.1005, -151.255]|\n|       Cote d&#39;Ivoire| 2923|2019-09-08 22:53:09|[-84.6302, -164.507]|\n|       French Guiana| 8304|2019-09-13 04:50:29| [-28.8852, -164.87]|\n|       Cote d&#39;Ivoire| 4315|2019-12-15 03:51:28| [-45.8508, 66.1003]|\n|         Afghanistan| 4249|2021-09-01 11:10:02|[-88.5478, -174.971]|\n|          Bangladesh| 6809|2020-04-17 13:20:43|[-89.4254, -161.818]|\n|          Azerbaijan| 5069|2021-03-20 09:32:44|[-63.0063, -157.474]|\n|          Mozambique| 6145|2019-12-05 02:09:44|[-65.9079, -143.845]|\n+--------------------+-----+-------------------+--------------------+\nonly showing top 20 rows\n\n</div>",
       "datasetInfos": [],
       "metadata": {},
       "removedWidgets": [],
       "type": "html"
      }
     },
     "output_type": "display_data"
    }
   ],
   "source": [
    "from pyspark.sql.functions import to_timestamp\n",
    "\n",
    "# Convert the timestamp column to a timestamp data type\n",
    "df_geo = df_geo.withColumn(\"timestamp\", to_timestamp(\"timestamp\"))\n",
    "\n",
    "# Show the DataFrame after converting the timestamp column\n",
    "df_geo.show()\n"
   ]
  },
  {
   "cell_type": "code",
   "execution_count": null,
   "metadata": {
    "application/vnd.databricks.v1+cell": {
     "cellMetadata": {
      "byteLimit": 2048000,
      "rowLimit": 10000
     },
     "inputWidgets": {},
     "nuid": "01896373-6342-4e14-b418-4b340df1f4c1",
     "showTitle": false,
     "title": ""
    }
   },
   "outputs": [
    {
     "data": {
      "text/html": [
       "<style scoped>\n",
       "  .ansiout {\n",
       "    display: block;\n",
       "    unicode-bidi: embed;\n",
       "    white-space: pre-wrap;\n",
       "    word-wrap: break-word;\n",
       "    word-break: break-all;\n",
       "    font-family: \"Menlo\", \"Monaco\", \"Consolas\", \"Ubuntu Mono\", \"Source Code Pro\", monospace;\n",
       "    font-size: 13px;\n",
       "    color: #555;\n",
       "    margin-left: 4px;\n",
       "    line-height: 19px;\n",
       "  }\n",
       "</style>\n",
       "<div class=\"ansiout\">+-----+--------------------+--------------------+-------------------+\n",
       "  ind|             country|         coordinates|          timestamp|\n",
       "+-----+--------------------+--------------------+-------------------+\n",
       " 2418|Antarctica (the t...|[-88.4642, -171.061]|2022-05-27 11:30:59|\n",
       " 9270|Bouvet Island (Bo...|[-84.3984, -144.933]|2022-05-23 03:24:24|\n",
       "10794|Cocos (Keeling) I...|[-89.5236, -154.567]|2022-01-01 02:26:50|\n",
       " 5395|British Virgin Is...|[-6.93422, -24.9989]|2020-08-15 19:30:19|\n",
       " 2074|Central African R...|  [-52.3213, -50.11]|2019-11-03 05:41:59|\n",
       " 1170|Libyan Arab Jamah...|  [56.1198, 20.2963]|2019-08-07 22:17:07|\n",
       " 9550|British Virgin Is...|  [-84.918, 7.23235]|2022-03-23 00:25:45|\n",
       " 7922| Antigua and Barbuda|[-88.0974, -172.052]|2021-01-27 09:14:19|\n",
       " 9979|  Dominican Republic| [14.9967, -120.682]|2018-07-18 19:01:46|\n",
       " 6575|  Dominican Republic|  [81.7192, 61.5152]|2020-12-29 22:59:37|\n",
       " 3032|      American Samoa|[-66.7253, -122.489]|2018-04-14 09:28:18|\n",
       "  637|      American Samoa|[-41.2244, -158.022]|2018-06-06 01:25:58|\n",
       "10321|        Burkina Faso|[-89.1005, -151.255]|2022-10-09 08:06:50|\n",
       " 2923|       Cote d&#39;Ivoire|[-84.6302, -164.507]|2019-09-08 22:53:09|\n",
       " 8304|       French Guiana| [-28.8852, -164.87]|2019-09-13 04:50:29|\n",
       " 4315|       Cote d&#39;Ivoire| [-45.8508, 66.1003]|2019-12-15 03:51:28|\n",
       " 4249|         Afghanistan|[-88.5478, -174.971]|2021-09-01 11:10:02|\n",
       " 6809|          Bangladesh|[-89.4254, -161.818]|2020-04-17 13:20:43|\n",
       " 5069|          Azerbaijan|[-63.0063, -157.474]|2021-03-20 09:32:44|\n",
       " 6145|          Mozambique|[-65.9079, -143.845]|2019-12-05 02:09:44|\n",
       "+-----+--------------------+--------------------+-------------------+\n",
       "only showing top 20 rows\n",
       "\n",
       "</div>"
      ]
     },
     "metadata": {
      "application/vnd.databricks.v1+output": {
       "addedWidgets": {},
       "arguments": {},
       "data": "<div class=\"ansiout\">+-----+--------------------+--------------------+-------------------+\n|  ind|             country|         coordinates|          timestamp|\n+-----+--------------------+--------------------+-------------------+\n| 2418|Antarctica (the t...|[-88.4642, -171.061]|2022-05-27 11:30:59|\n| 9270|Bouvet Island (Bo...|[-84.3984, -144.933]|2022-05-23 03:24:24|\n|10794|Cocos (Keeling) I...|[-89.5236, -154.567]|2022-01-01 02:26:50|\n| 5395|British Virgin Is...|[-6.93422, -24.9989]|2020-08-15 19:30:19|\n| 2074|Central African R...|  [-52.3213, -50.11]|2019-11-03 05:41:59|\n| 1170|Libyan Arab Jamah...|  [56.1198, 20.2963]|2019-08-07 22:17:07|\n| 9550|British Virgin Is...|  [-84.918, 7.23235]|2022-03-23 00:25:45|\n| 7922| Antigua and Barbuda|[-88.0974, -172.052]|2021-01-27 09:14:19|\n| 9979|  Dominican Republic| [14.9967, -120.682]|2018-07-18 19:01:46|\n| 6575|  Dominican Republic|  [81.7192, 61.5152]|2020-12-29 22:59:37|\n| 3032|      American Samoa|[-66.7253, -122.489]|2018-04-14 09:28:18|\n|  637|      American Samoa|[-41.2244, -158.022]|2018-06-06 01:25:58|\n|10321|        Burkina Faso|[-89.1005, -151.255]|2022-10-09 08:06:50|\n| 2923|       Cote d&#39;Ivoire|[-84.6302, -164.507]|2019-09-08 22:53:09|\n| 8304|       French Guiana| [-28.8852, -164.87]|2019-09-13 04:50:29|\n| 4315|       Cote d&#39;Ivoire| [-45.8508, 66.1003]|2019-12-15 03:51:28|\n| 4249|         Afghanistan|[-88.5478, -174.971]|2021-09-01 11:10:02|\n| 6809|          Bangladesh|[-89.4254, -161.818]|2020-04-17 13:20:43|\n| 5069|          Azerbaijan|[-63.0063, -157.474]|2021-03-20 09:32:44|\n| 6145|          Mozambique|[-65.9079, -143.845]|2019-12-05 02:09:44|\n+-----+--------------------+--------------------+-------------------+\nonly showing top 20 rows\n\n</div>",
       "datasetInfos": [],
       "metadata": {},
       "removedWidgets": [],
       "type": "html"
      }
     },
     "output_type": "display_data"
    }
   ],
   "source": [
    "# Reorder the DataFrame columns\n",
    "df_geo = df_geo.select(\"ind\", \"country\", \"coordinates\", \"timestamp\")\n",
    "\n",
    "# Show the DataFrame after reordering the columns\n",
    "df_geo.show()\n"
   ]
  },
  {
   "cell_type": "markdown",
   "metadata": {
    "application/vnd.databricks.v1+cell": {
     "cellMetadata": {
      "byteLimit": 2048000,
      "rowLimit": 10000
     },
     "inputWidgets": {},
     "nuid": "5f19212f-db12-4782-bd0d-4f5ea685503b",
     "showTitle": false,
     "title": ""
    }
   },
   "source": [
    "## Task 3:"
   ]
  },
  {
   "cell_type": "code",
   "execution_count": null,
   "metadata": {
    "application/vnd.databricks.v1+cell": {
     "cellMetadata": {
      "byteLimit": 2048000,
      "rowLimit": 10000
     },
     "inputWidgets": {},
     "nuid": "0b09e380-bae6-4840-a206-d51a8b6f18d7",
     "showTitle": false,
     "title": ""
    }
   },
   "outputs": [
    {
     "data": {
      "text/html": [
       "<style scoped>\n",
       "  .ansiout {\n",
       "    display: block;\n",
       "    unicode-bidi: embed;\n",
       "    white-space: pre-wrap;\n",
       "    word-wrap: break-word;\n",
       "    word-break: break-all;\n",
       "    font-family: \"Menlo\", \"Monaco\", \"Consolas\", \"Ubuntu Mono\", \"Source Code Pro\", monospace;\n",
       "    font-size: 13px;\n",
       "    color: #555;\n",
       "    margin-left: 4px;\n",
       "    line-height: 19px;\n",
       "  }\n",
       "</style>\n",
       "<div class=\"ansiout\">+---+-------------------+----------+-----+---------+------------------+\n",
       "age|        date_joined|first_name|  ind|last_name|         user_name|\n",
       "+---+-------------------+----------+-----+---------+------------------+\n",
       " 20|2015-10-23 04:13:23|Alexandria| 4249| Alvarado|AlexandriaAlvarado|\n",
       " 21|2015-11-10 09:27:42|    Andrea| 8731|Alexander|   AndreaAlexander|\n",
       " 21|2015-11-10 09:27:42|    Andrea| 8731|Alexander|   AndreaAlexander|\n",
       " 21|2015-11-10 09:27:42|    Andrea| 8731|Alexander|   AndreaAlexander|\n",
       " 34|2016-01-23 03:59:37|    Daniel|10137| Matthews|    DanielMatthews|\n",
       " 21|2015-11-10 09:27:42|    Andrea| 8731|Alexander|   AndreaAlexander|\n",
       " 24|2016-03-31 20:56:39|    Austin| 8887|Rodriguez|   AustinRodriguez|\n",
       " 36|2015-12-20 16:38:13|  Michelle| 4315|   Prince|    MichellePrince|\n",
       " 32|2017-10-10 20:09:33| Christian|10625|     Lang|     ChristianLang|\n",
       " 36|2015-12-20 16:38:13|  Michelle| 4315|   Prince|    MichellePrince|\n",
       " 40|2017-06-28 16:17:39|   Michael| 1514|  Perkins|    MichaelPerkins|\n",
       " 36|2015-12-20 16:38:13|  Michelle| 4315|   Prince|    MichellePrince|\n",
       " 32|2017-10-10 20:09:33| Christian|10625|     Lang|     ChristianLang|\n",
       " 32|2017-10-10 20:09:33| Christian|10625|     Lang|     ChristianLang|\n",
       " 22|2016-02-11 20:46:04|  Jennifer| 9672|   Hudson|    JenniferHudson|\n",
       " 32|2016-04-02 03:51:23|  Brittany| 1313|    Jones|     BrittanyJones|\n",
       " 32|2016-04-02 03:51:23|  Brittany| 1313|    Jones|     BrittanyJones|\n",
       " 34|2016-12-22 00:02:02|    Thomas|10794|   Turner|      ThomasTurner|\n",
       " 32|2016-04-02 03:51:23|  Brittany| 1313|    Jones|     BrittanyJones|\n",
       " 34|2016-12-22 00:02:02|    Thomas|10794|   Turner|      ThomasTurner|\n",
       "+---+-------------------+----------+-----+---------+------------------+\n",
       "only showing top 20 rows\n",
       "\n",
       "</div>"
      ]
     },
     "metadata": {
      "application/vnd.databricks.v1+output": {
       "addedWidgets": {},
       "arguments": {},
       "data": "<div class=\"ansiout\">+---+-------------------+----------+-----+---------+------------------+\n|age|        date_joined|first_name|  ind|last_name|         user_name|\n+---+-------------------+----------+-----+---------+------------------+\n| 20|2015-10-23 04:13:23|Alexandria| 4249| Alvarado|AlexandriaAlvarado|\n| 21|2015-11-10 09:27:42|    Andrea| 8731|Alexander|   AndreaAlexander|\n| 21|2015-11-10 09:27:42|    Andrea| 8731|Alexander|   AndreaAlexander|\n| 21|2015-11-10 09:27:42|    Andrea| 8731|Alexander|   AndreaAlexander|\n| 34|2016-01-23 03:59:37|    Daniel|10137| Matthews|    DanielMatthews|\n| 21|2015-11-10 09:27:42|    Andrea| 8731|Alexander|   AndreaAlexander|\n| 24|2016-03-31 20:56:39|    Austin| 8887|Rodriguez|   AustinRodriguez|\n| 36|2015-12-20 16:38:13|  Michelle| 4315|   Prince|    MichellePrince|\n| 32|2017-10-10 20:09:33| Christian|10625|     Lang|     ChristianLang|\n| 36|2015-12-20 16:38:13|  Michelle| 4315|   Prince|    MichellePrince|\n| 40|2017-06-28 16:17:39|   Michael| 1514|  Perkins|    MichaelPerkins|\n| 36|2015-12-20 16:38:13|  Michelle| 4315|   Prince|    MichellePrince|\n| 32|2017-10-10 20:09:33| Christian|10625|     Lang|     ChristianLang|\n| 32|2017-10-10 20:09:33| Christian|10625|     Lang|     ChristianLang|\n| 22|2016-02-11 20:46:04|  Jennifer| 9672|   Hudson|    JenniferHudson|\n| 32|2016-04-02 03:51:23|  Brittany| 1313|    Jones|     BrittanyJones|\n| 32|2016-04-02 03:51:23|  Brittany| 1313|    Jones|     BrittanyJones|\n| 34|2016-12-22 00:02:02|    Thomas|10794|   Turner|      ThomasTurner|\n| 32|2016-04-02 03:51:23|  Brittany| 1313|    Jones|     BrittanyJones|\n| 34|2016-12-22 00:02:02|    Thomas|10794|   Turner|      ThomasTurner|\n+---+-------------------+----------+-----+---------+------------------+\nonly showing top 20 rows\n\n</div>",
       "datasetInfos": [],
       "metadata": {},
       "removedWidgets": [],
       "type": "html"
      }
     },
     "output_type": "display_data"
    }
   ],
   "source": [
    "from pyspark.sql.functions import concat, col\n",
    "\n",
    "# Create a new column user_name by concatenating first_name and last_name\n",
    "df_user = df_user.withColumn(\"user_name\", concat(col(\"first_name\"), col(\"last_name\")))\n",
    "\n",
    "# Show the DataFrame with the new user_name column\n",
    "df_user.show()\n"
   ]
  },
  {
   "cell_type": "code",
   "execution_count": null,
   "metadata": {
    "application/vnd.databricks.v1+cell": {
     "cellMetadata": {
      "byteLimit": 2048000,
      "rowLimit": 10000
     },
     "inputWidgets": {},
     "nuid": "aa270254-d07f-4e38-894e-a73bb74afe03",
     "showTitle": false,
     "title": ""
    }
   },
   "outputs": [
    {
     "data": {
      "text/html": [
       "<style scoped>\n",
       "  .ansiout {\n",
       "    display: block;\n",
       "    unicode-bidi: embed;\n",
       "    white-space: pre-wrap;\n",
       "    word-wrap: break-word;\n",
       "    word-break: break-all;\n",
       "    font-family: \"Menlo\", \"Monaco\", \"Consolas\", \"Ubuntu Mono\", \"Source Code Pro\", monospace;\n",
       "    font-size: 13px;\n",
       "    color: #555;\n",
       "    margin-left: 4px;\n",
       "    line-height: 19px;\n",
       "  }\n",
       "</style>\n",
       "<div class=\"ansiout\">+---+-------------------+-----+------------------+\n",
       "age|        date_joined|  ind|         user_name|\n",
       "+---+-------------------+-----+------------------+\n",
       " 20|2015-10-23 04:13:23| 4249|AlexandriaAlvarado|\n",
       " 21|2015-11-10 09:27:42| 8731|   AndreaAlexander|\n",
       " 21|2015-11-10 09:27:42| 8731|   AndreaAlexander|\n",
       " 21|2015-11-10 09:27:42| 8731|   AndreaAlexander|\n",
       " 34|2016-01-23 03:59:37|10137|    DanielMatthews|\n",
       " 21|2015-11-10 09:27:42| 8731|   AndreaAlexander|\n",
       " 24|2016-03-31 20:56:39| 8887|   AustinRodriguez|\n",
       " 36|2015-12-20 16:38:13| 4315|    MichellePrince|\n",
       " 32|2017-10-10 20:09:33|10625|     ChristianLang|\n",
       " 36|2015-12-20 16:38:13| 4315|    MichellePrince|\n",
       " 40|2017-06-28 16:17:39| 1514|    MichaelPerkins|\n",
       " 36|2015-12-20 16:38:13| 4315|    MichellePrince|\n",
       " 32|2017-10-10 20:09:33|10625|     ChristianLang|\n",
       " 32|2017-10-10 20:09:33|10625|     ChristianLang|\n",
       " 22|2016-02-11 20:46:04| 9672|    JenniferHudson|\n",
       " 32|2016-04-02 03:51:23| 1313|     BrittanyJones|\n",
       " 32|2016-04-02 03:51:23| 1313|     BrittanyJones|\n",
       " 34|2016-12-22 00:02:02|10794|      ThomasTurner|\n",
       " 32|2016-04-02 03:51:23| 1313|     BrittanyJones|\n",
       " 34|2016-12-22 00:02:02|10794|      ThomasTurner|\n",
       "+---+-------------------+-----+------------------+\n",
       "only showing top 20 rows\n",
       "\n",
       "</div>"
      ]
     },
     "metadata": {
      "application/vnd.databricks.v1+output": {
       "addedWidgets": {},
       "arguments": {},
       "data": "<div class=\"ansiout\">+---+-------------------+-----+------------------+\n|age|        date_joined|  ind|         user_name|\n+---+-------------------+-----+------------------+\n| 20|2015-10-23 04:13:23| 4249|AlexandriaAlvarado|\n| 21|2015-11-10 09:27:42| 8731|   AndreaAlexander|\n| 21|2015-11-10 09:27:42| 8731|   AndreaAlexander|\n| 21|2015-11-10 09:27:42| 8731|   AndreaAlexander|\n| 34|2016-01-23 03:59:37|10137|    DanielMatthews|\n| 21|2015-11-10 09:27:42| 8731|   AndreaAlexander|\n| 24|2016-03-31 20:56:39| 8887|   AustinRodriguez|\n| 36|2015-12-20 16:38:13| 4315|    MichellePrince|\n| 32|2017-10-10 20:09:33|10625|     ChristianLang|\n| 36|2015-12-20 16:38:13| 4315|    MichellePrince|\n| 40|2017-06-28 16:17:39| 1514|    MichaelPerkins|\n| 36|2015-12-20 16:38:13| 4315|    MichellePrince|\n| 32|2017-10-10 20:09:33|10625|     ChristianLang|\n| 32|2017-10-10 20:09:33|10625|     ChristianLang|\n| 22|2016-02-11 20:46:04| 9672|    JenniferHudson|\n| 32|2016-04-02 03:51:23| 1313|     BrittanyJones|\n| 32|2016-04-02 03:51:23| 1313|     BrittanyJones|\n| 34|2016-12-22 00:02:02|10794|      ThomasTurner|\n| 32|2016-04-02 03:51:23| 1313|     BrittanyJones|\n| 34|2016-12-22 00:02:02|10794|      ThomasTurner|\n+---+-------------------+-----+------------------+\nonly showing top 20 rows\n\n</div>",
       "datasetInfos": [],
       "metadata": {},
       "removedWidgets": [],
       "type": "html"
      }
     },
     "output_type": "display_data"
    }
   ],
   "source": [
    "# Drop the first_name and last_name columns\n",
    "df_user = df_user.drop(\"first_name\", \"last_name\")\n",
    "\n",
    "# Show the DataFrame after dropping columns\n",
    "df_user.show()\n"
   ]
  },
  {
   "cell_type": "code",
   "execution_count": null,
   "metadata": {
    "application/vnd.databricks.v1+cell": {
     "cellMetadata": {
      "byteLimit": 2048000,
      "rowLimit": 10000
     },
     "inputWidgets": {},
     "nuid": "24eb19b5-c68d-4a29-81ff-aef7747fd878",
     "showTitle": false,
     "title": ""
    }
   },
   "outputs": [
    {
     "data": {
      "text/html": [
       "<style scoped>\n",
       "  .ansiout {\n",
       "    display: block;\n",
       "    unicode-bidi: embed;\n",
       "    white-space: pre-wrap;\n",
       "    word-wrap: break-word;\n",
       "    word-break: break-all;\n",
       "    font-family: \"Menlo\", \"Monaco\", \"Consolas\", \"Ubuntu Mono\", \"Source Code Pro\", monospace;\n",
       "    font-size: 13px;\n",
       "    color: #555;\n",
       "    margin-left: 4px;\n",
       "    line-height: 19px;\n",
       "  }\n",
       "</style>\n",
       "<div class=\"ansiout\">+---+-------------------+-----+------------------+\n",
       "age|        date_joined|  ind|         user_name|\n",
       "+---+-------------------+-----+------------------+\n",
       " 20|2015-10-23 04:13:23| 4249|AlexandriaAlvarado|\n",
       " 21|2015-11-10 09:27:42| 8731|   AndreaAlexander|\n",
       " 21|2015-11-10 09:27:42| 8731|   AndreaAlexander|\n",
       " 21|2015-11-10 09:27:42| 8731|   AndreaAlexander|\n",
       " 34|2016-01-23 03:59:37|10137|    DanielMatthews|\n",
       " 21|2015-11-10 09:27:42| 8731|   AndreaAlexander|\n",
       " 24|2016-03-31 20:56:39| 8887|   AustinRodriguez|\n",
       " 36|2015-12-20 16:38:13| 4315|    MichellePrince|\n",
       " 32|2017-10-10 20:09:33|10625|     ChristianLang|\n",
       " 36|2015-12-20 16:38:13| 4315|    MichellePrince|\n",
       " 40|2017-06-28 16:17:39| 1514|    MichaelPerkins|\n",
       " 36|2015-12-20 16:38:13| 4315|    MichellePrince|\n",
       " 32|2017-10-10 20:09:33|10625|     ChristianLang|\n",
       " 32|2017-10-10 20:09:33|10625|     ChristianLang|\n",
       " 22|2016-02-11 20:46:04| 9672|    JenniferHudson|\n",
       " 32|2016-04-02 03:51:23| 1313|     BrittanyJones|\n",
       " 32|2016-04-02 03:51:23| 1313|     BrittanyJones|\n",
       " 34|2016-12-22 00:02:02|10794|      ThomasTurner|\n",
       " 32|2016-04-02 03:51:23| 1313|     BrittanyJones|\n",
       " 34|2016-12-22 00:02:02|10794|      ThomasTurner|\n",
       "+---+-------------------+-----+------------------+\n",
       "only showing top 20 rows\n",
       "\n",
       "</div>"
      ]
     },
     "metadata": {
      "application/vnd.databricks.v1+output": {
       "addedWidgets": {},
       "arguments": {},
       "data": "<div class=\"ansiout\">+---+-------------------+-----+------------------+\n|age|        date_joined|  ind|         user_name|\n+---+-------------------+-----+------------------+\n| 20|2015-10-23 04:13:23| 4249|AlexandriaAlvarado|\n| 21|2015-11-10 09:27:42| 8731|   AndreaAlexander|\n| 21|2015-11-10 09:27:42| 8731|   AndreaAlexander|\n| 21|2015-11-10 09:27:42| 8731|   AndreaAlexander|\n| 34|2016-01-23 03:59:37|10137|    DanielMatthews|\n| 21|2015-11-10 09:27:42| 8731|   AndreaAlexander|\n| 24|2016-03-31 20:56:39| 8887|   AustinRodriguez|\n| 36|2015-12-20 16:38:13| 4315|    MichellePrince|\n| 32|2017-10-10 20:09:33|10625|     ChristianLang|\n| 36|2015-12-20 16:38:13| 4315|    MichellePrince|\n| 40|2017-06-28 16:17:39| 1514|    MichaelPerkins|\n| 36|2015-12-20 16:38:13| 4315|    MichellePrince|\n| 32|2017-10-10 20:09:33|10625|     ChristianLang|\n| 32|2017-10-10 20:09:33|10625|     ChristianLang|\n| 22|2016-02-11 20:46:04| 9672|    JenniferHudson|\n| 32|2016-04-02 03:51:23| 1313|     BrittanyJones|\n| 32|2016-04-02 03:51:23| 1313|     BrittanyJones|\n| 34|2016-12-22 00:02:02|10794|      ThomasTurner|\n| 32|2016-04-02 03:51:23| 1313|     BrittanyJones|\n| 34|2016-12-22 00:02:02|10794|      ThomasTurner|\n+---+-------------------+-----+------------------+\nonly showing top 20 rows\n\n</div>",
       "datasetInfos": [],
       "metadata": {},
       "removedWidgets": [],
       "type": "html"
      }
     },
     "output_type": "display_data"
    }
   ],
   "source": [
    "from pyspark.sql.functions import to_timestamp\n",
    "\n",
    "# Convert the date_joined column to a timestamp data type\n",
    "df_user = df_user.withColumn(\"date_joined\", to_timestamp(\"date_joined\"))\n",
    "\n",
    "# Show the DataFrame after converting the date_joined column\n",
    "df_user.show()\n"
   ]
  },
  {
   "cell_type": "code",
   "execution_count": null,
   "metadata": {
    "application/vnd.databricks.v1+cell": {
     "cellMetadata": {
      "byteLimit": 2048000,
      "rowLimit": 10000
     },
     "inputWidgets": {},
     "nuid": "75caf69a-3703-4c57-b4e9-a7f82e58d849",
     "showTitle": false,
     "title": ""
    }
   },
   "outputs": [
    {
     "data": {
      "text/html": [
       "<style scoped>\n",
       "  .ansiout {\n",
       "    display: block;\n",
       "    unicode-bidi: embed;\n",
       "    white-space: pre-wrap;\n",
       "    word-wrap: break-word;\n",
       "    word-break: break-all;\n",
       "    font-family: \"Menlo\", \"Monaco\", \"Consolas\", \"Ubuntu Mono\", \"Source Code Pro\", monospace;\n",
       "    font-size: 13px;\n",
       "    color: #555;\n",
       "    margin-left: 4px;\n",
       "    line-height: 19px;\n",
       "  }\n",
       "</style>\n",
       "<div class=\"ansiout\">+-----+------------------+---+-------------------+\n",
       "  ind|         user_name|age|        date_joined|\n",
       "+-----+------------------+---+-------------------+\n",
       " 4249|AlexandriaAlvarado| 20|2015-10-23 04:13:23|\n",
       " 8731|   AndreaAlexander| 21|2015-11-10 09:27:42|\n",
       " 8731|   AndreaAlexander| 21|2015-11-10 09:27:42|\n",
       " 8731|   AndreaAlexander| 21|2015-11-10 09:27:42|\n",
       "10137|    DanielMatthews| 34|2016-01-23 03:59:37|\n",
       " 8731|   AndreaAlexander| 21|2015-11-10 09:27:42|\n",
       " 8887|   AustinRodriguez| 24|2016-03-31 20:56:39|\n",
       " 4315|    MichellePrince| 36|2015-12-20 16:38:13|\n",
       "10625|     ChristianLang| 32|2017-10-10 20:09:33|\n",
       " 4315|    MichellePrince| 36|2015-12-20 16:38:13|\n",
       " 1514|    MichaelPerkins| 40|2017-06-28 16:17:39|\n",
       " 4315|    MichellePrince| 36|2015-12-20 16:38:13|\n",
       "10625|     ChristianLang| 32|2017-10-10 20:09:33|\n",
       "10625|     ChristianLang| 32|2017-10-10 20:09:33|\n",
       " 9672|    JenniferHudson| 22|2016-02-11 20:46:04|\n",
       " 1313|     BrittanyJones| 32|2016-04-02 03:51:23|\n",
       " 1313|     BrittanyJones| 32|2016-04-02 03:51:23|\n",
       "10794|      ThomasTurner| 34|2016-12-22 00:02:02|\n",
       " 1313|     BrittanyJones| 32|2016-04-02 03:51:23|\n",
       "10794|      ThomasTurner| 34|2016-12-22 00:02:02|\n",
       "+-----+------------------+---+-------------------+\n",
       "only showing top 20 rows\n",
       "\n",
       "</div>"
      ]
     },
     "metadata": {
      "application/vnd.databricks.v1+output": {
       "addedWidgets": {},
       "arguments": {},
       "data": "<div class=\"ansiout\">+-----+------------------+---+-------------------+\n|  ind|         user_name|age|        date_joined|\n+-----+------------------+---+-------------------+\n| 4249|AlexandriaAlvarado| 20|2015-10-23 04:13:23|\n| 8731|   AndreaAlexander| 21|2015-11-10 09:27:42|\n| 8731|   AndreaAlexander| 21|2015-11-10 09:27:42|\n| 8731|   AndreaAlexander| 21|2015-11-10 09:27:42|\n|10137|    DanielMatthews| 34|2016-01-23 03:59:37|\n| 8731|   AndreaAlexander| 21|2015-11-10 09:27:42|\n| 8887|   AustinRodriguez| 24|2016-03-31 20:56:39|\n| 4315|    MichellePrince| 36|2015-12-20 16:38:13|\n|10625|     ChristianLang| 32|2017-10-10 20:09:33|\n| 4315|    MichellePrince| 36|2015-12-20 16:38:13|\n| 1514|    MichaelPerkins| 40|2017-06-28 16:17:39|\n| 4315|    MichellePrince| 36|2015-12-20 16:38:13|\n|10625|     ChristianLang| 32|2017-10-10 20:09:33|\n|10625|     ChristianLang| 32|2017-10-10 20:09:33|\n| 9672|    JenniferHudson| 22|2016-02-11 20:46:04|\n| 1313|     BrittanyJones| 32|2016-04-02 03:51:23|\n| 1313|     BrittanyJones| 32|2016-04-02 03:51:23|\n|10794|      ThomasTurner| 34|2016-12-22 00:02:02|\n| 1313|     BrittanyJones| 32|2016-04-02 03:51:23|\n|10794|      ThomasTurner| 34|2016-12-22 00:02:02|\n+-----+------------------+---+-------------------+\nonly showing top 20 rows\n\n</div>",
       "datasetInfos": [],
       "metadata": {},
       "removedWidgets": [],
       "type": "html"
      }
     },
     "output_type": "display_data"
    }
   ],
   "source": [
    "# Reorder the DataFrame columns\n",
    "df_user = df_user.select(\"ind\", \"user_name\", \"age\", \"date_joined\")\n",
    "\n",
    "# Show the DataFrame after reordering the columns\n",
    "df_user.show()\n"
   ]
  },
  {
   "cell_type": "markdown",
   "metadata": {
    "application/vnd.databricks.v1+cell": {
     "cellMetadata": {
      "byteLimit": 2048000,
      "rowLimit": 10000
     },
     "inputWidgets": {},
     "nuid": "33ce4ace-b6a7-4ef5-826b-ecefcbd6e83b",
     "showTitle": false,
     "title": ""
    }
   },
   "source": [
    "## Task 4: Find the most popular category by country"
   ]
  },
  {
   "cell_type": "markdown",
   "metadata": {
    "application/vnd.databricks.v1+cell": {
     "cellMetadata": {
      "byteLimit": 2048000,
      "rowLimit": 10000
     },
     "inputWidgets": {},
     "nuid": "68a2ea3f-c7c9-4498-b897-54c952b3312c",
     "showTitle": false,
     "title": ""
    }
   },
   "source": [
    "#### Find the most popular Pinterest category people post to based on their country.\n",
    "Your query should return a DataFrame that contains the following columns:\n",
    "- country\n",
    "- category\n",
    "- category_count, a new column containing the desired query output"
   ]
  },
  {
   "cell_type": "markdown",
   "metadata": {
    "application/vnd.databricks.v1+cell": {
     "cellMetadata": {
      "byteLimit": 2048000,
      "rowLimit": 10000
     },
     "inputWidgets": {},
     "nuid": "31640dc5-7a18-4c0b-b2d3-2bc3c21a38ed",
     "showTitle": false,
     "title": ""
    }
   },
   "source": [
    "### Start"
   ]
  },
  {
   "cell_type": "code",
   "execution_count": null,
   "metadata": {
    "application/vnd.databricks.v1+cell": {
     "cellMetadata": {
      "byteLimit": 2048000,
      "rowLimit": 10000
     },
     "inputWidgets": {},
     "nuid": "894d591c-22f2-43f6-b620-94f092534e7e",
     "showTitle": false,
     "title": ""
    }
   },
   "outputs": [
    {
     "data": {
      "text/html": [
       "<style scoped>\n",
       "  .ansiout {\n",
       "    display: block;\n",
       "    unicode-bidi: embed;\n",
       "    white-space: pre-wrap;\n",
       "    word-wrap: break-word;\n",
       "    word-break: break-all;\n",
       "    font-family: \"Menlo\", \"Monaco\", \"Consolas\", \"Ubuntu Mono\", \"Source Code Pro\", monospace;\n",
       "    font-size: 13px;\n",
       "    color: #555;\n",
       "    margin-left: 4px;\n",
       "    line-height: 19px;\n",
       "  }\n",
       "</style>\n",
       "<div class=\"ansiout\">+--------------------+--------------+--------------+\n",
       "             country|      category|category_count|\n",
       "+--------------------+--------------+--------------+\n",
       "         Afghanistan|     education|             1|\n",
       "             Albania|  mens-fashion|             4|\n",
       "             Algeria|        quotes|             1|\n",
       "      American Samoa|diy-and-crafts|             1|\n",
       "              Angola|diy-and-crafts|             4|\n",
       "            Anguilla|    home-decor|             1|\n",
       "Antarctica (the t...|     christmas|             1|\n",
       " Antigua and Barbuda|        quotes|             1|\n",
       "             Armenia|diy-and-crafts|             5|\n",
       "               Aruba|        travel|             1|\n",
       "           Australia|  mens-fashion|             1|\n",
       "             Austria|event-planning|             1|\n",
       "          Azerbaijan|event-planning|             1|\n",
       "             Bahamas|           art|             1|\n",
       "          Bangladesh|  mens-fashion|             1|\n",
       "            Barbados|        travel|             4|\n",
       "            Botswana|       tattoos|             1|\n",
       "Bouvet Island (Bo...|       tattoos|             1|\n",
       "British Virgin Is...|        travel|             1|\n",
       "            Bulgaria|       finance|             1|\n",
       "+--------------------+--------------+--------------+\n",
       "only showing top 20 rows\n",
       "\n",
       "</div>"
      ]
     },
     "metadata": {
      "application/vnd.databricks.v1+output": {
       "addedWidgets": {},
       "arguments": {},
       "data": "<div class=\"ansiout\">+--------------------+--------------+--------------+\n|             country|      category|category_count|\n+--------------------+--------------+--------------+\n|         Afghanistan|     education|             1|\n|             Albania|  mens-fashion|             4|\n|             Algeria|        quotes|             1|\n|      American Samoa|diy-and-crafts|             1|\n|              Angola|diy-and-crafts|             4|\n|            Anguilla|    home-decor|             1|\n|Antarctica (the t...|     christmas|             1|\n| Antigua and Barbuda|        quotes|             1|\n|             Armenia|diy-and-crafts|             5|\n|               Aruba|        travel|             1|\n|           Australia|  mens-fashion|             1|\n|             Austria|event-planning|             1|\n|          Azerbaijan|event-planning|             1|\n|             Bahamas|           art|             1|\n|          Bangladesh|  mens-fashion|             1|\n|            Barbados|        travel|             4|\n|            Botswana|       tattoos|             1|\n|Bouvet Island (Bo...|       tattoos|             1|\n|British Virgin Is...|        travel|             1|\n|            Bulgaria|       finance|             1|\n+--------------------+--------------+--------------+\nonly showing top 20 rows\n\n</div>",
       "datasetInfos": [],
       "metadata": {},
       "removedWidgets": [],
       "type": "html"
      }
     },
     "output_type": "display_data"
    }
   ],
   "source": [
    "from pyspark.sql.functions import col, max\n",
    "from pyspark.sql.window import Window\n",
    "from pyspark.sql.functions import row_number\n",
    "\n",
    "# Alias the DataFrames before joining them\n",
    "df_pin_alias = df_pin.withColumnRenamed(\"country\", \"pin_country\").alias(\"pin\")\n",
    "df_geo_alias = df_geo.withColumnRenamed(\"country\", \"geo_country\").alias(\"geo\")\n",
    "\n",
    "# Join df_pin with df_geo on the index column\n",
    "df_combined = df_pin_alias.join(df_geo_alias, df_pin_alias.ind == df_geo_alias.ind)\n",
    "\n",
    "# Group by country and category, then count the occurrences of each category for each country\n",
    "df_category_count = df_combined.groupBy(df_geo_alias[\"geo_country\"], df_pin_alias[\"category\"]).count()\n",
    "\n",
    "# Create a window partitioned by country, ordered by the count descending\n",
    "windowSpec = Window.partitionBy(\"geo_country\").orderBy(col(\"count\").desc())\n",
    "\n",
    "# Use row_number to assign a rank to each row within each country partition\n",
    "df_ranked_categories = df_category_count.withColumn(\"rank\", row_number().over(windowSpec))\n",
    "\n",
    "# Filter to get only the top category (rank = 1) for each country\n",
    "df_top_category_per_country = df_ranked_categories.filter(col(\"rank\") == 1).drop(\"rank\")\n",
    "\n",
    "# Select the desired columns\n",
    "# This is the erroneours line.\n",
    "####### df_most_popular = df_most_popular.select(\"geo_country\", \"category\", \"count\")\n",
    "\n",
    "# Filter to get only the top category (rank = 1) for each country\n",
    "df_most_popular = df_ranked_categories.filter(col(\"rank\") == 1).drop(\"rank\")\n",
    "\n",
    "# Rename the columns\n",
    "df_most_popular = df_most_popular.withColumnRenamed(\"geo_country\", \"country\")\n",
    "df_most_popular = df_most_popular.withColumnRenamed(\"count\", \"category_count\")\n",
    "\n",
    "# Display the result\n",
    "df_most_popular.show()"
   ]
  },
  {
   "cell_type": "code",
   "execution_count": null,
   "metadata": {
    "application/vnd.databricks.v1+cell": {
     "cellMetadata": {
      "byteLimit": 2048000,
      "rowLimit": 10000
     },
     "inputWidgets": {},
     "nuid": "d041eb0a-eba5-47d1-9a0c-7aa0c8131617",
     "showTitle": false,
     "title": ""
    }
   },
   "outputs": [
    {
     "data": {
      "text/html": [
       "<style scoped>\n",
       "  .ansiout {\n",
       "    display: block;\n",
       "    unicode-bidi: embed;\n",
       "    white-space: pre-wrap;\n",
       "    word-wrap: break-word;\n",
       "    word-break: break-all;\n",
       "    font-family: \"Menlo\", \"Monaco\", \"Consolas\", \"Ubuntu Mono\", \"Source Code Pro\", monospace;\n",
       "    font-size: 13px;\n",
       "    color: #555;\n",
       "    margin-left: 4px;\n",
       "    line-height: 19px;\n",
       "  }\n",
       "</style>\n",
       "<div class=\"ansiout\">+--------------------+--------------+--------------+\n",
       "             country|      category|category_count|\n",
       "+--------------------+--------------+--------------+\n",
       "         Afghanistan|     education|             1|\n",
       "             Albania|  mens-fashion|             4|\n",
       "             Algeria|        quotes|             1|\n",
       "      American Samoa|           art|             1|\n",
       "              Angola|diy-and-crafts|             4|\n",
       "            Anguilla|    home-decor|             1|\n",
       "Antarctica (the t...|     christmas|             1|\n",
       " Antigua and Barbuda|        quotes|             1|\n",
       "             Armenia|diy-and-crafts|             5|\n",
       "               Aruba|        travel|             1|\n",
       "           Australia|  mens-fashion|             1|\n",
       "             Austria|        travel|             1|\n",
       "          Azerbaijan|event-planning|             1|\n",
       "             Bahamas|           art|             1|\n",
       "          Bangladesh|           art|             1|\n",
       "            Barbados|        travel|             4|\n",
       "            Botswana|       tattoos|             1|\n",
       "Bouvet Island (Bo...|       tattoos|             1|\n",
       "British Virgin Is...|        travel|             1|\n",
       "            Bulgaria|       finance|             1|\n",
       "+--------------------+--------------+--------------+\n",
       "only showing top 20 rows\n",
       "\n",
       "</div>"
      ]
     },
     "metadata": {
      "application/vnd.databricks.v1+output": {
       "addedWidgets": {},
       "arguments": {},
       "data": "<div class=\"ansiout\">+--------------------+--------------+--------------+\n|             country|      category|category_count|\n+--------------------+--------------+--------------+\n|         Afghanistan|     education|             1|\n|             Albania|  mens-fashion|             4|\n|             Algeria|        quotes|             1|\n|      American Samoa|           art|             1|\n|              Angola|diy-and-crafts|             4|\n|            Anguilla|    home-decor|             1|\n|Antarctica (the t...|     christmas|             1|\n| Antigua and Barbuda|        quotes|             1|\n|             Armenia|diy-and-crafts|             5|\n|               Aruba|        travel|             1|\n|           Australia|  mens-fashion|             1|\n|             Austria|        travel|             1|\n|          Azerbaijan|event-planning|             1|\n|             Bahamas|           art|             1|\n|          Bangladesh|           art|             1|\n|            Barbados|        travel|             4|\n|            Botswana|       tattoos|             1|\n|Bouvet Island (Bo...|       tattoos|             1|\n|British Virgin Is...|        travel|             1|\n|            Bulgaria|       finance|             1|\n+--------------------+--------------+--------------+\nonly showing top 20 rows\n\n</div>",
       "datasetInfos": [],
       "metadata": {},
       "removedWidgets": [],
       "type": "html"
      }
     },
     "output_type": "display_data"
    }
   ],
   "source": [
    "from pyspark.sql.functions import col, max\n",
    "from pyspark.sql.window import Window\n",
    "from pyspark.sql.functions import row_number\n",
    "\n",
    "# Alias the DataFrames before joining them\n",
    "df_pin_alias = df_pin.withColumnRenamed(\"country\", \"pin_country\").alias(\"pin\")\n",
    "df_geo_alias = df_geo.withColumnRenamed(\"country\", \"geo_country\").alias(\"geo\")\n",
    "\n",
    "# Join df_pin with df_geo on the index column\n",
    "df_combined = df_pin_alias.join(df_geo_alias, df_pin_alias.ind == df_geo_alias.ind)\n",
    "\n",
    "# Group by country and category, then count the occurrences of each category for each country\n",
    "df_category_count = df_combined.groupBy(df_geo_alias[\"geo_country\"], df_pin_alias[\"category\"]).count()\n",
    "\n",
    "# Create a window partitioned by country, ordered by the count descending\n",
    "windowSpec = Window.partitionBy(\"geo_country\").orderBy(col(\"count\").desc())\n",
    "\n",
    "# Use row_number to assign a rank to each row within each country partition\n",
    "df_ranked_categories = df_category_count.withColumn(\"rank\", row_number().over(windowSpec))\n",
    "\n",
    "# Filter to get only the top category (rank = 1) for each country\n",
    "df_top_category_per_country = df_ranked_categories.filter(col(\"rank\") == 1).drop(\"rank\")\n",
    "\n",
    "# Select the desired columns\n",
    "# This is the erroneours line.\n",
    "####### df_most_popular = df_most_popular.select(\"geo_country\", \"category\", \"count\")\n",
    "\n",
    "# Filter to get only the top category (rank = 1) for each country\n",
    "df_most_popular = df_ranked_categories.filter(col(\"rank\") == 1).drop(\"rank\")\n",
    "\n",
    "# Rename the columns\n",
    "df_most_popular = df_most_popular.withColumnRenamed(\"geo_country\", \"country\")\n",
    "df_most_popular = df_most_popular.withColumnRenamed(\"count\", \"category_count\")\n",
    "\n",
    "# Display the result\n",
    "df_most_popular.show()"
   ]
  },
  {
   "cell_type": "markdown",
   "metadata": {
    "application/vnd.databricks.v1+cell": {
     "cellMetadata": {
      "byteLimit": 2048000,
      "rowLimit": 10000
     },
     "inputWidgets": {},
     "nuid": "4175043e-d394-48ee-b8cd-79c4b96adb0f",
     "showTitle": false,
     "title": ""
    }
   },
   "source": [
    "### End"
   ]
  },
  {
   "cell_type": "code",
   "execution_count": null,
   "metadata": {
    "application/vnd.databricks.v1+cell": {
     "cellMetadata": {
      "byteLimit": 2048000,
      "rowLimit": 10000
     },
     "inputWidgets": {},
     "nuid": "eaa9e327-2cb5-46bb-a420-0188f3e43fbf",
     "showTitle": false,
     "title": ""
    }
   },
   "outputs": [
    {
     "data": {
      "text/html": [
       "<style scoped>\n",
       "  .ansiout {\n",
       "    display: block;\n",
       "    unicode-bidi: embed;\n",
       "    white-space: pre-wrap;\n",
       "    word-wrap: break-word;\n",
       "    word-break: break-all;\n",
       "    font-family: \"Menlo\", \"Monaco\", \"Consolas\", \"Ubuntu Mono\", \"Source Code Pro\", monospace;\n",
       "    font-size: 13px;\n",
       "    color: #555;\n",
       "    margin-left: 4px;\n",
       "    line-height: 19px;\n",
       "  }\n",
       "</style>\n",
       "<div class=\"ansiout\">DataFrame[ind: bigint, unique_id: string, title: string, description: string, follower_count: int, poster_name: string, tag_list: string, is_image_or_video: string, image_src: string, save_location: string, category: string, ind: bigint, geo_country: string, coordinates: array&lt;double&gt;, timestamp: timestamp]\n",
       "DataFrame[geo_country: string, category: string, count: bigint]\n",
       "DataFrame[geo_country: string, max(count): bigint]\n",
       "+--------------------+----------+\n",
       "         geo_country|max(count)|\n",
       "+--------------------+----------+\n",
       "            Anguilla|         1|\n",
       "                Fiji|         1|\n",
       "            Cambodia|         1|\n",
       "         Afghanistan|         1|\n",
       "            Maldives|         1|\n",
       "               Sudan|         1|\n",
       "British Virgin Is...|         1|\n",
       "             Algeria|         1|\n",
       "              Angola|         4|\n",
       "             Albania|         4|\n",
       "               India|         1|\n",
       "             Bahamas|         1|\n",
       "      American Samoa|         1|\n",
       "             Burundi|         1|\n",
       "Central African R...|         1|\n",
       "          Bangladesh|         1|\n",
       "            Barbados|         4|\n",
       "               Congo|         1|\n",
       "Cocos (Keeling) I...|         1|\n",
       "       Cote d&#39;Ivoire|         1|\n",
       "+--------------------+----------+\n",
       "only showing top 20 rows\n",
       "\n",
       "</div>"
      ]
     },
     "metadata": {
      "application/vnd.databricks.v1+output": {
       "addedWidgets": {},
       "arguments": {},
       "data": "<div class=\"ansiout\">DataFrame[ind: bigint, unique_id: string, title: string, description: string, follower_count: int, poster_name: string, tag_list: string, is_image_or_video: string, image_src: string, save_location: string, category: string, ind: bigint, geo_country: string, coordinates: array&lt;double&gt;, timestamp: timestamp]\nDataFrame[geo_country: string, category: string, count: bigint]\nDataFrame[geo_country: string, max(count): bigint]\n+--------------------+----------+\n|         geo_country|max(count)|\n+--------------------+----------+\n|            Anguilla|         1|\n|                Fiji|         1|\n|            Cambodia|         1|\n|         Afghanistan|         1|\n|            Maldives|         1|\n|               Sudan|         1|\n|British Virgin Is...|         1|\n|             Algeria|         1|\n|              Angola|         4|\n|             Albania|         4|\n|               India|         1|\n|             Bahamas|         1|\n|      American Samoa|         1|\n|             Burundi|         1|\n|Central African R...|         1|\n|          Bangladesh|         1|\n|            Barbados|         4|\n|               Congo|         1|\n|Cocos (Keeling) I...|         1|\n|       Cote d&#39;Ivoire|         1|\n+--------------------+----------+\nonly showing top 20 rows\n\n</div>",
       "datasetInfos": [],
       "metadata": {},
       "removedWidgets": [],
       "type": "html"
      }
     },
     "output_type": "display_data"
    }
   ],
   "source": [
    "from pyspark.sql.functions import col\n",
    "\n",
    "# Alias the DataFrames before joining them\n",
    "df_pin_alias = df_pin.withColumnRenamed(\"country\", \"pin_country\").alias(\"pin\")\n",
    "df_geo_alias = df_geo.withColumnRenamed(\"country\", \"geo_country\").alias(\"geo\")\n",
    "\n",
    "# Join df_pin with df_geo on the index column\n",
    "df_combined = df_pin_alias.join(df_geo_alias, df_pin_alias.ind == df_geo_alias.ind)\n",
    "print(df_combined)\n",
    "# Group by country and category, then count the occurrences of each category for each country\n",
    "df_category_count = df_combined.groupBy(\"geo_country\", \"pin.category\").count()\n",
    "print(df_category_count)\n",
    "# Find the maximum count for each country\n",
    "max_counts = df_category_count.groupBy(\"geo_country\").max(\"count\")\n",
    "print(max_counts)\n",
    "\n",
    "max_counts.show()\n"
   ]
  },
  {
   "cell_type": "code",
   "execution_count": null,
   "metadata": {
    "application/vnd.databricks.v1+cell": {
     "cellMetadata": {
      "byteLimit": 2048000,
      "rowLimit": 10000
     },
     "inputWidgets": {},
     "nuid": "a5b78584-61ae-48c9-9492-07170473d8b6",
     "showTitle": false,
     "title": ""
    }
   },
   "outputs": [
    {
     "data": {
      "text/html": [
       "<style scoped>\n",
       "  .ansiout {\n",
       "    display: block;\n",
       "    unicode-bidi: embed;\n",
       "    white-space: pre-wrap;\n",
       "    word-wrap: break-word;\n",
       "    word-break: break-all;\n",
       "    font-family: \"Menlo\", \"Monaco\", \"Consolas\", \"Ubuntu Mono\", \"Source Code Pro\", monospace;\n",
       "    font-size: 13px;\n",
       "    color: #555;\n",
       "    margin-left: 4px;\n",
       "    line-height: 19px;\n",
       "  }\n",
       "</style>\n",
       "<div class=\"ansiout\">DataFrame[ind: bigint, unique_id: string, title: string, description: string, follower_count: int, poster_name: string, tag_list: string, is_image_or_video: string, image_src: string, save_location: string, category: string, ind: bigint, geo_country: string, coordinates: array&lt;double&gt;, timestamp: timestamp]\n",
       "DataFrame[geo_country: string, category: string, count: bigint]\n",
       "DataFrame[geo_country: string, max(count): bigint]\n",
       "+--------------------+----------+\n",
       "         geo_country|max(count)|\n",
       "+--------------------+----------+\n",
       "            Anguilla|         1|\n",
       "                Fiji|         1|\n",
       "         Afghanistan|         1|\n",
       "            Cambodia|         1|\n",
       "            Maldives|         1|\n",
       "               Sudan|         1|\n",
       "British Virgin Is...|         1|\n",
       "             Algeria|         1|\n",
       "              Angola|         4|\n",
       "             Albania|         4|\n",
       "               India|         1|\n",
       "             Bahamas|         1|\n",
       "      American Samoa|         1|\n",
       "             Burundi|         1|\n",
       "Central African R...|         1|\n",
       "          Bangladesh|         1|\n",
       "            Barbados|         4|\n",
       "               Congo|         1|\n",
       "Cocos (Keeling) I...|         1|\n",
       "       Cote d&#39;Ivoire|         1|\n",
       "+--------------------+----------+\n",
       "only showing top 20 rows\n",
       "\n",
       "</div>"
      ]
     },
     "metadata": {
      "application/vnd.databricks.v1+output": {
       "addedWidgets": {},
       "arguments": {},
       "data": "<div class=\"ansiout\">DataFrame[ind: bigint, unique_id: string, title: string, description: string, follower_count: int, poster_name: string, tag_list: string, is_image_or_video: string, image_src: string, save_location: string, category: string, ind: bigint, geo_country: string, coordinates: array&lt;double&gt;, timestamp: timestamp]\nDataFrame[geo_country: string, category: string, count: bigint]\nDataFrame[geo_country: string, max(count): bigint]\n+--------------------+----------+\n|         geo_country|max(count)|\n+--------------------+----------+\n|            Anguilla|         1|\n|                Fiji|         1|\n|         Afghanistan|         1|\n|            Cambodia|         1|\n|            Maldives|         1|\n|               Sudan|         1|\n|British Virgin Is...|         1|\n|             Algeria|         1|\n|              Angola|         4|\n|             Albania|         4|\n|               India|         1|\n|             Bahamas|         1|\n|      American Samoa|         1|\n|             Burundi|         1|\n|Central African R...|         1|\n|          Bangladesh|         1|\n|            Barbados|         4|\n|               Congo|         1|\n|Cocos (Keeling) I...|         1|\n|       Cote d&#39;Ivoire|         1|\n+--------------------+----------+\nonly showing top 20 rows\n\n</div>",
       "datasetInfos": [],
       "metadata": {},
       "removedWidgets": [],
       "type": "html"
      }
     },
     "output_type": "display_data"
    }
   ],
   "source": [
    "from pyspark.sql.functions import col\n",
    "\n",
    "# Alias the DataFrames before joining them\n",
    "df_pin_alias = df_pin.withColumnRenamed(\"country\", \"pin_country\").alias(\"pin\")\n",
    "df_geo_alias = df_geo.withColumnRenamed(\"country\", \"geo_country\").alias(\"geo\")\n",
    "\n",
    "# Join df_pin with df_geo on the index column\n",
    "df_combined = df_pin_alias.join(df_geo_alias, df_pin_alias.ind == df_geo_alias.ind)\n",
    "print(df_combined)\n",
    "# Group by country and category, then count the occurrences of each category for each country\n",
    "df_category_count = df_combined.groupBy(\"geo_country\", \"pin.category\").count()\n",
    "print(df_category_count)\n",
    "# Find the maximum count for each country\n",
    "max_counts = df_category_count.groupBy(\"geo_country\").max(\"count\")\n",
    "print(max_counts)\n",
    "\n",
    "max_counts.show()"
   ]
  },
  {
   "cell_type": "code",
   "execution_count": null,
   "metadata": {
    "application/vnd.databricks.v1+cell": {
     "cellMetadata": {
      "byteLimit": 2048000,
      "rowLimit": 10000
     },
     "inputWidgets": {},
     "nuid": "2c8c0821-e7e6-442f-bc17-1d86a84d2e7f",
     "showTitle": false,
     "title": ""
    }
   },
   "outputs": [
    {
     "data": {
      "text/html": [
       "<style scoped>\n",
       "  .ansiout {\n",
       "    display: block;\n",
       "    unicode-bidi: embed;\n",
       "    white-space: pre-wrap;\n",
       "    word-wrap: break-word;\n",
       "    word-break: break-all;\n",
       "    font-family: \"Menlo\", \"Monaco\", \"Consolas\", \"Ubuntu Mono\", \"Source Code Pro\", monospace;\n",
       "    font-size: 13px;\n",
       "    color: #555;\n",
       "    margin-left: 4px;\n",
       "    line-height: 19px;\n",
       "  }\n",
       "</style>\n",
       "<div class=\"ansiout\">DataFrame[ind: bigint, unique_id: string, title: string, description: string, follower_count: int, poster_name: string, tag_list: string, is_image_or_video: string, image_src: string, save_location: string, category: string]\n",
       "DataFrame[ind: bigint, geo_country: string, coordinates: array&lt;double&gt;, timestamp: timestamp]\n",
       "</div>"
      ]
     },
     "metadata": {
      "application/vnd.databricks.v1+output": {
       "addedWidgets": {},
       "arguments": {},
       "data": "<div class=\"ansiout\">DataFrame[ind: bigint, unique_id: string, title: string, description: string, follower_count: int, poster_name: string, tag_list: string, is_image_or_video: string, image_src: string, save_location: string, category: string]\nDataFrame[ind: bigint, geo_country: string, coordinates: array&lt;double&gt;, timestamp: timestamp]\n</div>",
       "datasetInfos": [],
       "metadata": {},
       "removedWidgets": [],
       "type": "html"
      }
     },
     "output_type": "display_data"
    }
   ],
   "source": [
    "from pyspark.sql.functions import col\n",
    "\n",
    "# Alias the DataFrames before joining them\n",
    "df_pin_alias = df_pin.withColumnRenamed(\"country\", \"pin_country\").alias(\"pin\")\n",
    "df_geo_alias = df_geo.withColumnRenamed(\"country\", \"geo_country\").alias(\"geo\")\n",
    "print(df_pin_alias)\n",
    "print(df_geo_alias)"
   ]
  },
  {
   "cell_type": "markdown",
   "metadata": {
    "application/vnd.databricks.v1+cell": {
     "cellMetadata": {
      "byteLimit": 2048000,
      "rowLimit": 10000
     },
     "inputWidgets": {},
     "nuid": "a11442a0-68f3-4cbb-8378-28a5009e4302",
     "showTitle": false,
     "title": ""
    }
   },
   "source": [
    "## Task 5: Find which was the most popular category each year"
   ]
  },
  {
   "cell_type": "markdown",
   "metadata": {
    "application/vnd.databricks.v1+cell": {
     "cellMetadata": {
      "byteLimit": 2048000,
      "rowLimit": 10000
     },
     "inputWidgets": {},
     "nuid": "f5e316eb-d142-4bed-91ad-24525abcf41e",
     "showTitle": true,
     "title": "# Task 5: Find which was the most popular category each year"
    }
   },
   "source": [
    "Task 5: Find which was the most popular category each year"
   ]
  },
  {
   "cell_type": "code",
   "execution_count": null,
   "metadata": {
    "application/vnd.databricks.v1+cell": {
     "cellMetadata": {
      "byteLimit": 2048000,
      "rowLimit": 10000
     },
     "inputWidgets": {},
     "nuid": "d3bbc37c-1511-4f7e-8692-940253563a73",
     "showTitle": false,
     "title": ""
    }
   },
   "outputs": [
    {
     "data": {
      "text/html": [
       "<style scoped>\n",
       "  .ansiout {\n",
       "    display: block;\n",
       "    unicode-bidi: embed;\n",
       "    white-space: pre-wrap;\n",
       "    word-wrap: break-word;\n",
       "    word-break: break-all;\n",
       "    font-family: \"Menlo\", \"Monaco\", \"Consolas\", \"Ubuntu Mono\", \"Source Code Pro\", monospace;\n",
       "    font-size: 13px;\n",
       "    color: #555;\n",
       "    margin-left: 4px;\n",
       "    line-height: 19px;\n",
       "  }\n",
       "</style>\n",
       "<div class=\"ansiout\">+----+--------------+--------------+\n",
       "year|      category|category_count|\n",
       "+----+--------------+--------------+\n",
       "2018|      vehicles|             4|\n",
       "2019|diy-and-crafts|             5|\n",
       "2020|  mens-fashion|             6|\n",
       "2021|        quotes|             2|\n",
       "2022|     christmas|             2|\n",
       "+----+--------------+--------------+\n",
       "\n",
       "</div>"
      ]
     },
     "metadata": {
      "application/vnd.databricks.v1+output": {
       "addedWidgets": {},
       "arguments": {},
       "data": "<div class=\"ansiout\">+----+--------------+--------------+\n|year|      category|category_count|\n+----+--------------+--------------+\n|2018|      vehicles|             4|\n|2019|diy-and-crafts|             5|\n|2020|  mens-fashion|             6|\n|2021|        quotes|             2|\n|2022|     christmas|             2|\n+----+--------------+--------------+\n\n</div>",
       "datasetInfos": [],
       "metadata": {},
       "removedWidgets": [],
       "type": "html"
      }
     },
     "output_type": "display_data"
    }
   ],
   "source": [
    "from pyspark.sql.functions import col, year\n",
    "from pyspark.sql.window import Window\n",
    "from pyspark.sql.functions import row_number\n",
    "\n",
    "# Combine the data from df_pin and df_geo\n",
    "df_combined = df_pin.join(df_geo, df_pin.ind == df_geo.ind)\n",
    "\n",
    "# Extract the year from the timestamp column\n",
    "df_combined = df_combined.withColumn(\"year\", year(\"timestamp\"))\n",
    "\n",
    "# Group by year and category, then count the occurrences of each category for each year\n",
    "df_category_count = df_combined.groupBy(\"year\", \"category\").count()\n",
    "\n",
    "# Create a window partitioned by year, ordered by the count descending\n",
    "windowSpec = Window.partitionBy(\"year\").orderBy(col(\"count\").desc())\n",
    "\n",
    "# Use row_number to assign a rank to each row within each year partition\n",
    "df_ranked_categories = df_category_count.withColumn(\"rank\", row_number().over(windowSpec))\n",
    "\n",
    "# Filter to get only the top category (rank = 1) for each year\n",
    "df_top_category_per_year = df_ranked_categories.filter(col(\"rank\") == 1).drop(\"rank\")\n",
    "\n",
    "# Rename the columns\n",
    "#df_top_category_per_year = df_top_category_per_year.withColumnRenamed(\"category\", \"most_popular_category\")\n",
    "df_top_category_per_year = df_top_category_per_year.withColumnRenamed(\"count\", \"category_count\")\n",
    "\n",
    "# Display the result\n",
    "df_top_category_per_year.show()\n"
   ]
  },
  {
   "cell_type": "code",
   "execution_count": null,
   "metadata": {
    "application/vnd.databricks.v1+cell": {
     "cellMetadata": {
      "byteLimit": 2048000,
      "rowLimit": 10000
     },
     "inputWidgets": {},
     "nuid": "0a49308e-929a-4d73-b4a5-62da82c16bc7",
     "showTitle": false,
     "title": ""
    }
   },
   "outputs": [
    {
     "data": {
      "text/html": [
       "<style scoped>\n",
       "  .ansiout {\n",
       "    display: block;\n",
       "    unicode-bidi: embed;\n",
       "    white-space: pre-wrap;\n",
       "    word-wrap: break-word;\n",
       "    word-break: break-all;\n",
       "    font-family: \"Menlo\", \"Monaco\", \"Consolas\", \"Ubuntu Mono\", \"Source Code Pro\", monospace;\n",
       "    font-size: 13px;\n",
       "    color: #555;\n",
       "    margin-left: 4px;\n",
       "    line-height: 19px;\n",
       "  }\n",
       "</style>\n",
       "<div class=\"ansiout\">+---------+--------------+--------------+\n",
       "post_year|      category|category_count|\n",
       "+---------+--------------+--------------+\n",
       "     2018|      vehicles|             4|\n",
       "     2019|diy-and-crafts|             5|\n",
       "     2020|  mens-fashion|             6|\n",
       "     2021|       tattoos|             2|\n",
       "     2022|     christmas|             2|\n",
       "+---------+--------------+--------------+\n",
       "\n",
       "</div>"
      ]
     },
     "metadata": {
      "application/vnd.databricks.v1+output": {
       "addedWidgets": {},
       "arguments": {},
       "data": "<div class=\"ansiout\">+---------+--------------+--------------+\n|post_year|      category|category_count|\n+---------+--------------+--------------+\n|     2018|      vehicles|             4|\n|     2019|diy-and-crafts|             5|\n|     2020|  mens-fashion|             6|\n|     2021|       tattoos|             2|\n|     2022|     christmas|             2|\n+---------+--------------+--------------+\n\n</div>",
       "datasetInfos": [],
       "metadata": {},
       "removedWidgets": [],
       "type": "html"
      }
     },
     "output_type": "display_data"
    }
   ],
   "source": [
    "from pyspark.sql.functions import col, year\n",
    "from pyspark.sql.window import Window\n",
    "from pyspark.sql.functions import row_number\n",
    "\n",
    "# Combine the data from df_pin and df_geo\n",
    "df_combined = df_pin.join(df_geo, df_pin.ind == df_geo.ind)\n",
    "\n",
    "# Extract the year from the timestamp column and rename it to post_year\n",
    "df_combined = df_combined.withColumn(\"post_year\", year(\"timestamp\")).drop(\"year\")\n",
    "\n",
    "# Group by post_year and category, then count the occurrences of each category for each post_year\n",
    "df_category_count = df_combined.groupBy(\"post_year\", \"category\").count()\n",
    "\n",
    "# Create a window partitioned by post_year, ordered by the count descending\n",
    "windowSpec = Window.partitionBy(\"post_year\").orderBy(col(\"count\").desc())\n",
    "\n",
    "# Use row_number to assign a rank to each row within each post_year partition\n",
    "df_ranked_categories = df_category_count.withColumn(\"rank\", row_number().over(windowSpec))\n",
    "\n",
    "# Filter to get only the top category (rank = 1) for each post_year\n",
    "df_top_category_per_year = df_ranked_categories.filter(col(\"rank\") == 1).drop(\"rank\")\n",
    "\n",
    "# Rename the columns\n",
    "df_top_category_per_year = df_top_category_per_year.withColumnRenamed(\"count\", \"category_count\")\n",
    "\n",
    "# Display the result\n",
    "df_top_category_per_year.show()\n"
   ]
  },
  {
   "cell_type": "markdown",
   "metadata": {
    "application/vnd.databricks.v1+cell": {
     "cellMetadata": {
      "byteLimit": 2048000,
      "rowLimit": 10000
     },
     "inputWidgets": {},
     "nuid": "32edd894-b69d-4837-ad9f-a173e037c341",
     "showTitle": false,
     "title": ""
    }
   },
   "source": [
    "## Task 6: Find the user with most followers in each country"
   ]
  },
  {
   "cell_type": "markdown",
   "metadata": {
    "application/vnd.databricks.v1+cell": {
     "cellMetadata": {
      "byteLimit": 2048000,
      "rowLimit": 10000
     },
     "inputWidgets": {},
     "nuid": "c4d5762a-5194-4cc7-82c6-dc7947c0eb74",
     "showTitle": false,
     "title": ""
    }
   },
   "source": [
    "### Step 1: For each country find the user with the most followers.\n",
    "Your query should return a DataFrame that contains the following columns:\n",
    "\n",
    "- country\n",
    "- poster_name\n",
    "- follower_count"
   ]
  },
  {
   "cell_type": "code",
   "execution_count": null,
   "metadata": {
    "application/vnd.databricks.v1+cell": {
     "cellMetadata": {
      "byteLimit": 2048000,
      "rowLimit": 10000
     },
     "inputWidgets": {},
     "nuid": "7972df0c-eaef-4081-b31f-ea3f69debefb",
     "showTitle": false,
     "title": ""
    }
   },
   "outputs": [
    {
     "data": {
      "text/html": [
       "<style scoped>\n",
       "  .ansiout {\n",
       "    display: block;\n",
       "    unicode-bidi: embed;\n",
       "    white-space: pre-wrap;\n",
       "    word-wrap: break-word;\n",
       "    word-break: break-all;\n",
       "    font-family: \"Menlo\", \"Monaco\", \"Consolas\", \"Ubuntu Mono\", \"Source Code Pro\", monospace;\n",
       "    font-size: 13px;\n",
       "    color: #555;\n",
       "    margin-left: 4px;\n",
       "    line-height: 19px;\n",
       "  }\n",
       "</style>\n",
       "<div class=\"ansiout\">+--------------------+--------------------+--------------+\n",
       "             country|         poster_name|follower_count|\n",
       "+--------------------+--------------------+--------------+\n",
       "         Afghanistan|             Walmart|          null|\n",
       "             Albania|         Bored Panda|          null|\n",
       "             Algeria|           YourTango|        942000|\n",
       "      American Samoa|       Thriving Home|         56000|\n",
       "              Angola|     CraftGossip.com|        502000|\n",
       "            Anguilla|Kristen | Lifesty...|         92000|\n",
       "Antarctica (the t...|            HikenDip|        500000|\n",
       " Antigua and Barbuda|Sumcoco | Decor I...|        306000|\n",
       "             Armenia|Michelle {CraftyM...|        892000|\n",
       "               Aruba|     TheTrendSpotter|        211000|\n",
       "           Australia|   Cultura Colectiva|          null|\n",
       "             Austria|Wanderlust Chloe ...|         10000|\n",
       "          Azerbaijan|     Style Me Pretty|          null|\n",
       "             Bahamas|The Kitchen Table...|        221000|\n",
       "          Bangladesh|        Suburban Men|        383000|\n",
       "            Barbados|              Nicki |         28000|\n",
       "            Botswana|          RapidLeaks|          4000|\n",
       "Bouvet Island (Bo...|            POPSUGAR|          null|\n",
       "British Virgin Is...|Visit USA Parks |...|          4000|\n",
       "            Bulgaria|Living Low Key | ...|         26000|\n",
       "+--------------------+--------------------+--------------+\n",
       "only showing top 20 rows\n",
       "\n",
       "</div>"
      ]
     },
     "metadata": {
      "application/vnd.databricks.v1+output": {
       "addedWidgets": {},
       "arguments": {},
       "data": "<div class=\"ansiout\">+--------------------+--------------------+--------------+\n|             country|         poster_name|follower_count|\n+--------------------+--------------------+--------------+\n|         Afghanistan|             Walmart|          null|\n|             Albania|         Bored Panda|          null|\n|             Algeria|           YourTango|        942000|\n|      American Samoa|       Thriving Home|         56000|\n|              Angola|     CraftGossip.com|        502000|\n|            Anguilla|Kristen | Lifesty...|         92000|\n|Antarctica (the t...|            HikenDip|        500000|\n| Antigua and Barbuda|Sumcoco | Decor I...|        306000|\n|             Armenia|Michelle {CraftyM...|        892000|\n|               Aruba|     TheTrendSpotter|        211000|\n|           Australia|   Cultura Colectiva|          null|\n|             Austria|Wanderlust Chloe ...|         10000|\n|          Azerbaijan|     Style Me Pretty|          null|\n|             Bahamas|The Kitchen Table...|        221000|\n|          Bangladesh|        Suburban Men|        383000|\n|            Barbados|              Nicki |         28000|\n|            Botswana|          RapidLeaks|          4000|\n|Bouvet Island (Bo...|            POPSUGAR|          null|\n|British Virgin Is...|Visit USA Parks |...|          4000|\n|            Bulgaria|Living Low Key | ...|         26000|\n+--------------------+--------------------+--------------+\nonly showing top 20 rows\n\n</div>",
       "datasetInfos": [],
       "metadata": {},
       "removedWidgets": [],
       "type": "html"
      }
     },
     "output_type": "display_data"
    }
   ],
   "source": [
    "from pyspark.sql.functions import col, max\n",
    "from pyspark.sql.window import Window\n",
    "\n",
    "# Alias the DataFrames before joining them\n",
    "df_pin_alias = df_pin.withColumnRenamed(\"country\", \"pin_country\").alias(\"pin\")\n",
    "df_geo_alias = df_geo.withColumnRenamed(\"country\", \"geo_country\").alias(\"geo\")\n",
    "\n",
    "# Join df_pin with df_geo on the index column\n",
    "df_combined = df_pin_alias.join(df_geo_alias, df_pin_alias.ind == df_geo_alias.ind)\n",
    "\n",
    "# Group by country and user (poster_name), then find the maximum follower count for each group\n",
    "df_max_followers_per_user = df_combined.groupBy(\"geo_country\", \"poster_name\").agg(max(\"follower_count\").alias(\"follower_count\"))\n",
    "\n",
    "# Create a window partitioned by country, ordered by the follower_count descending\n",
    "windowSpec = Window.partitionBy(\"geo_country\").orderBy(col(\"follower_count\").desc())\n",
    "\n",
    "# Use row_number to assign a rank to each row within each country partition\n",
    "df_ranked_users = df_max_followers_per_user.withColumn(\"rank\", row_number().over(windowSpec))\n",
    "\n",
    "# Filter to keep only the top user (rank = 1) for each country\n",
    "df_top_users_per_country = df_ranked_users.filter(col(\"rank\") == 1).drop(\"rank\")\n",
    "\n",
    "# Rename the columns\n",
    "df_top_users_per_country = df_top_users_per_country.withColumnRenamed(\"geo_country\", \"country\")\n",
    "\n",
    "# Select the desired columns\n",
    "df_top_users_per_country = df_top_users_per_country.select(\"country\", \"poster_name\", \"follower_count\")\n",
    "\n",
    "# Display the result\n",
    "df_top_users_per_country.show()\n",
    "\n"
   ]
  },
  {
   "cell_type": "markdown",
   "metadata": {
    "application/vnd.databricks.v1+cell": {
     "cellMetadata": {
      "byteLimit": 2048000,
      "rowLimit": 10000
     },
     "inputWidgets": {},
     "nuid": "edebd814-54c7-4090-9fdb-bba7ec28f8b1",
     "showTitle": false,
     "title": ""
    }
   },
   "source": [
    "## Step 2: Based on the above query, find the country with the user with most followers.\n",
    "Your query should return a DataFrame that contains the following columns:\n",
    "- country\n",
    "- follower_count\n",
    "\n",
    "This DataFrame should have only one entry."
   ]
  },
  {
   "cell_type": "code",
   "execution_count": null,
   "metadata": {
    "application/vnd.databricks.v1+cell": {
     "cellMetadata": {
      "byteLimit": 2048000,
      "rowLimit": 10000
     },
     "inputWidgets": {},
     "nuid": "7c47d754-ef31-4a5b-a2a1-2a52db534106",
     "showTitle": false,
     "title": ""
    }
   },
   "outputs": [
    {
     "data": {
      "text/html": [
       "<style scoped>\n",
       "  .ansiout {\n",
       "    display: block;\n",
       "    unicode-bidi: embed;\n",
       "    white-space: pre-wrap;\n",
       "    word-wrap: break-word;\n",
       "    word-break: break-all;\n",
       "    font-family: \"Menlo\", \"Monaco\", \"Consolas\", \"Ubuntu Mono\", \"Source Code Pro\", monospace;\n",
       "    font-size: 13px;\n",
       "    color: #555;\n",
       "    margin-left: 4px;\n",
       "    line-height: 19px;\n",
       "  }\n",
       "</style>\n",
       "<div class=\"ansiout\">+-------+--------------+\n",
       "country|follower_count|\n",
       "+-------+--------------+\n",
       "Algeria|        942000|\n",
       "+-------+--------------+\n",
       "\n",
       "</div>"
      ]
     },
     "metadata": {
      "application/vnd.databricks.v1+output": {
       "addedWidgets": {},
       "arguments": {},
       "data": "<div class=\"ansiout\">+-------+--------------+\n|country|follower_count|\n+-------+--------------+\n|Algeria|        942000|\n+-------+--------------+\n\n</div>",
       "datasetInfos": [],
       "metadata": {},
       "removedWidgets": [],
       "type": "html"
      }
     },
     "output_type": "display_data"
    }
   ],
   "source": [
    "from pyspark.sql.functions import col, max\n",
    "\n",
    "# Group by country and find the maximum follower count across all users in each country\n",
    "df_max_followers_per_country = df_top_users_per_country.groupBy(\"country\").agg(max(\"follower_count\").alias(\"follower_count\"))\n",
    "\n",
    "# Create a window partitioned by country, ordered by the follower_count descending\n",
    "windowSpec = Window.orderBy(col(\"follower_count\").desc())\n",
    "\n",
    "# Use row_number to assign a rank to each row\n",
    "df_ranked_countries = df_max_followers_per_country.withColumn(\"rank\", row_number().over(windowSpec))\n",
    "\n",
    "# Filter to keep only the top country (rank = 1)\n",
    "df_country_with_most_followers = df_ranked_countries.filter(col(\"rank\") == 1).drop(\"rank\")\n",
    "\n",
    "# Display the result\n",
    "df_country_with_most_followers.show()\n"
   ]
  },
  {
   "cell_type": "markdown",
   "metadata": {
    "application/vnd.databricks.v1+cell": {
     "cellMetadata": {
      "byteLimit": 2048000,
      "rowLimit": 10000
     },
     "inputWidgets": {},
     "nuid": "7654b83b-3fed-41da-9e62-7a7c3e8c9c5b",
     "showTitle": false,
     "title": ""
    }
   },
   "source": [
    "### Task 7: Find the most popular category for different age groups"
   ]
  },
  {
   "cell_type": "markdown",
   "metadata": {
    "application/vnd.databricks.v1+cell": {
     "cellMetadata": {
      "byteLimit": 2048000,
      "rowLimit": 10000
     },
     "inputWidgets": {},
     "nuid": "b24f2850-754f-431e-9dec-cffd1d91357d",
     "showTitle": false,
     "title": ""
    }
   },
   "source": [
    "What is the most popular category people post to based on the following age groups:\n",
    "- 18-24\n",
    "- 25-35\n",
    "- 36-50\n",
    "- +50\n",
    "\n",
    "Your query should return a DataFrame that contains the following columns:\n",
    "- age_group, a new column based on the original age column\n",
    "- category\n",
    "- category_count, a new column containing the desired query output"
   ]
  },
  {
   "cell_type": "code",
   "execution_count": null,
   "metadata": {
    "application/vnd.databricks.v1+cell": {
     "cellMetadata": {
      "byteLimit": 2048000,
      "rowLimit": 10000
     },
     "inputWidgets": {},
     "nuid": "d2a6eea0-5c04-4148-84bc-4658420a6525",
     "showTitle": false,
     "title": ""
    }
   },
   "outputs": [
    {
     "data": {
      "text/html": [
       "<style scoped>\n",
       "  .ansiout {\n",
       "    display: block;\n",
       "    unicode-bidi: embed;\n",
       "    white-space: pre-wrap;\n",
       "    word-wrap: break-word;\n",
       "    word-break: break-all;\n",
       "    font-family: \"Menlo\", \"Monaco\", \"Consolas\", \"Ubuntu Mono\", \"Source Code Pro\", monospace;\n",
       "    font-size: 13px;\n",
       "    color: #555;\n",
       "    margin-left: 4px;\n",
       "    line-height: 19px;\n",
       "  }\n",
       "</style>\n",
       "<div class=\"ansiout\">+---------+--------------+--------------+\n",
       "age_group|      category|category_count|\n",
       "+---------+--------------+--------------+\n",
       "    18-24|  mens-fashion|            17|\n",
       "    25-35|diy-and-crafts|            12|\n",
       "    36-50|       finance|             5|\n",
       "      50+|        beauty|             1|\n",
       "+---------+--------------+--------------+\n",
       "\n",
       "</div>"
      ]
     },
     "metadata": {
      "application/vnd.databricks.v1+output": {
       "addedWidgets": {},
       "arguments": {},
       "data": "<div class=\"ansiout\">+---------+--------------+--------------+\n|age_group|      category|category_count|\n+---------+--------------+--------------+\n|    18-24|  mens-fashion|            17|\n|    25-35|diy-and-crafts|            12|\n|    36-50|       finance|             5|\n|      50+|        beauty|             1|\n+---------+--------------+--------------+\n\n</div>",
       "datasetInfos": [],
       "metadata": {},
       "removedWidgets": [],
       "type": "html"
      }
     },
     "output_type": "display_data"
    }
   ],
   "source": [
    "from pyspark.sql.functions import when\n",
    "\n",
    "# Define age groups based on the original age column\n",
    "df_user_age_grouped = df_user.withColumn(\"age_group\",\n",
    "                                         when(col(\"age\").between(18, 24), \"18-24\")\n",
    "                                         .when(col(\"age\").between(25, 35), \"25-35\")\n",
    "                                         .when(col(\"age\").between(36, 50), \"36-50\")\n",
    "                                         .otherwise(\"50+\"))\n",
    "\n",
    "# Join the combined DataFrame with df_pin on the index column\n",
    "df_combined = df_pin.join(df_user_age_grouped, df_pin.ind == df_user_age_grouped.ind)\n",
    "\n",
    "# Group by age group and category, then count the occurrences of each category for each age group\n",
    "df_category_count = df_combined.groupBy(\"age_group\", \"category\").count()\n",
    "\n",
    "# Create a window partitioned by age group, ordered by the count descending\n",
    "windowSpec = Window.partitionBy(\"age_group\").orderBy(col(\"count\").desc())\n",
    "\n",
    "# Use row_number to assign a rank to each row within each age group partition\n",
    "df_ranked_categories = df_category_count.withColumn(\"rank\", row_number().over(windowSpec))\n",
    "\n",
    "# Filter to get only the top category (rank = 1) for each age group\n",
    "df_most_popular_per_age_group = df_ranked_categories.filter(col(\"rank\") == 1).drop(\"rank\")\n",
    "\n",
    "# Rename the columns\n",
    "df_most_popular_per_age_group = df_most_popular_per_age_group.withColumnRenamed(\"count\", \"category_count\")\n",
    "\n",
    "# Display the result\n",
    "df_most_popular_per_age_group.show()\n"
   ]
  },
  {
   "cell_type": "markdown",
   "metadata": {
    "application/vnd.databricks.v1+cell": {
     "cellMetadata": {
      "byteLimit": 2048000,
      "rowLimit": 10000
     },
     "inputWidgets": {},
     "nuid": "a9ce8d96-81cd-475b-a8a3-754e65e07c87",
     "showTitle": false,
     "title": ""
    }
   },
   "source": [
    "### Task 8: Find the median follower count for different age groups\n",
    "\n",
    "What is the median follower count for users in the following age groups:\n",
    "\n",
    "- 18-24\n",
    "- 25-35\n",
    "- 36-50\n",
    "- +50\n",
    "\n",
    "Your query should return a DataFrame that contains the following columns:\n",
    "\n",
    "- age_group, a new column based on the original age column\n",
    "- median_follower_count, a new column containing the desired query output"
   ]
  },
  {
   "cell_type": "code",
   "execution_count": null,
   "metadata": {
    "application/vnd.databricks.v1+cell": {
     "cellMetadata": {
      "byteLimit": 2048000,
      "rowLimit": 10000
     },
     "inputWidgets": {},
     "nuid": "1bddb0fe-8185-4b61-9d45-9d54cae279db",
     "showTitle": false,
     "title": ""
    }
   },
   "outputs": [
    {
     "data": {
      "text/html": [
       "<style scoped>\n",
       "  .ansiout {\n",
       "    display: block;\n",
       "    unicode-bidi: embed;\n",
       "    white-space: pre-wrap;\n",
       "    word-wrap: break-word;\n",
       "    word-break: break-all;\n",
       "    font-family: \"Menlo\", \"Monaco\", \"Consolas\", \"Ubuntu Mono\", \"Source Code Pro\", monospace;\n",
       "    font-size: 13px;\n",
       "    color: #555;\n",
       "    margin-left: 4px;\n",
       "    line-height: 19px;\n",
       "  }\n",
       "</style>\n",
       "<div class=\"ansiout\">+---------+---------------------+\n",
       "age_group|median_follower_count|\n",
       "+---------+---------------------+\n",
       "    18-24|               211000|\n",
       "    25-35|                43000|\n",
       "    36-50|                 6000|\n",
       "      50+|                  908|\n",
       "+---------+---------------------+\n",
       "\n",
       "</div>"
      ]
     },
     "metadata": {
      "application/vnd.databricks.v1+output": {
       "addedWidgets": {},
       "arguments": {},
       "data": "<div class=\"ansiout\">+---------+---------------------+\n|age_group|median_follower_count|\n+---------+---------------------+\n|    18-24|               211000|\n|    25-35|                43000|\n|    36-50|                 6000|\n|      50+|                  908|\n+---------+---------------------+\n\n</div>",
       "datasetInfos": [],
       "metadata": {},
       "removedWidgets": [],
       "type": "html"
      }
     },
     "output_type": "display_data"
    }
   ],
   "source": [
    "from pyspark.sql.functions import col, expr\n",
    "\n",
    "# Define age groups based on the original age column\n",
    "df_user_age_grouped = df_user.withColumn(\"age_group\",\n",
    "                                         when(col(\"age\").between(18, 24), \"18-24\")\n",
    "                                         .when(col(\"age\").between(25, 35), \"25-35\")\n",
    "                                         .when(col(\"age\").between(36, 50), \"36-50\")\n",
    "                                         .otherwise(\"50+\"))\n",
    "\n",
    "# Join the user DataFrame with the pin DataFrame on the index column\n",
    "df_combined = df_pin.join(df_user_age_grouped, df_pin.ind == df_user_age_grouped.ind)\n",
    "\n",
    "# Group by age group and calculate the median follower count for each age group\n",
    "df_median_follower_count = df_combined.groupBy(\"age_group\") \\\n",
    "    .agg(expr(\"percentile_approx(follower_count, 0.5)\").alias(\"median_follower_count\"))\n",
    "\n",
    "# Display the result\n",
    "df_median_follower_count.show()\n"
   ]
  },
  {
   "cell_type": "markdown",
   "metadata": {
    "application/vnd.databricks.v1+cell": {
     "cellMetadata": {
      "byteLimit": 2048000,
      "rowLimit": 10000
     },
     "inputWidgets": {},
     "nuid": "84205f74-4dcb-406b-8ed0-7199d7fb29c4",
     "showTitle": false,
     "title": ""
    }
   },
   "source": [
    "## Task 9: Find how many users have joined each year?\n",
    "Find how many users have joined between 2015 and 2020.\n",
    "\n",
    "Your query should return a DataFrame that contains the following columns:\n",
    "\n",
    "- post_year, a new column that contains only the year from the timestamp column\n",
    "- number_users_joined, a new column containing the desired query output"
   ]
  },
  {
   "cell_type": "code",
   "execution_count": null,
   "metadata": {
    "application/vnd.databricks.v1+cell": {
     "cellMetadata": {
      "byteLimit": 2048000,
      "rowLimit": 10000
     },
     "inputWidgets": {},
     "nuid": "e03c34ae-5fc6-4f16-8e84-25b606acd1af",
     "showTitle": false,
     "title": ""
    }
   },
   "outputs": [
    {
     "data": {
      "text/html": [
       "<style scoped>\n",
       "  .ansiout {\n",
       "    display: block;\n",
       "    unicode-bidi: embed;\n",
       "    white-space: pre-wrap;\n",
       "    word-wrap: break-word;\n",
       "    word-break: break-all;\n",
       "    font-family: \"Menlo\", \"Monaco\", \"Consolas\", \"Ubuntu Mono\", \"Source Code Pro\", monospace;\n",
       "    font-size: 13px;\n",
       "    color: #555;\n",
       "    margin-left: 4px;\n",
       "    line-height: 19px;\n",
       "  }\n",
       "</style>\n",
       "<div class=\"ansiout\">+---------+-------------------+\n",
       "join_year|number_users_joined|\n",
       "+---------+-------------------+\n",
       "     2015|                 24|\n",
       "     2016|                 27|\n",
       "     2017|                  8|\n",
       "+---------+-------------------+\n",
       "\n",
       "</div>"
      ]
     },
     "metadata": {
      "application/vnd.databricks.v1+output": {
       "addedWidgets": {},
       "arguments": {},
       "data": "<div class=\"ansiout\">+---------+-------------------+\n|join_year|number_users_joined|\n+---------+-------------------+\n|     2015|                 24|\n|     2016|                 27|\n|     2017|                  8|\n+---------+-------------------+\n\n</div>",
       "datasetInfos": [],
       "metadata": {},
       "removedWidgets": [],
       "type": "html"
      }
     },
     "output_type": "display_data"
    }
   ],
   "source": [
    "from pyspark.sql.functions import year, countDistinct\n",
    "\n",
    "# Extract the year from the date_joined column\n",
    "df_user_year = df_user.withColumn(\"join_year\", year(\"date_joined\"))\n",
    "\n",
    "# Filter the data for users who joined between 2015 and 2020\n",
    "df_filtered_users = df_user_year.filter((col(\"join_year\") >= 2015) & (col(\"join_year\") <= 2020))\n",
    "\n",
    "# Group by the join year and count the distinct users\n",
    "df_number_users_joined = df_filtered_users.groupBy(\"join_year\").agg(countDistinct(\"user_name\").alias(\"number_users_joined\"))\n",
    "\n",
    "# Display the result\n",
    "df_number_users_joined.show()\n"
   ]
  },
  {
   "cell_type": "markdown",
   "metadata": {
    "application/vnd.databricks.v1+cell": {
     "cellMetadata": {
      "byteLimit": 2048000,
      "rowLimit": 10000
     },
     "inputWidgets": {},
     "nuid": "314e0734-aa19-4d1b-bb49-1786c8766df4",
     "showTitle": false,
     "title": ""
    }
   },
   "source": [
    "## Task 10: Find the median follower count of users based on their joining year\n",
    "\n",
    "Find the median follower count of users have joined between 2015 and 2020.\n",
    "\n",
    "Your query should return a DataFrame that contains the following columns:\n",
    "\n",
    "- post_year, a new column that contains only the year from the timestamp column\n",
    "- median_follower_count, a new column containing the desired query output\n"
   ]
  },
  {
   "cell_type": "code",
   "execution_count": null,
   "metadata": {
    "application/vnd.databricks.v1+cell": {
     "cellMetadata": {
      "byteLimit": 2048000,
      "rowLimit": 10000
     },
     "inputWidgets": {},
     "nuid": "6908e9dc-d820-4bad-ae55-79f864706fb4",
     "showTitle": false,
     "title": ""
    }
   },
   "outputs": [
    {
     "data": {
      "text/html": [
       "<style scoped>\n",
       "  .ansiout {\n",
       "    display: block;\n",
       "    unicode-bidi: embed;\n",
       "    white-space: pre-wrap;\n",
       "    word-wrap: break-word;\n",
       "    word-break: break-all;\n",
       "    font-family: \"Menlo\", \"Monaco\", \"Consolas\", \"Ubuntu Mono\", \"Source Code Pro\", monospace;\n",
       "    font-size: 13px;\n",
       "    color: #555;\n",
       "    margin-left: 4px;\n",
       "    line-height: 19px;\n",
       "  }\n",
       "</style>\n",
       "<div class=\"ansiout\">+-----+------------------+---+-------------------+---------+---------------------+\n",
       "  ind|         user_name|age|        date_joined|join_year|median_follower_count|\n",
       "+-----+------------------+---+-------------------+---------+---------------------+\n",
       " 5730|       RachelDavis| 36|2015-12-08 20:02:43|     2015|                   22|\n",
       " 2923|       BrianNelson| 26|2015-11-11 03:20:57|     2015|                   22|\n",
       "  857|       AndrewBurke| 20|2015-11-14 17:38:31|     2015|                   22|\n",
       " 7528|        AbigailAli| 20|2015-10-24 11:23:51|     2015|                   22|\n",
       " 4249|AlexandriaAlvarado| 20|2015-10-23 04:13:23|     2015|                   22|\n",
       " 8731|   AndreaAlexander| 21|2015-11-10 09:27:42|     2015|                   22|\n",
       " 6063|      CoreyAndrews| 23|2015-11-25 13:36:22|     2015|                   22|\n",
       " 6145|      EmilyHawkins| 30|2015-12-25 20:24:37|     2015|                   22|\n",
       " 8304|      CharlesBerry| 25|2015-12-28 04:21:39|     2015|                   22|\n",
       " 3156|       AndrewBaker| 22|2015-12-21 08:06:54|     2015|                   22|\n",
       "  428|      ClaudiaAdams| 20|2015-11-28 02:20:29|     2015|                   22|\n",
       "10138|        CarolSilva| 22|2015-12-31 14:57:02|     2015|                   22|\n",
       " 7922|       DeniseAdams| 21|2015-11-12 06:21:36|     2015|                   22|\n",
       " 9875|     BrendanJoseph| 26|2015-12-20 10:28:00|     2015|                   22|\n",
       " 4315|    MichellePrince| 36|2015-12-20 16:38:13|     2015|                   22|\n",
       " 8237|       AaronAbbott| 20|2015-10-23 16:08:41|     2015|                   22|\n",
       " 3089|        AbigailAli| 20|2015-10-24 11:23:51|     2015|                   22|\n",
       " 5494|         AnneAllen| 27|2015-12-16 15:20:05|     2015|                   22|\n",
       "10883|       CarlHampton| 25|2015-11-26 03:43:03|     2015|                   22|\n",
       "10321|       AndreaBurke| 20|2015-12-12 11:20:08|     2015|                   22|\n",
       "+-----+------------------+---+-------------------+---------+---------------------+\n",
       "only showing top 20 rows\n",
       "\n",
       "</div>"
      ]
     },
     "metadata": {
      "application/vnd.databricks.v1+output": {
       "addedWidgets": {},
       "arguments": {},
       "data": "<div class=\"ansiout\">+-----+------------------+---+-------------------+---------+---------------------+\n|  ind|         user_name|age|        date_joined|join_year|median_follower_count|\n+-----+------------------+---+-------------------+---------+---------------------+\n| 5730|       RachelDavis| 36|2015-12-08 20:02:43|     2015|                   22|\n| 2923|       BrianNelson| 26|2015-11-11 03:20:57|     2015|                   22|\n|  857|       AndrewBurke| 20|2015-11-14 17:38:31|     2015|                   22|\n| 7528|        AbigailAli| 20|2015-10-24 11:23:51|     2015|                   22|\n| 4249|AlexandriaAlvarado| 20|2015-10-23 04:13:23|     2015|                   22|\n| 8731|   AndreaAlexander| 21|2015-11-10 09:27:42|     2015|                   22|\n| 6063|      CoreyAndrews| 23|2015-11-25 13:36:22|     2015|                   22|\n| 6145|      EmilyHawkins| 30|2015-12-25 20:24:37|     2015|                   22|\n| 8304|      CharlesBerry| 25|2015-12-28 04:21:39|     2015|                   22|\n| 3156|       AndrewBaker| 22|2015-12-21 08:06:54|     2015|                   22|\n|  428|      ClaudiaAdams| 20|2015-11-28 02:20:29|     2015|                   22|\n|10138|        CarolSilva| 22|2015-12-31 14:57:02|     2015|                   22|\n| 7922|       DeniseAdams| 21|2015-11-12 06:21:36|     2015|                   22|\n| 9875|     BrendanJoseph| 26|2015-12-20 10:28:00|     2015|                   22|\n| 4315|    MichellePrince| 36|2015-12-20 16:38:13|     2015|                   22|\n| 8237|       AaronAbbott| 20|2015-10-23 16:08:41|     2015|                   22|\n| 3089|        AbigailAli| 20|2015-10-24 11:23:51|     2015|                   22|\n| 5494|         AnneAllen| 27|2015-12-16 15:20:05|     2015|                   22|\n|10883|       CarlHampton| 25|2015-11-26 03:43:03|     2015|                   22|\n|10321|       AndreaBurke| 20|2015-12-12 11:20:08|     2015|                   22|\n+-----+------------------+---+-------------------+---------+---------------------+\nonly showing top 20 rows\n\n</div>",
       "datasetInfos": [],
       "metadata": {},
       "removedWidgets": [],
       "type": "html"
      }
     },
     "output_type": "display_data"
    }
   ],
   "source": [
    "from pyspark.sql.functions import year\n",
    "from pyspark.sql import Window\n",
    "import pyspark.sql.functions as F\n",
    "\n",
    "# Extract the year from the date_joined column\n",
    "df_user_year = df_user.withColumn(\"join_year\", year(\"date_joined\"))\n",
    "\n",
    "# Filter the data for users who joined between 2015 and 2020\n",
    "df_filtered_users = df_user_year.filter((col(\"join_year\") >= 2015) & (col(\"join_year\") <= 2020))\n",
    "\n",
    "# Calculate the median follower count for each year\n",
    "windowSpec = Window.partitionBy(\"join_year\")\n",
    "df_median_follower_count = df_filtered_users.withColumn(\"median_follower_count\", F.expr(\"percentile_approx(age, 0.5)\").over(windowSpec)).distinct()\n",
    "\n",
    "# Display the result\n",
    "df_median_follower_count.show()\n"
   ]
  },
  {
   "cell_type": "markdown",
   "metadata": {
    "application/vnd.databricks.v1+cell": {
     "cellMetadata": {
      "byteLimit": 2048000,
      "rowLimit": 10000
     },
     "inputWidgets": {},
     "nuid": "4613f262-afb9-4deb-9a6a-8dac6227c1e3",
     "showTitle": false,
     "title": ""
    }
   },
   "source": [
    "## Task 11: Find the median follower count of users based on their joining year and age group\n",
    "\n",
    "Find the median follower count of users that have joined between 2015 and 2020, based on which age group they are part of.\n",
    "Your query should return a DataFrame that contains the following columns:\n",
    "\n",
    "- age_group, a new column based on the original age column\n",
    "- post_year, a new column that contains only the year from the timestamp column\n",
    "- median_follower_count, a new column containing the desired query output"
   ]
  },
  {
   "cell_type": "code",
   "execution_count": null,
   "metadata": {
    "application/vnd.databricks.v1+cell": {
     "cellMetadata": {
      "byteLimit": 2048000,
      "rowLimit": 10000
     },
     "inputWidgets": {},
     "nuid": "409d19fe-46e4-4ea4-9e09-ad0c22a73e2d",
     "showTitle": false,
     "title": ""
    }
   },
   "outputs": [
    {
     "data": {
      "text/html": [
       "<style scoped>\n",
       "  .ansiout {\n",
       "    display: block;\n",
       "    unicode-bidi: embed;\n",
       "    white-space: pre-wrap;\n",
       "    word-wrap: break-word;\n",
       "    word-break: break-all;\n",
       "    font-family: \"Menlo\", \"Monaco\", \"Consolas\", \"Ubuntu Mono\", \"Source Code Pro\", monospace;\n",
       "    font-size: 13px;\n",
       "    color: #555;\n",
       "    margin-left: 4px;\n",
       "    line-height: 19px;\n",
       "  }\n",
       "</style>\n",
       "<div class=\"ansiout\">+---------+---------+---------------------+\n",
       "age_group|post_year|median_follower_count|\n",
       "+---------+---------+---------------------+\n",
       "    20-29|     2015|                 7528|\n",
       "      40+|     2016|                 3813|\n",
       "    20-29|     2016|                 5069|\n",
       "    30-39|     2016|                 2863|\n",
       "    20-29|     2017|                 5091|\n",
       "    30-39|     2015|                 5730|\n",
       "      40+|     2017|                 1611|\n",
       "    30-39|     2017|                10625|\n",
       "+---------+---------+---------------------+\n",
       "\n",
       "</div>"
      ]
     },
     "metadata": {
      "application/vnd.databricks.v1+output": {
       "addedWidgets": {},
       "arguments": {},
       "data": "<div class=\"ansiout\">+---------+---------+---------------------+\n|age_group|post_year|median_follower_count|\n+---------+---------+---------------------+\n|    20-29|     2015|                 7528|\n|      40+|     2016|                 3813|\n|    20-29|     2016|                 5069|\n|    30-39|     2016|                 2863|\n|    20-29|     2017|                 5091|\n|    30-39|     2015|                 5730|\n|      40+|     2017|                 1611|\n|    30-39|     2017|                10625|\n+---------+---------+---------------------+\n\n</div>",
       "datasetInfos": [],
       "metadata": {},
       "removedWidgets": [],
       "type": "html"
      }
     },
     "output_type": "display_data"
    }
   ],
   "source": [
    "from pyspark.sql.functions import year, expr, col\n",
    "from pyspark.sql import Window\n",
    "import pyspark.sql.functions as F\n",
    "\n",
    "# Extract the year from the date_joined column\n",
    "df_user_year = df_user.withColumn(\"join_year\", year(\"date_joined\"))\n",
    "\n",
    "# Filter the data for users who joined between 2015 and 2020\n",
    "df_filtered_users = df_user_year.filter((col(\"join_year\") >= 2015) & (col(\"join_year\") <= 2020))\n",
    "\n",
    "# Calculate age group\n",
    "df_filtered_users = df_filtered_users.withColumn(\"age_group\", F.when(col(\"age\") < 20, \"0-19\")\n",
    "                                                     .when((col(\"age\") >= 20) & (col(\"age\") < 30), \"20-29\")\n",
    "                                                     .when((col(\"age\") >= 30) & (col(\"age\") < 40), \"30-39\")\n",
    "                                                     .otherwise(\"40+\"))\n",
    "\n",
    "# Group by age group, join year, and calculate the median follower count\n",
    "df_median_follower_count = df_filtered_users.groupBy(\"age_group\", \"join_year\") \\\n",
    "    .agg(expr(\"percentile_approx(ind, 0.5)\").alias(\"median_follower_count\"))\n",
    "\n",
    "# Add a column for post_year containing only the year from the timestamp column\n",
    "df_median_follower_count = df_median_follower_count.withColumn(\"post_year\", col(\"join_year\"))\n",
    "\n",
    "# Reorder columns\n",
    "df_median_follower_count = df_median_follower_count.select(\"age_group\", \"post_year\", \"median_follower_count\")\n",
    "\n",
    "# Display the result\n",
    "df_median_follower_count.show()\n"
   ]
  },
  {
   "cell_type": "code",
   "execution_count": null,
   "metadata": {
    "application/vnd.databricks.v1+cell": {
     "cellMetadata": {
      "byteLimit": 2048000,
      "rowLimit": 10000
     },
     "inputWidgets": {},
     "nuid": "4d8be818-e533-4292-a607-3b29a63f45d2",
     "showTitle": false,
     "title": ""
    }
   },
   "outputs": [
    {
     "data": {
      "text/html": [
       "<style scoped>\n",
       "  .ansiout {\n",
       "    display: block;\n",
       "    unicode-bidi: embed;\n",
       "    white-space: pre-wrap;\n",
       "    word-wrap: break-word;\n",
       "    word-break: break-all;\n",
       "    font-family: \"Menlo\", \"Monaco\", \"Consolas\", \"Ubuntu Mono\", \"Source Code Pro\", monospace;\n",
       "    font-size: 13px;\n",
       "    color: #555;\n",
       "    margin-left: 4px;\n",
       "    line-height: 19px;\n",
       "  }\n",
       "</style>\n",
       "<div class=\"ansiout\">+---------+---------------------+\n",
       "join_year|median_follower_count|\n",
       "+---------+---------------------+\n",
       "     2015|                 6145|\n",
       "     2016|                 4949|\n",
       "     2017|                 5091|\n",
       "+---------+---------------------+\n",
       "\n",
       "</div>"
      ]
     },
     "metadata": {
      "application/vnd.databricks.v1+output": {
       "addedWidgets": {},
       "arguments": {},
       "data": "<div class=\"ansiout\">+---------+---------------------+\n|join_year|median_follower_count|\n+---------+---------------------+\n|     2015|                 6145|\n|     2016|                 4949|\n|     2017|                 5091|\n+---------+---------------------+\n\n</div>",
       "datasetInfos": [],
       "metadata": {},
       "removedWidgets": [],
       "type": "html"
      }
     },
     "output_type": "display_data"
    }
   ],
   "source": [
    "from pyspark.sql.functions import year, expr, col\n",
    "from pyspark.sql import Window\n",
    "import pyspark.sql.functions as F\n",
    "\n",
    "# Extract the year from the date_joined column\n",
    "df_user_year = df_user.withColumn(\"join_year\", year(\"date_joined\"))\n",
    "\n",
    "# Filter the data for users who joined between 2015 and 2020\n",
    "df_filtered_users = df_user_year.filter((col(\"join_year\") >= 2015) & (col(\"join_year\") <= 2020))\n",
    "\n",
    "# Calculate age group\n",
    "#df_filtered_users = df_filtered_users.withColumn(\"age_group\", F.when(col(\"age\") < 20, \"0-19\")\n",
    "                                                     #.when((col(\"age\") >= 20) & (col(\"age\") < 30), #\"20-29\")\n",
    "                                                     #.when((col(\"age\") >= 30) & (col(\"age\") < 40), #\"30-39\")\n",
    "                                                     #.otherwise(\"40+\"))\n",
    "\n",
    "# Group by age group, join year, and calculate the median follower count\n",
    "df_median_follower_count = df_filtered_users.groupBy(\"join_year\") \\\n",
    "    .agg(expr(\"percentile_approx(ind, 0.5)\").alias(\"median_follower_count\"))\n",
    "\n",
    "# Display the result\n",
    "df_median_follower_count.show()"
   ]
  },
  {
   "cell_type": "code",
   "execution_count": null,
   "metadata": {
    "application/vnd.databricks.v1+cell": {
     "cellMetadata": {
      "byteLimit": 2048000,
      "rowLimit": 10000
     },
     "inputWidgets": {},
     "nuid": "c5224eeb-f322-4ea9-901f-1d51f391387c",
     "showTitle": false,
     "title": ""
    }
   },
   "outputs": [
    {
     "data": {
      "text/html": [
       "<style scoped>\n",
       "  .ansiout {\n",
       "    display: block;\n",
       "    unicode-bidi: embed;\n",
       "    white-space: pre-wrap;\n",
       "    word-wrap: break-word;\n",
       "    word-break: break-all;\n",
       "    font-family: \"Menlo\", \"Monaco\", \"Consolas\", \"Ubuntu Mono\", \"Source Code Pro\", monospace;\n",
       "    font-size: 13px;\n",
       "    color: #555;\n",
       "    margin-left: 4px;\n",
       "    line-height: 19px;\n",
       "  }\n",
       "</style>\n",
       "<div class=\"ansiout\">+---------+---------+---------------------+\n",
       "age_group|join_year|median_follower_count|\n",
       "+---------+---------+---------------------+\n",
       "    30-39|     2016|                 2863|\n",
       "    20-29|     2015|                 7528|\n",
       "    30-39|     2015|                 5730|\n",
       "    20-29|     2016|                 5069|\n",
       "      40+|     2017|                 1611|\n",
       "    20-29|     2017|                 5091|\n",
       "      40+|     2016|                 3813|\n",
       "    30-39|     2017|                10625|\n",
       "+---------+---------+---------------------+\n",
       "\n",
       "</div>"
      ]
     },
     "metadata": {
      "application/vnd.databricks.v1+output": {
       "addedWidgets": {},
       "arguments": {},
       "data": "<div class=\"ansiout\">+---------+---------+---------------------+\n|age_group|join_year|median_follower_count|\n+---------+---------+---------------------+\n|    30-39|     2016|                 2863|\n|    20-29|     2015|                 7528|\n|    30-39|     2015|                 5730|\n|    20-29|     2016|                 5069|\n|      40+|     2017|                 1611|\n|    20-29|     2017|                 5091|\n|      40+|     2016|                 3813|\n|    30-39|     2017|                10625|\n+---------+---------+---------------------+\n\n</div>",
       "datasetInfos": [],
       "metadata": {},
       "removedWidgets": [],
       "type": "html"
      }
     },
     "output_type": "display_data"
    }
   ],
   "source": [
    "from pyspark.sql.functions import year, expr, col\n",
    "from pyspark.sql import Window\n",
    "import pyspark.sql.functions as F\n",
    "\n",
    "# Extract the year from the date_joined column\n",
    "df_user_year = df_user.withColumn(\"join_year\", year(\"date_joined\"))\n",
    "\n",
    "# Filter the data for users who joined between 2015 and 2020\n",
    "df_filtered_users = df_user_year.filter((col(\"join_year\") >= 2015) & (col(\"join_year\") <= 2020))\n",
    "\n",
    "# Calculate age group\n",
    "df_filtered_users = df_filtered_users.withColumn(\"age_group\", F.when(col(\"age\") < 20, \"0-19\")\n",
    "                                                     .when((col(\"age\") >= 20) & (col(\"age\") < 30), \"20-29\")\n",
    "                                                     .when((col(\"age\") >= 30) & (col(\"age\") < 40), \"30-39\")\n",
    "                                                     .otherwise(\"40+\"))\n",
    "\n",
    "# Group by age group, join year, and calculate the median follower count\n",
    "df_median_follower_count = df_filtered_users.groupBy(\"age_group\", \"join_year\") \\\n",
    "    .agg(expr(\"percentile_approx(ind, 0.5)\").alias(\"median_follower_count\"))\n",
    "\n",
    "# Display the result\n",
    "df_median_follower_count.show()\n"
   ]
  },
  {
   "cell_type": "code",
   "execution_count": null,
   "metadata": {
    "application/vnd.databricks.v1+cell": {
     "cellMetadata": {
      "byteLimit": 2048000,
      "rowLimit": 10000
     },
     "inputWidgets": {},
     "nuid": "3b1f9816-5c05-4b62-8ffd-ac5e490714fb",
     "showTitle": false,
     "title": ""
    }
   },
   "outputs": [
    {
     "data": {
      "text/html": [
       "<style scoped>\n",
       "  .ansiout {\n",
       "    display: block;\n",
       "    unicode-bidi: embed;\n",
       "    white-space: pre-wrap;\n",
       "    word-wrap: break-word;\n",
       "    word-break: break-all;\n",
       "    font-family: \"Menlo\", \"Monaco\", \"Consolas\", \"Ubuntu Mono\", \"Source Code Pro\", monospace;\n",
       "    font-size: 13px;\n",
       "    color: #555;\n",
       "    margin-left: 4px;\n",
       "    line-height: 19px;\n",
       "  }\n",
       "</style>\n",
       "<div class=\"ansiout\">DataFrame[ind: bigint, user_name: string, age: bigint, date_joined: timestamp, join_year: int, age_group: string]\n",
       "DataFrame[ind: bigint, follower_count: int]\n",
       "[&#39;ind&#39;, &#39;follower_count&#39;]\n",
       "[&#39;ind&#39;, &#39;follower_count&#39;]\n",
       "DataFrame[ind: bigint, user_name: string, age: bigint, date_joined: timestamp, join_year: int, age_group: string]\n",
       "DataFrame[ind: bigint, follower_count: int]\n",
       "+---------+---------+---------------------+\n",
       "age_group|join_year|median_follower_count|\n",
       "+---------+---------+---------------------+\n",
       "    18-24|     2015|               211000|\n",
       "    25-35|     2015|                51000|\n",
       "    36-50|     2015|                    0|\n",
       "    18-24|     2016|               502000|\n",
       "    25-35|     2016|                43000|\n",
       "    36-50|     2016|                17000|\n",
       "      50+|     2016|                  908|\n",
       "    18-24|     2017|                  940|\n",
       "    25-35|     2017|                 8000|\n",
       "    36-50|     2017|                 6000|\n",
       "+---------+---------+---------------------+\n",
       "\n",
       "</div>"
      ]
     },
     "metadata": {
      "application/vnd.databricks.v1+output": {
       "addedWidgets": {},
       "arguments": {},
       "data": "<div class=\"ansiout\">DataFrame[ind: bigint, user_name: string, age: bigint, date_joined: timestamp, join_year: int, age_group: string]\nDataFrame[ind: bigint, follower_count: int]\n[&#39;ind&#39;, &#39;follower_count&#39;]\n[&#39;ind&#39;, &#39;follower_count&#39;]\nDataFrame[ind: bigint, user_name: string, age: bigint, date_joined: timestamp, join_year: int, age_group: string]\nDataFrame[ind: bigint, follower_count: int]\n+---------+---------+---------------------+\n|age_group|join_year|median_follower_count|\n+---------+---------+---------------------+\n|    18-24|     2015|               211000|\n|    25-35|     2015|                51000|\n|    36-50|     2015|                    0|\n|    18-24|     2016|               502000|\n|    25-35|     2016|                43000|\n|    36-50|     2016|                17000|\n|      50+|     2016|                  908|\n|    18-24|     2017|                  940|\n|    25-35|     2017|                 8000|\n|    36-50|     2017|                 6000|\n+---------+---------+---------------------+\n\n</div>",
       "datasetInfos": [],
       "metadata": {},
       "removedWidgets": [],
       "type": "html"
      }
     },
     "output_type": "display_data"
    }
   ],
   "source": [
    "from pyspark.sql.functions import expr\n",
    "from pyspark.sql.window import Window\n",
    "\n",
    "# Assuming follower information is contained within df_pin, you can filter the relevant columns\n",
    "df_followers = df_pin.select(\"ind\", \"follower_count\")\n",
    "\n",
    "# Now you have a DataFrame df_followers containing the unique_id and follower_count columns\n",
    "\n",
    "\n",
    "# Assuming df_followers is properly defined and contains the necessary columns\n",
    "# Join df_filtered_users with df_followers on a common key (e.g., unique_id)\n",
    "print(df_filtered_users)\n",
    "print(df_followers)\n",
    "print(df_followers.columns)  # This line is causing the error\n",
    "\n",
    "# Correcting the error: Accessing the columns attribute of df_followers\n",
    "print(df_followers.columns)\n",
    "\n",
    "\n",
    "df_filtered_users_with_followers = df_filtered_users.join(df_followers, df_filtered_users[\"ind\"] == df_followers[\"ind\"], how=\"inner\")\n",
    "print(df_filtered_users)\n",
    "print(df_followers)\n",
    "# Once the join is successful, you can proceed with the rest of the code to calculate the median follower count\n",
    "\n",
    "# Calculate the median follower count for each year and age group\n",
    "windowSpec = Window.partitionBy(\"join_year\", \"age_group\")\n",
    "df_median_follower_count = df_filtered_users_with_followers.withColumn(\n",
    "    \"median_follower_count\",\n",
    "    expr(\"percentile_approx(follower_count, 0.5)\").over(windowSpec)\n",
    ").select(\"age_group\", \"join_year\", \"median_follower_count\").distinct()\n",
    "\n",
    "# Display the result\n",
    "df_median_follower_count.show()\n"
   ]
  },
  {
   "cell_type": "code",
   "execution_count": null,
   "metadata": {
    "application/vnd.databricks.v1+cell": {
     "cellMetadata": {
      "byteLimit": 2048000,
      "rowLimit": 10000
     },
     "inputWidgets": {},
     "nuid": "16239ad8-b79c-4edb-90fd-ed01696da4f7",
     "showTitle": false,
     "title": ""
    }
   },
   "outputs": [
    {
     "data": {
      "text/html": [
       "<style scoped>\n",
       "  .ansiout {\n",
       "    display: block;\n",
       "    unicode-bidi: embed;\n",
       "    white-space: pre-wrap;\n",
       "    word-wrap: break-word;\n",
       "    word-break: break-all;\n",
       "    font-family: \"Menlo\", \"Monaco\", \"Consolas\", \"Ubuntu Mono\", \"Source Code Pro\", monospace;\n",
       "    font-size: 13px;\n",
       "    color: #555;\n",
       "    margin-left: 4px;\n",
       "    line-height: 19px;\n",
       "  }\n",
       "</style>\n",
       "<div class=\"ansiout\">DataFrame[ind: bigint, user_name: string, age: bigint, date_joined: timestamp, join_year: int, age_group: string]\n",
       "DataFrame[ind: bigint, follower_count: int]\n",
       "[&#39;ind&#39;, &#39;follower_count&#39;]\n",
       "[&#39;ind&#39;, &#39;follower_count&#39;]\n",
       "DataFrame[ind: bigint, user_name: string, age: bigint, date_joined: timestamp, join_year: int, age_group: string]\n",
       "DataFrame[ind: bigint, follower_count: int]\n",
       "+---------+---------+---------------------+\n",
       "age_group|join_year|median_follower_count|\n",
       "+---------+---------+---------------------+\n",
       "    18-24|     2015|               211000|\n",
       "    25-35|     2015|                51000|\n",
       "    36-50|     2015|                    0|\n",
       "    18-24|     2016|               502000|\n",
       "    25-35|     2016|                43000|\n",
       "    36-50|     2016|                17000|\n",
       "      50+|     2016|                  908|\n",
       "    18-24|     2017|                  940|\n",
       "    25-35|     2017|                 8000|\n",
       "    36-50|     2017|                 6000|\n",
       "+---------+---------+---------------------+\n",
       "\n",
       "</div>"
      ]
     },
     "metadata": {
      "application/vnd.databricks.v1+output": {
       "addedWidgets": {},
       "arguments": {},
       "data": "<div class=\"ansiout\">DataFrame[ind: bigint, user_name: string, age: bigint, date_joined: timestamp, join_year: int, age_group: string]\nDataFrame[ind: bigint, follower_count: int]\n[&#39;ind&#39;, &#39;follower_count&#39;]\n[&#39;ind&#39;, &#39;follower_count&#39;]\nDataFrame[ind: bigint, user_name: string, age: bigint, date_joined: timestamp, join_year: int, age_group: string]\nDataFrame[ind: bigint, follower_count: int]\n+---------+---------+---------------------+\n|age_group|join_year|median_follower_count|\n+---------+---------+---------------------+\n|    18-24|     2015|               211000|\n|    25-35|     2015|                51000|\n|    36-50|     2015|                    0|\n|    18-24|     2016|               502000|\n|    25-35|     2016|                43000|\n|    36-50|     2016|                17000|\n|      50+|     2016|                  908|\n|    18-24|     2017|                  940|\n|    25-35|     2017|                 8000|\n|    36-50|     2017|                 6000|\n+---------+---------+---------------------+\n\n</div>",
       "datasetInfos": [],
       "metadata": {},
       "removedWidgets": [],
       "type": "html"
      }
     },
     "output_type": "display_data"
    }
   ],
   "source": [
    "# Assuming df_followers is properly defined and contains the necessary columns\n",
    "# Join df_filtered_users with df_followers on a common key (e.g., unique_id)\n",
    "print(df_filtered_users)\n",
    "print(df_followers)\n",
    "print(df_followers.columns)  # This line is causing the error\n",
    "\n",
    "# Correcting the error: Accessing the columns attribute of df_followers\n",
    "print(df_followers.columns)\n",
    "\n",
    "df_filtered_users_with_followers = df_filtered_users.join(df_followers, df_filtered_users[\"ind\"] == df_followers[\"ind\"], how=\"inner\")\n",
    "print(df_filtered_users)\n",
    "print(df_followers)\n",
    "# Once the join is successful, you can proceed with the rest of the code to calculate the median follower count\n",
    "\n",
    "# Calculate the median follower count for each year and age group\n",
    "windowSpec = Window.partitionBy(\"join_year\", \"age_group\")\n",
    "df_median_follower_count = df_filtered_users_with_followers.withColumn(\n",
    "    \"median_follower_count\",\n",
    "    expr(\"percentile_approx(follower_count, 0.5)\").over(windowSpec)\n",
    ").select(\"age_group\", \"join_year\", \"median_follower_count\").distinct()\n",
    "\n",
    "# Display the result\n",
    "df_median_follower_count.show()\n"
   ]
  },
  {
   "cell_type": "code",
   "execution_count": null,
   "metadata": {
    "application/vnd.databricks.v1+cell": {
     "cellMetadata": {
      "byteLimit": 2048000,
      "rowLimit": 10000
     },
     "inputWidgets": {},
     "nuid": "679eed07-8505-4a6c-ae2e-8bb6cca80e22",
     "showTitle": false,
     "title": ""
    }
   },
   "outputs": [
    {
     "data": {
      "text/html": [
       "<style scoped>\n",
       "  .ansiout {\n",
       "    display: block;\n",
       "    unicode-bidi: embed;\n",
       "    white-space: pre-wrap;\n",
       "    word-wrap: break-word;\n",
       "    word-break: break-all;\n",
       "    font-family: \"Menlo\", \"Monaco\", \"Consolas\", \"Ubuntu Mono\", \"Source Code Pro\", monospace;\n",
       "    font-size: 13px;\n",
       "    color: #555;\n",
       "    margin-left: 4px;\n",
       "    line-height: 19px;\n",
       "  }\n",
       "</style>\n",
       "<div class=\"ansiout\">DataFrame[ind: bigint, unique_id: string, title: string, description: string, follower_count: int, poster_name: string, tag_list: string, is_image_or_video: string, image_src: string, save_location: string, category: string]\n",
       "</div>"
      ]
     },
     "metadata": {
      "application/vnd.databricks.v1+output": {
       "addedWidgets": {},
       "arguments": {},
       "data": "<div class=\"ansiout\">DataFrame[ind: bigint, unique_id: string, title: string, description: string, follower_count: int, poster_name: string, tag_list: string, is_image_or_video: string, image_src: string, save_location: string, category: string]\n</div>",
       "datasetInfos": [],
       "metadata": {},
       "removedWidgets": [],
       "type": "html"
      }
     },
     "output_type": "display_data"
    }
   ],
   "source": [
    "print(df_pin)"
   ]
  },
  {
   "cell_type": "code",
   "execution_count": null,
   "metadata": {
    "application/vnd.databricks.v1+cell": {
     "cellMetadata": {},
     "inputWidgets": {},
     "nuid": "b4f2a622-6227-4249-b805-a0d66157215a",
     "showTitle": false,
     "title": ""
    }
   },
   "outputs": [],
   "source": []
  },
  {
   "cell_type": "code",
   "execution_count": null,
   "metadata": {
    "application/vnd.databricks.v1+cell": {
     "cellMetadata": {},
     "inputWidgets": {},
     "nuid": "6d6e15a7-0d00-450a-b4c3-bace8717c31f",
     "showTitle": false,
     "title": ""
    }
   },
   "outputs": [],
   "source": []
  },
  {
   "cell_type": "code",
   "execution_count": null,
   "metadata": {
    "application/vnd.databricks.v1+cell": {
     "cellMetadata": {},
     "inputWidgets": {},
     "nuid": "a0fe54c0-c081-438b-83ec-47f765df6c70",
     "showTitle": false,
     "title": ""
    }
   },
   "outputs": [],
   "source": []
  },
  {
   "cell_type": "code",
   "execution_count": null,
   "metadata": {
    "application/vnd.databricks.v1+cell": {
     "cellMetadata": {},
     "inputWidgets": {},
     "nuid": "0edb3d40-0798-43f7-9fc4-cd35b1a276f9",
     "showTitle": false,
     "title": ""
    }
   },
   "outputs": [],
   "source": []
  },
  {
   "cell_type": "code",
   "execution_count": null,
   "metadata": {
    "application/vnd.databricks.v1+cell": {
     "cellMetadata": {
      "byteLimit": 2048000,
      "rowLimit": 10000
     },
     "inputWidgets": {},
     "nuid": "6c0aab08-bed5-485e-81fd-c8d23f5a37cd",
     "showTitle": false,
     "title": ""
    }
   },
   "outputs": [
    {
     "data": {
      "text/html": [
       "<style scoped>\n",
       "  .ansiout {\n",
       "    display: block;\n",
       "    unicode-bidi: embed;\n",
       "    white-space: pre-wrap;\n",
       "    word-wrap: break-word;\n",
       "    word-break: break-all;\n",
       "    font-family: \"Menlo\", \"Monaco\", \"Consolas\", \"Ubuntu Mono\", \"Source Code Pro\", monospace;\n",
       "    font-size: 13px;\n",
       "    color: #555;\n",
       "    margin-left: 4px;\n",
       "    line-height: 19px;\n",
       "  }\n",
       "</style>\n",
       "<div class=\"ansiout\">+-----+---------------+---+-------------------+---------+---------------------+\n",
       "  ind|      user_name|age|        date_joined|join_year|median_follower_count|\n",
       "+-----+---------------+---+-------------------+---------+---------------------+\n",
       " 4315| MichellePrince| 36|2015-12-20 16:38:13|     2015|                   22|\n",
       " 3089|     AbigailAli| 20|2015-10-24 11:23:51|     2015|                   22|\n",
       " 7528|     AbigailAli| 20|2015-10-24 11:23:51|     2015|                   22|\n",
       " 5494|      AnneAllen| 27|2015-12-16 15:20:05|     2015|                   22|\n",
       " 9875|  BrendanJoseph| 26|2015-12-20 10:28:00|     2015|                   22|\n",
       " 8304|   CharlesBerry| 25|2015-12-28 04:21:39|     2015|                   22|\n",
       " 9270|       AmyBrown| 21|2015-11-08 16:14:16|     2015|                   22|\n",
       "    4|     AdamAcosta| 20|2015-10-21 21:26:45|     2015|                   22|\n",
       "10029|   AnthonyBaker| 20|2015-11-14 19:24:56|     2015|                   22|\n",
       " 1667|  BernardArnold| 21|2015-12-12 01:39:29|     2015|                   22|\n",
       " 5730|    RachelDavis| 36|2015-12-08 20:02:43|     2015|                   22|\n",
       " 2923|    BrianNelson| 26|2015-11-11 03:20:57|     2015|                   22|\n",
       " 2418|    AmandaAdams| 20|2015-10-21 08:27:36|     2015|                   22|\n",
       "  857|    AndrewBurke| 20|2015-11-14 17:38:31|     2015|                   22|\n",
       " 6063|   CoreyAndrews| 23|2015-11-25 13:36:22|     2015|                   22|\n",
       " 6145|   EmilyHawkins| 30|2015-12-25 20:24:37|     2015|                   22|\n",
       " 8731|AndreaAlexander| 21|2015-11-10 09:27:42|     2015|                   22|\n",
       " 8237|    AaronAbbott| 20|2015-10-23 16:08:41|     2015|                   22|\n",
       " 3156|    AndrewBaker| 22|2015-12-21 08:06:54|     2015|                   22|\n",
       "  428|   ClaudiaAdams| 20|2015-11-28 02:20:29|     2015|                   22|\n",
       "+-----+---------------+---+-------------------+---------+---------------------+\n",
       "only showing top 20 rows\n",
       "\n",
       "</div>"
      ]
     },
     "metadata": {
      "application/vnd.databricks.v1+output": {
       "addedWidgets": {},
       "arguments": {},
       "data": "<div class=\"ansiout\">+-----+---------------+---+-------------------+---------+---------------------+\n|  ind|      user_name|age|        date_joined|join_year|median_follower_count|\n+-----+---------------+---+-------------------+---------+---------------------+\n| 4315| MichellePrince| 36|2015-12-20 16:38:13|     2015|                   22|\n| 3089|     AbigailAli| 20|2015-10-24 11:23:51|     2015|                   22|\n| 7528|     AbigailAli| 20|2015-10-24 11:23:51|     2015|                   22|\n| 5494|      AnneAllen| 27|2015-12-16 15:20:05|     2015|                   22|\n| 9875|  BrendanJoseph| 26|2015-12-20 10:28:00|     2015|                   22|\n| 8304|   CharlesBerry| 25|2015-12-28 04:21:39|     2015|                   22|\n| 9270|       AmyBrown| 21|2015-11-08 16:14:16|     2015|                   22|\n|    4|     AdamAcosta| 20|2015-10-21 21:26:45|     2015|                   22|\n|10029|   AnthonyBaker| 20|2015-11-14 19:24:56|     2015|                   22|\n| 1667|  BernardArnold| 21|2015-12-12 01:39:29|     2015|                   22|\n| 5730|    RachelDavis| 36|2015-12-08 20:02:43|     2015|                   22|\n| 2923|    BrianNelson| 26|2015-11-11 03:20:57|     2015|                   22|\n| 2418|    AmandaAdams| 20|2015-10-21 08:27:36|     2015|                   22|\n|  857|    AndrewBurke| 20|2015-11-14 17:38:31|     2015|                   22|\n| 6063|   CoreyAndrews| 23|2015-11-25 13:36:22|     2015|                   22|\n| 6145|   EmilyHawkins| 30|2015-12-25 20:24:37|     2015|                   22|\n| 8731|AndreaAlexander| 21|2015-11-10 09:27:42|     2015|                   22|\n| 8237|    AaronAbbott| 20|2015-10-23 16:08:41|     2015|                   22|\n| 3156|    AndrewBaker| 22|2015-12-21 08:06:54|     2015|                   22|\n|  428|   ClaudiaAdams| 20|2015-11-28 02:20:29|     2015|                   22|\n+-----+---------------+---+-------------------+---------+---------------------+\nonly showing top 20 rows\n\n</div>",
       "datasetInfos": [],
       "metadata": {},
       "removedWidgets": [],
       "type": "html"
      }
     },
     "output_type": "display_data"
    }
   ],
   "source": [
    "from pyspark.sql.functions import year\n",
    "from pyspark.sql import Window\n",
    "import pyspark.sql.functions as F\n",
    "\n",
    "# Extract the year from the date_joined column\n",
    "df_user_year = df_user.withColumn(\"join_year\", year(\"date_joined\"))\n",
    "\n",
    "# Filter the data for users who joined between 2015 and 2020\n",
    "df_filtered_users = df_user_year.filter((col(\"join_year\") >= 2015) & (col(\"join_year\") <= 2020))\n",
    "\n",
    "# Calculate the median follower count for each year\n",
    "windowSpec = Window.partitionBy(\"join_year\")\n",
    "df_median_follower_count = df_filtered_users.withColumn(\"median_follower_count\", F.expr(\"percentile_approx(age, 0.5)\").over(windowSpec)).distinct()\n",
    "\n",
    "# Display the result\n",
    "df_median_follower_count.show()"
   ]
  },
  {
   "cell_type": "code",
   "execution_count": null,
   "metadata": {
    "application/vnd.databricks.v1+cell": {
     "cellMetadata": {
      "byteLimit": 2048000,
      "rowLimit": 10000
     },
     "inputWidgets": {},
     "nuid": "259b6512-fd80-4c82-bdcc-05623f9a5092",
     "showTitle": false,
     "title": ""
    }
   },
   "outputs": [],
   "source": []
  },
  {
   "cell_type": "code",
   "execution_count": null,
   "metadata": {
    "application/vnd.databricks.v1+cell": {
     "cellMetadata": {
      "byteLimit": 2048000,
      "rowLimit": 10000
     },
     "inputWidgets": {},
     "nuid": "1034de8b-a913-4865-9d0b-1fb7a7da7131",
     "showTitle": false,
     "title": ""
    }
   },
   "outputs": [],
   "source": []
  },
  {
   "cell_type": "code",
   "execution_count": null,
   "metadata": {
    "application/vnd.databricks.v1+cell": {
     "cellMetadata": {
      "byteLimit": 2048000,
      "rowLimit": 10000
     },
     "inputWidgets": {},
     "nuid": "822cb0c2-7c33-4104-963f-f4b0cd0170b0",
     "showTitle": false,
     "title": ""
    }
   },
   "outputs": [],
   "source": []
  },
  {
   "cell_type": "code",
   "execution_count": null,
   "metadata": {
    "application/vnd.databricks.v1+cell": {
     "cellMetadata": {
      "byteLimit": 2048000,
      "rowLimit": 10000
     },
     "inputWidgets": {},
     "nuid": "e9ad4ad7-7024-4300-a2f4-ca40fb3bfa1e",
     "showTitle": false,
     "title": ""
    }
   },
   "outputs": [],
   "source": []
  },
  {
   "cell_type": "code",
   "execution_count": null,
   "metadata": {
    "application/vnd.databricks.v1+cell": {
     "cellMetadata": {
      "byteLimit": 2048000,
      "rowLimit": 10000
     },
     "inputWidgets": {},
     "nuid": "b9b4a617-6a6d-4b43-ba0e-d99274446b46",
     "showTitle": false,
     "title": ""
    }
   },
   "outputs": [],
   "source": []
  },
  {
   "cell_type": "code",
   "execution_count": null,
   "metadata": {
    "application/vnd.databricks.v1+cell": {
     "cellMetadata": {
      "byteLimit": 2048000,
      "rowLimit": 10000
     },
     "inputWidgets": {},
     "nuid": "5102f021-f41d-4c09-9361-1b8c611db647",
     "showTitle": false,
     "title": ""
    }
   },
   "outputs": [],
   "source": []
  }
 ],
 "metadata": {
  "application/vnd.databricks.v1+notebook": {
   "dashboards": [
    {
     "elements": [],
     "globalVars": {},
     "guid": "",
     "layoutOption": {
      "grid": true,
      "stack": true
     },
     "nuid": "2f156265-5c26-45b6-8786-4a4d40529d2c",
     "origId": 1102316484775152,
     "title": "Untitled",
     "version": "DashboardViewV1",
     "width": 1024
    }
   ],
   "language": "python",
   "notebookMetadata": {
    "pythonIndentUnit": 4
   },
   "notebookName": "clean-cataframe-pinterest-posts",
   "widgets": {}
  },
  "language_info": {
   "name": "python"
  }
 },
 "nbformat": 4,
 "nbformat_minor": 0
}

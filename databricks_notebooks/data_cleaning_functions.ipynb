{
 "cells": [
  {
   "cell_type": "markdown",
   "metadata": {},
   "source": [
    "## Functions for Cleaning Pinterest DataFrames with Error Handling\n",
    "I created a function to clean the \"df_pin\" DataFrame, it can encapsulate the cleaning steps into a single function. \n",
    "\n",
    "Also I created an error handling to the function, it can use a try-except block to catch any potential errors that may occur during the cleaning process. Here's the function with error handling:"
   ]
  },
  {
   "cell_type": "markdown",
   "metadata": {},
   "source": [
    "## Task 1: Clean the DataFrame that contains information about Pinterest posts"
   ]
  },
  {
   "cell_type": "markdown",
   "metadata": {},
   "source": [
    "#### To clean the df_pin DataFrame you should perform the following transformations:\n",
    "\n",
    "- Replace empty entries and entries with no relevant data in each column with Nones\n",
    "- Perform the necessary transformations on the follower_count to ensure every entry is a number. Make sure the data type of this column is an int.\n",
    "- Ensure that each column containing numeric data has a numeric data type\n",
    "- Clean the data in the save_location column to include only the save location path\n",
    "- Rename the index column to ind.\n",
    "- Reorder the DataFrame columns to have the following column order:\n",
    "  - ind\n",
    "  - unique_id\n",
    "  - title\n",
    "  - description\n",
    "  - follower_count\n",
    "  - poster_name\n",
    "  - tag_list\n",
    "  - is_image_or_video\n",
    "  - image_src\n",
    "  - save_location\n",
    "  - category"
   ]
  },
  {
   "cell_type": "code",
   "execution_count": null,
   "metadata": {
    "application/vnd.databricks.v1+cell": {
     "cellMetadata": {
      "byteLimit": 2048000,
      "rowLimit": 10000
     },
     "inputWidgets": {},
     "nuid": "9b08ec3f-0826-4dc2-8499-c453008e0c28",
     "showTitle": false,
     "title": ""
    }
   },
   "outputs": [
    {
     "data": {
      "text/html": [
       "<style scoped>\n",
       "  .ansiout {\n",
       "    display: block;\n",
       "    unicode-bidi: embed;\n",
       "    white-space: pre-wrap;\n",
       "    word-wrap: break-word;\n",
       "    word-break: break-all;\n",
       "    font-family: \"Menlo\", \"Monaco\", \"Consolas\", \"Ubuntu Mono\", \"Source Code Pro\", monospace;\n",
       "    font-size: 13px;\n",
       "    color: #555;\n",
       "    margin-left: 4px;\n",
       "    line-height: 19px;\n",
       "  }\n",
       "</style>\n",
       "<div class=\"ansiout\"></div>"
      ]
     },
     "metadata": {
      "application/vnd.databricks.v1+output": {
       "addedWidgets": {},
       "arguments": {},
       "data": "<div class=\"ansiout\"></div>",
       "datasetInfos": [],
       "metadata": {},
       "removedWidgets": [],
       "type": "html"
      }
     },
     "output_type": "display_data"
    }
   ],
   "source": [
    "from pyspark.sql.functions import col, regexp_replace\n",
    "from pyspark.sql.types import IntegerType, LongType\n",
    "\n",
    "def clean_pin_dataframe(df_pin):\n",
    "    \"\"\"\n",
    "    Clean the DataFrame that contains information about Pinterest posts.\n",
    "\n",
    "    Parameters:\n",
    "    df_pin (DataFrame): DataFrame containing Pinterest posts data.\n",
    "\n",
    "    Returns:\n",
    "    df_pin_cleaned (DataFrame): Cleaned DataFrame.\n",
    "    \"\"\"\n",
    "    try:\n",
    "        # Replace empty entries and entries with no relevant data in each column with None\n",
    "        df_pin_cleaned = df_pin.fillna(\"None\")\n",
    "\n",
    "        # Replace \"k\" with \"000\" and cast to integer for follower_count column\n",
    "        df_pin_cleaned = df_pin_cleaned.withColumn(\"follower_count\", \n",
    "                                                   regexp_replace(col(\"follower_count\"), \"k\", \"000\").cast(IntegerType()))\n",
    "\n",
    "        # Cast downloaded column to IntegerType\n",
    "        df_pin_cleaned = df_pin_cleaned.withColumn(\"downloaded\", df_pin_cleaned[\"downloaded\"].cast(IntegerType()))\n",
    "\n",
    "        # Cast index column to LongType\n",
    "        df_pin_cleaned = df_pin_cleaned.withColumn(\"index\", df_pin_cleaned[\"index\"].cast(LongType()))\n",
    "\n",
    "        # Rename index column to ind\n",
    "        df_pin_cleaned = df_pin_cleaned.withColumnRenamed(\"index\", \"ind\")\n",
    "\n",
    "        # Reorder the DataFrame columns\n",
    "        df_pin_cleaned = df_pin_cleaned.select(\"ind\", \"unique_id\", \"title\", \"description\", \"follower_count\", \n",
    "                                               \"poster_name\", \"tag_list\", \"is_image_or_video\", \"image_src\", \n",
    "                                               \"save_location\", \"category\")\n",
    "\n",
    "        return df_pin_cleaned\n",
    "\n",
    "    except Exception as e:\n",
    "        print(f\"An error occurred during data cleaning: {str(e)}\")\n",
    "        return None\n"
   ]
  },
  {
   "cell_type": "markdown",
   "metadata": {},
   "source": [
    "I can then call this function passing the \"df_pin\" DataFrame as an argument to clean it:"
   ]
  },
  {
   "cell_type": "code",
   "execution_count": null,
   "metadata": {
    "application/vnd.databricks.v1+cell": {
     "cellMetadata": {
      "byteLimit": 2048000,
      "rowLimit": 10000
     },
     "inputWidgets": {},
     "nuid": "8d45688e-9f38-42a4-b200-c272ec89a8ba",
     "showTitle": false,
     "title": ""
    }
   },
   "outputs": [
    {
     "data": {
      "text/html": [
       "<style scoped>\n",
       "  .ansiout {\n",
       "    display: block;\n",
       "    unicode-bidi: embed;\n",
       "    white-space: pre-wrap;\n",
       "    word-wrap: break-word;\n",
       "    word-break: break-all;\n",
       "    font-family: \"Menlo\", \"Monaco\", \"Consolas\", \"Ubuntu Mono\", \"Source Code Pro\", monospace;\n",
       "    font-size: 13px;\n",
       "    color: #555;\n",
       "    margin-left: 4px;\n",
       "    line-height: 19px;\n",
       "  }\n",
       "</style>\n",
       "<div class=\"ansiout\">+-----+--------------------+--------------------+--------------------+--------------+--------------------+--------------------+-----------------+--------------------+--------------------+--------------+\n",
       "  ind|           unique_id|               title|         description|follower_count|         poster_name|            tag_list|is_image_or_video|           image_src|       save_location|      category|\n",
       "+-----+--------------------+--------------------+--------------------+--------------+--------------------+--------------------+-----------------+--------------------+--------------------+--------------+\n",
       "10138|927c4658-cc3f-4b9...|14 Amazing Things...|This Costa Rica i...|         10000|Wanderlust Chloe ...|Costa Rica Travel...|            image|https://i.pinimg....|        /data/travel|        travel|\n",
       " 3156|fa6e31a4-18c2-4ec...|Handprint Reindee...|This post may con...|        892000|Michelle {CraftyM...|Christmas Gifts F...|            image|https://i.pinimg....|/data/diy-and-crafts|diy-and-crafts|\n",
       " 5395|71f72304-3708-45f...|So startest du mi...|Der #Vermögensauf...|          3000|DIVDepot – Geld s...|Money Saving Chal...|            image|https://i.pinimg....|       /data/finance|       finance|\n",
       " 5494|8fb2af68-543b-463...|Dave Ramsey&#39;s 7 B...|If you love budge...|         26000|Living Low Key | ...|Financial Peace,F...|            image|https://i.pinimg....|       /data/finance|       finance|\n",
       " 2418|da8745a6-5160-46c...|100 DIY Christmas...|Here are the best...|        500000|            HikenDip|Farmhouse Christm...|            image|https://i.pinimg....|     /data/christmas|     christmas|\n",
       " 1611|051e231c-7509-437...|Over The Years, P...|[PaidLink] It&#39;s m...|            22|    Hair Accessories|Natural Beauty Ti...|            image|https://i.pinimg....|        /data/beauty|        beauty|\n",
       " 3813|49f7dfe7-2e5a-403...|Fun Interactive D...|Tired of Google C...|          9000|Science of Curiosity|Google Classroom,...|            image|https://i.pinimg....|     /data/education|     education|\n",
       " 7922|a584581c-1b38-473...|45 Top Life Quote...|summcoco gives yo...|        306000|Sumcoco | Decor I...|Life Quotes Love,...|            image|https://i.pinimg....|        /data/quotes|        quotes|\n",
       " 1643|41be1bcd-1ead-476...|White and Gold Ch...|Connecticut life ...|         84000|      Lauren McBride|Christmas Dining ...|            image|https://i.pinimg....|     /data/christmas|     christmas|\n",
       " 5091|43459535-64e9-48a...|Buying Your First...|Buying your first...|           223|Edwin | Cash The ...|Paying Off Car Lo...|            image|https://i.pinimg....|       /data/finance|       finance|\n",
       " 9979|2b2abc85-fc51-481...|Paris in the Summ...|Are you traveling...|          3000|     Petite in Paris|Torre Eiffel Pari...|            image|https://i.pinimg....|        /data/travel|        travel|\n",
       " 3032|208b07bc-e042-4e8...|   Puffy Ghost Craft|This ghost craft ...|         56000|       Thriving Home|Halloween Arts An...|            video|https://i.pinimg....|/data/diy-and-crafts|diy-and-crafts|\n",
       " 6809|f8ca698f-abfc-4b6...|It&#39;s Time to Ditc...|It&#39;s safe to assu...|        383000|        Suburban Men|Business Casual D...|            image|https://i.pinimg....|  /data/mens-fashion|  mens-fashion|\n",
       " 3644|cde2b4e2-7711-4a8...|More Amazon Must ...|Amazon is a teach...|         41000|Teach Create Moti...|Classroom Hacks,5...|            image|https://i.pinimg....|     /data/education|     education|\n",
       " 6575|15c45907-657e-439...|Affordable Farmho...|Believe it or not...|         31000| Maria Louise Design|Farmhouse Remodel...|            image|https://i.pinimg....|    /data/home-decor|    home-decor|\n",
       " 6145|82e13a07-db99-43a...|HOLIDAY MANTLE DE...|Holiday mantle de...|         83000|     Stylin by Aylin|Winter Home Decor...|            image|https://i.pinimg....|    /data/home-decor|    home-decor|\n",
       " 6145|82e13a07-db99-43a...|HOLIDAY MANTLE DE...|Holiday mantle de...|         83000|     Stylin by Aylin|Winter Home Decor...|            image|https://i.pinimg....|    /data/home-decor|    home-decor|\n",
       "    4|55abcd28-bda1-445...|Mexican Artist Us...|Mexican artist En...|          null|         Bored Panda|Girl Drawing Sket...|            image|https://i.pinimg....|           /data/art|           art|\n",
       " 4315|21b59ba9-829d-4c3...|Podcasts for Teac...|Podcasts for Teac...|         25000|        Math Giraffe|Middle School Cla...|            image|https://i.pinimg....|     /data/education|     education|\n",
       " 5069|b75b6f87-deb3-444...|The Vault: Curate...|Sacramento Califo...|          null|     Style Me Pretty|60th Anniversary ...|            image|https://i.pinimg....|/data/event-planning|event-planning|\n",
       "+-----+--------------------+--------------------+--------------------+--------------+--------------------+--------------------+-----------------+--------------------+--------------------+--------------+\n",
       "only showing top 20 rows\n",
       "\n",
       "</div>"
      ]
     },
     "metadata": {
      "application/vnd.databricks.v1+output": {
       "addedWidgets": {},
       "arguments": {},
       "data": "<div class=\"ansiout\">+-----+--------------------+--------------------+--------------------+--------------+--------------------+--------------------+-----------------+--------------------+--------------------+--------------+\n|  ind|           unique_id|               title|         description|follower_count|         poster_name|            tag_list|is_image_or_video|           image_src|       save_location|      category|\n+-----+--------------------+--------------------+--------------------+--------------+--------------------+--------------------+-----------------+--------------------+--------------------+--------------+\n|10138|927c4658-cc3f-4b9...|14 Amazing Things...|This Costa Rica i...|         10000|Wanderlust Chloe ...|Costa Rica Travel...|            image|https://i.pinimg....|        /data/travel|        travel|\n| 3156|fa6e31a4-18c2-4ec...|Handprint Reindee...|This post may con...|        892000|Michelle {CraftyM...|Christmas Gifts F...|            image|https://i.pinimg....|/data/diy-and-crafts|diy-and-crafts|\n| 5395|71f72304-3708-45f...|So startest du mi...|Der #Vermögensauf...|          3000|DIVDepot – Geld s...|Money Saving Chal...|            image|https://i.pinimg....|       /data/finance|       finance|\n| 5494|8fb2af68-543b-463...|Dave Ramsey&#39;s 7 B...|If you love budge...|         26000|Living Low Key | ...|Financial Peace,F...|            image|https://i.pinimg....|       /data/finance|       finance|\n| 2418|da8745a6-5160-46c...|100 DIY Christmas...|Here are the best...|        500000|            HikenDip|Farmhouse Christm...|            image|https://i.pinimg....|     /data/christmas|     christmas|\n| 1611|051e231c-7509-437...|Over The Years, P...|[PaidLink] It&#39;s m...|            22|    Hair Accessories|Natural Beauty Ti...|            image|https://i.pinimg....|        /data/beauty|        beauty|\n| 3813|49f7dfe7-2e5a-403...|Fun Interactive D...|Tired of Google C...|          9000|Science of Curiosity|Google Classroom,...|            image|https://i.pinimg....|     /data/education|     education|\n| 7922|a584581c-1b38-473...|45 Top Life Quote...|summcoco gives yo...|        306000|Sumcoco | Decor I...|Life Quotes Love,...|            image|https://i.pinimg....|        /data/quotes|        quotes|\n| 1643|41be1bcd-1ead-476...|White and Gold Ch...|Connecticut life ...|         84000|      Lauren McBride|Christmas Dining ...|            image|https://i.pinimg....|     /data/christmas|     christmas|\n| 5091|43459535-64e9-48a...|Buying Your First...|Buying your first...|           223|Edwin | Cash The ...|Paying Off Car Lo...|            image|https://i.pinimg....|       /data/finance|       finance|\n| 9979|2b2abc85-fc51-481...|Paris in the Summ...|Are you traveling...|          3000|     Petite in Paris|Torre Eiffel Pari...|            image|https://i.pinimg....|        /data/travel|        travel|\n| 3032|208b07bc-e042-4e8...|   Puffy Ghost Craft|This ghost craft ...|         56000|       Thriving Home|Halloween Arts An...|            video|https://i.pinimg....|/data/diy-and-crafts|diy-and-crafts|\n| 6809|f8ca698f-abfc-4b6...|It&#39;s Time to Ditc...|It&#39;s safe to assu...|        383000|        Suburban Men|Business Casual D...|            image|https://i.pinimg....|  /data/mens-fashion|  mens-fashion|\n| 3644|cde2b4e2-7711-4a8...|More Amazon Must ...|Amazon is a teach...|         41000|Teach Create Moti...|Classroom Hacks,5...|            image|https://i.pinimg....|     /data/education|     education|\n| 6575|15c45907-657e-439...|Affordable Farmho...|Believe it or not...|         31000| Maria Louise Design|Farmhouse Remodel...|            image|https://i.pinimg....|    /data/home-decor|    home-decor|\n| 6145|82e13a07-db99-43a...|HOLIDAY MANTLE DE...|Holiday mantle de...|         83000|     Stylin by Aylin|Winter Home Decor...|            image|https://i.pinimg....|    /data/home-decor|    home-decor|\n| 6145|82e13a07-db99-43a...|HOLIDAY MANTLE DE...|Holiday mantle de...|         83000|     Stylin by Aylin|Winter Home Decor...|            image|https://i.pinimg....|    /data/home-decor|    home-decor|\n|    4|55abcd28-bda1-445...|Mexican Artist Us...|Mexican artist En...|          null|         Bored Panda|Girl Drawing Sket...|            image|https://i.pinimg....|           /data/art|           art|\n| 4315|21b59ba9-829d-4c3...|Podcasts for Teac...|Podcasts for Teac...|         25000|        Math Giraffe|Middle School Cla...|            image|https://i.pinimg....|     /data/education|     education|\n| 5069|b75b6f87-deb3-444...|The Vault: Curate...|Sacramento Califo...|          null|     Style Me Pretty|60th Anniversary ...|            image|https://i.pinimg....|/data/event-planning|event-planning|\n+-----+--------------------+--------------------+--------------------+--------------+--------------------+--------------------+-----------------+--------------------+--------------------+--------------+\nonly showing top 20 rows\n\n</div>",
       "datasetInfos": [],
       "metadata": {},
       "removedWidgets": [],
       "type": "html"
      }
     },
     "output_type": "display_data"
    }
   ],
   "source": [
    "# Define file locations\n",
    "pin_file_location = \"dbfs:/mnt/mount_name/topics/topics/1209b9ad90a5.pin/partition=0/*.json\"\n",
    "\n",
    "# Read JSON files into DataFrames\n",
    "df_pin = spark.read.json(pin_file_location)\n",
    "\n",
    "# Clean the Pinterest posts DataFrame\n",
    "cleaned_df_pin = clean_pin_dataframe(df_pin)\n",
    "\n",
    "# Show the cleaned DataFrame\n",
    "cleaned_df_pin.show()"
   ]
  },
  {
   "cell_type": "markdown",
   "metadata": {},
   "source": [
    "## Functions to clean dataframes\n",
    "I created a function to clean the \"df_geo\" DataFrame, it can encapsulate the cleaning steps into a single function. \n",
    "\n",
    "Also I created an error handling to the function, it can use a try-except block to catch any potential errors that may occur during the cleaning process. Here's the function with error handling:"
   ]
  },
  {
   "cell_type": "markdown",
   "metadata": {
    "application/vnd.databricks.v1+cell": {
     "cellMetadata": {
      "byteLimit": 2048000,
      "rowLimit": 10000
     },
     "inputWidgets": {},
     "nuid": "db087075-eaf8-4e92-9044-9d1dc60def14",
     "showTitle": false,
     "title": ""
    }
   },
   "source": [
    "## Task 2:"
   ]
  },
  {
   "cell_type": "markdown",
   "metadata": {
    "application/vnd.databricks.v1+cell": {
     "cellMetadata": {
      "byteLimit": 2048000,
      "rowLimit": 10000
     },
     "inputWidgets": {},
     "nuid": "3d2c8ce4-d984-4cfe-8a5f-e3b9d4565f6d",
     "showTitle": false,
     "title": ""
    }
   },
   "source": [
    "#### To clean the df_geo DataFrame you should perform the following transformations:\n",
    "\n",
    "- Create a new column coordinates that contains an array based on the latitude and longitude columns\n",
    "- Drop the latitude and longitude columns from the DataFrame\n",
    "- Convert the timestamp column from a string to a timestamp data type\n",
    "- Reorder the DataFrame columns to have the following column order:\n",
    "  - ind\n",
    "  - country\n",
    "  - coordinates\n",
    "  - timestamp"
   ]
  },
  {
   "cell_type": "code",
   "execution_count": null,
   "metadata": {
    "application/vnd.databricks.v1+cell": {
     "cellMetadata": {
      "byteLimit": 2048000,
      "rowLimit": 10000
     },
     "inputWidgets": {},
     "nuid": "222eb65b-8a3f-423c-b826-00bd64d6b53a",
     "showTitle": false,
     "title": ""
    }
   },
   "outputs": [],
   "source": [
    "from pyspark.sql.functions import array, col, to_timestamp\n",
    "\n",
    "def clean_geo_dataframe(df_geo):\n",
    "    \"\"\"\n",
    "    Clean the DataFrame that contains information about Pinterest geolocation data.\n",
    "\n",
    "    Parameters:\n",
    "    df_geo (DataFrame): DataFrame containing Pinterest geolocation data.\n",
    "\n",
    "    Returns:\n",
    "    df_geo_cleaned (DataFrame): Cleaned DataFrame.\n",
    "    \"\"\"\n",
    "    try:\n",
    "        # Create a new column coordinates containing an array of latitude and longitude\n",
    "        df_geo_cleaned = df_geo.withColumn(\"coordinates\", array(col(\"latitude\"), col(\"longitude\")))\n",
    "\n",
    "        # Drop the latitude and longitude columns\n",
    "        df_geo_cleaned = df_geo_cleaned.drop(\"latitude\", \"longitude\")\n",
    "\n",
    "        # Convert the timestamp column to a timestamp data type\n",
    "        df_geo_cleaned = df_geo_cleaned.withColumn(\"timestamp\", to_timestamp(\"timestamp\"))\n",
    "\n",
    "        # Reorder the DataFrame columns\n",
    "        df_geo_cleaned = df_geo_cleaned.select(\"ind\", \"country\", \"coordinates\", \"timestamp\")\n",
    "\n",
    "        return df_geo_cleaned\n",
    "\n",
    "    except Exception as e:\n",
    "        print(f\"An error occurred during data cleaning: {str(e)}\")\n",
    "        return None\n"
   ]
  },
  {
   "cell_type": "markdown",
   "metadata": {},
   "source": [
    "I can then call this function passing the \"df_geo\" DataFrame as an argument to clean it:"
   ]
  },
  {
   "cell_type": "code",
   "execution_count": null,
   "metadata": {
    "application/vnd.databricks.v1+cell": {
     "cellMetadata": {
      "byteLimit": 2048000,
      "rowLimit": 10000
     },
     "inputWidgets": {},
     "nuid": "01896373-6342-4e14-b418-4b340df1f4c1",
     "showTitle": false,
     "title": ""
    }
   },
   "outputs": [
    {
     "data": {
      "text/html": [
       "<style scoped>\n",
       "  .ansiout {\n",
       "    display: block;\n",
       "    unicode-bidi: embed;\n",
       "    white-space: pre-wrap;\n",
       "    word-wrap: break-word;\n",
       "    word-break: break-all;\n",
       "    font-family: \"Menlo\", \"Monaco\", \"Consolas\", \"Ubuntu Mono\", \"Source Code Pro\", monospace;\n",
       "    font-size: 13px;\n",
       "    color: #555;\n",
       "    margin-left: 4px;\n",
       "    line-height: 19px;\n",
       "  }\n",
       "</style>\n",
       "<div class=\"ansiout\">+-----+--------------------+--------------------+-------------------+\n",
       "  ind|             country|         coordinates|          timestamp|\n",
       "+-----+--------------------+--------------------+-------------------+\n",
       " 2418|Antarctica (the t...|[-88.4642, -171.061]|2022-05-27 11:30:59|\n",
       " 9270|Bouvet Island (Bo...|[-84.3984, -144.933]|2022-05-23 03:24:24|\n",
       "10794|Cocos (Keeling) I...|[-89.5236, -154.567]|2022-01-01 02:26:50|\n",
       " 5395|British Virgin Is...|[-6.93422, -24.9989]|2020-08-15 19:30:19|\n",
       " 2074|Central African R...|  [-52.3213, -50.11]|2019-11-03 05:41:59|\n",
       " 1170|Libyan Arab Jamah...|  [56.1198, 20.2963]|2019-08-07 22:17:07|\n",
       " 9550|British Virgin Is...|  [-84.918, 7.23235]|2022-03-23 00:25:45|\n",
       " 7922| Antigua and Barbuda|[-88.0974, -172.052]|2021-01-27 09:14:19|\n",
       " 9979|  Dominican Republic| [14.9967, -120.682]|2018-07-18 19:01:46|\n",
       " 6575|  Dominican Republic|  [81.7192, 61.5152]|2020-12-29 22:59:37|\n",
       " 3032|      American Samoa|[-66.7253, -122.489]|2018-04-14 09:28:18|\n",
       "  637|      American Samoa|[-41.2244, -158.022]|2018-06-06 01:25:58|\n",
       "10321|        Burkina Faso|[-89.1005, -151.255]|2022-10-09 08:06:50|\n",
       " 2923|       Cote d&#39;Ivoire|[-84.6302, -164.507]|2019-09-08 22:53:09|\n",
       " 8304|       French Guiana| [-28.8852, -164.87]|2019-09-13 04:50:29|\n",
       " 4315|       Cote d&#39;Ivoire| [-45.8508, 66.1003]|2019-12-15 03:51:28|\n",
       " 4249|         Afghanistan|[-88.5478, -174.971]|2021-09-01 11:10:02|\n",
       " 6809|          Bangladesh|[-89.4254, -161.818]|2020-04-17 13:20:43|\n",
       " 5069|          Azerbaijan|[-63.0063, -157.474]|2021-03-20 09:32:44|\n",
       " 6145|          Mozambique|[-65.9079, -143.845]|2019-12-05 02:09:44|\n",
       "+-----+--------------------+--------------------+-------------------+\n",
       "only showing top 20 rows\n",
       "\n",
       "</div>"
      ]
     },
     "metadata": {
      "application/vnd.databricks.v1+output": {
       "addedWidgets": {},
       "arguments": {},
       "data": "<div class=\"ansiout\">+-----+--------------------+--------------------+-------------------+\n|  ind|             country|         coordinates|          timestamp|\n+-----+--------------------+--------------------+-------------------+\n| 2418|Antarctica (the t...|[-88.4642, -171.061]|2022-05-27 11:30:59|\n| 9270|Bouvet Island (Bo...|[-84.3984, -144.933]|2022-05-23 03:24:24|\n|10794|Cocos (Keeling) I...|[-89.5236, -154.567]|2022-01-01 02:26:50|\n| 5395|British Virgin Is...|[-6.93422, -24.9989]|2020-08-15 19:30:19|\n| 2074|Central African R...|  [-52.3213, -50.11]|2019-11-03 05:41:59|\n| 1170|Libyan Arab Jamah...|  [56.1198, 20.2963]|2019-08-07 22:17:07|\n| 9550|British Virgin Is...|  [-84.918, 7.23235]|2022-03-23 00:25:45|\n| 7922| Antigua and Barbuda|[-88.0974, -172.052]|2021-01-27 09:14:19|\n| 9979|  Dominican Republic| [14.9967, -120.682]|2018-07-18 19:01:46|\n| 6575|  Dominican Republic|  [81.7192, 61.5152]|2020-12-29 22:59:37|\n| 3032|      American Samoa|[-66.7253, -122.489]|2018-04-14 09:28:18|\n|  637|      American Samoa|[-41.2244, -158.022]|2018-06-06 01:25:58|\n|10321|        Burkina Faso|[-89.1005, -151.255]|2022-10-09 08:06:50|\n| 2923|       Cote d&#39;Ivoire|[-84.6302, -164.507]|2019-09-08 22:53:09|\n| 8304|       French Guiana| [-28.8852, -164.87]|2019-09-13 04:50:29|\n| 4315|       Cote d&#39;Ivoire| [-45.8508, 66.1003]|2019-12-15 03:51:28|\n| 4249|         Afghanistan|[-88.5478, -174.971]|2021-09-01 11:10:02|\n| 6809|          Bangladesh|[-89.4254, -161.818]|2020-04-17 13:20:43|\n| 5069|          Azerbaijan|[-63.0063, -157.474]|2021-03-20 09:32:44|\n| 6145|          Mozambique|[-65.9079, -143.845]|2019-12-05 02:09:44|\n+-----+--------------------+--------------------+-------------------+\nonly showing top 20 rows\n\n</div>",
       "datasetInfos": [],
       "metadata": {},
       "removedWidgets": [],
       "type": "html"
      }
     },
     "output_type": "display_data"
    }
   ],
   "source": [
    "# Define file locations\n",
    "geo_file_location = \"dbfs:/mnt/mount_name/topics/topics/1209b9ad90a5.geo/partition=0/*.json\"\n",
    "\n",
    "# Read JSON files into DataFrames\n",
    "df_geo = spark.read.json(geo_file_location)\n",
    "\n",
    "# Clean the Pinterest posts DataFrame\n",
    "cleaned_df_geo = clean_pin_dataframe(df_geo)\n",
    "\n",
    "# Show the cleaned DataFrame\n",
    "cleaned_df_geo.show()\n"
   ]
  },
  {
   "cell_type": "markdown",
   "metadata": {
    "application/vnd.databricks.v1+cell": {
     "cellMetadata": {
      "byteLimit": 2048000,
      "rowLimit": 10000
     },
     "inputWidgets": {},
     "nuid": "5f19212f-db12-4782-bd0d-4f5ea685503b",
     "showTitle": false,
     "title": ""
    }
   },
   "source": [
    "## Task 3:\n",
    "1. Create a new column user_name by concatenating first_name and last_name\n",
    "2. Drop the first_name and last_name columns\n",
    "3. Convert the date_joined column to a timestamp data type\n",
    "4. Reorder the DataFrame columns\n",
    "   - \"ind\", \"user_name\", \"age\", \"date_joined\""
   ]
  },
  {
   "cell_type": "code",
   "execution_count": null,
   "metadata": {
    "application/vnd.databricks.v1+cell": {
     "cellMetadata": {
      "byteLimit": 2048000,
      "rowLimit": 10000
     },
     "inputWidgets": {},
     "nuid": "0b09e380-bae6-4840-a206-d51a8b6f18d7",
     "showTitle": false,
     "title": ""
    }
   },
   "outputs": [],
   "source": [
    "from pyspark.sql.functions import concat, col, to_timestamp\n",
    "\n",
    "def clean_user_dataframe(df_user):\n",
    "    \"\"\"\n",
    "    Clean the DataFrame that contains information about Pinterest user data.\n",
    "\n",
    "    Parameters:\n",
    "    df_user (DataFrame): DataFrame containing Pinterest user data.\n",
    "\n",
    "    Returns:\n",
    "    df_user_cleaned (DataFrame): Cleaned DataFrame.\n",
    "    \"\"\"\n",
    "    try:\n",
    "        # 1. Create a new column user_name by concatenating first_name and last_name\n",
    "        df_user_cleaned = df_user.withColumn(\"user_name\", concat(col(\"first_name\"), col(\"last_name\")))\n",
    "\n",
    "        # 2. Drop the first_name and last_name columns\n",
    "        df_user_cleaned = df_user_cleaned.drop(\"first_name\", \"last_name\")\n",
    "\n",
    "        # 3. Convert the date_joined column to a timestamp data type\n",
    "        df_user_cleaned = df_user_cleaned.withColumn(\"date_joined\", to_timestamp(\"date_joined\"))\n",
    "\n",
    "        # 4. Reorder the DataFrame columns\n",
    "        df_user_cleaned = df_user_cleaned.select(\"ind\", \"user_name\", \"age\", \"date_joined\")\n",
    "\n",
    "        return df_user_cleaned\n",
    "\n",
    "    except Exception as e:\n",
    "        print(f\"An error occurred during data cleaning: {str(e)}\")\n",
    "        return None"
   ]
  },
  {
   "cell_type": "markdown",
   "metadata": {},
   "source": [
    "I can then call this function passing the \"df_user\" DataFrame as an argument to clean it:"
   ]
  },
  {
   "cell_type": "code",
   "execution_count": null,
   "metadata": {
    "application/vnd.databricks.v1+cell": {
     "cellMetadata": {
      "byteLimit": 2048000,
      "rowLimit": 10000
     },
     "inputWidgets": {},
     "nuid": "75caf69a-3703-4c57-b4e9-a7f82e58d849",
     "showTitle": false,
     "title": ""
    }
   },
   "outputs": [
    {
     "data": {
      "text/html": [
       "<style scoped>\n",
       "  .ansiout {\n",
       "    display: block;\n",
       "    unicode-bidi: embed;\n",
       "    white-space: pre-wrap;\n",
       "    word-wrap: break-word;\n",
       "    word-break: break-all;\n",
       "    font-family: \"Menlo\", \"Monaco\", \"Consolas\", \"Ubuntu Mono\", \"Source Code Pro\", monospace;\n",
       "    font-size: 13px;\n",
       "    color: #555;\n",
       "    margin-left: 4px;\n",
       "    line-height: 19px;\n",
       "  }\n",
       "</style>\n",
       "<div class=\"ansiout\">+-----+------------------+---+-------------------+\n",
       "  ind|         user_name|age|        date_joined|\n",
       "+-----+------------------+---+-------------------+\n",
       " 4249|AlexandriaAlvarado| 20|2015-10-23 04:13:23|\n",
       " 8731|   AndreaAlexander| 21|2015-11-10 09:27:42|\n",
       " 8731|   AndreaAlexander| 21|2015-11-10 09:27:42|\n",
       " 8731|   AndreaAlexander| 21|2015-11-10 09:27:42|\n",
       "10137|    DanielMatthews| 34|2016-01-23 03:59:37|\n",
       " 8731|   AndreaAlexander| 21|2015-11-10 09:27:42|\n",
       " 8887|   AustinRodriguez| 24|2016-03-31 20:56:39|\n",
       " 4315|    MichellePrince| 36|2015-12-20 16:38:13|\n",
       "10625|     ChristianLang| 32|2017-10-10 20:09:33|\n",
       " 4315|    MichellePrince| 36|2015-12-20 16:38:13|\n",
       " 1514|    MichaelPerkins| 40|2017-06-28 16:17:39|\n",
       " 4315|    MichellePrince| 36|2015-12-20 16:38:13|\n",
       "10625|     ChristianLang| 32|2017-10-10 20:09:33|\n",
       "10625|     ChristianLang| 32|2017-10-10 20:09:33|\n",
       " 9672|    JenniferHudson| 22|2016-02-11 20:46:04|\n",
       " 1313|     BrittanyJones| 32|2016-04-02 03:51:23|\n",
       " 1313|     BrittanyJones| 32|2016-04-02 03:51:23|\n",
       "10794|      ThomasTurner| 34|2016-12-22 00:02:02|\n",
       " 1313|     BrittanyJones| 32|2016-04-02 03:51:23|\n",
       "10794|      ThomasTurner| 34|2016-12-22 00:02:02|\n",
       "+-----+------------------+---+-------------------+\n",
       "only showing top 20 rows\n",
       "\n",
       "</div>"
      ]
     },
     "metadata": {
      "application/vnd.databricks.v1+output": {
       "addedWidgets": {},
       "arguments": {},
       "data": "<div class=\"ansiout\">+-----+------------------+---+-------------------+\n|  ind|         user_name|age|        date_joined|\n+-----+------------------+---+-------------------+\n| 4249|AlexandriaAlvarado| 20|2015-10-23 04:13:23|\n| 8731|   AndreaAlexander| 21|2015-11-10 09:27:42|\n| 8731|   AndreaAlexander| 21|2015-11-10 09:27:42|\n| 8731|   AndreaAlexander| 21|2015-11-10 09:27:42|\n|10137|    DanielMatthews| 34|2016-01-23 03:59:37|\n| 8731|   AndreaAlexander| 21|2015-11-10 09:27:42|\n| 8887|   AustinRodriguez| 24|2016-03-31 20:56:39|\n| 4315|    MichellePrince| 36|2015-12-20 16:38:13|\n|10625|     ChristianLang| 32|2017-10-10 20:09:33|\n| 4315|    MichellePrince| 36|2015-12-20 16:38:13|\n| 1514|    MichaelPerkins| 40|2017-06-28 16:17:39|\n| 4315|    MichellePrince| 36|2015-12-20 16:38:13|\n|10625|     ChristianLang| 32|2017-10-10 20:09:33|\n|10625|     ChristianLang| 32|2017-10-10 20:09:33|\n| 9672|    JenniferHudson| 22|2016-02-11 20:46:04|\n| 1313|     BrittanyJones| 32|2016-04-02 03:51:23|\n| 1313|     BrittanyJones| 32|2016-04-02 03:51:23|\n|10794|      ThomasTurner| 34|2016-12-22 00:02:02|\n| 1313|     BrittanyJones| 32|2016-04-02 03:51:23|\n|10794|      ThomasTurner| 34|2016-12-22 00:02:02|\n+-----+------------------+---+-------------------+\nonly showing top 20 rows\n\n</div>",
       "datasetInfos": [],
       "metadata": {},
       "removedWidgets": [],
       "type": "html"
      }
     },
     "output_type": "display_data"
    }
   ],
   "source": [
    "# Define file locations\n",
    "user_file_location = \"dbfs:/mnt/mount_name/topics/topics/1209b9ad90a5.user/partition=0/*.json\"\n",
    "\n",
    "# Read JSON files into DataFrames\n",
    "df_user = spark.read.json(user_file_location)\n",
    "\n",
    "# Clean the Pinterest posts DataFrame\n",
    "cleaned_df_user = clean_pin_dataframe(df_user)\n",
    "\n",
    "# Show the cleaned DataFrame\n",
    "cleaned_df_user.show()"
   ]
  }
 ],
 "metadata": {
  "application/vnd.databricks.v1+notebook": {
   "dashboards": [
    {
     "elements": [],
     "globalVars": {},
     "guid": "",
     "layoutOption": {
      "grid": true,
      "stack": true
     },
     "nuid": "2f156265-5c26-45b6-8786-4a4d40529d2c",
     "origId": 1102316484775152,
     "title": "Untitled",
     "version": "DashboardViewV1",
     "width": 1024
    }
   ],
   "language": "python",
   "notebookMetadata": {
    "pythonIndentUnit": 4
   },
   "notebookName": "clean-cataframe-pinterest-posts",
   "widgets": {}
  },
  "language_info": {
   "name": "python"
  }
 },
 "nbformat": 4,
 "nbformat_minor": 0
}

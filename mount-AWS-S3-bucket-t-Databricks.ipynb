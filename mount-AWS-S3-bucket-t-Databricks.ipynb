{
 "cells": [
  {
   "cell_type": "markdown",
   "metadata": {
    "application/vnd.databricks.v1+cell": {
     "cellMetadata": {},
     "inputWidgets": {},
     "nuid": "10f712ca-b401-4643-aa63-2b83303f8f50",
     "showTitle": false,
     "title": ""
    }
   },
   "source": [
    "## Pinterest Data Pipeline: Mounting S3 Bucket to Databricks"
   ]
  },
  {
   "cell_type": "markdown",
   "metadata": {
    "application/vnd.databricks.v1+cell": {
     "cellMetadata": {},
     "inputWidgets": {},
     "nuid": "d9680e44-af37-4c3f-8089-a0889b304cb8",
     "showTitle": false,
     "title": ""
    }
   },
   "source": [
    "- Mount the desired S3 bucket to your Databricks account.\n",
    "- Read in the data from the Delta table located at dbfs:/user/hive/warehouse/authentication_credentials.\n",
    "- Ensure that when reading JSON files from S3, you include the complete path to the JSON objects, as observed in your S3 bucket (e.g., topics/<your_UserId>.pin/partition=0/).\n",
    "- Create three different DataFrames:\n",
    "  - df_pin for Pinterest post data\n",
    "  - df_geo for geolocation data\n",
    "  - df_user for user data."
   ]
  },
  {
   "cell_type": "code",
   "execution_count": null,
   "metadata": {
    "application/vnd.databricks.v1+cell": {
     "cellMetadata": {
      "byteLimit": 2048000,
      "rowLimit": 10000
     },
     "inputWidgets": {},
     "nuid": "9cb9cc19-0c8e-49d5-bb83-07a3ffcdbe78",
     "showTitle": false,
     "title": ""
    }
   },
   "outputs": [
    {
     "data": {
      "text/html": [
       "<style scoped>\n",
       "  .ansiout {\n",
       "    display: block;\n",
       "    unicode-bidi: embed;\n",
       "    white-space: pre-wrap;\n",
       "    word-wrap: break-word;\n",
       "    word-break: break-all;\n",
       "    font-family: \"Menlo\", \"Monaco\", \"Consolas\", \"Ubuntu Mono\", \"Source Code Pro\", monospace;\n",
       "    font-size: 13px;\n",
       "    color: #555;\n",
       "    margin-left: 4px;\n",
       "    line-height: 19px;\n",
       "  }\n",
       "</style>\n",
       "<div class=\"ansiout\"></div>"
      ]
     },
     "metadata": {
      "application/vnd.databricks.v1+output": {
       "addedWidgets": {},
       "arguments": {},
       "data": "<div class=\"ansiout\"></div>",
       "datasetInfos": [],
       "metadata": {},
       "removedWidgets": [],
       "type": "html"
      }
     },
     "output_type": "display_data"
    }
   ],
   "source": [
    "# pyspark functions\n",
    "from pyspark.sql.functions import *\n",
    "# URL processing\n",
    "import urllib"
   ]
  },
  {
   "cell_type": "code",
   "execution_count": null,
   "metadata": {},
   "outputs": [],
   "source": [
    "%run \"/Users/<youremail>/read_access_keys\""
   ]
  },
  {
   "cell_type": "code",
   "execution_count": null,
   "metadata": {
    "application/vnd.databricks.v1+cell": {
     "cellMetadata": {
      "byteLimit": 2048000,
      "rowLimit": 10000
     },
     "inputWidgets": {},
     "nuid": "248dcf77-1eb5-405a-bad0-e1f1c5c5484b",
     "showTitle": false,
     "title": ""
    }
   },
   "outputs": [
    {
     "data": {
      "text/html": [
       "<style scoped>\n",
       "  .ansiout {\n",
       "    display: block;\n",
       "    unicode-bidi: embed;\n",
       "    white-space: pre-wrap;\n",
       "    word-wrap: break-word;\n",
       "    word-break: break-all;\n",
       "    font-family: \"Menlo\", \"Monaco\", \"Consolas\", \"Ubuntu Mono\", \"Source Code Pro\", monospace;\n",
       "    font-size: 13px;\n",
       "    color: #555;\n",
       "    margin-left: 4px;\n",
       "    line-height: 19px;\n",
       "  }\n",
       "</style>\n",
       "<div class=\"ansiout\"></div>"
      ]
     },
     "metadata": {
      "application/vnd.databricks.v1+output": {
       "addedWidgets": {},
       "arguments": {},
       "data": "<div class=\"ansiout\"></div>",
       "datasetInfos": [],
       "metadata": {},
       "removedWidgets": [],
       "type": "html"
      }
     },
     "output_type": "display_data"
    }
   ],
   "source": [
    "# # Define the path to the Delta table\n",
    "# delta_table_path = \"dbfs:/user/hive/warehouse/authentication_credentials\"\n",
    "\n",
    "# # Read the Delta table to a Spark DataFrame\n",
    "# aws_keys_df = spark.read.format(\"delta\").load(delta_table_path)"
   ]
  },
  {
   "cell_type": "code",
   "execution_count": null,
   "metadata": {
    "application/vnd.databricks.v1+cell": {
     "cellMetadata": {
      "byteLimit": 2048000,
      "rowLimit": 10000
     },
     "inputWidgets": {},
     "nuid": "7b4e6a5c-3901-484c-9d7d-607755cde4df",
     "showTitle": false,
     "title": ""
    }
   },
   "outputs": [
    {
     "data": {
      "text/html": [
       "<style scoped>\n",
       "  .ansiout {\n",
       "    display: block;\n",
       "    unicode-bidi: embed;\n",
       "    white-space: pre-wrap;\n",
       "    word-wrap: break-word;\n",
       "    word-break: break-all;\n",
       "    font-family: \"Menlo\", \"Monaco\", \"Consolas\", \"Ubuntu Mono\", \"Source Code Pro\", monospace;\n",
       "    font-size: 13px;\n",
       "    color: #555;\n",
       "    margin-left: 4px;\n",
       "    line-height: 19px;\n",
       "  }\n",
       "</style>\n",
       "<div class=\"ansiout\"></div>"
      ]
     },
     "metadata": {
      "application/vnd.databricks.v1+output": {
       "addedWidgets": {},
       "arguments": {},
       "data": "<div class=\"ansiout\"></div>",
       "datasetInfos": [],
       "metadata": {},
       "removedWidgets": [],
       "type": "html"
      }
     },
     "output_type": "display_data"
    }
   ],
   "source": [
    "# # Get the AWS access key and secret key from the spark dataframe\n",
    "# ACCESS_KEY = aws_keys_df.select('Access key ID').collect()[0]['Access key ID']\n",
    "# SECRET_KEY = aws_keys_df.select('Secret access key').collect()[0]['Secret access key']\n",
    "# # Encode the secrete key\n",
    "# ENCODED_SECRET_KEY = urllib.parse.quote(string=SECRET_KEY, safe=\"\")"
   ]
  },
  {
   "cell_type": "code",
   "execution_count": null,
   "metadata": {
    "application/vnd.databricks.v1+cell": {
     "cellMetadata": {
      "byteLimit": 2048000,
      "rowLimit": 10000
     },
     "inputWidgets": {},
     "nuid": "8090a5b9-0758-4886-b17e-b0761e1c712b",
     "showTitle": false,
     "title": ""
    }
   },
   "outputs": [
    {
     "data": {
      "text/html": [
       "<style scoped>\n",
       "  .ansiout {\n",
       "    display: block;\n",
       "    unicode-bidi: embed;\n",
       "    white-space: pre-wrap;\n",
       "    word-wrap: break-word;\n",
       "    word-break: break-all;\n",
       "    font-family: \"Menlo\", \"Monaco\", \"Consolas\", \"Ubuntu Mono\", \"Source Code Pro\", monospace;\n",
       "    font-size: 13px;\n",
       "    color: #555;\n",
       "    margin-left: 4px;\n",
       "    line-height: 19px;\n",
       "  }\n",
       "</style>\n",
       "<div class=\"ansiout\">Out[102]: True</div>"
      ]
     },
     "metadata": {
      "application/vnd.databricks.v1+output": {
       "addedWidgets": {},
       "arguments": {},
       "data": "<div class=\"ansiout\">Out[102]: True</div>",
       "datasetInfos": [],
       "metadata": {},
       "removedWidgets": [],
       "type": "html"
      }
     },
     "output_type": "display_data"
    }
   ],
   "source": [
    "# AWS S3 bucket name\n",
    "AWS_S3_BUCKET = \"user-0af0031518e7-bucket\"\n",
    "# Mount name for the bucket\n",
    "MOUNT_NAME = \"/mnt/mount_name\"\n",
    "# Source url\n",
    "SOURCE_URL = \"s3n://{0}:{1}@{2}\".format(ACCESS_KEY, ENCODED_SECRET_KEY, AWS_S3_BUCKET)\n",
    "# Mount the drive\n",
    "dbutils.fs.mount(SOURCE_URL, MOUNT_NAME)"
   ]
  },
  {
   "cell_type": "code",
   "execution_count": null,
   "metadata": {
    "application/vnd.databricks.v1+cell": {
     "cellMetadata": {
      "byteLimit": 2048000,
      "rowLimit": 10000
     },
     "inputWidgets": {},
     "nuid": "87bc33a8-8aa2-4c72-95c6-d502ab2ccec5",
     "showTitle": false,
     "title": ""
    }
   },
   "outputs": [
    {
     "data": {
      "text/html": [
       "<style scoped>\n",
       "  .table-result-container {\n",
       "    max-height: 300px;\n",
       "    overflow: auto;\n",
       "  }\n",
       "  table, th, td {\n",
       "    border: 1px solid black;\n",
       "    border-collapse: collapse;\n",
       "  }\n",
       "  th, td {\n",
       "    padding: 5px;\n",
       "  }\n",
       "  th {\n",
       "    text-align: left;\n",
       "  }\n",
       "</style><div class='table-result-container'><table class='table-result'><thead style='background-color: white'><tr><th>path</th><th>name</th><th>size</th><th>modificationTime</th></tr></thead><tbody><tr><td>dbfs:/mnt/mount_name/topics/topics/1209b9ad90a5.geo/</td><td>1209b9ad90a5.geo/</td><td>0</td><td>1708031778559</td></tr><tr><td>dbfs:/mnt/mount_name/topics/topics/1209b9ad90a5.pin/</td><td>1209b9ad90a5.pin/</td><td>0</td><td>1708031778559</td></tr><tr><td>dbfs:/mnt/mount_name/topics/topics/1209b9ad90a5.user/</td><td>1209b9ad90a5.user/</td><td>0</td><td>1708031778559</td></tr></tbody></table></div>"
      ]
     },
     "metadata": {
      "application/vnd.databricks.v1+output": {
       "addedWidgets": {},
       "aggData": [],
       "aggError": "",
       "aggOverflow": false,
       "aggSchema": [],
       "aggSeriesLimitReached": false,
       "aggType": "",
       "arguments": {},
       "columnCustomDisplayInfos": {},
       "data": [
        [
         "dbfs:/mnt/mount_name/topics/topics/1209b9ad90a5.geo/",
         "1209b9ad90a5.geo/",
         0,
         1708031778559
        ],
        [
         "dbfs:/mnt/mount_name/topics/topics/1209b9ad90a5.pin/",
         "1209b9ad90a5.pin/",
         0,
         1708031778559
        ],
        [
         "dbfs:/mnt/mount_name/topics/topics/1209b9ad90a5.user/",
         "1209b9ad90a5.user/",
         0,
         1708031778559
        ]
       ],
       "datasetInfos": [],
       "dbfsResultPath": null,
       "isJsonSchema": true,
       "metadata": {},
       "overflow": false,
       "plotOptions": {
        "customPlotOptions": {},
        "displayType": "table",
        "pivotAggregation": null,
        "pivotColumns": null,
        "xColumns": null,
        "yColumns": null
       },
       "removedWidgets": [],
       "schema": [
        {
         "metadata": "{}",
         "name": "path",
         "type": "\"string\""
        },
        {
         "metadata": "{}",
         "name": "name",
         "type": "\"string\""
        },
        {
         "metadata": "{}",
         "name": "size",
         "type": "\"long\""
        },
        {
         "metadata": "{}",
         "name": "modificationTime",
         "type": "\"long\""
        }
       ],
       "type": "table"
      }
     },
     "output_type": "display_data"
    }
   ],
   "source": [
    "display(dbutils.fs.ls(\"dbfs:/mnt/mount_name/topics/topics\"))"
   ]
  },
  {
   "cell_type": "code",
   "execution_count": null,
   "metadata": {
    "application/vnd.databricks.v1+cell": {
     "cellMetadata": {
      "byteLimit": 2048000,
      "implicitDf": true,
      "rowLimit": 10000
     },
     "inputWidgets": {},
     "nuid": "c448efee-7d57-4b55-9f27-b7ea8a2c4238",
     "showTitle": false,
     "title": ""
    }
   },
   "outputs": [
    {
     "data": {
      "text/html": [
       "<style scoped>\n",
       "  .table-result-container {\n",
       "    max-height: 300px;\n",
       "    overflow: auto;\n",
       "  }\n",
       "  table, th, td {\n",
       "    border: 1px solid black;\n",
       "    border-collapse: collapse;\n",
       "  }\n",
       "  th, td {\n",
       "    padding: 5px;\n",
       "  }\n",
       "  th {\n",
       "    text-align: left;\n",
       "  }\n",
       "</style><div class='table-result-container'><table class='table-result'><thead style='background-color: white'><tr><th>key</th><th>value</th></tr></thead><tbody><tr><td>spark.databricks.delta.formatCheck.enabled</td><td>false</td></tr></tbody></table></div>"
      ]
     },
     "metadata": {
      "application/vnd.databricks.v1+output": {
       "addedWidgets": {},
       "aggData": [],
       "aggError": "",
       "aggOverflow": false,
       "aggSchema": [],
       "aggSeriesLimitReached": false,
       "aggType": "",
       "arguments": {},
       "columnCustomDisplayInfos": {},
       "data": [
        [
         "spark.databricks.delta.formatCheck.enabled",
         "false"
        ]
       ],
       "datasetInfos": [],
       "dbfsResultPath": null,
       "isJsonSchema": true,
       "metadata": {},
       "overflow": false,
       "plotOptions": {
        "customPlotOptions": {},
        "displayType": "table",
        "pivotAggregation": null,
        "pivotColumns": null,
        "xColumns": null,
        "yColumns": null
       },
       "removedWidgets": [],
       "schema": [
        {
         "metadata": "{}",
         "name": "key",
         "type": "\"string\""
        },
        {
         "metadata": "{}",
         "name": "value",
         "type": "\"string\""
        }
       ],
       "type": "table"
      }
     },
     "output_type": "display_data"
    }
   ],
   "source": [
    "%sql\n",
    "-- Disable format checks during the reading of Delta tables\n",
    "SET spark.databricks.delta.formatCheck.enabled=false"
   ]
  },
  {
   "cell_type": "code",
   "execution_count": null,
   "metadata": {
    "application/vnd.databricks.v1+cell": {
     "cellMetadata": {
      "byteLimit": 2048000,
      "rowLimit": 10000
     },
     "inputWidgets": {},
     "nuid": "90aa4562-0e2f-4f9b-8391-eb753f7e5a58",
     "showTitle": false,
     "title": ""
    }
   },
   "outputs": [
    {
     "data": {
      "text/html": [
       "<style scoped>\n",
       "  .table-result-container {\n",
       "    max-height: 300px;\n",
       "    overflow: auto;\n",
       "  }\n",
       "  table, th, td {\n",
       "    border: 1px solid black;\n",
       "    border-collapse: collapse;\n",
       "  }\n",
       "  th, td {\n",
       "    padding: 5px;\n",
       "  }\n",
       "  th {\n",
       "    text-align: left;\n",
       "  }\n",
       "</style><div class='table-result-container'><table class='table-result'><thead style='background-color: white'><tr><th>category</th><th>description</th><th>downloaded</th><th>follower_count</th><th>image_src</th><th>index</th><th>is_image_or_video</th><th>poster_name</th><th>save_location</th><th>tag_list</th><th>title</th><th>unique_id</th></tr></thead><tbody><tr><td>travel</td><td>This Costa Rica itinerary is the ultimate guide to spending two weeks in Costa Rica. Find out about visiting La Fortuna, Arenal, Monteverde, Naranjo, Corcovado National Park, Or… </td><td>1</td><td>10k</td><td>https://i.pinimg.com/originals/30/93/cb/3093cb01d9de2d125fda8ba5e3e41946.jpg</td><td>10138</td><td>image</td><td>Wanderlust Chloe ✈️ Travel guides, inspo and adventure travel ✈️</td><td>Local save in /data/travel</td><td>Costa Rica Travel,Rio Celeste Costa Rica,Dream Vacations,Vacation Spots,Vacation Travel,Travel Pictures,Travel Photos,Fortuna Costa Rica,Costa Rica Pictures</td><td>14 Amazing Things To Do In Costa Rica | Volcanoes, Waterfalls, Wildlife And More</td><td>927c4658-cc3f-4b92-9b5c-70743d0c238d</td></tr><tr><td>diy-and-crafts</td><td>This post may contain affiliate links, read our Disclosure Policy for more information. As an Amazon Associate I earn from qualifying purchases, thank you! Make some cute handpr… </td><td>1</td><td>892k</td><td>https://i.pinimg.com/originals/ff/fe/38/fffe384f3ec18a0d87cb2d80cc8c1499.jpg</td><td>3156</td><td>image</td><td>Michelle {CraftyMorning.com}</td><td>Local save in /data/diy-and-crafts</td><td>Christmas Gifts For Parents,Christmas Decorations For Kids,Christmas Crafts For Toddlers,Preschool Christmas,Christmas Crafts For Gifts,Christmas Activities,Toddler Crafts,Kids Christmas,Christmas Feeling</td><td>Handprint Reindeer Ornaments - Crafty Morning</td><td>fa6e31a4-18c2-4eca-a6d8-e903eee2c2a4</td></tr><tr><td>finance</td><td>Der #Vermögensaufbau mit #Dividenden ist bereits mit 1.000 Euro möglich. Ja genau! Investieren ist nicht nur für Reiche etwas, sondern jeder kann mit bescheidenden Mitteln start… </td><td>1</td><td>3k</td><td>https://i.pinimg.com/originals/03/79/d1/0379d1df3ef5a5a492573c19205257db.jpg</td><td>5395</td><td>image</td><td>DIVDepot – Geld sparen & verdienen | Mindset | Dividend Investing</td><td>Local save in /data/finance</td><td>Money Saving Challenge,Saving Money,Make Money Online,How To Make Money,Dividend Investing,Budget Planer,Discipline,Bulletins,Budgeting Finances</td><td>So startest du mit 1.000 Euro den Vermögensaufbau mit Dividenden - DIVDepot</td><td>71f72304-3708-45fb-8867-7c08995b10d2</td></tr><tr><td>finance</td><td>If you love budgeting, make sure to give Dave Ramsey's 7 Baby Steps a try. Follow these steps to begin your debt snowball, build an emergency fund, invest and reach riches. I ca… </td><td>1</td><td>26k</td><td>https://i.pinimg.com/originals/1e/9d/90/1e9d906e4e150e3b95187f3b76ea7c71.png</td><td>5494</td><td>image</td><td>Living Low Key | Save Money, Make Money, & Frugal Living</td><td>Local save in /data/finance</td><td>Financial Peace,Financial Tips,Saving Money Quotes,Total Money Makeover,Budgeting Finances,Money Management,Wealth Management,Personal Finance,Making Ideas</td><td>Dave Ramsey's 7 Baby Steps: What Are They And Will They Work For You</td><td>8fb2af68-543b-4639-8119-de33d28706ed</td></tr><tr><td>christmas</td><td>Here are the best DIY Christmas Centerpieces ideas perfect for your Christmas & holiday season home decor. From Christmas Vignettes to Table Centerpieces.</td><td>1</td><td>500k</td><td>https://i.pinimg.com/originals/aa/6d/0f/aa6d0f44d7c1c96b998cb9aa6c4446b8.png</td><td>2418</td><td>image</td><td>HikenDip</td><td>Local save in /data/christmas</td><td>Farmhouse Christmas Decor,Rustic Christmas,Christmas Time,Vintage Christmas,Xmas,Primitive Christmas Crafts,Christmas Vignette,Indoor Christmas Decorations,Diy Christmas Ornaments</td><td>100 DIY Christmas Centerpieces You'll Love To Decorate Your Home With For The Christmas Season - Hike n Dip</td><td>da8745a6-5160-46c4-877d-181d50a729fd</td></tr><tr><td>beauty</td><td>[PaidLink] It's made with clarifying black clay and useless sea mud-plus natural almond and avocado oils to help moisturize and soothe your skin, while absorbing excess oils. An… </td><td>1</td><td>22</td><td>https://i.pinimg.com/originals/ff/09/71/ff097153a9d3fe3c9142c3cd7e9ed8d7.png</td><td>1611</td><td>image</td><td>Hair Accessories</td><td>Local save in /data/beauty</td><td>Natural Beauty Tips,Health And Beauty Tips,Health Tips,Beauty Guide,Beauty Secrets,Natural Beauty Remedies,Skin Secrets,Natural Cures,Health Benefits</td><td>Over The Years, People Have Turn Into More Aware Of What's Inside Their Products And Have Begun T...</td><td>051e231c-7509-4379-9b9b-352883d63b8c</td></tr><tr><td>education</td><td>Tired of Google Classroom - need something a bit different? Try making your own Digital Interactive Classroom to give your students information and assignments. Easy to do with… </td><td>1</td><td>9k</td><td>https://i.pinimg.com/originals/37/ae/9e/37ae9e2f387a2de13ab0577472637140.png</td><td>3813</td><td>image</td><td>Science of Curiosity</td><td>Local save in /data/education</td><td>Google Classroom,Classroom Ideas,Flipped Classroom,Teaching Technology,Technology Integration,Medical Technology,Energy Technology,Technology Gadgets,Student Information</td><td>Fun Interactive Digital Classroom - Make your Own with Google Slides!</td><td>49f7dfe7-2e5a-403c-99a3-8f16ff4e7975</td></tr><tr><td>quotes</td><td>summcoco gives you inspiration for the women fashion trends you want. Thinking about a new look or lifestyle? This is your ultimate resource to get the hottest trends. 45 Top Li… </td><td>1</td><td>306k</td><td>https://i.pinimg.com/originals/bb/c0/e6/bbc0e6a797079505f11ac12bcb0b8c66.jpg</td><td>7922</td><td>image</td><td>Sumcoco | Decor Ideas, Hairstyles, Nails Fashion Advice</td><td>Local save in /data/quotes</td><td>Life Quotes Love,Inspirational Quotes About Love,Mood Quotes,Motivational Quotes,Tears Quotes,Quotes About Sadness,Deep Quotes About Life,Quotes Quotes,Quote Life</td><td>45 Top Life Quotes School Did Not Teach You</td><td>a584581c-1b38-4731-a1cc-f36115ecf229</td></tr><tr><td>christmas</td><td>Connecticut life and style blogger Lauren McBride shares a white and gold Christmas tablescape featuring a mix of faux greenery, metallics, and antique touches. #tablescape #hol… </td><td>1</td><td>84k</td><td>https://i.pinimg.com/originals/e7/29/2f/e7292f9ae03d5b2d2eaf4ec9643377ae.jpg</td><td>1643</td><td>image</td><td>Lauren McBride</td><td>Local save in /data/christmas</td><td>Christmas Dining Table,Christmas Table Settings,Farmhouse Christmas Decor,Rustic Christmas,Simple Christmas,Beautiful Christmas,Modern Christmas,Coastal Christmas,Christmas Mantles</td><td>White and Gold Christmas Tablescape - Lauren McBride</td><td>41be1bcd-1ead-4767-87d0-30c1036c6609</td></tr><tr><td>finance</td><td>Buying your first car is a big step and brings added responsibilities. Are you prepared to handle it? Before buying your first car, do these 9 things first!</td><td>1</td><td>223</td><td>https://i.pinimg.com/originals/16/11/4d/16114d53dc0d5947cc8e74281bb77844.jpg</td><td>5091</td><td>image</td><td>Edwin | Cash The Checks | Find Your Perfect Side Hustle</td><td>Local save in /data/finance</td><td>Paying Off Car Loan,Paying Off Mortgage Faster,Pay Off Mortgage Early,Mortgage Tips,Mortgage Payment,Mortgage Rates,Mortgage Companies,Investment Companies,Ways To Save Money</td><td>Buying Your First Car? Do These 9 Things First</td><td>43459535-64e9-48af-b1ab-26d4bb03e717</td></tr><tr><td>travel</td><td>Are you traveling to Paris during the summer? Find out what to do in Paris, France during the summer. Fun summertime activities in Paris. Enjoy the incredible outdoors when trav… </td><td>1</td><td>3k</td><td>https://i.pinimg.com/originals/6c/4c/90/6c4c90bba27ebf8c8bfe4c1acfb9f07a.jpg</td><td>9979</td><td>image</td><td>Petite in Paris</td><td>Local save in /data/travel</td><td>Torre Eiffel Paris,Tour Eiffel,Picnic In Paris,Hello France,Voyage Europe,Destination Voyage,Beautiful Places To Travel,Travel Aesthetic,Paris Travel</td><td>Paris in the Summer. 10 fun things to do in Paris in the Summertime • Petite in Paris</td><td>2b2abc85-fc51-481f-8ae6-17681993da28</td></tr><tr><td>diy-and-crafts</td><td>This ghost craft is a super simple Halloween craft for preschoolers or toddlers using supplies you probably have on hand. Free ghost template included!</td><td>1</td><td>56k</td><td>https://i.pinimg.com/videos/thumbnails/originals/13/ab/8c/13ab8c6b80b96d46fa6abd9cbb9a5c9e.0000001.jpg</td><td>3032</td><td>video</td><td>Thriving Home</td><td>Local save in /data/diy-and-crafts</td><td>Halloween Arts And Crafts,Halloween Crafts For Toddlers,Halloween Crafts For Kids,Simple Halloween Decorations,Halloween Craft Activities,Halloween Templates,Halloween Ghosts,Halloween Party,Cute Kids Crafts</td><td>Puffy Ghost Craft</td><td>208b07bc-e042-4e84-8855-97905f691848</td></tr><tr><td>mens-fashion</td><td>It's safe to assume that most men have a couple pairs of jeans, some T-shirts, a sweatshirt or two, and maybe a few button-down shirts in their wardrobe. If you don't have those… </td><td>1</td><td>383k</td><td>https://i.pinimg.com/originals/3a/e3/96/3ae396b278c99427fcdaaa2046ea26f8.jpg</td><td>6809</td><td>image</td><td>Suburban Men</td><td>Local save in /data/mens-fashion</td><td>Business Casual Dresses,Business Casual Outfits,Mens Business Casual Jeans,Dress Casual,Sports Coat And Jeans,Casual Sport Coats,Mens Sport Coat,Stylish Men,Men Casual</td><td>It's Time to Ditch the Hoodie (23 Photos) - Suburban Men</td><td>f8ca698f-abfc-4b62-87dd-72a4814f9d63</td></tr><tr><td>education</td><td>Amazon is a teacher's best friend! Each year my list of must haves for the classroom grows so I'm here to share more of my Amazon classroom finds!</td><td>1</td><td>41k</td><td>https://i.pinimg.com/originals/b5/62/94/b56294ab72f395727ae5d28b073ae6cc.jpg</td><td>3644</td><td>image</td><td>Teach Create Motivate</td><td>Local save in /data/education</td><td>Classroom Hacks,5th Grade Classroom,Middle School Classroom,New Classroom,Math Classroom Decorations,Highschool Classroom Decor,Classroom Supplies,English Teacher Classroom,Classroom Libraries</td><td>More Amazon Must Haves for Your Classroom - Teach Create Motivate</td><td>cde2b4e2-7711-4a85-970a-9e51481b386b</td></tr><tr><td>home-decor</td><td>Believe it or not, there are many affordable farmhouse decor on Amazon. Here's a quick list of 25 items all under $25 that will boost your home decor!</td><td>1</td><td>31k</td><td>https://i.pinimg.com/originals/13/3d/e6/133de6c7dcd8d410a4146b273c578bad.jpg</td><td>6575</td><td>image</td><td>Maria Louise Design</td><td>Local save in /data/home-decor</td><td>Farmhouse Remodel,Farmhouse Style Kitchen,Country Farmhouse Decor,Modern Farmhouse Kitchens,Farmhouse Design,Rustic Decor,Farmhouse Decor Amazon,Amazon Home Decor,Modern Decor</td><td>Affordable Farmhouse Decor on Amazon for Under $25 • Maria Louise Design</td><td>15c45907-657e-4395-a085-cb29b5cab361</td></tr><tr><td>home-decor</td><td>Holiday mantle decor, Christmas decor, metallic mercury glass style Christmas trees, eucalyptus vine, evergreen pine branches, white neutral holiday decor, cozy mantle for the h… </td><td>1</td><td>83k</td><td>https://i.pinimg.com/originals/9d/82/1a/9d821a80acd8f90c16454e978bd9b115.jpg</td><td>6145</td><td>image</td><td>Stylin by Aylin</td><td>Local save in /data/home-decor</td><td>Winter Home Decor,Christmas Living Room Decor,Living Room Decor Cozy,Christmas Decor,Cozy Fireplace,Rustic Fireplace Decor,Fireplace Decorations,Rustic Room,House Decorations</td><td>HOLIDAY MANTLE DECOR - @AMAZON & @TARGET FINDS</td><td>82e13a07-db99-43a3-b1c0-89a4b75821da</td></tr><tr><td>home-decor</td><td>Holiday mantle decor, Christmas decor, metallic mercury glass style Christmas trees, eucalyptus vine, evergreen pine branches, white neutral holiday decor, cozy mantle for the h… </td><td>1</td><td>83k</td><td>https://i.pinimg.com/originals/9d/82/1a/9d821a80acd8f90c16454e978bd9b115.jpg</td><td>6145</td><td>image</td><td>Stylin by Aylin</td><td>Local save in /data/home-decor</td><td>Winter Home Decor,Christmas Living Room Decor,Living Room Decor Cozy,Christmas Decor,Cozy Fireplace,Rustic Fireplace Decor,Fireplace Decorations,Rustic Room,House Decorations</td><td>HOLIDAY MANTLE DECOR - @AMAZON & @TARGET FINDS</td><td>82e13a07-db99-43a3-b1c0-89a4b75821da</td></tr><tr><td>art</td><td>Mexican artist Enrique Bernal has found a magical way to illuminate his beautiful pencil drawings with life. Check his unique glowing art in this article!</td><td>1</td><td>2M</td><td>https://i.pinimg.com/originals/0c/37/fa/0c37fab39da6ded220c3f9ccac8d117c.jpg</td><td>4</td><td>image</td><td>Bored Panda</td><td>Local save in /data/art</td><td>Girl Drawing Sketches,Art Drawings Sketches Simple,Pencil Art Drawings,Realistic Drawings,Cool Drawings,Drawing Ideas,Panda Drawing,Disney Drawings,Pencil Drawing Inspiration</td><td>Mexican Artist Uses Unique Technique To Make His Drawings Glow, And The Result Is Mesmerizing</td><td>55abcd28-bda1-4453-bbcd-1427fb3aa49b</td></tr><tr><td>education</td><td>Podcasts for Teachers or Parents of Teenagers: Teaching teens middle school and high school can feel joyful and rewarding most days, but can also frustrate you with one challeng… </td><td>1</td><td>25k</td><td>https://i.pinimg.com/originals/50/19/31/501931a27ee4d076658980851b995b2c.jpg</td><td>4315</td><td>image</td><td>Math Giraffe</td><td>Local save in /data/education</td><td>Middle School Classroom,High School Students,High School Teachers,Middle School Tips,High School Counseling,Ela Classroom,High School Science,Future Classroom,Google Classroom</td><td>Podcasts for Teachers or Parents of Teenagers</td><td>21b59ba9-829d-4c33-8c27-4cd4c56d26b8</td></tr><tr><td>event-planning</td><td>Sacramento California Wedding 2 Chic Events & Design Jodi Yorston Photography Wilson Vineyards Barn Miosa Couture Yellow Barn Vineyard Outdoor Candles DIY</td><td>1</td><td>6M</td><td>https://i.pinimg.com/originals/7e/45/90/7e45905fefa36347e83333fd6d091140.jpg</td><td>5069</td><td>image</td><td>Style Me Pretty</td><td>Local save in /data/event-planning</td><td>60th Anniversary Parties,Anniversary Decorations,Golden Anniversary,25th Wedding Anniversary,Anniversary Pictures,Anniversary Ideas,Birthday Decorations,Event Planning Design,Event Design</td><td>The Vault: Curated & Refined Wedding Inspiration</td><td>b75b6f87-deb3-444f-b29e-ce9161b2df49</td></tr><tr><td>mens-fashion</td><td>Black And Brown Outfits You Need To Try This Fall Season. The trick with black and brown outfits is to know how to combine colors, fabrics, and shapes to get a cohesive look. So… </td><td>1</td><td>1M</td><td>https://i.pinimg.com/originals/3e/49/09/3e4909c0ccc4dbba3cad83d97eab4a61.png</td><td>7343</td><td>image</td><td>Cultura Colectiva</td><td>Local save in /data/mens-fashion</td><td>Winter Outfits Men,Stylish Mens Outfits,Casual Outfits,Men Casual,Smart Casual,Outfits For Men,Fall Outfits,Mens Winter Boots,Business Casual Men</td><td>This Fashion Rule Is Nonsense, And We Should All Forget About It</td><td>b8c63a95-6fe8-4d7f-9455-1eef3462fee0</td></tr><tr><td>event-planning</td><td>An event planning checklist is designed to walk you through the various stages of an event. Download, or print, event and party planning checklists here.</td><td>1</td><td>3k</td><td>https://i.pinimg.com/originals/e3/a1/fb/e3a1fb58e6093518398987cba6b07c5e.png</td><td>4949</td><td>image</td><td>Master The Event</td><td>Local save in /data/event-planning</td><td>Party Planning Checklist,Event Planning Quotes,Planning Budget,Event Planning Business,Wedding Planning Checklist,Holiday Checklist,Business Events,Business Advice,Event Ideas</td><td>How an Event Planning Checklist Makes You a Better Planner</td><td>595defc9-5755-4816-bf4c-916ef2b9dcbc</td></tr><tr><td>quotes</td><td>There are so many different ways for soulmates to say, 'I love you' there's no reason to stop there, so here are the 100 best romantic love quotes for kindred spirits to share w… </td><td>1</td><td>942k</td><td>https://i.pinimg.com/originals/21/ef/bc/21efbc2dbfe6e2c1291a1599cd6b1683.jpg</td><td>8237</td><td>image</td><td>YourTango</td><td>Local save in /data/quotes</td><td>Missing You Quotes,Love Me Quotes,Love Yourself Quotes,Love Poems,Quotes For Him,Great Quotes,Quotes To Live By,Inspirational Quotes,Miss You Grandpa Quotes</td><td>115 Beautiful Soulmate Love Quotes To Share With Your Kindred Spirit</td><td>2949a0ca-b4fb-43b5-a1bc-e15c7b534637</td></tr><tr><td>home-decor</td><td>Beautiful and easy ways to update every room in your home with fall decor. Plus, my favorite finds in fall decor for 2020!</td><td>1</td><td>92k</td><td>https://i.pinimg.com/originals/e5/ae/dc/e5aedc14ce557e3a69f672e0f8c88f6e.png</td><td>6063</td><td>image</td><td>Kristen | Lifestyle, Mom Tips & Teacher Stuff Blog</td><td>Local save in /data/home-decor</td><td>Fall Home Decor,Autumn Home,Fall Decor Outdoor,Front Porch Fall Decor,Home Decor Ideas,Porch Ideas For Fall,Fall Outdoor Decorating,Decorating Ideas For Fall,Fall Front Doors</td><td>41 Gorgeous Fall Decor Ideas For Your Home - Chaylor & Mads</td><td>60693727-4927-4bd6-a8c5-096a392d63e6</td></tr><tr><td>art</td><td>Study the art of Hokusai in this elementary art curriculum designed to combine the elements of art, art history, and fun, hands on projects!</td><td>1</td><td>221k</td><td>https://i.pinimg.com/originals/2c/65/c0/2c65c0694d0f5e4eb8fddcf8aff99321.png</td><td>857</td><td>image</td><td>The Kitchen Table Classroom</td><td>Local save in /data/art</td><td>Art History Lessons,Art Lessons For Kids,History Projects,Curriculum Design,Art Curriculum,High School Art,Middle School Art,Documents D'art,Programme D'art</td><td>The Artists and the Elements- An Elementary Art Curriculum - The Kitchen Table Classroom</td><td>445d2f86-1625-4e97-be3c-92474181d6f3</td></tr><tr><td>travel</td><td>On our Calgary to Vancouver road trip we got to spend time in Banff, Canada. We visited the stunning Lake Moraine as well as Lake Louise and plenty of other of Canada's natural… </td><td>1</td><td>7k</td><td>https://i.pinimg.com/videos/thumbnails/originals/57/9d/52/579d52242ae5609978c754d393e44e81.0000001.jpg</td><td>9672</td><td>video</td><td>Travel Mad Mum</td><td>Local save in /data/travel</td><td>Beautiful Places To Travel,Cool Places To Visit,Beautiful Roads,Beautiful Scenery,Wonderful Places,Lac Moraine,Moraine Lake,Lac Louise,Natur Wallpaper</td><td>Lake Moraine, Banff, Canada</td><td>1a5050a4-ac82-472c-aeff-3457de8bbee9</td></tr><tr><td>tattoos</td><td>Hi everyone! My last small tattoo ideas post was really popular on Pinterest, so I decided to put together this post with even more tiny tattoo ideas. Just like the other post,… </td><td>1</td><td>17k</td><td>https://i.pinimg.com/originals/b5/72/b5/b572b5641d4efd2e9a13de2506b9e721.png</td><td>9014</td><td>image</td><td>Sarah Wahl | Crestfox</td><td>Local save in /data/tattoos</td><td>Little Tattoos,Mini Tattoos,Body Art Tattoos,Sleeve Tattoos,Tatoos,Flower Tattoos,White Tattoos,Arrow Tattoos,Word Tattoos</td><td>75 More Small Tattoo Ideas from Playground Tattoo - Crestfox</td><td>45c2e92a-5daf-40f3-9732-771c186c0757</td></tr><tr><td>diy-and-crafts</td><td>One thing I love about Crafts is how the evolve! These toilet paper rolls are adorable and modern. I love that something as simple as a recycled toilet paper roll can be taken t… </td><td>1</td><td>502k</td><td>https://i.pinimg.com/originals/c6/cd/0d/c6cd0d04da9cfc11566cfd34eeb1f918.jpg</td><td>2959</td><td>image</td><td>CraftGossip.com</td><td>Local save in /data/diy-and-crafts</td><td>Toilet Paper Roll Crafts,Cardboard Crafts,Diy Paper,Paper Crafting,Toilet Paper Rolls,Cardboard Playhouse,Paper Art,Kids Crafts,Toddler Crafts</td><td>The Cutest Toilet Paper Crafts</td><td>439cac4b-18e8-4aaa-88c5-edb26a701111</td></tr><tr><td>diy-and-crafts</td><td>One thing I love about Crafts is how the evolve! These toilet paper rolls are adorable and modern. I love that something as simple as a recycled toilet paper roll can be taken t… </td><td>1</td><td>502k</td><td>https://i.pinimg.com/originals/c6/cd/0d/c6cd0d04da9cfc11566cfd34eeb1f918.jpg</td><td>2959</td><td>image</td><td>CraftGossip.com</td><td>Local save in /data/diy-and-crafts</td><td>Toilet Paper Roll Crafts,Cardboard Crafts,Diy Paper,Paper Crafting,Toilet Paper Rolls,Cardboard Playhouse,Paper Art,Kids Crafts,Toddler Crafts</td><td>The Cutest Toilet Paper Crafts</td><td>439cac4b-18e8-4aaa-88c5-edb26a701111</td></tr><tr><td>mens-fashion</td><td>Macho Moda: Blog de Moda Masculina - Dicas de Estilo Masculino, Tendências, Produtos para Homens, Serviços e tudo relacionado a esse Universo</td><td>1</td><td>620k</td><td>https://i.pinimg.com/originals/a9/13/70/a913704e90568f5bbedaa6a866b9c4c0.png</td><td>7467</td><td>image</td><td>Macho Moda</td><td>Local save in /data/mens-fashion</td><td>Best Mens Fashion,Mens Fashion Suits,Mens Suits,Men's Fashion,Fashion Boots,Classy Fashion,Runway Fashion,Fashion Guide,Fashion Ideas</td><td>5 TRUQUES REAIS para usar ROUPAS BÁSICAS com MUITO ESTILO! Estilo Básico Masculino</td><td>21ea7e2b-9f40-4039-9ba1-2a8c5b2b5b82</td></tr><tr><td>travel</td><td>This Montana trip takes you through through big and small towns that have a western charm that adds uniqueness to your trip. Here are the top spots to go!</td><td>1</td><td>4k</td><td>https://i.pinimg.com/originals/0c/a4/4e/0ca44eefe5f74512e8e1e8b80491f05d.png</td><td>9550</td><td>image</td><td>Visit USA Parks | Travel Blog & Inspiration</td><td>Local save in /data/travel</td><td>Road Trip Map,Visit Usa,Vacation Trips,Vacations,Summer Travel,Travel Usa,Trip Planning,National Parks,Scenic Photography</td><td>The Best Trip to Montana and the National Parks - Visit USA Parks</td><td>ccd4eee1-97d3-4c3b-9b62-ae71641effcd</td></tr><tr><td>beauty</td><td>Versatile & beautiful, wispy bangs look great on just about anyone! Check out these pictures, our How To advice & tips to get your own wispy bangs.</td><td>1</td><td>627k</td><td>https://i.pinimg.com/originals/de/e1/4f/dee14fcd517247c66ede1a1c5b8dbfe9.jpg</td><td>1514</td><td>image</td><td>Latest Hairstyles</td><td>Local save in /data/beauty</td><td>How To Cut Bangs,How To Style Bangs,Cut Side Bangs,Latest Hairstyles,Cute Hairstyles,Elegant Hairstyles,Long Hairstyles With Bangs,Wedding Hairstyles,Braided Hairstyles</td><td>28 Sexiest Wispy Bangs You Need to Try This Year</td><td>dc794d53-c1bf-4501-9891-07bae6185b54</td></tr><tr><td>travel</td><td>35 European bucket list destinations for any traveler heading to Europe. From Cinque Terre, Italy to Iceland - there are so many amazing sites to see in Europe.</td><td>1</td><td>28k</td><td>https://i.pinimg.com/originals/71/04/1a/71041ad83ede43d9665741e719c58a86.jpg</td><td>9875</td><td>image</td><td>Nicki </td><td>Local save in /data/travel</td><td>Backpacking Europe,Europe Travel Guide,Travel Guides,Travel Packing,Traveling Europe,Travelling,Travel Backpack,Budget Travel,2 Week Europe Itinerary</td><td>European Bucket List: 35 Things NOT To Miss When Traveling Europe</td><td>782dcbad-ff91-40a6-ba60-216efe29adb7</td></tr><tr><td>travel</td><td>35 European bucket list destinations for any traveler heading to Europe. From Cinque Terre, Italy to Iceland - there are so many amazing sites to see in Europe.</td><td>1</td><td>28k</td><td>https://i.pinimg.com/originals/71/04/1a/71041ad83ede43d9665741e719c58a86.jpg</td><td>9875</td><td>image</td><td>Nicki </td><td>Local save in /data/travel</td><td>Backpacking Europe,Europe Travel Guide,Travel Guides,Travel Packing,Traveling Europe,Travelling,Travel Backpack,Budget Travel,2 Week Europe Itinerary</td><td>European Bucket List: 35 Things NOT To Miss When Traveling Europe</td><td>782dcbad-ff91-40a6-ba60-216efe29adb7</td></tr><tr><td>art</td><td>Fashion designer Issac Mizrahi’s Greenwich Village home is an amalgamation of three apartments that was 20 years in the making</td><td>1</td><td>3M</td><td>https://i.pinimg.com/originals/f4/6c/54/f46c546a2e480022a42d842b7dca157e.jpg</td><td>428</td><td>image</td><td>Architectural Digest</td><td>Local save in /data/art</td><td>Modern Art,Contemporary Art,Contemporary Kitchens,Contemporary Bedroom,New York City Apartment,Manhattan Apartment,Art Moderne,Architectural Digest,Painting Inspiration</td><td>Fashion Designer Isaac Mizrahi’s Updated 1930s New York City Apartment</td><td>610b3f83-9fe0-469d-946c-d16b577fca71</td></tr><tr><td>vehicles</td><td>Looking for the Aston Martin DB5 (1963 - 1965) of your dreams? There are currently 20 Aston Martin DB5 (1963 - 1965) cars as well as thousands of other iconic classic and collec… </td><td>1</td><td>27k</td><td>https://i.pinimg.com/originals/0a/b9/35/0ab935e261e2a016384a804ca99ec6c8.jpg</td><td>10883</td><td>image</td><td>Classic Driver</td><td>Local save in /data/vehicles</td><td>Aston Martin Db5,Classic Aston Martin,Jaguar,Bristol,Bond Cars,Classic Car Restoration,British Sports Cars,Automobile,Classic Sports Cars</td><td>Aston Martin DB5 (1963 - 1965) for sale</td><td>8747b75c-8020-4861-af88-9aabe55d1b6f</td></tr><tr><td>travel</td><td>Dreaming of traveling world? Saving for such a trip ain't easy, so instead, here's how I created a career out of travel and how I make money while traveling</td><td>1</td><td>9k</td><td>https://i.pinimg.com/originals/04/d6/bc/04d6bca89a3c9f26c259a5de0f6ca0a1.jpg</td><td>10137</td><td>image</td><td>No Hurry To Get Home</td><td>Local save in /data/travel</td><td>Make Money Traveling,Travel Money,Solo Travel,Disney Travel,Time Travel,Travel Store,Travel Advice,Travel Tips,Travel Destinations</td><td>How I Make Money While Traveling: Steps I Took to Live a Life of Travel</td><td>1ffce594-6159-47f3-8f96-53ceb21b72af</td></tr><tr><td>diy-and-crafts</td><td>HELPFUL RESOURCES – Check out my resin colorants resources page here with links to all the products mentioned in this article (and more). Let me know if you have any that you lo… </td><td>1</td><td>6k</td><td>https://i.pinimg.com/originals/d4/12/78/d4127833023ca32600571ddca16f1556.jpg</td><td>3454</td><td>image</td><td>Mixed Media Crafts</td><td>Local save in /data/diy-and-crafts</td><td>Epoxy Resin Art,Diy Resin Art,Diy Resin Crafts,Resin Molds,Ice Resin,Resin Pour,Diy Epoxy,Diy Resin Painting,Diy Resin Dice</td><td>What can you use to color resin?</td><td>46bd3f86-b09d-4e29-9033-7ff2df595e51</td></tr><tr><td>finance</td><td>Description Coupon Organizer in a fun colorful fabric -island oasis, Great Size for the \"basic\" couponer - holds up to 500 coupons with ease, and is made long enough so that you… </td><td>1</td><td>0</td><td>https://i.pinimg.com/originals/65/bb/ea/65bbeaf458907bb079317d8303c4fa0e.jpg</td><td>5730</td><td>image</td><td>Consuelo Aguirre</td><td>Local save in /data/finance</td><td>Grocery Items,Grocery Coupons,Care Organization,Coupon Organization,Extreme Couponing,Couponing 101,Life Binder,Save My Money,Love Coupons</td><td>Island Oasis Coupon Organizer</td><td>1e1f0c8b-9fcf-460b-9154-c775827206eb</td></tr><tr><td>art</td><td>Top interior design blogger, Never Skip Brunch, shares her step by step tutorial to make your own Shower Curtain Art for cheap. Click here now for more!!</td><td>1</td><td>26k</td><td>https://i.pinimg.com/originals/3c/b7/94/3cb7947e405a91e17e14b9e3a5466b2d.jpg</td><td>91</td><td>image</td><td>CARA NEWHART [never skip brunch]</td><td>Local save in /data/art</td><td>Art Diy,Diy Wall Art,Large Wall Art,Wall Art Decor,Wall Of Art,Art For Walls,Large Art Prints,Artwork Wall,Cool Wall Art</td><td>Shower Curtain Art Tutorial | NEVER SKIP BRUNCH by Cara Newhart</td><td>ca91fe99-d9a9-4d59-9d0d-87e32d1c692f</td></tr><tr><td>christmas</td><td>20 Christmas Decorating Ideas We Bet You Haven't Thought Of via @PureWow</td><td>1</td><td>868k</td><td>https://i.pinimg.com/originals/e9/b9/f0/e9b9f01cc3b2cf41948b45854335396c.jpg</td><td>2074</td><td>image</td><td>PureWow</td><td>Local save in /data/christmas</td><td>Holiday Centerpieces,Xmas Decorations,Centerpiece Ideas,Table Centerpieces,Valentine Decorations,Wedding Centerpieces,Outdoor Decorations,Christmas Centerpieces With Candles,Christmas Dining Table Decorations</td><td>35 Christmas Decorating Ideas We Bet You Haven't Thought Of</td><td>86ed09a7-842d-496d-9501-010c654eb340</td></tr><tr><td>travel</td><td>These Alaska itinerary stops will help you plan the perfect trip to Alaska! From Denali to Seward, this Alaska itinerary covers everything to see and do.</td><td>1</td><td>9k</td><td>https://i.pinimg.com/originals/8e/96/40/8e9640b01706fe367f7fb409a720e9d9.jpg</td><td>10029</td><td>image</td><td>Linda On The Run</td><td>Local save in /data/travel</td><td>Alaska Travel,Travel Usa,Travel Tips,Alaska Trip,Cruise Travel,Shopping Travel,Beach Travel,Budget Travel,Travel Ideas</td><td>11 Stops To Include On The Perfect Alaska Itinerary</td><td>d91ae5c9-6cb7-432a-9d5f-a01f251fa28a</td></tr><tr><td>diy-and-crafts</td><td>Keep the kids busy this summer with these easy diy crafts and projects. Creative and…</td><td>1</td><td>124k</td><td>https://i.pinimg.com/originals/b3/bc/e2/b3bce2964e8c8975387b39660eed5f16.jpg</td><td>2863</td><td>image</td><td>Of Life & Lisa | Lifestyle Blog</td><td>Local save in /data/diy-and-crafts</td><td>Summer Crafts For Kids,Fun Crafts For Kids,Summer Kids,Toddler Crafts,Crafts To Do,Diy For Kids,Summer Snow,Diys For Summer,Craft Ideas For Girls</td><td>25 Super Fun Summer Crafts for Kids - Of Life and Lisa</td><td>9bf39437-42a6-4f02-99a0-9a0383d8cd70</td></tr><tr><td>tattoos</td><td>We welcome you to our latest collection of Beautiful Tattoo Ideas For Women. Check out and get inspired by the most beautiful design for yourself.</td><td>1</td><td>21k</td><td>https://i.pinimg.com/originals/fa/cf/7c/facf7cd752a4bc7c09faaa8925ab80b1.jpg</td><td>8653</td><td>image</td><td>ALL FOR WOMAN</td><td>Local save in /data/tattoos</td><td>Small Back Tattoos,Small Girl Tattoos,Little Tattoos,Tattoo Girls,Mini Tattoos,Tattoo Small,Back Tattoo Women,Tattoo On Back,Girl Back Tattoos</td><td>Unique Women Tattoos Ideas 2020</td><td>24b1343c-4d86-4705-8ec9-7f1f2df2d77e</td></tr><tr><td>diy-and-crafts</td><td>Keep the kids busy this summer with these easy diy crafts and projects. Creative and…</td><td>1</td><td>124k</td><td>https://i.pinimg.com/originals/b3/bc/e2/b3bce2964e8c8975387b39660eed5f16.jpg</td><td>2863</td><td>image</td><td>Of Life & Lisa | Lifestyle Blog</td><td>Local save in /data/diy-and-crafts</td><td>Summer Crafts For Kids,Fun Crafts For Kids,Summer Kids,Toddler Crafts,Crafts To Do,Diy For Kids,Summer Snow,Diys For Summer,Craft Ideas For Girls</td><td>25 Super Fun Summer Crafts for Kids - Of Life and Lisa</td><td>9bf39437-42a6-4f02-99a0-9a0383d8cd70</td></tr><tr><td>diy-and-crafts</td><td>A fun space activity for kids. Preshoolers and kindergartners will love making their own alien spacecraft!</td><td>1</td><td>192k</td><td>https://i.pinimg.com/originals/6f/e8/aa/6fe8aa405513c6d2f77b5f47d17cdce8.jpg</td><td>2923</td><td>image</td><td>The Crafting Chicks</td><td>Local save in /data/diy-and-crafts</td><td>Paper Plate Crafts For Kids,Fun Crafts For Kids,Summer Crafts,Toddler Crafts,Art For Kids,Outer Space Crafts For Kids,Kid Crafts,Space Kids,Back To School Crafts For Kids</td><td>UFO Paper Plate Craft</td><td>52fa3af5-24a4-4ccb-8f17-9c3eb12327ee</td></tr><tr><td>beauty</td><td>No description available Story format</td><td>1</td><td>157k</td><td>https://i.pinimg.com/videos/thumbnails/originals/92/6f/33/926f33779cb5fe0b76ff08e992e8e867.0000001.jpg</td><td>1170</td><td>multi-video(story page format)</td><td>miss coco</td><td>Local save in /data/beauty</td><td>Eye Makeup Steps,Blue Eye Makeup,Skin Makeup,Simple Makeup,Natural Makeup,Concealer,Makeup Tips Foundation,Foundation Shade,Full Coverage Foundation</td><td>Best shade makeup foundation for your skin match guide tutorial- beauty tutorial hacks</td><td>fafb96e7-e2c6-436b-beac-caf5e3a1cbf5</td></tr><tr><td>christmas</td><td>Christmas Elf Stocking With Jingle Bells Red/Green/White Polyester 19\"</td><td>1</td><td>184</td><td>https://i.pinimg.com/originals/8a/13/b9/8a13b91655ba13b66633a9d70e6e6e2e.jpg</td><td>1667</td><td>image</td><td>The Christmas Ranch</td><td>Local save in /data/christmas</td><td>Summer Christmas,Christmas Elf,Christmas Ideas,Christmas Decorations,Christmas Sewing,Christmas Crafts For Kids,Christmas Wrapping,Cute Christmas Stockings,Stocking Ideas</td><td>Christmas Elf Stocking With Jingle Bells Red/Green/White 19\"</td><td>a7ae2cae-c83c-4fac-9e23-45437acea61e</td></tr><tr><td>home-decor</td><td>Are you thinking of refreshing your bedroom? Not sure where to start? If you've got something fun and comfortable on</td><td>1</td><td>64k</td><td>https://i.pinimg.com/originals/39/e3/fe/39e3fe0a1c77a49892a73b7dce95e54b.jpg</td><td>6170</td><td>image</td><td>The Cards We Drew</td><td>Local save in /data/home-decor</td><td>Cute Bedroom Decor,Small Room Bedroom,Room Ideas Bedroom,Small Rooms,Bohemian Bedroom Decor,Boho Decor,Small Spaces,Bedroom Wall,Bedroom Inspo</td><td>Boho Bedroom Decor Ideas</td><td>c5ce02d7-6eb1-4e3e-bd19-f98874156474</td></tr><tr><td>tattoos</td><td>Koi fish tattoos are a popular choice for men who want to make a statement, thanks to their rich symbolism and bold design.</td><td>1</td><td>211k</td><td>https://i.pinimg.com/originals/8a/0c/0a/8a0c0a7b6236565c519acd41ad1a52c0.jpg</td><td>8731</td><td>image</td><td>TheTrendSpotter</td><td>Local save in /data/tattoos</td><td>Dr Tattoo,Wörter Tattoos,Pisces Tattoos,Tatoo Art,Dream Tattoos,Dope Tattoos,Mini Tattoos,Finger Tattoos,Body Art Tattoos</td><td>20 Koi Fish Tattoos For Lucky Men</td><td>ea760f71-febf-4023-b592-d17396659039</td></tr><tr><td>quotes</td><td>#lovequotes #matchmaker #matchmadeinheaven #loveyourself #respectyourself</td><td>1</td><td>51k</td><td>https://i.pinimg.com/originals/c6/64/ee/c664ee71524fb5a6e7b7b49233f93b43.png</td><td>8304</td><td>image</td><td>Commitment Connection</td><td>Local save in /data/quotes</td><td>Wise Quotes,Quotable Quotes,Words Quotes,Wise Words,Quotes To Live By,Great Quotes,Motivational Quotes,Inspirational Quotes,Funny Quotes</td><td>The #1 Reason You’re Not His Priority Anymore - Matthew Coast</td><td>5b6d0913-25e4-43ab-839d-85d5516f78a4</td></tr><tr><td>mens-fashion</td><td>imgentleboss: “ - More about men’s fashion at @Gentleboss - GB’s Facebook - ”</td><td>1</td><td>940</td><td>https://i.pinimg.com/originals/e7/6e/8e/e76e8ed6cc838b84a934c6948a5caff7.jpg</td><td>7554</td><td>image</td><td>iElylike ..✿◕‿◕✿ஐ✿◕‿◕✿</td><td>Local save in /data/mens-fashion</td><td>Mens Fashion Blog,Look Fashion,Autumn Fashion,Fashion News,Fashion Sale,80s Fashion,Paris Fashion,Runway Fashion,Fashion Trends</td><td>Craig Style</td><td>c6fa12f4-0d4a-4b07-a335-5bf9f37f8281</td></tr><tr><td>tattoos</td><td>Tattoos are one of the most efficient ways through which one decides to express themselves…</td><td>1</td><td>4k</td><td>https://i.pinimg.com/originals/ab/8e/50/ab8e505b04d4abc8f23e273c15f8a65d.jpg</td><td>8887</td><td>image</td><td>RapidLeaks</td><td>Local save in /data/tattoos</td><td>Dream Tattoos,Body Art Tattoos,New Tattoos,Small Tattoos,Cross Tattoos,Random Tattoos,Fashion Tattoos,Bird Tattoos,Fitness Tattoos</td><td>25 Ultra Sexy Back Tattoo Ideas For Girls</td><td>5df9f6e5-07f5-4ce8-a82e-96586bbc05d8</td></tr><tr><td>art</td><td>How to Draw Pinocchio (Disney) | Art Lesson (Scheduled via TrafficWonker.com)</td><td>1</td><td>2M</td><td>https://i.pinimg.com/originals/fa/ae/a1/faaea189af561a8943b62e89f2dabb00.jpg</td><td>637</td><td>image</td><td>wikiHow</td><td>Local save in /data/art</td><td>Disney Drawings Sketches,Cartoon Sketches,Cute Drawings,Cartoon Art,Drawing Sketches,Disney Character Drawings,Drawing Disney,Disney Characters To Draw,How To Draw Disney</td><td>How to Draw Pinocchio</td><td>7a04448a-7c86-4450-8809-622747a8a9ad</td></tr><tr><td>education</td><td>What Is a Coprolite?: A Coloring Book by the Georgia Mineral Society, Inc.</td><td>1</td><td>2M</td><td>https://i.pinimg.com/originals/33/f3/ca/33f3ca221c060bb599fe7ea2c510db22.jpg</td><td>4249</td><td>image</td><td>Walmart</td><td>Local save in /data/education</td><td>Further Education,Earth Science,Coloring Books,Effort,Georgia,Minerals,Learning,Fun,Fossil</td><td>What Is a Coprolite? : A Coloring Book by the Georgia Mineral Society, Inc. - Walmart.com</td><td>34b433d4-2fb4-47fc-82c2-ff4fd86efe2a</td></tr><tr><td>tattoos</td><td>An interesting post from POPSUGAR Beauty. Check it out!</td><td>1</td><td>5M</td><td>https://i.pinimg.com/originals/56/cf/fb/56cffbb3ac19457731d590a1b1c2ecff.jpg</td><td>9270</td><td>image</td><td>POPSUGAR</td><td>Local save in /data/tattoos</td><td>Tattoo Girls,Tiny Tattoos For Girls,Small Quote Tattoos,Tattoos For Women Small,Hidden Tattoos,Small Inspirational Tattoos,Inspiring Quote Tattoos,Quote Tattoos Girls,Small Quotes</td><td>Self Love Small Tattoo</td><td>0c606c76-6a9c-4b32-9f5a-d49a3328c28f</td></tr><tr><td>beauty</td><td>Nail Length: 20-26mm (min-max)Quantity: 24pcs/setSize: Coffin</td><td>1</td><td>908</td><td>https://i.pinimg.com/originals/f8/44/a8/f844a834c2517cd6d28f8e1dc9a8c72b.jpg</td><td>1024</td><td>image</td><td>GorgeChicOfficial</td><td>Local save in /data/beauty</td><td>Acrylic Nails Coffin Short,Summer Acrylic Nails,Best Acrylic Nails,Coffin Nails,Best Nails,Ballet Nails,Acryl Nails,Cow Nails,Cute Acrylic Nail Designs</td><td>mix and match - H-068 ombre pink</td><td>9ba271d9-e192-4dc1-92ae-7d7c6395f05c</td></tr><tr><td>beauty</td><td>Instantly create the look of lash extensions with this award-winning, best-selling mascara that won't clump, flake or smudge. Available in 3 shades!</td><td>1</td><td>43k</td><td>https://i.pinimg.com/videos/thumbnails/originals/69/84/e2/6984e20f3e262098fa9c0614c3453254.0000001.jpg</td><td>1313</td><td>video</td><td>Thrive Causemetics</td><td>Local save in /data/beauty</td><td>N,o, ,T,a,g,s, ,A,v,a,i,l,a,b,l,e</td><td>Liquid Lash Extensions Mascara</td><td>44662045-e891-4821-8a19-ebe7eedd371a</td></tr><tr><td>vehicles</td><td>1937 Jaguar SS100 - 2 1/2 Litre Roadster, one of the most sought after pre-war sports cars</td><td>1</td><td>8k</td><td>https://i.pinimg.com/originals/26/81/a7/2681a71bd0c8f7fd0ab79c455338a49a.jpg</td><td>10625</td><td>image</td><td>hobbyDB</td><td>Local save in /data/vehicles</td><td>Jaguar Type E,Jaguar Xk,Jaguar Cars,Jaguar Roadster,Jaguar Sport,Retro Cars,Vintage Cars,Antique Cars,British Sports Cars</td><td>Jaguar Type E</td><td>d31885b7-742a-4e2a-bbb7-ac5f9d334340</td></tr><tr><td>vehicles</td><td>1937 Jaguar SS100 - 2 1/2 Litre Roadster, one of the most sought after pre-war sports cars</td><td>1</td><td>8k</td><td>https://i.pinimg.com/originals/26/81/a7/2681a71bd0c8f7fd0ab79c455338a49a.jpg</td><td>10625</td><td>image</td><td>hobbyDB</td><td>Local save in /data/vehicles</td><td>Jaguar Type E,Jaguar Xk,Jaguar Cars,Jaguar Roadster,Jaguar Sport,Retro Cars,Vintage Cars,Antique Cars,British Sports Cars</td><td>Jaguar Type E</td><td>d31885b7-742a-4e2a-bbb7-ac5f9d334340</td></tr><tr><td>vehicles</td><td>Land Rover DiscoveryX on Behance</td><td>1</td><td>6M</td><td>https://i.pinimg.com/originals/54/52/32/545232ee2010b227c028a90765841519.jpg</td><td>10321</td><td>image</td><td>Behance</td><td>Local save in /data/vehicles</td><td>Car Design Sketch,Car Sketch,Design Cars,Future Concept Cars,Automobile,Best Luxury Cars,Futuristic Cars,Car Wheels,Vw Bus</td><td>Land Rover DiscoveryX</td><td>212f9748-55bd-44be-bffb-6736ac1a669f</td></tr><tr><td>vehicles</td><td>Nissan GT-R. Sick.</td><td>1</td><td>437</td><td>https://i.pinimg.com/originals/0d/29/9f/0d299f3df020395aa7ce8387f40fbeed.jpg</td><td>10794</td><td>image</td><td>Ray Uyemura</td><td>Local save in /data/vehicles</td><td>Lowrider,Old Vintage Cars,Antique Cars,Austin Martin,Nissan Gtr Black,Jaguar,1959 Cadillac,Cadillac Ct6,Old School Cars</td><td>TireBuyer</td><td>c4bd2577-a7bb-4409-bb7a-17d5ed7e1cf1</td></tr><tr><td>diy-and-crafts</td><td>No description available Story format</td><td>0</td><td>User Info Error</td><td>Image src error.</td><td>3089</td><td>multi-video(story page format)</td><td>User Info Error</td><td>Local save in /data/diy-and-crafts</td><td>N,o, ,T,a,g,s, ,A,v,a,i,l,a,b,l,e</td><td>No Title Data Available</td><td>88f9227e-88d0-4b1c-b0be-bcfc3028b8e2</td></tr><tr><td>mens-fashion</td><td>No description available Story format</td><td>0</td><td>User Info Error</td><td>Image src error.</td><td>7528</td><td>multi-video(story page format)</td><td>User Info Error</td><td>Local save in /data/mens-fashion</td><td>N,o, ,T,a,g,s, ,A,v,a,i,l,a,b,l,e</td><td>No Title Data Available</td><td>fbe53c66-3442-4773-b19e-d3ec6f54dddf</td></tr><tr><td>mens-fashion</td><td>No description available Story format</td><td>0</td><td>User Info Error</td><td>Image src error.</td><td>7528</td><td>multi-video(story page format)</td><td>User Info Error</td><td>Local save in /data/mens-fashion</td><td>N,o, ,T,a,g,s, ,A,v,a,i,l,a,b,l,e</td><td>No Title Data Available</td><td>fbe53c66-3442-4773-b19e-d3ec6f54dddf</td></tr></tbody></table></div>"
      ]
     },
     "metadata": {
      "application/vnd.databricks.v1+output": {
       "addedWidgets": {},
       "aggData": [],
       "aggError": "",
       "aggOverflow": false,
       "aggSchema": [],
       "aggSeriesLimitReached": false,
       "aggType": "",
       "arguments": {},
       "columnCustomDisplayInfos": {},
       "data": [
        [
         "travel",
         "This Costa Rica itinerary is the ultimate guide to spending two weeks in Costa Rica. Find out about visiting La Fortuna, Arenal, Monteverde, Naranjo, Corcovado National Park, Or… ",
         1,
         "10k",
         "https://i.pinimg.com/originals/30/93/cb/3093cb01d9de2d125fda8ba5e3e41946.jpg",
         10138,
         "image",
         "Wanderlust Chloe ✈️ Travel guides, inspo and adventure travel ✈️",
         "Local save in /data/travel",
         "Costa Rica Travel,Rio Celeste Costa Rica,Dream Vacations,Vacation Spots,Vacation Travel,Travel Pictures,Travel Photos,Fortuna Costa Rica,Costa Rica Pictures",
         "14 Amazing Things To Do In Costa Rica | Volcanoes, Waterfalls, Wildlife And More",
         "927c4658-cc3f-4b92-9b5c-70743d0c238d"
        ],
        [
         "diy-and-crafts",
         "This post may contain affiliate links, read our Disclosure Policy for more information. As an Amazon Associate I earn from qualifying purchases, thank you! Make some cute handpr… ",
         1,
         "892k",
         "https://i.pinimg.com/originals/ff/fe/38/fffe384f3ec18a0d87cb2d80cc8c1499.jpg",
         3156,
         "image",
         "Michelle {CraftyMorning.com}",
         "Local save in /data/diy-and-crafts",
         "Christmas Gifts For Parents,Christmas Decorations For Kids,Christmas Crafts For Toddlers,Preschool Christmas,Christmas Crafts For Gifts,Christmas Activities,Toddler Crafts,Kids Christmas,Christmas Feeling",
         "Handprint Reindeer Ornaments - Crafty Morning",
         "fa6e31a4-18c2-4eca-a6d8-e903eee2c2a4"
        ],
        [
         "finance",
         "Der #Vermögensaufbau mit #Dividenden ist bereits mit 1.000 Euro möglich. Ja genau! Investieren ist nicht nur für Reiche etwas, sondern jeder kann mit bescheidenden Mitteln start… ",
         1,
         "3k",
         "https://i.pinimg.com/originals/03/79/d1/0379d1df3ef5a5a492573c19205257db.jpg",
         5395,
         "image",
         "DIVDepot – Geld sparen & verdienen | Mindset | Dividend Investing",
         "Local save in /data/finance",
         "Money Saving Challenge,Saving Money,Make Money Online,How To Make Money,Dividend Investing,Budget Planer,Discipline,Bulletins,Budgeting Finances",
         "So startest du mit 1.000 Euro den Vermögensaufbau mit Dividenden - DIVDepot",
         "71f72304-3708-45fb-8867-7c08995b10d2"
        ],
        [
         "finance",
         "If you love budgeting, make sure to give Dave Ramsey's 7 Baby Steps a try. Follow these steps to begin your debt snowball, build an emergency fund, invest and reach riches. I ca… ",
         1,
         "26k",
         "https://i.pinimg.com/originals/1e/9d/90/1e9d906e4e150e3b95187f3b76ea7c71.png",
         5494,
         "image",
         "Living Low Key | Save Money, Make Money, & Frugal Living",
         "Local save in /data/finance",
         "Financial Peace,Financial Tips,Saving Money Quotes,Total Money Makeover,Budgeting Finances,Money Management,Wealth Management,Personal Finance,Making Ideas",
         "Dave Ramsey's 7 Baby Steps: What Are They And Will They Work For You",
         "8fb2af68-543b-4639-8119-de33d28706ed"
        ],
        [
         "christmas",
         "Here are the best DIY Christmas Centerpieces ideas perfect for your Christmas & holiday season home decor. From Christmas Vignettes to Table Centerpieces.",
         1,
         "500k",
         "https://i.pinimg.com/originals/aa/6d/0f/aa6d0f44d7c1c96b998cb9aa6c4446b8.png",
         2418,
         "image",
         "HikenDip",
         "Local save in /data/christmas",
         "Farmhouse Christmas Decor,Rustic Christmas,Christmas Time,Vintage Christmas,Xmas,Primitive Christmas Crafts,Christmas Vignette,Indoor Christmas Decorations,Diy Christmas Ornaments",
         "100 DIY Christmas Centerpieces You'll Love To Decorate Your Home With For The Christmas Season - Hike n Dip",
         "da8745a6-5160-46c4-877d-181d50a729fd"
        ],
        [
         "beauty",
         "[PaidLink] It's made with clarifying black clay and useless sea mud-plus natural almond and avocado oils to help moisturize and soothe your skin, while absorbing excess oils. An… ",
         1,
         "22",
         "https://i.pinimg.com/originals/ff/09/71/ff097153a9d3fe3c9142c3cd7e9ed8d7.png",
         1611,
         "image",
         "Hair Accessories",
         "Local save in /data/beauty",
         "Natural Beauty Tips,Health And Beauty Tips,Health Tips,Beauty Guide,Beauty Secrets,Natural Beauty Remedies,Skin Secrets,Natural Cures,Health Benefits",
         "Over The Years, People Have Turn Into More Aware Of What's Inside Their Products And Have Begun T...",
         "051e231c-7509-4379-9b9b-352883d63b8c"
        ],
        [
         "education",
         "Tired of Google Classroom - need something a bit different? Try making your own Digital Interactive Classroom to give your students information and assignments. Easy to do with… ",
         1,
         "9k",
         "https://i.pinimg.com/originals/37/ae/9e/37ae9e2f387a2de13ab0577472637140.png",
         3813,
         "image",
         "Science of Curiosity",
         "Local save in /data/education",
         "Google Classroom,Classroom Ideas,Flipped Classroom,Teaching Technology,Technology Integration,Medical Technology,Energy Technology,Technology Gadgets,Student Information",
         "Fun Interactive Digital Classroom - Make your Own with Google Slides!",
         "49f7dfe7-2e5a-403c-99a3-8f16ff4e7975"
        ],
        [
         "quotes",
         "summcoco gives you inspiration for the women fashion trends you want. Thinking about a new look or lifestyle? This is your ultimate resource to get the hottest trends. 45 Top Li… ",
         1,
         "306k",
         "https://i.pinimg.com/originals/bb/c0/e6/bbc0e6a797079505f11ac12bcb0b8c66.jpg",
         7922,
         "image",
         "Sumcoco | Decor Ideas, Hairstyles, Nails Fashion Advice",
         "Local save in /data/quotes",
         "Life Quotes Love,Inspirational Quotes About Love,Mood Quotes,Motivational Quotes,Tears Quotes,Quotes About Sadness,Deep Quotes About Life,Quotes Quotes,Quote Life",
         "45 Top Life Quotes School Did Not Teach You",
         "a584581c-1b38-4731-a1cc-f36115ecf229"
        ],
        [
         "christmas",
         "Connecticut life and style blogger Lauren McBride shares a white and gold Christmas tablescape featuring a mix of faux greenery, metallics, and antique touches. #tablescape #hol… ",
         1,
         "84k",
         "https://i.pinimg.com/originals/e7/29/2f/e7292f9ae03d5b2d2eaf4ec9643377ae.jpg",
         1643,
         "image",
         "Lauren McBride",
         "Local save in /data/christmas",
         "Christmas Dining Table,Christmas Table Settings,Farmhouse Christmas Decor,Rustic Christmas,Simple Christmas,Beautiful Christmas,Modern Christmas,Coastal Christmas,Christmas Mantles",
         "White and Gold Christmas Tablescape - Lauren McBride",
         "41be1bcd-1ead-4767-87d0-30c1036c6609"
        ],
        [
         "finance",
         "Buying your first car is a big step and brings added responsibilities. Are you prepared to handle it? Before buying your first car, do these 9 things first!",
         1,
         "223",
         "https://i.pinimg.com/originals/16/11/4d/16114d53dc0d5947cc8e74281bb77844.jpg",
         5091,
         "image",
         "Edwin | Cash The Checks | Find Your Perfect Side Hustle",
         "Local save in /data/finance",
         "Paying Off Car Loan,Paying Off Mortgage Faster,Pay Off Mortgage Early,Mortgage Tips,Mortgage Payment,Mortgage Rates,Mortgage Companies,Investment Companies,Ways To Save Money",
         "Buying Your First Car? Do These 9 Things First",
         "43459535-64e9-48af-b1ab-26d4bb03e717"
        ],
        [
         "travel",
         "Are you traveling to Paris during the summer? Find out what to do in Paris, France during the summer. Fun summertime activities in Paris. Enjoy the incredible outdoors when trav… ",
         1,
         "3k",
         "https://i.pinimg.com/originals/6c/4c/90/6c4c90bba27ebf8c8bfe4c1acfb9f07a.jpg",
         9979,
         "image",
         "Petite in Paris",
         "Local save in /data/travel",
         "Torre Eiffel Paris,Tour Eiffel,Picnic In Paris,Hello France,Voyage Europe,Destination Voyage,Beautiful Places To Travel,Travel Aesthetic,Paris Travel",
         "Paris in the Summer. 10 fun things to do in Paris in the Summertime • Petite in Paris",
         "2b2abc85-fc51-481f-8ae6-17681993da28"
        ],
        [
         "diy-and-crafts",
         "This ghost craft is a super simple Halloween craft for preschoolers or toddlers using supplies you probably have on hand. Free ghost template included!",
         1,
         "56k",
         "https://i.pinimg.com/videos/thumbnails/originals/13/ab/8c/13ab8c6b80b96d46fa6abd9cbb9a5c9e.0000001.jpg",
         3032,
         "video",
         "Thriving Home",
         "Local save in /data/diy-and-crafts",
         "Halloween Arts And Crafts,Halloween Crafts For Toddlers,Halloween Crafts For Kids,Simple Halloween Decorations,Halloween Craft Activities,Halloween Templates,Halloween Ghosts,Halloween Party,Cute Kids Crafts",
         "Puffy Ghost Craft",
         "208b07bc-e042-4e84-8855-97905f691848"
        ],
        [
         "mens-fashion",
         "It's safe to assume that most men have a couple pairs of jeans, some T-shirts, a sweatshirt or two, and maybe a few button-down shirts in their wardrobe. If you don't have those… ",
         1,
         "383k",
         "https://i.pinimg.com/originals/3a/e3/96/3ae396b278c99427fcdaaa2046ea26f8.jpg",
         6809,
         "image",
         "Suburban Men",
         "Local save in /data/mens-fashion",
         "Business Casual Dresses,Business Casual Outfits,Mens Business Casual Jeans,Dress Casual,Sports Coat And Jeans,Casual Sport Coats,Mens Sport Coat,Stylish Men,Men Casual",
         "It's Time to Ditch the Hoodie (23 Photos) - Suburban Men",
         "f8ca698f-abfc-4b62-87dd-72a4814f9d63"
        ],
        [
         "education",
         "Amazon is a teacher's best friend! Each year my list of must haves for the classroom grows so I'm here to share more of my Amazon classroom finds!",
         1,
         "41k",
         "https://i.pinimg.com/originals/b5/62/94/b56294ab72f395727ae5d28b073ae6cc.jpg",
         3644,
         "image",
         "Teach Create Motivate",
         "Local save in /data/education",
         "Classroom Hacks,5th Grade Classroom,Middle School Classroom,New Classroom,Math Classroom Decorations,Highschool Classroom Decor,Classroom Supplies,English Teacher Classroom,Classroom Libraries",
         "More Amazon Must Haves for Your Classroom - Teach Create Motivate",
         "cde2b4e2-7711-4a85-970a-9e51481b386b"
        ],
        [
         "home-decor",
         "Believe it or not, there are many affordable farmhouse decor on Amazon. Here's a quick list of 25 items all under $25 that will boost your home decor!",
         1,
         "31k",
         "https://i.pinimg.com/originals/13/3d/e6/133de6c7dcd8d410a4146b273c578bad.jpg",
         6575,
         "image",
         "Maria Louise Design",
         "Local save in /data/home-decor",
         "Farmhouse Remodel,Farmhouse Style Kitchen,Country Farmhouse Decor,Modern Farmhouse Kitchens,Farmhouse Design,Rustic Decor,Farmhouse Decor Amazon,Amazon Home Decor,Modern Decor",
         "Affordable Farmhouse Decor on Amazon for Under $25 • Maria Louise Design",
         "15c45907-657e-4395-a085-cb29b5cab361"
        ],
        [
         "home-decor",
         "Holiday mantle decor, Christmas decor, metallic mercury glass style Christmas trees, eucalyptus vine, evergreen pine branches, white neutral holiday decor, cozy mantle for the h… ",
         1,
         "83k",
         "https://i.pinimg.com/originals/9d/82/1a/9d821a80acd8f90c16454e978bd9b115.jpg",
         6145,
         "image",
         "Stylin by Aylin",
         "Local save in /data/home-decor",
         "Winter Home Decor,Christmas Living Room Decor,Living Room Decor Cozy,Christmas Decor,Cozy Fireplace,Rustic Fireplace Decor,Fireplace Decorations,Rustic Room,House Decorations",
         "HOLIDAY MANTLE DECOR - @AMAZON & @TARGET FINDS",
         "82e13a07-db99-43a3-b1c0-89a4b75821da"
        ],
        [
         "home-decor",
         "Holiday mantle decor, Christmas decor, metallic mercury glass style Christmas trees, eucalyptus vine, evergreen pine branches, white neutral holiday decor, cozy mantle for the h… ",
         1,
         "83k",
         "https://i.pinimg.com/originals/9d/82/1a/9d821a80acd8f90c16454e978bd9b115.jpg",
         6145,
         "image",
         "Stylin by Aylin",
         "Local save in /data/home-decor",
         "Winter Home Decor,Christmas Living Room Decor,Living Room Decor Cozy,Christmas Decor,Cozy Fireplace,Rustic Fireplace Decor,Fireplace Decorations,Rustic Room,House Decorations",
         "HOLIDAY MANTLE DECOR - @AMAZON & @TARGET FINDS",
         "82e13a07-db99-43a3-b1c0-89a4b75821da"
        ],
        [
         "art",
         "Mexican artist Enrique Bernal has found a magical way to illuminate his beautiful pencil drawings with life. Check his unique glowing art in this article!",
         1,
         "2M",
         "https://i.pinimg.com/originals/0c/37/fa/0c37fab39da6ded220c3f9ccac8d117c.jpg",
         4,
         "image",
         "Bored Panda",
         "Local save in /data/art",
         "Girl Drawing Sketches,Art Drawings Sketches Simple,Pencil Art Drawings,Realistic Drawings,Cool Drawings,Drawing Ideas,Panda Drawing,Disney Drawings,Pencil Drawing Inspiration",
         "Mexican Artist Uses Unique Technique To Make His Drawings Glow, And The Result Is Mesmerizing",
         "55abcd28-bda1-4453-bbcd-1427fb3aa49b"
        ],
        [
         "education",
         "Podcasts for Teachers or Parents of Teenagers: Teaching teens middle school and high school can feel joyful and rewarding most days, but can also frustrate you with one challeng… ",
         1,
         "25k",
         "https://i.pinimg.com/originals/50/19/31/501931a27ee4d076658980851b995b2c.jpg",
         4315,
         "image",
         "Math Giraffe",
         "Local save in /data/education",
         "Middle School Classroom,High School Students,High School Teachers,Middle School Tips,High School Counseling,Ela Classroom,High School Science,Future Classroom,Google Classroom",
         "Podcasts for Teachers or Parents of Teenagers",
         "21b59ba9-829d-4c33-8c27-4cd4c56d26b8"
        ],
        [
         "event-planning",
         "Sacramento California Wedding 2 Chic Events & Design Jodi Yorston Photography Wilson Vineyards Barn Miosa Couture Yellow Barn Vineyard Outdoor Candles DIY",
         1,
         "6M",
         "https://i.pinimg.com/originals/7e/45/90/7e45905fefa36347e83333fd6d091140.jpg",
         5069,
         "image",
         "Style Me Pretty",
         "Local save in /data/event-planning",
         "60th Anniversary Parties,Anniversary Decorations,Golden Anniversary,25th Wedding Anniversary,Anniversary Pictures,Anniversary Ideas,Birthday Decorations,Event Planning Design,Event Design",
         "The Vault: Curated & Refined Wedding Inspiration",
         "b75b6f87-deb3-444f-b29e-ce9161b2df49"
        ],
        [
         "mens-fashion",
         "Black And Brown Outfits You Need To Try This Fall Season. The trick with black and brown outfits is to know how to combine colors, fabrics, and shapes to get a cohesive look. So… ",
         1,
         "1M",
         "https://i.pinimg.com/originals/3e/49/09/3e4909c0ccc4dbba3cad83d97eab4a61.png",
         7343,
         "image",
         "Cultura Colectiva",
         "Local save in /data/mens-fashion",
         "Winter Outfits Men,Stylish Mens Outfits,Casual Outfits,Men Casual,Smart Casual,Outfits For Men,Fall Outfits,Mens Winter Boots,Business Casual Men",
         "This Fashion Rule Is Nonsense, And We Should All Forget About It",
         "b8c63a95-6fe8-4d7f-9455-1eef3462fee0"
        ],
        [
         "event-planning",
         "An event planning checklist is designed to walk you through the various stages of an event. Download, or print, event and party planning checklists here.",
         1,
         "3k",
         "https://i.pinimg.com/originals/e3/a1/fb/e3a1fb58e6093518398987cba6b07c5e.png",
         4949,
         "image",
         "Master The Event",
         "Local save in /data/event-planning",
         "Party Planning Checklist,Event Planning Quotes,Planning Budget,Event Planning Business,Wedding Planning Checklist,Holiday Checklist,Business Events,Business Advice,Event Ideas",
         "How an Event Planning Checklist Makes You a Better Planner",
         "595defc9-5755-4816-bf4c-916ef2b9dcbc"
        ],
        [
         "quotes",
         "There are so many different ways for soulmates to say, 'I love you' there's no reason to stop there, so here are the 100 best romantic love quotes for kindred spirits to share w… ",
         1,
         "942k",
         "https://i.pinimg.com/originals/21/ef/bc/21efbc2dbfe6e2c1291a1599cd6b1683.jpg",
         8237,
         "image",
         "YourTango",
         "Local save in /data/quotes",
         "Missing You Quotes,Love Me Quotes,Love Yourself Quotes,Love Poems,Quotes For Him,Great Quotes,Quotes To Live By,Inspirational Quotes,Miss You Grandpa Quotes",
         "115 Beautiful Soulmate Love Quotes To Share With Your Kindred Spirit",
         "2949a0ca-b4fb-43b5-a1bc-e15c7b534637"
        ],
        [
         "home-decor",
         "Beautiful and easy ways to update every room in your home with fall decor. Plus, my favorite finds in fall decor for 2020!",
         1,
         "92k",
         "https://i.pinimg.com/originals/e5/ae/dc/e5aedc14ce557e3a69f672e0f8c88f6e.png",
         6063,
         "image",
         "Kristen | Lifestyle, Mom Tips & Teacher Stuff Blog",
         "Local save in /data/home-decor",
         "Fall Home Decor,Autumn Home,Fall Decor Outdoor,Front Porch Fall Decor,Home Decor Ideas,Porch Ideas For Fall,Fall Outdoor Decorating,Decorating Ideas For Fall,Fall Front Doors",
         "41 Gorgeous Fall Decor Ideas For Your Home - Chaylor & Mads",
         "60693727-4927-4bd6-a8c5-096a392d63e6"
        ],
        [
         "art",
         "Study the art of Hokusai in this elementary art curriculum designed to combine the elements of art, art history, and fun, hands on projects!",
         1,
         "221k",
         "https://i.pinimg.com/originals/2c/65/c0/2c65c0694d0f5e4eb8fddcf8aff99321.png",
         857,
         "image",
         "The Kitchen Table Classroom",
         "Local save in /data/art",
         "Art History Lessons,Art Lessons For Kids,History Projects,Curriculum Design,Art Curriculum,High School Art,Middle School Art,Documents D'art,Programme D'art",
         "The Artists and the Elements- An Elementary Art Curriculum - The Kitchen Table Classroom",
         "445d2f86-1625-4e97-be3c-92474181d6f3"
        ],
        [
         "travel",
         "On our Calgary to Vancouver road trip we got to spend time in Banff, Canada. We visited the stunning Lake Moraine as well as Lake Louise and plenty of other of Canada's natural… ",
         1,
         "7k",
         "https://i.pinimg.com/videos/thumbnails/originals/57/9d/52/579d52242ae5609978c754d393e44e81.0000001.jpg",
         9672,
         "video",
         "Travel Mad Mum",
         "Local save in /data/travel",
         "Beautiful Places To Travel,Cool Places To Visit,Beautiful Roads,Beautiful Scenery,Wonderful Places,Lac Moraine,Moraine Lake,Lac Louise,Natur Wallpaper",
         "Lake Moraine, Banff, Canada",
         "1a5050a4-ac82-472c-aeff-3457de8bbee9"
        ],
        [
         "tattoos",
         "Hi everyone! My last small tattoo ideas post was really popular on Pinterest, so I decided to put together this post with even more tiny tattoo ideas. Just like the other post,… ",
         1,
         "17k",
         "https://i.pinimg.com/originals/b5/72/b5/b572b5641d4efd2e9a13de2506b9e721.png",
         9014,
         "image",
         "Sarah Wahl | Crestfox",
         "Local save in /data/tattoos",
         "Little Tattoos,Mini Tattoos,Body Art Tattoos,Sleeve Tattoos,Tatoos,Flower Tattoos,White Tattoos,Arrow Tattoos,Word Tattoos",
         "75 More Small Tattoo Ideas from Playground Tattoo - Crestfox",
         "45c2e92a-5daf-40f3-9732-771c186c0757"
        ],
        [
         "diy-and-crafts",
         "One thing I love about Crafts is how the evolve! These toilet paper rolls are adorable and modern. I love that something as simple as a recycled toilet paper roll can be taken t… ",
         1,
         "502k",
         "https://i.pinimg.com/originals/c6/cd/0d/c6cd0d04da9cfc11566cfd34eeb1f918.jpg",
         2959,
         "image",
         "CraftGossip.com",
         "Local save in /data/diy-and-crafts",
         "Toilet Paper Roll Crafts,Cardboard Crafts,Diy Paper,Paper Crafting,Toilet Paper Rolls,Cardboard Playhouse,Paper Art,Kids Crafts,Toddler Crafts",
         "The Cutest Toilet Paper Crafts",
         "439cac4b-18e8-4aaa-88c5-edb26a701111"
        ],
        [
         "diy-and-crafts",
         "One thing I love about Crafts is how the evolve! These toilet paper rolls are adorable and modern. I love that something as simple as a recycled toilet paper roll can be taken t… ",
         1,
         "502k",
         "https://i.pinimg.com/originals/c6/cd/0d/c6cd0d04da9cfc11566cfd34eeb1f918.jpg",
         2959,
         "image",
         "CraftGossip.com",
         "Local save in /data/diy-and-crafts",
         "Toilet Paper Roll Crafts,Cardboard Crafts,Diy Paper,Paper Crafting,Toilet Paper Rolls,Cardboard Playhouse,Paper Art,Kids Crafts,Toddler Crafts",
         "The Cutest Toilet Paper Crafts",
         "439cac4b-18e8-4aaa-88c5-edb26a701111"
        ],
        [
         "mens-fashion",
         "Macho Moda: Blog de Moda Masculina - Dicas de Estilo Masculino, Tendências, Produtos para Homens, Serviços e tudo relacionado a esse Universo",
         1,
         "620k",
         "https://i.pinimg.com/originals/a9/13/70/a913704e90568f5bbedaa6a866b9c4c0.png",
         7467,
         "image",
         "Macho Moda",
         "Local save in /data/mens-fashion",
         "Best Mens Fashion,Mens Fashion Suits,Mens Suits,Men's Fashion,Fashion Boots,Classy Fashion,Runway Fashion,Fashion Guide,Fashion Ideas",
         "5 TRUQUES REAIS para usar ROUPAS BÁSICAS com MUITO ESTILO! Estilo Básico Masculino",
         "21ea7e2b-9f40-4039-9ba1-2a8c5b2b5b82"
        ],
        [
         "travel",
         "This Montana trip takes you through through big and small towns that have a western charm that adds uniqueness to your trip. Here are the top spots to go!",
         1,
         "4k",
         "https://i.pinimg.com/originals/0c/a4/4e/0ca44eefe5f74512e8e1e8b80491f05d.png",
         9550,
         "image",
         "Visit USA Parks | Travel Blog & Inspiration",
         "Local save in /data/travel",
         "Road Trip Map,Visit Usa,Vacation Trips,Vacations,Summer Travel,Travel Usa,Trip Planning,National Parks,Scenic Photography",
         "The Best Trip to Montana and the National Parks - Visit USA Parks",
         "ccd4eee1-97d3-4c3b-9b62-ae71641effcd"
        ],
        [
         "beauty",
         "Versatile & beautiful, wispy bangs look great on just about anyone! Check out these pictures, our How To advice & tips to get your own wispy bangs.",
         1,
         "627k",
         "https://i.pinimg.com/originals/de/e1/4f/dee14fcd517247c66ede1a1c5b8dbfe9.jpg",
         1514,
         "image",
         "Latest Hairstyles",
         "Local save in /data/beauty",
         "How To Cut Bangs,How To Style Bangs,Cut Side Bangs,Latest Hairstyles,Cute Hairstyles,Elegant Hairstyles,Long Hairstyles With Bangs,Wedding Hairstyles,Braided Hairstyles",
         "28 Sexiest Wispy Bangs You Need to Try This Year",
         "dc794d53-c1bf-4501-9891-07bae6185b54"
        ],
        [
         "travel",
         "35 European bucket list destinations for any traveler heading to Europe. From Cinque Terre, Italy to Iceland - there are so many amazing sites to see in Europe.",
         1,
         "28k",
         "https://i.pinimg.com/originals/71/04/1a/71041ad83ede43d9665741e719c58a86.jpg",
         9875,
         "image",
         "Nicki ",
         "Local save in /data/travel",
         "Backpacking Europe,Europe Travel Guide,Travel Guides,Travel Packing,Traveling Europe,Travelling,Travel Backpack,Budget Travel,2 Week Europe Itinerary",
         "European Bucket List: 35 Things NOT To Miss When Traveling Europe",
         "782dcbad-ff91-40a6-ba60-216efe29adb7"
        ],
        [
         "travel",
         "35 European bucket list destinations for any traveler heading to Europe. From Cinque Terre, Italy to Iceland - there are so many amazing sites to see in Europe.",
         1,
         "28k",
         "https://i.pinimg.com/originals/71/04/1a/71041ad83ede43d9665741e719c58a86.jpg",
         9875,
         "image",
         "Nicki ",
         "Local save in /data/travel",
         "Backpacking Europe,Europe Travel Guide,Travel Guides,Travel Packing,Traveling Europe,Travelling,Travel Backpack,Budget Travel,2 Week Europe Itinerary",
         "European Bucket List: 35 Things NOT To Miss When Traveling Europe",
         "782dcbad-ff91-40a6-ba60-216efe29adb7"
        ],
        [
         "art",
         "Fashion designer Issac Mizrahi’s Greenwich Village home is an amalgamation of three apartments that was 20 years in the making",
         1,
         "3M",
         "https://i.pinimg.com/originals/f4/6c/54/f46c546a2e480022a42d842b7dca157e.jpg",
         428,
         "image",
         "Architectural Digest",
         "Local save in /data/art",
         "Modern Art,Contemporary Art,Contemporary Kitchens,Contemporary Bedroom,New York City Apartment,Manhattan Apartment,Art Moderne,Architectural Digest,Painting Inspiration",
         "Fashion Designer Isaac Mizrahi’s Updated 1930s New York City Apartment",
         "610b3f83-9fe0-469d-946c-d16b577fca71"
        ],
        [
         "vehicles",
         "Looking for the Aston Martin DB5 (1963 - 1965) of your dreams? There are currently 20 Aston Martin DB5 (1963 - 1965) cars as well as thousands of other iconic classic and collec… ",
         1,
         "27k",
         "https://i.pinimg.com/originals/0a/b9/35/0ab935e261e2a016384a804ca99ec6c8.jpg",
         10883,
         "image",
         "Classic Driver",
         "Local save in /data/vehicles",
         "Aston Martin Db5,Classic Aston Martin,Jaguar,Bristol,Bond Cars,Classic Car Restoration,British Sports Cars,Automobile,Classic Sports Cars",
         "Aston Martin DB5 (1963 - 1965) for sale",
         "8747b75c-8020-4861-af88-9aabe55d1b6f"
        ],
        [
         "travel",
         "Dreaming of traveling world? Saving for such a trip ain't easy, so instead, here's how I created a career out of travel and how I make money while traveling",
         1,
         "9k",
         "https://i.pinimg.com/originals/04/d6/bc/04d6bca89a3c9f26c259a5de0f6ca0a1.jpg",
         10137,
         "image",
         "No Hurry To Get Home",
         "Local save in /data/travel",
         "Make Money Traveling,Travel Money,Solo Travel,Disney Travel,Time Travel,Travel Store,Travel Advice,Travel Tips,Travel Destinations",
         "How I Make Money While Traveling: Steps I Took to Live a Life of Travel",
         "1ffce594-6159-47f3-8f96-53ceb21b72af"
        ],
        [
         "diy-and-crafts",
         "HELPFUL RESOURCES – Check out my resin colorants resources page here with links to all the products mentioned in this article (and more). Let me know if you have any that you lo… ",
         1,
         "6k",
         "https://i.pinimg.com/originals/d4/12/78/d4127833023ca32600571ddca16f1556.jpg",
         3454,
         "image",
         "Mixed Media Crafts",
         "Local save in /data/diy-and-crafts",
         "Epoxy Resin Art,Diy Resin Art,Diy Resin Crafts,Resin Molds,Ice Resin,Resin Pour,Diy Epoxy,Diy Resin Painting,Diy Resin Dice",
         "What can you use to color resin?",
         "46bd3f86-b09d-4e29-9033-7ff2df595e51"
        ],
        [
         "finance",
         "Description Coupon Organizer in a fun colorful fabric -island oasis, Great Size for the \"basic\" couponer - holds up to 500 coupons with ease, and is made long enough so that you… ",
         1,
         "0",
         "https://i.pinimg.com/originals/65/bb/ea/65bbeaf458907bb079317d8303c4fa0e.jpg",
         5730,
         "image",
         "Consuelo Aguirre",
         "Local save in /data/finance",
         "Grocery Items,Grocery Coupons,Care Organization,Coupon Organization,Extreme Couponing,Couponing 101,Life Binder,Save My Money,Love Coupons",
         "Island Oasis Coupon Organizer",
         "1e1f0c8b-9fcf-460b-9154-c775827206eb"
        ],
        [
         "art",
         "Top interior design blogger, Never Skip Brunch, shares her step by step tutorial to make your own Shower Curtain Art for cheap. Click here now for more!!",
         1,
         "26k",
         "https://i.pinimg.com/originals/3c/b7/94/3cb7947e405a91e17e14b9e3a5466b2d.jpg",
         91,
         "image",
         "CARA NEWHART [never skip brunch]",
         "Local save in /data/art",
         "Art Diy,Diy Wall Art,Large Wall Art,Wall Art Decor,Wall Of Art,Art For Walls,Large Art Prints,Artwork Wall,Cool Wall Art",
         "Shower Curtain Art Tutorial | NEVER SKIP BRUNCH by Cara Newhart",
         "ca91fe99-d9a9-4d59-9d0d-87e32d1c692f"
        ],
        [
         "christmas",
         "20 Christmas Decorating Ideas We Bet You Haven't Thought Of via @PureWow",
         1,
         "868k",
         "https://i.pinimg.com/originals/e9/b9/f0/e9b9f01cc3b2cf41948b45854335396c.jpg",
         2074,
         "image",
         "PureWow",
         "Local save in /data/christmas",
         "Holiday Centerpieces,Xmas Decorations,Centerpiece Ideas,Table Centerpieces,Valentine Decorations,Wedding Centerpieces,Outdoor Decorations,Christmas Centerpieces With Candles,Christmas Dining Table Decorations",
         "35 Christmas Decorating Ideas We Bet You Haven't Thought Of",
         "86ed09a7-842d-496d-9501-010c654eb340"
        ],
        [
         "travel",
         "These Alaska itinerary stops will help you plan the perfect trip to Alaska! From Denali to Seward, this Alaska itinerary covers everything to see and do.",
         1,
         "9k",
         "https://i.pinimg.com/originals/8e/96/40/8e9640b01706fe367f7fb409a720e9d9.jpg",
         10029,
         "image",
         "Linda On The Run",
         "Local save in /data/travel",
         "Alaska Travel,Travel Usa,Travel Tips,Alaska Trip,Cruise Travel,Shopping Travel,Beach Travel,Budget Travel,Travel Ideas",
         "11 Stops To Include On The Perfect Alaska Itinerary",
         "d91ae5c9-6cb7-432a-9d5f-a01f251fa28a"
        ],
        [
         "diy-and-crafts",
         "Keep the kids busy this summer with these easy diy crafts and projects. Creative and…",
         1,
         "124k",
         "https://i.pinimg.com/originals/b3/bc/e2/b3bce2964e8c8975387b39660eed5f16.jpg",
         2863,
         "image",
         "Of Life & Lisa | Lifestyle Blog",
         "Local save in /data/diy-and-crafts",
         "Summer Crafts For Kids,Fun Crafts For Kids,Summer Kids,Toddler Crafts,Crafts To Do,Diy For Kids,Summer Snow,Diys For Summer,Craft Ideas For Girls",
         "25 Super Fun Summer Crafts for Kids - Of Life and Lisa",
         "9bf39437-42a6-4f02-99a0-9a0383d8cd70"
        ],
        [
         "tattoos",
         "We welcome you to our latest collection of Beautiful Tattoo Ideas For Women. Check out and get inspired by the most beautiful design for yourself.",
         1,
         "21k",
         "https://i.pinimg.com/originals/fa/cf/7c/facf7cd752a4bc7c09faaa8925ab80b1.jpg",
         8653,
         "image",
         "ALL FOR WOMAN",
         "Local save in /data/tattoos",
         "Small Back Tattoos,Small Girl Tattoos,Little Tattoos,Tattoo Girls,Mini Tattoos,Tattoo Small,Back Tattoo Women,Tattoo On Back,Girl Back Tattoos",
         "Unique Women Tattoos Ideas 2020",
         "24b1343c-4d86-4705-8ec9-7f1f2df2d77e"
        ],
        [
         "diy-and-crafts",
         "Keep the kids busy this summer with these easy diy crafts and projects. Creative and…",
         1,
         "124k",
         "https://i.pinimg.com/originals/b3/bc/e2/b3bce2964e8c8975387b39660eed5f16.jpg",
         2863,
         "image",
         "Of Life & Lisa | Lifestyle Blog",
         "Local save in /data/diy-and-crafts",
         "Summer Crafts For Kids,Fun Crafts For Kids,Summer Kids,Toddler Crafts,Crafts To Do,Diy For Kids,Summer Snow,Diys For Summer,Craft Ideas For Girls",
         "25 Super Fun Summer Crafts for Kids - Of Life and Lisa",
         "9bf39437-42a6-4f02-99a0-9a0383d8cd70"
        ],
        [
         "diy-and-crafts",
         "A fun space activity for kids. Preshoolers and kindergartners will love making their own alien spacecraft!",
         1,
         "192k",
         "https://i.pinimg.com/originals/6f/e8/aa/6fe8aa405513c6d2f77b5f47d17cdce8.jpg",
         2923,
         "image",
         "The Crafting Chicks",
         "Local save in /data/diy-and-crafts",
         "Paper Plate Crafts For Kids,Fun Crafts For Kids,Summer Crafts,Toddler Crafts,Art For Kids,Outer Space Crafts For Kids,Kid Crafts,Space Kids,Back To School Crafts For Kids",
         "UFO Paper Plate Craft",
         "52fa3af5-24a4-4ccb-8f17-9c3eb12327ee"
        ],
        [
         "beauty",
         "No description available Story format",
         1,
         "157k",
         "https://i.pinimg.com/videos/thumbnails/originals/92/6f/33/926f33779cb5fe0b76ff08e992e8e867.0000001.jpg",
         1170,
         "multi-video(story page format)",
         "miss coco",
         "Local save in /data/beauty",
         "Eye Makeup Steps,Blue Eye Makeup,Skin Makeup,Simple Makeup,Natural Makeup,Concealer,Makeup Tips Foundation,Foundation Shade,Full Coverage Foundation",
         "Best shade makeup foundation for your skin match guide tutorial- beauty tutorial hacks",
         "fafb96e7-e2c6-436b-beac-caf5e3a1cbf5"
        ],
        [
         "christmas",
         "Christmas Elf Stocking With Jingle Bells Red/Green/White Polyester 19\"",
         1,
         "184",
         "https://i.pinimg.com/originals/8a/13/b9/8a13b91655ba13b66633a9d70e6e6e2e.jpg",
         1667,
         "image",
         "The Christmas Ranch",
         "Local save in /data/christmas",
         "Summer Christmas,Christmas Elf,Christmas Ideas,Christmas Decorations,Christmas Sewing,Christmas Crafts For Kids,Christmas Wrapping,Cute Christmas Stockings,Stocking Ideas",
         "Christmas Elf Stocking With Jingle Bells Red/Green/White 19\"",
         "a7ae2cae-c83c-4fac-9e23-45437acea61e"
        ],
        [
         "home-decor",
         "Are you thinking of refreshing your bedroom? Not sure where to start? If you've got something fun and comfortable on",
         1,
         "64k",
         "https://i.pinimg.com/originals/39/e3/fe/39e3fe0a1c77a49892a73b7dce95e54b.jpg",
         6170,
         "image",
         "The Cards We Drew",
         "Local save in /data/home-decor",
         "Cute Bedroom Decor,Small Room Bedroom,Room Ideas Bedroom,Small Rooms,Bohemian Bedroom Decor,Boho Decor,Small Spaces,Bedroom Wall,Bedroom Inspo",
         "Boho Bedroom Decor Ideas",
         "c5ce02d7-6eb1-4e3e-bd19-f98874156474"
        ],
        [
         "tattoos",
         "Koi fish tattoos are a popular choice for men who want to make a statement, thanks to their rich symbolism and bold design.",
         1,
         "211k",
         "https://i.pinimg.com/originals/8a/0c/0a/8a0c0a7b6236565c519acd41ad1a52c0.jpg",
         8731,
         "image",
         "TheTrendSpotter",
         "Local save in /data/tattoos",
         "Dr Tattoo,Wörter Tattoos,Pisces Tattoos,Tatoo Art,Dream Tattoos,Dope Tattoos,Mini Tattoos,Finger Tattoos,Body Art Tattoos",
         "20 Koi Fish Tattoos For Lucky Men",
         "ea760f71-febf-4023-b592-d17396659039"
        ],
        [
         "quotes",
         "#lovequotes #matchmaker #matchmadeinheaven #loveyourself #respectyourself",
         1,
         "51k",
         "https://i.pinimg.com/originals/c6/64/ee/c664ee71524fb5a6e7b7b49233f93b43.png",
         8304,
         "image",
         "Commitment Connection",
         "Local save in /data/quotes",
         "Wise Quotes,Quotable Quotes,Words Quotes,Wise Words,Quotes To Live By,Great Quotes,Motivational Quotes,Inspirational Quotes,Funny Quotes",
         "The #1 Reason You’re Not His Priority Anymore - Matthew Coast",
         "5b6d0913-25e4-43ab-839d-85d5516f78a4"
        ],
        [
         "mens-fashion",
         "imgentleboss: “ - More about men’s fashion at @Gentleboss - GB’s Facebook - ”",
         1,
         "940",
         "https://i.pinimg.com/originals/e7/6e/8e/e76e8ed6cc838b84a934c6948a5caff7.jpg",
         7554,
         "image",
         "iElylike ..✿◕‿◕✿ஐ✿◕‿◕✿",
         "Local save in /data/mens-fashion",
         "Mens Fashion Blog,Look Fashion,Autumn Fashion,Fashion News,Fashion Sale,80s Fashion,Paris Fashion,Runway Fashion,Fashion Trends",
         "Craig Style",
         "c6fa12f4-0d4a-4b07-a335-5bf9f37f8281"
        ],
        [
         "tattoos",
         "Tattoos are one of the most efficient ways through which one decides to express themselves…",
         1,
         "4k",
         "https://i.pinimg.com/originals/ab/8e/50/ab8e505b04d4abc8f23e273c15f8a65d.jpg",
         8887,
         "image",
         "RapidLeaks",
         "Local save in /data/tattoos",
         "Dream Tattoos,Body Art Tattoos,New Tattoos,Small Tattoos,Cross Tattoos,Random Tattoos,Fashion Tattoos,Bird Tattoos,Fitness Tattoos",
         "25 Ultra Sexy Back Tattoo Ideas For Girls",
         "5df9f6e5-07f5-4ce8-a82e-96586bbc05d8"
        ],
        [
         "art",
         "How to Draw Pinocchio (Disney) | Art Lesson (Scheduled via TrafficWonker.com)",
         1,
         "2M",
         "https://i.pinimg.com/originals/fa/ae/a1/faaea189af561a8943b62e89f2dabb00.jpg",
         637,
         "image",
         "wikiHow",
         "Local save in /data/art",
         "Disney Drawings Sketches,Cartoon Sketches,Cute Drawings,Cartoon Art,Drawing Sketches,Disney Character Drawings,Drawing Disney,Disney Characters To Draw,How To Draw Disney",
         "How to Draw Pinocchio",
         "7a04448a-7c86-4450-8809-622747a8a9ad"
        ],
        [
         "education",
         "What Is a Coprolite?: A Coloring Book by the Georgia Mineral Society, Inc.",
         1,
         "2M",
         "https://i.pinimg.com/originals/33/f3/ca/33f3ca221c060bb599fe7ea2c510db22.jpg",
         4249,
         "image",
         "Walmart",
         "Local save in /data/education",
         "Further Education,Earth Science,Coloring Books,Effort,Georgia,Minerals,Learning,Fun,Fossil",
         "What Is a Coprolite? : A Coloring Book by the Georgia Mineral Society, Inc. - Walmart.com",
         "34b433d4-2fb4-47fc-82c2-ff4fd86efe2a"
        ],
        [
         "tattoos",
         "An interesting post from POPSUGAR Beauty. Check it out!",
         1,
         "5M",
         "https://i.pinimg.com/originals/56/cf/fb/56cffbb3ac19457731d590a1b1c2ecff.jpg",
         9270,
         "image",
         "POPSUGAR",
         "Local save in /data/tattoos",
         "Tattoo Girls,Tiny Tattoos For Girls,Small Quote Tattoos,Tattoos For Women Small,Hidden Tattoos,Small Inspirational Tattoos,Inspiring Quote Tattoos,Quote Tattoos Girls,Small Quotes",
         "Self Love Small Tattoo",
         "0c606c76-6a9c-4b32-9f5a-d49a3328c28f"
        ],
        [
         "beauty",
         "Nail Length: 20-26mm (min-max)Quantity: 24pcs/setSize: Coffin",
         1,
         "908",
         "https://i.pinimg.com/originals/f8/44/a8/f844a834c2517cd6d28f8e1dc9a8c72b.jpg",
         1024,
         "image",
         "GorgeChicOfficial",
         "Local save in /data/beauty",
         "Acrylic Nails Coffin Short,Summer Acrylic Nails,Best Acrylic Nails,Coffin Nails,Best Nails,Ballet Nails,Acryl Nails,Cow Nails,Cute Acrylic Nail Designs",
         "mix and match - H-068 ombre pink",
         "9ba271d9-e192-4dc1-92ae-7d7c6395f05c"
        ],
        [
         "beauty",
         "Instantly create the look of lash extensions with this award-winning, best-selling mascara that won't clump, flake or smudge. Available in 3 shades!",
         1,
         "43k",
         "https://i.pinimg.com/videos/thumbnails/originals/69/84/e2/6984e20f3e262098fa9c0614c3453254.0000001.jpg",
         1313,
         "video",
         "Thrive Causemetics",
         "Local save in /data/beauty",
         "N,o, ,T,a,g,s, ,A,v,a,i,l,a,b,l,e",
         "Liquid Lash Extensions Mascara",
         "44662045-e891-4821-8a19-ebe7eedd371a"
        ],
        [
         "vehicles",
         "1937 Jaguar SS100 - 2 1/2 Litre Roadster, one of the most sought after pre-war sports cars",
         1,
         "8k",
         "https://i.pinimg.com/originals/26/81/a7/2681a71bd0c8f7fd0ab79c455338a49a.jpg",
         10625,
         "image",
         "hobbyDB",
         "Local save in /data/vehicles",
         "Jaguar Type E,Jaguar Xk,Jaguar Cars,Jaguar Roadster,Jaguar Sport,Retro Cars,Vintage Cars,Antique Cars,British Sports Cars",
         "Jaguar Type E",
         "d31885b7-742a-4e2a-bbb7-ac5f9d334340"
        ],
        [
         "vehicles",
         "1937 Jaguar SS100 - 2 1/2 Litre Roadster, one of the most sought after pre-war sports cars",
         1,
         "8k",
         "https://i.pinimg.com/originals/26/81/a7/2681a71bd0c8f7fd0ab79c455338a49a.jpg",
         10625,
         "image",
         "hobbyDB",
         "Local save in /data/vehicles",
         "Jaguar Type E,Jaguar Xk,Jaguar Cars,Jaguar Roadster,Jaguar Sport,Retro Cars,Vintage Cars,Antique Cars,British Sports Cars",
         "Jaguar Type E",
         "d31885b7-742a-4e2a-bbb7-ac5f9d334340"
        ],
        [
         "vehicles",
         "Land Rover DiscoveryX on Behance",
         1,
         "6M",
         "https://i.pinimg.com/originals/54/52/32/545232ee2010b227c028a90765841519.jpg",
         10321,
         "image",
         "Behance",
         "Local save in /data/vehicles",
         "Car Design Sketch,Car Sketch,Design Cars,Future Concept Cars,Automobile,Best Luxury Cars,Futuristic Cars,Car Wheels,Vw Bus",
         "Land Rover DiscoveryX",
         "212f9748-55bd-44be-bffb-6736ac1a669f"
        ],
        [
         "vehicles",
         "Nissan GT-R. Sick.",
         1,
         "437",
         "https://i.pinimg.com/originals/0d/29/9f/0d299f3df020395aa7ce8387f40fbeed.jpg",
         10794,
         "image",
         "Ray Uyemura",
         "Local save in /data/vehicles",
         "Lowrider,Old Vintage Cars,Antique Cars,Austin Martin,Nissan Gtr Black,Jaguar,1959 Cadillac,Cadillac Ct6,Old School Cars",
         "TireBuyer",
         "c4bd2577-a7bb-4409-bb7a-17d5ed7e1cf1"
        ],
        [
         "diy-and-crafts",
         "No description available Story format",
         0,
         "User Info Error",
         "Image src error.",
         3089,
         "multi-video(story page format)",
         "User Info Error",
         "Local save in /data/diy-and-crafts",
         "N,o, ,T,a,g,s, ,A,v,a,i,l,a,b,l,e",
         "No Title Data Available",
         "88f9227e-88d0-4b1c-b0be-bcfc3028b8e2"
        ],
        [
         "mens-fashion",
         "No description available Story format",
         0,
         "User Info Error",
         "Image src error.",
         7528,
         "multi-video(story page format)",
         "User Info Error",
         "Local save in /data/mens-fashion",
         "N,o, ,T,a,g,s, ,A,v,a,i,l,a,b,l,e",
         "No Title Data Available",
         "fbe53c66-3442-4773-b19e-d3ec6f54dddf"
        ],
        [
         "mens-fashion",
         "No description available Story format",
         0,
         "User Info Error",
         "Image src error.",
         7528,
         "multi-video(story page format)",
         "User Info Error",
         "Local save in /data/mens-fashion",
         "N,o, ,T,a,g,s, ,A,v,a,i,l,a,b,l,e",
         "No Title Data Available",
         "fbe53c66-3442-4773-b19e-d3ec6f54dddf"
        ]
       ],
       "datasetInfos": [],
       "dbfsResultPath": null,
       "isJsonSchema": true,
       "metadata": {},
       "overflow": false,
       "plotOptions": {
        "customPlotOptions": {},
        "displayType": "table",
        "pivotAggregation": null,
        "pivotColumns": null,
        "xColumns": null,
        "yColumns": null
       },
       "removedWidgets": [],
       "schema": [
        {
         "metadata": "{}",
         "name": "category",
         "type": "\"string\""
        },
        {
         "metadata": "{}",
         "name": "description",
         "type": "\"string\""
        },
        {
         "metadata": "{}",
         "name": "downloaded",
         "type": "\"long\""
        },
        {
         "metadata": "{}",
         "name": "follower_count",
         "type": "\"string\""
        },
        {
         "metadata": "{}",
         "name": "image_src",
         "type": "\"string\""
        },
        {
         "metadata": "{}",
         "name": "index",
         "type": "\"long\""
        },
        {
         "metadata": "{}",
         "name": "is_image_or_video",
         "type": "\"string\""
        },
        {
         "metadata": "{}",
         "name": "poster_name",
         "type": "\"string\""
        },
        {
         "metadata": "{}",
         "name": "save_location",
         "type": "\"string\""
        },
        {
         "metadata": "{}",
         "name": "tag_list",
         "type": "\"string\""
        },
        {
         "metadata": "{}",
         "name": "title",
         "type": "\"string\""
        },
        {
         "metadata": "{}",
         "name": "unique_id",
         "type": "\"string\""
        }
       ],
       "type": "table"
      }
     },
     "output_type": "display_data"
    },
    {
     "data": {
      "text/html": [
       "<style scoped>\n",
       "  .table-result-container {\n",
       "    max-height: 300px;\n",
       "    overflow: auto;\n",
       "  }\n",
       "  table, th, td {\n",
       "    border: 1px solid black;\n",
       "    border-collapse: collapse;\n",
       "  }\n",
       "  th, td {\n",
       "    padding: 5px;\n",
       "  }\n",
       "  th {\n",
       "    text-align: left;\n",
       "  }\n",
       "</style><div class='table-result-container'><table class='table-result'><thead style='background-color: white'><tr><th>country</th><th>ind</th><th>latitude</th><th>longitude</th><th>timestamp</th></tr></thead><tbody><tr><td>Antarctica (the territory South of 60 deg S)</td><td>2418</td><td>-88.4642</td><td>-171.061</td><td>2022-05-27 11:30:59</td></tr><tr><td>Bouvet Island (Bouvetoya)</td><td>9270</td><td>-84.3984</td><td>-144.933</td><td>2022-05-23 03:24:24</td></tr><tr><td>Cocos (Keeling) Islands</td><td>10794</td><td>-89.5236</td><td>-154.567</td><td>2022-01-01 02:26:50</td></tr><tr><td>British Virgin Islands</td><td>5395</td><td>-6.93422</td><td>-24.9989</td><td>2020-08-15 19:30:19</td></tr><tr><td>Central African Republic</td><td>2074</td><td>-52.3213</td><td>-50.11</td><td>2019-11-03 05:41:59</td></tr><tr><td>Libyan Arab Jamahiriya</td><td>1170</td><td>56.1198</td><td>20.2963</td><td>2019-08-07 22:17:07</td></tr><tr><td>British Virgin Islands</td><td>9550</td><td>-84.918</td><td>7.23235</td><td>2022-03-23 00:25:45</td></tr><tr><td>Antigua and Barbuda</td><td>7922</td><td>-88.0974</td><td>-172.052</td><td>2021-01-27 09:14:19</td></tr><tr><td>Dominican Republic</td><td>9979</td><td>14.9967</td><td>-120.682</td><td>2018-07-18 19:01:46</td></tr><tr><td>Dominican Republic</td><td>6575</td><td>81.7192</td><td>61.5152</td><td>2020-12-29 22:59:37</td></tr><tr><td>American Samoa</td><td>3032</td><td>-66.7253</td><td>-122.489</td><td>2018-04-14 09:28:18</td></tr><tr><td>American Samoa</td><td>637</td><td>-41.2244</td><td>-158.022</td><td>2018-06-06 01:25:58</td></tr><tr><td>Burkina Faso</td><td>10321</td><td>-89.1005</td><td>-151.255</td><td>2022-10-09 08:06:50</td></tr><tr><td>Cote d'Ivoire</td><td>2923</td><td>-84.6302</td><td>-164.507</td><td>2019-09-08 22:53:09</td></tr><tr><td>French Guiana</td><td>8304</td><td>-28.8852</td><td>-164.87</td><td>2019-09-13 04:50:29</td></tr><tr><td>Cote d'Ivoire</td><td>4315</td><td>-45.8508</td><td>66.1003</td><td>2019-12-15 03:51:28</td></tr><tr><td>Afghanistan</td><td>4249</td><td>-88.5478</td><td>-174.971</td><td>2021-09-01 11:10:02</td></tr><tr><td>Bangladesh</td><td>6809</td><td>-89.4254</td><td>-161.818</td><td>2020-04-17 13:20:43</td></tr><tr><td>Azerbaijan</td><td>5069</td><td>-63.0063</td><td>-157.474</td><td>2021-03-20 09:32:44</td></tr><tr><td>Mozambique</td><td>6145</td><td>-65.9079</td><td>-143.845</td><td>2019-12-05 02:09:44</td></tr><tr><td>Mozambique</td><td>6145</td><td>-65.9079</td><td>-143.845</td><td>2019-12-05 02:09:44</td></tr><tr><td>Bangladesh</td><td>1667</td><td>-83.448</td><td>-147.771</td><td>2022-02-23 16:10:08</td></tr><tr><td>Bangladesh</td><td>428</td><td>-83.4105</td><td>-150.788</td><td>2020-09-27 18:46:41</td></tr><tr><td>Australia</td><td>7343</td><td>-65.4428</td><td>-161.684</td><td>2018-08-06 12:17:07</td></tr><tr><td>Seychelles</td><td>8653</td><td>48.4569</td><td>-139.658</td><td>2022-04-11 18:30:19</td></tr><tr><td>Saudi Arabia</td><td>5091</td><td>-19.04</td><td>3.5168</td><td>2020-11-07 10:43:32</td></tr><tr><td>Ethiopia</td><td>9014</td><td>-37.2495</td><td>-118.101</td><td>2021-04-20 19:45:15</td></tr><tr><td>Armenia</td><td>10137</td><td>-50.8998</td><td>-112.455</td><td>2021-05-03 17:23:40</td></tr><tr><td>Bulgaria</td><td>5494</td><td>-82.6768</td><td>-129.202</td><td>2021-07-21 02:02:35</td></tr><tr><td>Anguilla</td><td>6063</td><td>-89.1797</td><td>-174.015</td><td>2021-07-20 09:02:47</td></tr><tr><td>Cambodia</td><td>3454</td><td>-0.375174</td><td>49.8106</td><td>2021-07-25 02:20:29</td></tr><tr><td>Jamaica</td><td>10625</td><td>-84.4944</td><td>-81.0613</td><td>2018-07-13 11:51:15</td></tr><tr><td>Barbados</td><td>9875</td><td>-74.3382</td><td>-110.484</td><td>2020-03-20 13:03:18</td></tr><tr><td>Jamaica</td><td>10625</td><td>-84.4944</td><td>-81.0613</td><td>2018-07-13 11:51:15</td></tr><tr><td>Barbados</td><td>9875</td><td>-74.3382</td><td>-110.484</td><td>2020-03-20 13:03:18</td></tr><tr><td>Botswana</td><td>8887</td><td>-28.0137</td><td>-160.708</td><td>2021-09-19 05:27:43</td></tr><tr><td>Burundi</td><td>7467</td><td>-55.3123</td><td>-170.812</td><td>2020-03-04 20:03:07</td></tr><tr><td>Georgia</td><td>3813</td><td>-26.2917</td><td>-29.1171</td><td>2020-06-15 09:37:48</td></tr><tr><td>Algeria</td><td>8237</td><td>-89.5173</td><td>-179.689</td><td>2021-07-08 05:55:06</td></tr><tr><td>Albania</td><td>7528</td><td>-89.9787</td><td>-173.293</td><td>2020-08-28 03:52:47</td></tr><tr><td>Armenia</td><td>2863</td><td>-5.34445</td><td>-177.924</td><td>2020-04-27 13:34:16</td></tr><tr><td>Colombia</td><td>5730</td><td>-77.015</td><td>-101.437</td><td>2021-04-19 17:37:03</td></tr><tr><td>Albania</td><td>3089</td><td>-89.9787</td><td>-173.293</td><td>2018-02-28 05:31:29</td></tr><tr><td>Austria</td><td>10138</td><td>-72.142</td><td>-74.3545</td><td>2019-08-03 00:59:29</td></tr><tr><td>Albania</td><td>7528</td><td>-89.9787</td><td>-173.293</td><td>2020-08-28 03:52:47</td></tr><tr><td>Armenia</td><td>2863</td><td>-5.34445</td><td>-177.924</td><td>2020-04-27 13:34:16</td></tr><tr><td>Aruba</td><td>10029</td><td>-89.8157</td><td>-173.632</td><td>2020-06-17 14:24:19</td></tr><tr><td>Bahamas</td><td>857</td><td>-87.0574</td><td>-164.826</td><td>2021-12-28 23:31:43</td></tr><tr><td>Austria</td><td>4949</td><td>-26.961</td><td>-141.787</td><td>2021-05-08 19:16:52</td></tr><tr><td>Maldives</td><td>1313</td><td>77.0447</td><td>61.9119</td><td>2018-06-26 02:39:25</td></tr><tr><td>Angola</td><td>2959</td><td>-68.0095</td><td>-157.227</td><td>2019-08-19 08:22:02</td></tr><tr><td>Angola</td><td>2959</td><td>-68.0095</td><td>-157.227</td><td>2019-08-19 08:22:02</td></tr><tr><td>Armenia</td><td>3156</td><td>-84.738</td><td>-160.795</td><td>2018-01-13 19:33:49</td></tr><tr><td>Aruba</td><td>10883</td><td>-53.423</td><td>-59.3144</td><td>2020-07-25 13:21:12</td></tr><tr><td>Uganda</td><td>1643</td><td>52.0489</td><td>-63.5087</td><td>2018-08-17 13:25:13</td></tr><tr><td>Uganda</td><td>1611</td><td>15.9313</td><td>-117.052</td><td>2018-04-09 02:43:42</td></tr><tr><td>Congo</td><td>1024</td><td>-35.9989</td><td>-107.383</td><td>2020-03-11 02:37:45</td></tr><tr><td>Sudan</td><td>7554</td><td>-51.2172</td><td>-77.9768</td><td>2019-03-20 03:15:07</td></tr><tr><td>Albania</td><td>4</td><td>-88.8298</td><td>-170.188</td><td>2022-07-07 00:18:41</td></tr><tr><td>Fiji</td><td>3644</td><td>-74.6891</td><td>-179.779</td><td>2021-10-31 17:44:26</td></tr><tr><td>Congo</td><td>6170</td><td>-82.4709</td><td>1.37215</td><td>2020-03-29 23:28:43</td></tr><tr><td>Canada</td><td>91</td><td>-54.5927</td><td>-90.6345</td><td>2021-10-11 12:44:03</td></tr><tr><td>Aruba</td><td>8731</td><td>-83.104</td><td>-171.302</td><td>2020-07-17 04:39:09</td></tr><tr><td>India</td><td>9672</td><td>79.4658</td><td>-69.4133</td><td>2019-11-03 13:15:52</td></tr><tr><td>Korea</td><td>1514</td><td>88.2631</td><td>96.2413</td><td>2022-02-12 20:43:15</td></tr></tbody></table></div>"
      ]
     },
     "metadata": {
      "application/vnd.databricks.v1+output": {
       "addedWidgets": {},
       "aggData": [],
       "aggError": "",
       "aggOverflow": false,
       "aggSchema": [],
       "aggSeriesLimitReached": false,
       "aggType": "",
       "arguments": {},
       "columnCustomDisplayInfos": {},
       "data": [
        [
         "Antarctica (the territory South of 60 deg S)",
         2418,
         -88.4642,
         -171.061,
         "2022-05-27 11:30:59"
        ],
        [
         "Bouvet Island (Bouvetoya)",
         9270,
         -84.3984,
         -144.933,
         "2022-05-23 03:24:24"
        ],
        [
         "Cocos (Keeling) Islands",
         10794,
         -89.5236,
         -154.567,
         "2022-01-01 02:26:50"
        ],
        [
         "British Virgin Islands",
         5395,
         -6.93422,
         -24.9989,
         "2020-08-15 19:30:19"
        ],
        [
         "Central African Republic",
         2074,
         -52.3213,
         -50.11,
         "2019-11-03 05:41:59"
        ],
        [
         "Libyan Arab Jamahiriya",
         1170,
         56.1198,
         20.2963,
         "2019-08-07 22:17:07"
        ],
        [
         "British Virgin Islands",
         9550,
         -84.918,
         7.23235,
         "2022-03-23 00:25:45"
        ],
        [
         "Antigua and Barbuda",
         7922,
         -88.0974,
         -172.052,
         "2021-01-27 09:14:19"
        ],
        [
         "Dominican Republic",
         9979,
         14.9967,
         -120.682,
         "2018-07-18 19:01:46"
        ],
        [
         "Dominican Republic",
         6575,
         81.7192,
         61.5152,
         "2020-12-29 22:59:37"
        ],
        [
         "American Samoa",
         3032,
         -66.7253,
         -122.489,
         "2018-04-14 09:28:18"
        ],
        [
         "American Samoa",
         637,
         -41.2244,
         -158.022,
         "2018-06-06 01:25:58"
        ],
        [
         "Burkina Faso",
         10321,
         -89.1005,
         -151.255,
         "2022-10-09 08:06:50"
        ],
        [
         "Cote d'Ivoire",
         2923,
         -84.6302,
         -164.507,
         "2019-09-08 22:53:09"
        ],
        [
         "French Guiana",
         8304,
         -28.8852,
         -164.87,
         "2019-09-13 04:50:29"
        ],
        [
         "Cote d'Ivoire",
         4315,
         -45.8508,
         66.1003,
         "2019-12-15 03:51:28"
        ],
        [
         "Afghanistan",
         4249,
         -88.5478,
         -174.971,
         "2021-09-01 11:10:02"
        ],
        [
         "Bangladesh",
         6809,
         -89.4254,
         -161.818,
         "2020-04-17 13:20:43"
        ],
        [
         "Azerbaijan",
         5069,
         -63.0063,
         -157.474,
         "2021-03-20 09:32:44"
        ],
        [
         "Mozambique",
         6145,
         -65.9079,
         -143.845,
         "2019-12-05 02:09:44"
        ],
        [
         "Mozambique",
         6145,
         -65.9079,
         -143.845,
         "2019-12-05 02:09:44"
        ],
        [
         "Bangladesh",
         1667,
         -83.448,
         -147.771,
         "2022-02-23 16:10:08"
        ],
        [
         "Bangladesh",
         428,
         -83.4105,
         -150.788,
         "2020-09-27 18:46:41"
        ],
        [
         "Australia",
         7343,
         -65.4428,
         -161.684,
         "2018-08-06 12:17:07"
        ],
        [
         "Seychelles",
         8653,
         48.4569,
         -139.658,
         "2022-04-11 18:30:19"
        ],
        [
         "Saudi Arabia",
         5091,
         -19.04,
         3.5168,
         "2020-11-07 10:43:32"
        ],
        [
         "Ethiopia",
         9014,
         -37.2495,
         -118.101,
         "2021-04-20 19:45:15"
        ],
        [
         "Armenia",
         10137,
         -50.8998,
         -112.455,
         "2021-05-03 17:23:40"
        ],
        [
         "Bulgaria",
         5494,
         -82.6768,
         -129.202,
         "2021-07-21 02:02:35"
        ],
        [
         "Anguilla",
         6063,
         -89.1797,
         -174.015,
         "2021-07-20 09:02:47"
        ],
        [
         "Cambodia",
         3454,
         -0.375174,
         49.8106,
         "2021-07-25 02:20:29"
        ],
        [
         "Jamaica",
         10625,
         -84.4944,
         -81.0613,
         "2018-07-13 11:51:15"
        ],
        [
         "Barbados",
         9875,
         -74.3382,
         -110.484,
         "2020-03-20 13:03:18"
        ],
        [
         "Jamaica",
         10625,
         -84.4944,
         -81.0613,
         "2018-07-13 11:51:15"
        ],
        [
         "Barbados",
         9875,
         -74.3382,
         -110.484,
         "2020-03-20 13:03:18"
        ],
        [
         "Botswana",
         8887,
         -28.0137,
         -160.708,
         "2021-09-19 05:27:43"
        ],
        [
         "Burundi",
         7467,
         -55.3123,
         -170.812,
         "2020-03-04 20:03:07"
        ],
        [
         "Georgia",
         3813,
         -26.2917,
         -29.1171,
         "2020-06-15 09:37:48"
        ],
        [
         "Algeria",
         8237,
         -89.5173,
         -179.689,
         "2021-07-08 05:55:06"
        ],
        [
         "Albania",
         7528,
         -89.9787,
         -173.293,
         "2020-08-28 03:52:47"
        ],
        [
         "Armenia",
         2863,
         -5.34445,
         -177.924,
         "2020-04-27 13:34:16"
        ],
        [
         "Colombia",
         5730,
         -77.015,
         -101.437,
         "2021-04-19 17:37:03"
        ],
        [
         "Albania",
         3089,
         -89.9787,
         -173.293,
         "2018-02-28 05:31:29"
        ],
        [
         "Austria",
         10138,
         -72.142,
         -74.3545,
         "2019-08-03 00:59:29"
        ],
        [
         "Albania",
         7528,
         -89.9787,
         -173.293,
         "2020-08-28 03:52:47"
        ],
        [
         "Armenia",
         2863,
         -5.34445,
         -177.924,
         "2020-04-27 13:34:16"
        ],
        [
         "Aruba",
         10029,
         -89.8157,
         -173.632,
         "2020-06-17 14:24:19"
        ],
        [
         "Bahamas",
         857,
         -87.0574,
         -164.826,
         "2021-12-28 23:31:43"
        ],
        [
         "Austria",
         4949,
         -26.961,
         -141.787,
         "2021-05-08 19:16:52"
        ],
        [
         "Maldives",
         1313,
         77.0447,
         61.9119,
         "2018-06-26 02:39:25"
        ],
        [
         "Angola",
         2959,
         -68.0095,
         -157.227,
         "2019-08-19 08:22:02"
        ],
        [
         "Angola",
         2959,
         -68.0095,
         -157.227,
         "2019-08-19 08:22:02"
        ],
        [
         "Armenia",
         3156,
         -84.738,
         -160.795,
         "2018-01-13 19:33:49"
        ],
        [
         "Aruba",
         10883,
         -53.423,
         -59.3144,
         "2020-07-25 13:21:12"
        ],
        [
         "Uganda",
         1643,
         52.0489,
         -63.5087,
         "2018-08-17 13:25:13"
        ],
        [
         "Uganda",
         1611,
         15.9313,
         -117.052,
         "2018-04-09 02:43:42"
        ],
        [
         "Congo",
         1024,
         -35.9989,
         -107.383,
         "2020-03-11 02:37:45"
        ],
        [
         "Sudan",
         7554,
         -51.2172,
         -77.9768,
         "2019-03-20 03:15:07"
        ],
        [
         "Albania",
         4,
         -88.8298,
         -170.188,
         "2022-07-07 00:18:41"
        ],
        [
         "Fiji",
         3644,
         -74.6891,
         -179.779,
         "2021-10-31 17:44:26"
        ],
        [
         "Congo",
         6170,
         -82.4709,
         1.37215,
         "2020-03-29 23:28:43"
        ],
        [
         "Canada",
         91,
         -54.5927,
         -90.6345,
         "2021-10-11 12:44:03"
        ],
        [
         "Aruba",
         8731,
         -83.104,
         -171.302,
         "2020-07-17 04:39:09"
        ],
        [
         "India",
         9672,
         79.4658,
         -69.4133,
         "2019-11-03 13:15:52"
        ],
        [
         "Korea",
         1514,
         88.2631,
         96.2413,
         "2022-02-12 20:43:15"
        ]
       ],
       "datasetInfos": [],
       "dbfsResultPath": null,
       "isJsonSchema": true,
       "metadata": {},
       "overflow": false,
       "plotOptions": {
        "customPlotOptions": {},
        "displayType": "table",
        "pivotAggregation": null,
        "pivotColumns": null,
        "xColumns": null,
        "yColumns": null
       },
       "removedWidgets": [],
       "schema": [
        {
         "metadata": "{}",
         "name": "country",
         "type": "\"string\""
        },
        {
         "metadata": "{}",
         "name": "ind",
         "type": "\"long\""
        },
        {
         "metadata": "{}",
         "name": "latitude",
         "type": "\"double\""
        },
        {
         "metadata": "{}",
         "name": "longitude",
         "type": "\"double\""
        },
        {
         "metadata": "{}",
         "name": "timestamp",
         "type": "\"string\""
        }
       ],
       "type": "table"
      }
     },
     "output_type": "display_data"
    },
    {
     "data": {
      "text/html": [
       "<style scoped>\n",
       "  .table-result-container {\n",
       "    max-height: 300px;\n",
       "    overflow: auto;\n",
       "  }\n",
       "  table, th, td {\n",
       "    border: 1px solid black;\n",
       "    border-collapse: collapse;\n",
       "  }\n",
       "  th, td {\n",
       "    padding: 5px;\n",
       "  }\n",
       "  th {\n",
       "    text-align: left;\n",
       "  }\n",
       "</style><div class='table-result-container'><table class='table-result'><thead style='background-color: white'><tr><th>age</th><th>date_joined</th><th>first_name</th><th>ind</th><th>last_name</th></tr></thead><tbody><tr><td>20</td><td>2015-10-23 04:13:23</td><td>Alexandria</td><td>4249</td><td>Alvarado</td></tr><tr><td>21</td><td>2015-11-10 09:27:42</td><td>Andrea</td><td>8731</td><td>Alexander</td></tr><tr><td>21</td><td>2015-11-10 09:27:42</td><td>Andrea</td><td>8731</td><td>Alexander</td></tr><tr><td>21</td><td>2015-11-10 09:27:42</td><td>Andrea</td><td>8731</td><td>Alexander</td></tr><tr><td>34</td><td>2016-01-23 03:59:37</td><td>Daniel</td><td>10137</td><td>Matthews</td></tr><tr><td>21</td><td>2015-11-10 09:27:42</td><td>Andrea</td><td>8731</td><td>Alexander</td></tr><tr><td>24</td><td>2016-03-31 20:56:39</td><td>Austin</td><td>8887</td><td>Rodriguez</td></tr><tr><td>36</td><td>2015-12-20 16:38:13</td><td>Michelle</td><td>4315</td><td>Prince</td></tr><tr><td>32</td><td>2017-10-10 20:09:33</td><td>Christian</td><td>10625</td><td>Lang</td></tr><tr><td>36</td><td>2015-12-20 16:38:13</td><td>Michelle</td><td>4315</td><td>Prince</td></tr><tr><td>40</td><td>2017-06-28 16:17:39</td><td>Michael</td><td>1514</td><td>Perkins</td></tr><tr><td>36</td><td>2015-12-20 16:38:13</td><td>Michelle</td><td>4315</td><td>Prince</td></tr><tr><td>32</td><td>2017-10-10 20:09:33</td><td>Christian</td><td>10625</td><td>Lang</td></tr><tr><td>32</td><td>2017-10-10 20:09:33</td><td>Christian</td><td>10625</td><td>Lang</td></tr><tr><td>22</td><td>2016-02-11 20:46:04</td><td>Jennifer</td><td>9672</td><td>Hudson</td></tr><tr><td>32</td><td>2016-04-02 03:51:23</td><td>Brittany</td><td>1313</td><td>Jones</td></tr><tr><td>32</td><td>2016-04-02 03:51:23</td><td>Brittany</td><td>1313</td><td>Jones</td></tr><tr><td>34</td><td>2016-12-22 00:02:02</td><td>Thomas</td><td>10794</td><td>Turner</td></tr><tr><td>32</td><td>2016-04-02 03:51:23</td><td>Brittany</td><td>1313</td><td>Jones</td></tr><tr><td>34</td><td>2016-12-22 00:02:02</td><td>Thomas</td><td>10794</td><td>Turner</td></tr><tr><td>20</td><td>2015-11-14 19:24:56</td><td>Anthony</td><td>10029</td><td>Baker</td></tr><tr><td>24</td><td>2016-01-03 01:10:04</td><td>Alexis</td><td>637</td><td>Carrillo</td></tr><tr><td>21</td><td>2015-12-12 01:39:29</td><td>Bernard</td><td>1667</td><td>Arnold</td></tr><tr><td>20</td><td>2016-01-21 03:54:20</td><td>Andrea</td><td>6809</td><td>Carroll</td></tr><tr><td>24</td><td>2017-03-24 10:12:14</td><td>Stacey</td><td>1170</td><td>Stewart</td></tr><tr><td>45</td><td>2016-03-18 23:34:56</td><td>Claire</td><td>1643</td><td>Leonard</td></tr><tr><td>32</td><td>2016-04-02 03:51:23</td><td>Brittany</td><td>1313</td><td>Jones</td></tr><tr><td>34</td><td>2016-12-22 00:02:02</td><td>Thomas</td><td>10794</td><td>Turner</td></tr><tr><td>20</td><td>2016-01-07 19:49:22</td><td>David</td><td>2959</td><td>Griffith</td></tr><tr><td>26</td><td>2015-12-20 10:28:00</td><td>Brendan</td><td>9875</td><td>Joseph</td></tr><tr><td>20</td><td>2016-01-07 19:49:22</td><td>David</td><td>2959</td><td>Griffith</td></tr><tr><td>26</td><td>2015-12-20 10:28:00</td><td>Brendan</td><td>9875</td><td>Joseph</td></tr><tr><td>21</td><td>2016-01-03 15:42:12</td><td>Annette</td><td>2074</td><td>Forbes</td></tr><tr><td>25</td><td>2015-12-28 04:21:39</td><td>Charles</td><td>8304</td><td>Berry</td></tr><tr><td>25</td><td>2015-12-28 04:21:39</td><td>Charles</td><td>8304</td><td>Berry</td></tr><tr><td>23</td><td>2015-11-25 13:36:22</td><td>Corey</td><td>6063</td><td>Andrews</td></tr><tr><td>48</td><td>2017-09-26 16:31:56</td><td>Robert</td><td>3454</td><td>Murphy</td></tr><tr><td>20</td><td>2017-04-11 16:35:33</td><td>Cheryl</td><td>7554</td><td>Huerta</td></tr><tr><td>30</td><td>2015-12-25 20:24:37</td><td>Emily</td><td>6145</td><td>Hawkins</td></tr><tr><td>25</td><td>2015-12-28 04:21:39</td><td>Charles</td><td>8304</td><td>Berry</td></tr><tr><td>42</td><td>2016-07-29 00:56:59</td><td>Jordan</td><td>10538</td><td>Grant</td></tr><tr><td>21</td><td>2016-02-02 12:25:05</td><td>Donna</td><td>7467</td><td>Carroll</td></tr><tr><td>25</td><td>2015-11-26 03:43:03</td><td>Carl</td><td>10883</td><td>Hampton</td></tr><tr><td>27</td><td>2017-04-27 09:48:22</td><td>Samantha</td><td>5091</td><td>Hall</td></tr><tr><td>20</td><td>2015-12-12 11:20:08</td><td>Andrea</td><td>10321</td><td>Burke</td></tr><tr><td>40</td><td>2017-03-08 06:03:20</td><td>Erik</td><td>1611</td><td>Martinez</td></tr><tr><td>46</td><td>2016-11-18 10:00:53</td><td>Colin</td><td>4949</td><td>Clayton</td></tr><tr><td>36</td><td>2016-07-31 17:22:08</td><td>Eric</td><td>6170</td><td>Gonzalez</td></tr><tr><td>25</td><td>2015-12-28 04:21:39</td><td>Charles</td><td>8304</td><td>Berry</td></tr><tr><td>23</td><td>2015-11-25 13:36:22</td><td>Corey</td><td>6063</td><td>Andrews</td></tr><tr><td>48</td><td>2017-09-26 16:31:56</td><td>Robert</td><td>3454</td><td>Murphy</td></tr><tr><td>20</td><td>2017-04-11 16:35:33</td><td>Cheryl</td><td>7554</td><td>Huerta</td></tr><tr><td>30</td><td>2015-12-25 20:24:37</td><td>Emily</td><td>6145</td><td>Hawkins</td></tr><tr><td>30</td><td>2015-12-25 20:24:37</td><td>Emily</td><td>6145</td><td>Hawkins</td></tr><tr><td>31</td><td>2016-11-09 19:50:51</td><td>Kaylee</td><td>9979</td><td>Miller</td></tr><tr><td>32</td><td>2016-10-23 14:06:51</td><td>Dylan</td><td>2863</td><td>Holmes</td></tr><tr><td>36</td><td>2015-12-08 20:02:43</td><td>Rachel</td><td>5730</td><td>Davis</td></tr><tr><td>32</td><td>2016-10-23 14:06:51</td><td>Dylan</td><td>2863</td><td>Holmes</td></tr><tr><td>36</td><td>2015-12-08 20:02:43</td><td>Rachel</td><td>5730</td><td>Davis</td></tr><tr><td>26</td><td>2015-11-11 03:20:57</td><td>Brian</td><td>2923</td><td>Nelson</td></tr><tr><td>32</td><td>2016-10-23 14:06:51</td><td>Dylan</td><td>2863</td><td>Holmes</td></tr><tr><td>36</td><td>2015-12-08 20:02:43</td><td>Rachel</td><td>5730</td><td>Davis</td></tr><tr><td>24</td><td>2016-06-15 12:49:30</td><td>Anthony</td><td>3032</td><td>Chen</td></tr><tr><td>38</td><td>2016-03-11 13:19:05</td><td>Devon</td><td>6575</td><td>Waller</td></tr><tr><td>20</td><td>2015-10-23 16:08:41</td><td>Aaron</td><td>8237</td><td>Abbott</td></tr><tr><td>53</td><td>2016-06-07 07:09:02</td><td>Jason</td><td>1024</td><td>Martin</td></tr><tr><td>32</td><td>2016-10-23 14:06:51</td><td>Dylan</td><td>2863</td><td>Holmes</td></tr><tr><td>36</td><td>2015-12-08 20:02:43</td><td>Rachel</td><td>5730</td><td>Davis</td></tr><tr><td>26</td><td>2015-11-11 03:20:57</td><td>Brian</td><td>2923</td><td>Nelson</td></tr><tr><td>20</td><td>2015-10-21 08:27:36</td><td>Amanda</td><td>2418</td><td>Adams</td></tr><tr><td>22</td><td>2015-12-21 08:06:54</td><td>Andrew</td><td>3156</td><td>Baker</td></tr><tr><td>20</td><td>2015-11-28 02:20:29</td><td>Claudia</td><td>428</td><td>Adams</td></tr><tr><td>24</td><td>2016-01-11 12:03:48</td><td>Anne</td><td>7343</td><td>Clayton</td></tr><tr><td>22</td><td>2015-12-31 14:57:02</td><td>Carol</td><td>10138</td><td>Silva</td></tr><tr><td>21</td><td>2015-11-12 06:21:36</td><td>Denise</td><td>7922</td><td>Adams</td></tr><tr><td>32</td><td>2016-10-23 14:06:51</td><td>Dylan</td><td>2863</td><td>Holmes</td></tr><tr><td>20</td><td>2015-10-24 11:23:51</td><td>Abigail</td><td>7528</td><td>Ali</td></tr><tr><td>20</td><td>2015-10-24 11:23:51</td><td>Abigail</td><td>7528</td><td>Ali</td></tr><tr><td>25</td><td>2016-01-13 17:36:30</td><td>Amanda</td><td>5069</td><td>Ball</td></tr><tr><td>20</td><td>2015-10-24 11:23:51</td><td>Abigail</td><td>3089</td><td>Ali</td></tr><tr><td>20</td><td>2015-10-24 11:23:51</td><td>Abigail</td><td>7528</td><td>Ali</td></tr><tr><td>20</td><td>2015-10-24 11:23:51</td><td>Abigail</td><td>7528</td><td>Ali</td></tr><tr><td>25</td><td>2016-01-13 17:36:30</td><td>Amanda</td><td>5069</td><td>Ball</td></tr><tr><td>47</td><td>2016-04-27 16:02:10</td><td>James</td><td>3813</td><td>Green</td></tr><tr><td>37</td><td>2016-01-13 20:19:57</td><td>Luke</td><td>9014</td><td>Carter</td></tr><tr><td>32</td><td>2016-06-10 15:27:19</td><td>John</td><td>9550</td><td>Foster</td></tr><tr><td>20</td><td>2015-11-14 17:38:31</td><td>Andrew</td><td>857</td><td>Burke</td></tr><tr><td>27</td><td>2016-02-22 03:37:09</td><td>Angela</td><td>3644</td><td>Hall</td></tr><tr><td>36</td><td>2017-04-01 04:04:00</td><td>Leah</td><td>5395</td><td>Franco</td></tr><tr><td>20</td><td>2015-10-24 11:23:51</td><td>Abigail</td><td>7528</td><td>Ali</td></tr><tr><td>25</td><td>2016-01-13 17:36:30</td><td>Amanda</td><td>5069</td><td>Ball</td></tr><tr><td>20</td><td>2015-10-24 11:23:51</td><td>Abigail</td><td>3089</td><td>Ali</td></tr><tr><td>24</td><td>2016-03-09 10:48:14</td><td>Tammy</td><td>8653</td><td>Davis</td></tr><tr><td>20</td><td>2015-10-24 11:23:51</td><td>Abigail</td><td>7528</td><td>Ali</td></tr><tr><td>27</td><td>2015-12-16 15:20:05</td><td>Anne</td><td>5494</td><td>Allen</td></tr><tr><td>27</td><td>2015-12-16 15:20:05</td><td>Anne</td><td>5494</td><td>Allen</td></tr><tr><td>29</td><td>2016-02-26 03:45:09</td><td>Darryl</td><td>91</td><td>Baker</td></tr><tr><td>27</td><td>2015-12-16 15:20:05</td><td>Anne</td><td>5494</td><td>Allen</td></tr><tr><td>21</td><td>2015-11-08 16:14:16</td><td>Amy</td><td>9270</td><td>Brown</td></tr><tr><td>20</td><td>2015-10-21 21:26:45</td><td>Adam</td><td>4</td><td>Acosta</td></tr></tbody></table></div>"
      ]
     },
     "metadata": {
      "application/vnd.databricks.v1+output": {
       "addedWidgets": {},
       "aggData": [],
       "aggError": "",
       "aggOverflow": false,
       "aggSchema": [],
       "aggSeriesLimitReached": false,
       "aggType": "",
       "arguments": {},
       "columnCustomDisplayInfos": {},
       "data": [
        [
         20,
         "2015-10-23 04:13:23",
         "Alexandria",
         4249,
         "Alvarado"
        ],
        [
         21,
         "2015-11-10 09:27:42",
         "Andrea",
         8731,
         "Alexander"
        ],
        [
         21,
         "2015-11-10 09:27:42",
         "Andrea",
         8731,
         "Alexander"
        ],
        [
         21,
         "2015-11-10 09:27:42",
         "Andrea",
         8731,
         "Alexander"
        ],
        [
         34,
         "2016-01-23 03:59:37",
         "Daniel",
         10137,
         "Matthews"
        ],
        [
         21,
         "2015-11-10 09:27:42",
         "Andrea",
         8731,
         "Alexander"
        ],
        [
         24,
         "2016-03-31 20:56:39",
         "Austin",
         8887,
         "Rodriguez"
        ],
        [
         36,
         "2015-12-20 16:38:13",
         "Michelle",
         4315,
         "Prince"
        ],
        [
         32,
         "2017-10-10 20:09:33",
         "Christian",
         10625,
         "Lang"
        ],
        [
         36,
         "2015-12-20 16:38:13",
         "Michelle",
         4315,
         "Prince"
        ],
        [
         40,
         "2017-06-28 16:17:39",
         "Michael",
         1514,
         "Perkins"
        ],
        [
         36,
         "2015-12-20 16:38:13",
         "Michelle",
         4315,
         "Prince"
        ],
        [
         32,
         "2017-10-10 20:09:33",
         "Christian",
         10625,
         "Lang"
        ],
        [
         32,
         "2017-10-10 20:09:33",
         "Christian",
         10625,
         "Lang"
        ],
        [
         22,
         "2016-02-11 20:46:04",
         "Jennifer",
         9672,
         "Hudson"
        ],
        [
         32,
         "2016-04-02 03:51:23",
         "Brittany",
         1313,
         "Jones"
        ],
        [
         32,
         "2016-04-02 03:51:23",
         "Brittany",
         1313,
         "Jones"
        ],
        [
         34,
         "2016-12-22 00:02:02",
         "Thomas",
         10794,
         "Turner"
        ],
        [
         32,
         "2016-04-02 03:51:23",
         "Brittany",
         1313,
         "Jones"
        ],
        [
         34,
         "2016-12-22 00:02:02",
         "Thomas",
         10794,
         "Turner"
        ],
        [
         20,
         "2015-11-14 19:24:56",
         "Anthony",
         10029,
         "Baker"
        ],
        [
         24,
         "2016-01-03 01:10:04",
         "Alexis",
         637,
         "Carrillo"
        ],
        [
         21,
         "2015-12-12 01:39:29",
         "Bernard",
         1667,
         "Arnold"
        ],
        [
         20,
         "2016-01-21 03:54:20",
         "Andrea",
         6809,
         "Carroll"
        ],
        [
         24,
         "2017-03-24 10:12:14",
         "Stacey",
         1170,
         "Stewart"
        ],
        [
         45,
         "2016-03-18 23:34:56",
         "Claire",
         1643,
         "Leonard"
        ],
        [
         32,
         "2016-04-02 03:51:23",
         "Brittany",
         1313,
         "Jones"
        ],
        [
         34,
         "2016-12-22 00:02:02",
         "Thomas",
         10794,
         "Turner"
        ],
        [
         20,
         "2016-01-07 19:49:22",
         "David",
         2959,
         "Griffith"
        ],
        [
         26,
         "2015-12-20 10:28:00",
         "Brendan",
         9875,
         "Joseph"
        ],
        [
         20,
         "2016-01-07 19:49:22",
         "David",
         2959,
         "Griffith"
        ],
        [
         26,
         "2015-12-20 10:28:00",
         "Brendan",
         9875,
         "Joseph"
        ],
        [
         21,
         "2016-01-03 15:42:12",
         "Annette",
         2074,
         "Forbes"
        ],
        [
         25,
         "2015-12-28 04:21:39",
         "Charles",
         8304,
         "Berry"
        ],
        [
         25,
         "2015-12-28 04:21:39",
         "Charles",
         8304,
         "Berry"
        ],
        [
         23,
         "2015-11-25 13:36:22",
         "Corey",
         6063,
         "Andrews"
        ],
        [
         48,
         "2017-09-26 16:31:56",
         "Robert",
         3454,
         "Murphy"
        ],
        [
         20,
         "2017-04-11 16:35:33",
         "Cheryl",
         7554,
         "Huerta"
        ],
        [
         30,
         "2015-12-25 20:24:37",
         "Emily",
         6145,
         "Hawkins"
        ],
        [
         25,
         "2015-12-28 04:21:39",
         "Charles",
         8304,
         "Berry"
        ],
        [
         42,
         "2016-07-29 00:56:59",
         "Jordan",
         10538,
         "Grant"
        ],
        [
         21,
         "2016-02-02 12:25:05",
         "Donna",
         7467,
         "Carroll"
        ],
        [
         25,
         "2015-11-26 03:43:03",
         "Carl",
         10883,
         "Hampton"
        ],
        [
         27,
         "2017-04-27 09:48:22",
         "Samantha",
         5091,
         "Hall"
        ],
        [
         20,
         "2015-12-12 11:20:08",
         "Andrea",
         10321,
         "Burke"
        ],
        [
         40,
         "2017-03-08 06:03:20",
         "Erik",
         1611,
         "Martinez"
        ],
        [
         46,
         "2016-11-18 10:00:53",
         "Colin",
         4949,
         "Clayton"
        ],
        [
         36,
         "2016-07-31 17:22:08",
         "Eric",
         6170,
         "Gonzalez"
        ],
        [
         25,
         "2015-12-28 04:21:39",
         "Charles",
         8304,
         "Berry"
        ],
        [
         23,
         "2015-11-25 13:36:22",
         "Corey",
         6063,
         "Andrews"
        ],
        [
         48,
         "2017-09-26 16:31:56",
         "Robert",
         3454,
         "Murphy"
        ],
        [
         20,
         "2017-04-11 16:35:33",
         "Cheryl",
         7554,
         "Huerta"
        ],
        [
         30,
         "2015-12-25 20:24:37",
         "Emily",
         6145,
         "Hawkins"
        ],
        [
         30,
         "2015-12-25 20:24:37",
         "Emily",
         6145,
         "Hawkins"
        ],
        [
         31,
         "2016-11-09 19:50:51",
         "Kaylee",
         9979,
         "Miller"
        ],
        [
         32,
         "2016-10-23 14:06:51",
         "Dylan",
         2863,
         "Holmes"
        ],
        [
         36,
         "2015-12-08 20:02:43",
         "Rachel",
         5730,
         "Davis"
        ],
        [
         32,
         "2016-10-23 14:06:51",
         "Dylan",
         2863,
         "Holmes"
        ],
        [
         36,
         "2015-12-08 20:02:43",
         "Rachel",
         5730,
         "Davis"
        ],
        [
         26,
         "2015-11-11 03:20:57",
         "Brian",
         2923,
         "Nelson"
        ],
        [
         32,
         "2016-10-23 14:06:51",
         "Dylan",
         2863,
         "Holmes"
        ],
        [
         36,
         "2015-12-08 20:02:43",
         "Rachel",
         5730,
         "Davis"
        ],
        [
         24,
         "2016-06-15 12:49:30",
         "Anthony",
         3032,
         "Chen"
        ],
        [
         38,
         "2016-03-11 13:19:05",
         "Devon",
         6575,
         "Waller"
        ],
        [
         20,
         "2015-10-23 16:08:41",
         "Aaron",
         8237,
         "Abbott"
        ],
        [
         53,
         "2016-06-07 07:09:02",
         "Jason",
         1024,
         "Martin"
        ],
        [
         32,
         "2016-10-23 14:06:51",
         "Dylan",
         2863,
         "Holmes"
        ],
        [
         36,
         "2015-12-08 20:02:43",
         "Rachel",
         5730,
         "Davis"
        ],
        [
         26,
         "2015-11-11 03:20:57",
         "Brian",
         2923,
         "Nelson"
        ],
        [
         20,
         "2015-10-21 08:27:36",
         "Amanda",
         2418,
         "Adams"
        ],
        [
         22,
         "2015-12-21 08:06:54",
         "Andrew",
         3156,
         "Baker"
        ],
        [
         20,
         "2015-11-28 02:20:29",
         "Claudia",
         428,
         "Adams"
        ],
        [
         24,
         "2016-01-11 12:03:48",
         "Anne",
         7343,
         "Clayton"
        ],
        [
         22,
         "2015-12-31 14:57:02",
         "Carol",
         10138,
         "Silva"
        ],
        [
         21,
         "2015-11-12 06:21:36",
         "Denise",
         7922,
         "Adams"
        ],
        [
         32,
         "2016-10-23 14:06:51",
         "Dylan",
         2863,
         "Holmes"
        ],
        [
         20,
         "2015-10-24 11:23:51",
         "Abigail",
         7528,
         "Ali"
        ],
        [
         20,
         "2015-10-24 11:23:51",
         "Abigail",
         7528,
         "Ali"
        ],
        [
         25,
         "2016-01-13 17:36:30",
         "Amanda",
         5069,
         "Ball"
        ],
        [
         20,
         "2015-10-24 11:23:51",
         "Abigail",
         3089,
         "Ali"
        ],
        [
         20,
         "2015-10-24 11:23:51",
         "Abigail",
         7528,
         "Ali"
        ],
        [
         20,
         "2015-10-24 11:23:51",
         "Abigail",
         7528,
         "Ali"
        ],
        [
         25,
         "2016-01-13 17:36:30",
         "Amanda",
         5069,
         "Ball"
        ],
        [
         47,
         "2016-04-27 16:02:10",
         "James",
         3813,
         "Green"
        ],
        [
         37,
         "2016-01-13 20:19:57",
         "Luke",
         9014,
         "Carter"
        ],
        [
         32,
         "2016-06-10 15:27:19",
         "John",
         9550,
         "Foster"
        ],
        [
         20,
         "2015-11-14 17:38:31",
         "Andrew",
         857,
         "Burke"
        ],
        [
         27,
         "2016-02-22 03:37:09",
         "Angela",
         3644,
         "Hall"
        ],
        [
         36,
         "2017-04-01 04:04:00",
         "Leah",
         5395,
         "Franco"
        ],
        [
         20,
         "2015-10-24 11:23:51",
         "Abigail",
         7528,
         "Ali"
        ],
        [
         25,
         "2016-01-13 17:36:30",
         "Amanda",
         5069,
         "Ball"
        ],
        [
         20,
         "2015-10-24 11:23:51",
         "Abigail",
         3089,
         "Ali"
        ],
        [
         24,
         "2016-03-09 10:48:14",
         "Tammy",
         8653,
         "Davis"
        ],
        [
         20,
         "2015-10-24 11:23:51",
         "Abigail",
         7528,
         "Ali"
        ],
        [
         27,
         "2015-12-16 15:20:05",
         "Anne",
         5494,
         "Allen"
        ],
        [
         27,
         "2015-12-16 15:20:05",
         "Anne",
         5494,
         "Allen"
        ],
        [
         29,
         "2016-02-26 03:45:09",
         "Darryl",
         91,
         "Baker"
        ],
        [
         27,
         "2015-12-16 15:20:05",
         "Anne",
         5494,
         "Allen"
        ],
        [
         21,
         "2015-11-08 16:14:16",
         "Amy",
         9270,
         "Brown"
        ],
        [
         20,
         "2015-10-21 21:26:45",
         "Adam",
         4,
         "Acosta"
        ]
       ],
       "datasetInfos": [],
       "dbfsResultPath": null,
       "isJsonSchema": true,
       "metadata": {},
       "overflow": false,
       "plotOptions": {
        "customPlotOptions": {},
        "displayType": "table",
        "pivotAggregation": null,
        "pivotColumns": null,
        "xColumns": null,
        "yColumns": null
       },
       "removedWidgets": [],
       "schema": [
        {
         "metadata": "{}",
         "name": "age",
         "type": "\"long\""
        },
        {
         "metadata": "{}",
         "name": "date_joined",
         "type": "\"string\""
        },
        {
         "metadata": "{}",
         "name": "first_name",
         "type": "\"string\""
        },
        {
         "metadata": "{}",
         "name": "ind",
         "type": "\"long\""
        },
        {
         "metadata": "{}",
         "name": "last_name",
         "type": "\"string\""
        }
       ],
       "type": "table"
      }
     },
     "output_type": "display_data"
    }
   ],
   "source": [
    "# File location and type\n",
    "file_type = \"json\"\n",
    "# Ask Spark to infer the schema\n",
    "infer_schema = \"true\"\n",
    "\n",
    "# Define file paths for each dataframe\n",
    "pin_file_location = \"dbfs:/mnt/mount_name/topics/topics/1209b9ad90a5.pin/partition=0/*.json\"\n",
    "geo_file_location = \"dbfs:/mnt/mount_name/topics/topics/1209b9ad90a5.geo/partition=0/*.json\"\n",
    "user_file_location = \"dbfs:/mnt/mount_name/topics/topics/1209b9ad90a5.user/partition=0/*.json\"\n",
    "\n",
    "# Read in JSONs for each dataframe\n",
    "df_pin = spark.read.format(file_type) \\\n",
    "    .option(\"inferSchema\", infer_schema) \\\n",
    "    .load(pin_file_location)\n",
    "\n",
    "df_geo = spark.read.format(file_type) \\\n",
    "    .option(\"inferSchema\", infer_schema) \\\n",
    "    .load(geo_file_location)\n",
    "\n",
    "df_user = spark.read.format(file_type) \\\n",
    "    .option(\"inferSchema\", infer_schema) \\\n",
    "    .load(user_file_location)\n",
    "\n",
    "# Display Spark dataframes to check their content\n",
    "display(df_pin)\n",
    "display(df_geo)\n",
    "display(df_user)\n"
   ]
  },
  {
   "cell_type": "code",
   "execution_count": null,
   "metadata": {
    "application/vnd.databricks.v1+cell": {
     "cellMetadata": {},
     "inputWidgets": {},
     "nuid": "5cc69abe-ff77-4973-8223-a7204e53944e",
     "showTitle": false,
     "title": ""
    }
   },
   "outputs": [],
   "source": [
    "## Step 5 (Optional): Unmount S3 bucket\n",
    "If you want to unmount the S3 bucket, run the following code:\n",
    "\n",
    "`dbutils.fs.unmount(\"/mnt/mount_name\")`"
   ]
  }
 ],
 "metadata": {
  "application/vnd.databricks.v1+notebook": {
   "dashboards": [],
   "language": "python",
   "notebookMetadata": {
    "mostRecentlyExecutedCommandWithImplicitDF": {
     "commandId": 612106955201531,
     "dataframes": [
      "_sqldf"
     ]
    },
    "pythonIndentUnit": 4
   },
   "notebookName": "mount-AWS-S3-bucket-t-Databricks",
   "widgets": {}
  },
  "language_info": {
   "name": "python"
  }
 },
 "nbformat": 4,
 "nbformat_minor": 0
}
